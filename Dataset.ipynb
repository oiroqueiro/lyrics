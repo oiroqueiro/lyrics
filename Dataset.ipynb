{
 "cells": [
  {
   "cell_type": "code",
   "execution_count": 1,
   "id": "55a43c6b",
   "metadata": {},
   "outputs": [
    {
     "name": "stderr",
     "output_type": "stream",
     "text": [
      "Using state Castille and LeÃ³n server backend.\n",
      "/home/roque/01. IronHack/00. Data Analytics/01. Course/36. Week 12 - Day 3/git/env-mid-bootcamp-project/lib/python3.9/site-packages/tqdm/auto.py:22: TqdmWarning: IProgress not found. Please update jupyter and ipywidgets. See https://ipywidgets.readthedocs.io/en/stable/user_install.html\n",
      "  from .autonotebook import tqdm as notebook_tqdm\n"
     ]
    }
   ],
   "source": [
    "import pandas as pd\n",
    "\n",
    "import os\n",
    "\n",
    "import base64\n",
    "import requests\n",
    "import json\n",
    "\n",
    "from urllib.parse import urlencode\n",
    "from lyricsgenius import Genius\n",
    "\n",
    "import time\n",
    "from selenium import webdriver\n",
    "from selenium.webdriver.common.by import By\n",
    "from selenium.webdriver.chrome.service import Service\n",
    "from webdriver_manager.chrome import ChromeDriverManager\n",
    "\n",
    "import fasttext as ft\n",
    "import translators as ts\n",
    "import translators.server as tss\n",
    "\n",
    "import textwrap\n",
    "\n",
    "from flair.models import TextClassifier\n",
    "from flair.data import Sentence\n",
    "\n",
    "import numpy as np\n",
    "\n",
    "import nltk\n",
    "from nltk.corpus import stopwords\n",
    "from nltk.stem import WordNetLemmatizer\n",
    "from nltk import word_tokenize\n",
    "from nltk.probability import FreqDist\n",
    "\n",
    "import string\n",
    "\n",
    "from matplotlib import pyplot as plt\n",
    "from wordcloud import WordCloud\n",
    "\n",
    "from pathlib import Path\n",
    "\n",
    "from PIL import Image\n",
    "from random import randint"
   ]
  },
  {
   "cell_type": "code",
   "execution_count": 2,
   "id": "215dd4fd",
   "metadata": {},
   "outputs": [
    {
     "data": {
      "text/html": [
       "<div>\n",
       "<style scoped>\n",
       "    .dataframe tbody tr th:only-of-type {\n",
       "        vertical-align: middle;\n",
       "    }\n",
       "\n",
       "    .dataframe tbody tr th {\n",
       "        vertical-align: top;\n",
       "    }\n",
       "\n",
       "    .dataframe thead th {\n",
       "        text-align: right;\n",
       "    }\n",
       "</style>\n",
       "<table border=\"1\" class=\"dataframe\">\n",
       "  <thead>\n",
       "    <tr style=\"text-align: right;\">\n",
       "      <th></th>\n",
       "      <th>Artist</th>\n",
       "      <th>Gender</th>\n",
       "      <th>Genre</th>\n",
       "      <th>Band</th>\n",
       "      <th>Lyrics</th>\n",
       "      <th>Language</th>\n",
       "      <th>Lyrics EN</th>\n",
       "      <th>Sentiment</th>\n",
       "      <th>top words</th>\n",
       "    </tr>\n",
       "  </thead>\n",
       "  <tbody>\n",
       "    <tr>\n",
       "      <th>0</th>\n",
       "      <td>Taylor Swift</td>\n",
       "      <td>female</td>\n",
       "      <td>pop</td>\n",
       "      <td>no</td>\n",
       "      <td>NaN</td>\n",
       "      <td>NaN</td>\n",
       "      <td>NaN</td>\n",
       "      <td>NaN</td>\n",
       "      <td>NaN</td>\n",
       "    </tr>\n",
       "    <tr>\n",
       "      <th>1</th>\n",
       "      <td>Bad Bunny</td>\n",
       "      <td>male</td>\n",
       "      <td>reggaeton</td>\n",
       "      <td>no</td>\n",
       "      <td>NaN</td>\n",
       "      <td>NaN</td>\n",
       "      <td>NaN</td>\n",
       "      <td>NaN</td>\n",
       "      <td>NaN</td>\n",
       "    </tr>\n",
       "    <tr>\n",
       "      <th>2</th>\n",
       "      <td>Drake</td>\n",
       "      <td>male</td>\n",
       "      <td>hip hop</td>\n",
       "      <td>no</td>\n",
       "      <td>NaN</td>\n",
       "      <td>NaN</td>\n",
       "      <td>NaN</td>\n",
       "      <td>NaN</td>\n",
       "      <td>NaN</td>\n",
       "    </tr>\n",
       "    <tr>\n",
       "      <th>3</th>\n",
       "      <td>The Weeknd</td>\n",
       "      <td>male</td>\n",
       "      <td>rnb</td>\n",
       "      <td>no</td>\n",
       "      <td>NaN</td>\n",
       "      <td>NaN</td>\n",
       "      <td>NaN</td>\n",
       "      <td>NaN</td>\n",
       "      <td>NaN</td>\n",
       "    </tr>\n",
       "    <tr>\n",
       "      <th>4</th>\n",
       "      <td>BTS</td>\n",
       "      <td>male</td>\n",
       "      <td>K-pop</td>\n",
       "      <td>yes</td>\n",
       "      <td>NaN</td>\n",
       "      <td>NaN</td>\n",
       "      <td>NaN</td>\n",
       "      <td>NaN</td>\n",
       "      <td>NaN</td>\n",
       "    </tr>\n",
       "    <tr>\n",
       "      <th>...</th>\n",
       "      <td>...</td>\n",
       "      <td>...</td>\n",
       "      <td>...</td>\n",
       "      <td>...</td>\n",
       "      <td>...</td>\n",
       "      <td>...</td>\n",
       "      <td>...</td>\n",
       "      <td>...</td>\n",
       "      <td>...</td>\n",
       "    </tr>\n",
       "    <tr>\n",
       "      <th>95</th>\n",
       "      <td>Oliver Tree</td>\n",
       "      <td>male</td>\n",
       "      <td>electronic</td>\n",
       "      <td>no</td>\n",
       "      <td>NaN</td>\n",
       "      <td>NaN</td>\n",
       "      <td>NaN</td>\n",
       "      <td>NaN</td>\n",
       "      <td>NaN</td>\n",
       "    </tr>\n",
       "    <tr>\n",
       "      <th>96</th>\n",
       "      <td>Polo G</td>\n",
       "      <td>male</td>\n",
       "      <td>rap</td>\n",
       "      <td>no</td>\n",
       "      <td>NaN</td>\n",
       "      <td>NaN</td>\n",
       "      <td>NaN</td>\n",
       "      <td>NaN</td>\n",
       "      <td>NaN</td>\n",
       "    </tr>\n",
       "    <tr>\n",
       "      <th>97</th>\n",
       "      <td>Zach Bryan</td>\n",
       "      <td>male</td>\n",
       "      <td>country</td>\n",
       "      <td>no</td>\n",
       "      <td>NaN</td>\n",
       "      <td>NaN</td>\n",
       "      <td>NaN</td>\n",
       "      <td>NaN</td>\n",
       "      <td>NaN</td>\n",
       "    </tr>\n",
       "    <tr>\n",
       "      <th>98</th>\n",
       "      <td>Jhayco</td>\n",
       "      <td>male</td>\n",
       "      <td>rap</td>\n",
       "      <td>no</td>\n",
       "      <td>NaN</td>\n",
       "      <td>NaN</td>\n",
       "      <td>NaN</td>\n",
       "      <td>NaN</td>\n",
       "      <td>NaN</td>\n",
       "    </tr>\n",
       "    <tr>\n",
       "      <th>99</th>\n",
       "      <td>Pop Smoke</td>\n",
       "      <td>male</td>\n",
       "      <td>rap</td>\n",
       "      <td>no</td>\n",
       "      <td>NaN</td>\n",
       "      <td>NaN</td>\n",
       "      <td>NaN</td>\n",
       "      <td>NaN</td>\n",
       "      <td>NaN</td>\n",
       "    </tr>\n",
       "  </tbody>\n",
       "</table>\n",
       "<p>100 rows × 9 columns</p>\n",
       "</div>"
      ],
      "text/plain": [
       "          Artist  Gender       Genre Band  Lyrics  Language  Lyrics EN  \\\n",
       "0   Taylor Swift  female         pop   no     NaN       NaN        NaN   \n",
       "1      Bad Bunny    male   reggaeton   no     NaN       NaN        NaN   \n",
       "2          Drake    male     hip hop   no     NaN       NaN        NaN   \n",
       "3     The Weeknd    male         rnb   no     NaN       NaN        NaN   \n",
       "4            BTS    male       K-pop  yes     NaN       NaN        NaN   \n",
       "..           ...     ...         ...  ...     ...       ...        ...   \n",
       "95   Oliver Tree    male  electronic   no     NaN       NaN        NaN   \n",
       "96        Polo G    male         rap   no     NaN       NaN        NaN   \n",
       "97    Zach Bryan    male     country   no     NaN       NaN        NaN   \n",
       "98        Jhayco    male         rap   no     NaN       NaN        NaN   \n",
       "99     Pop Smoke    male         rap   no     NaN       NaN        NaN   \n",
       "\n",
       "    Sentiment  top words  \n",
       "0         NaN        NaN  \n",
       "1         NaN        NaN  \n",
       "2         NaN        NaN  \n",
       "3         NaN        NaN  \n",
       "4         NaN        NaN  \n",
       "..        ...        ...  \n",
       "95        NaN        NaN  \n",
       "96        NaN        NaN  \n",
       "97        NaN        NaN  \n",
       "98        NaN        NaN  \n",
       "99        NaN        NaN  \n",
       "\n",
       "[100 rows x 9 columns]"
      ]
     },
     "execution_count": 2,
     "metadata": {},
     "output_type": "execute_result"
    }
   ],
   "source": [
    "dataset = pd.read_csv(Path('data/dataset.csv'))\n",
    "dataset"
   ]
  },
  {
   "cell_type": "code",
   "execution_count": 3,
   "id": "0aeaa6a2",
   "metadata": {},
   "outputs": [],
   "source": [
    "dataset[['Lyrics','Language','Lyrics EN','Sentiment','top words']] = dataset[['Lyrics','Language','Lyrics EN','Sentiment','top words']].astype(object)"
   ]
  },
  {
   "cell_type": "code",
   "execution_count": 4,
   "id": "19c6ac36",
   "metadata": {},
   "outputs": [
    {
     "data": {
      "text/plain": [
       "Artist       object\n",
       "Gender       object\n",
       "Genre        object\n",
       "Band         object\n",
       "Lyrics       object\n",
       "Language     object\n",
       "Lyrics EN    object\n",
       "Sentiment    object\n",
       "top words    object\n",
       "dtype: object"
      ]
     },
     "execution_count": 4,
     "metadata": {},
     "output_type": "execute_result"
    }
   ],
   "source": [
    "dataset.dtypes"
   ]
  },
  {
   "cell_type": "code",
   "execution_count": 5,
   "id": "199c3197",
   "metadata": {},
   "outputs": [],
   "source": [
    "'''SECRETS'''\n",
    "def read_secrets():\n",
    "    keys={}\n",
    "    #keys_file = open('secrets.txt','r') #Had errors using this within a virtual environment\n",
    "    keys_file = os.fdopen(os.open('secrets.txt', os.O_RDONLY))\n",
    "    for line in keys_file:\n",
    "        (key, val) = line.replace('\\n','').split(\"|\")\n",
    "        keys[key] = val\n",
    "    return keys"
   ]
  },
  {
   "cell_type": "code",
   "execution_count": 6,
   "id": "8e2b7ac8",
   "metadata": {},
   "outputs": [],
   "source": [
    "#SPOTIFY"
   ]
  },
  {
   "cell_type": "code",
   "execution_count": 7,
   "id": "9c2c1653",
   "metadata": {},
   "outputs": [],
   "source": [
    "'''FUNCTION TO GET THE TOKEN FOR SPOTIFY API'''\n",
    "\n",
    "def get_token_spotify(key):\n",
    "    client_creds = f\"{key['spotifyId']}:{key['spotifySecret']}\"\n",
    "    client_creds_b64 = base64.b64encode(client_creds.encode())\n",
    "    \n",
    "    headers_token = {\"Authorization\":f\"Basic {client_creds_b64.decode()}\"}\n",
    "    data_token = {\"grant_type\":\"client_credentials\"}\n",
    " \n",
    "    return requests.post('https://accounts.spotify.com/api/token', data=data_token, headers=headers_token).json()['access_token']"
   ]
  },
  {
   "cell_type": "code",
   "execution_count": 8,
   "id": "1e830cc5",
   "metadata": {},
   "outputs": [],
   "source": [
    "'''FUNCTION TO GET THE ID OF ONE ARTIST'''\n",
    "\n",
    "def get_artist_id_spotify(name):\n",
    "    response_token = get_token_spotify(read_secrets())\n",
    "\n",
    "    headers = {\"Authorization\":f\"Bearer {response_token}\"}\n",
    "    endpoint = 'https://api.spotify.com/v1/search'\n",
    "    data = urlencode({\n",
    "        \"q\": name,\n",
    "        \"type\": \"artist\"\n",
    "    })\n",
    "\n",
    "    lookup_url = f\"{endpoint}?{data}\"\n",
    "\n",
    "    request = requests.get(lookup_url, headers=headers)\n",
    "\n",
    "    return request.json()['artists']['items'][0]['id']"
   ]
  },
  {
   "cell_type": "code",
   "execution_count": 9,
   "id": "82288ecb",
   "metadata": {},
   "outputs": [],
   "source": [
    "'''FUNCTION TO GET THE TOP (5) SONGS OF ONE ARTIST'''\n",
    "\n",
    "def get_top_songs_artist_spotify(artistId, n_songs=5):\n",
    "    n_songs=(10 if (n_songs>10) else n_songs)\n",
    "    \n",
    "    response_token = get_token_spotify(read_secrets())\n",
    "    headers = {'Authorization': f'Bearer {response_token}',\n",
    "               'Content-Type': 'application/json'}\n",
    "\n",
    "    data = urlencode({\n",
    "        \"market\": \"US\"\n",
    "    })\n",
    "    endpoint = f\"https://api.spotify.com/v1/artists/{get_artist_id_spotify(artistId)}/top-tracks\"\n",
    "    lookup_url = f\"{endpoint}?{data}\"\n",
    "\n",
    "    request = requests.get(lookup_url, headers=headers)\n",
    "    \n",
    "    return [request.json()['tracks'][i]['name'] for i in range(n_songs) ]"
   ]
  },
  {
   "cell_type": "code",
   "execution_count": 10,
   "id": "459db08f",
   "metadata": {},
   "outputs": [],
   "source": [
    "#GENIUS"
   ]
  },
  {
   "cell_type": "code",
   "execution_count": 11,
   "id": "5d6089bd",
   "metadata": {},
   "outputs": [],
   "source": [
    "'''\n",
    "FUNCTION TO GET THE ACCESS TOKEN FOR GENIUS\n",
    "\n",
    "As I had a lot of problems to get the Access Token directly from the Genius API and from the library \n",
    "lyricsgenius, I decided to use selenium to get the access token and then continue with lyricsgenius\n",
    "'''\n",
    "\n",
    "def get_token_genius(key):\n",
    "    \n",
    "    # Url\n",
    "    \n",
    "    params = urlencode({\n",
    "        \"client_id\": key['geniusId'],\n",
    "        \"redirect_uri\": key['geniusRedirectUri'],\n",
    "        \"scope\": \"me\",\n",
    "        \"state\": \"2\",\n",
    "        \"response_type\": \"token\"\n",
    "    })\n",
    "\n",
    "    endpoint = f\"https://api.genius.com/oauth/authorize\"\n",
    "    lookup_url = f\"{endpoint}?{params}\"\n",
    "\n",
    "    # open the website\n",
    "    \n",
    "    driver = webdriver.Chrome(service=Service(ChromeDriverManager().install()))    \n",
    "    driver.get(lookup_url)\n",
    "    \n",
    "    \n",
    "    #Accept cookies\n",
    "\n",
    "    cookies = driver.find_element(By.XPATH,'//*[@id=\"onetrust-accept-btn-handler\"]')\n",
    "    cookies.click()\n",
    "\n",
    "    time.sleep(1)\n",
    "\n",
    "    #Login\n",
    "\n",
    "    email='roque.ourense@gmail.com'\n",
    "    password='Roque76bis_'\n",
    "\n",
    "    signin = driver.find_element(By.XPATH,'//*[@id=\"main\"]/div/div[2]/a[2]')\n",
    "    signin.click()\n",
    "\n",
    "    time.sleep(1)\n",
    "\n",
    "    email_box = driver.find_element(By.ID, \"user_session_login\") \n",
    "\n",
    "    email_box.clear()\n",
    "\n",
    "    email_box.send_keys(email)\n",
    "\n",
    "    time.sleep(1)\n",
    "\n",
    "    pass_box = driver.find_element(By.ID, 'user_session_password') \n",
    "\n",
    "    pass_box.clear()\n",
    "\n",
    "    pass_box.send_keys(password)\n",
    "\n",
    "    time.sleep(1)\n",
    "\n",
    "    login = driver.find_element(By.ID,'user_session_submit')\n",
    "    login.click()\n",
    "\n",
    "    time.sleep(1.5)\n",
    "\n",
    "    approve = driver.find_element(By.XPATH,'/html/body/div[4]/div[3]/form/input[6]')\n",
    "    approve.click()\n",
    "\n",
    "    url_callback = driver.current_url\n",
    "\n",
    "    return url_callback[url_callback.find('access_token=') + len('access_token='):url_callback.find('&state=')]\n"
   ]
  },
  {
   "cell_type": "code",
   "execution_count": 12,
   "id": "5ad0ef7b",
   "metadata": {},
   "outputs": [],
   "source": [
    "#Lyrics"
   ]
  },
  {
   "cell_type": "code",
   "execution_count": 13,
   "id": "06562b1b",
   "metadata": {},
   "outputs": [],
   "source": [
    "'''\n",
    "FUNCTION TO TO DOWNLOAD UP TO 5 LYRICS (OF 10 SONGS) FROM GENIUS\n",
    "'''\n",
    "\n",
    "def get_lyrics_from_genius(artist):\n",
    "\n",
    "    genius = Genius(read_secrets()['geniusAccessToken'])\n",
    "\n",
    "    # Remove section headers (e.g. [Chorus]) from lyrics when searching\n",
    "    genius.remove_section_headers = True\n",
    "    genius.skip_non_songs = False\n",
    "\n",
    "    s=1        \n",
    "    lyrics_list = []\n",
    "\n",
    "    for songs in get_top_songs_artist_spotify(artist,10):                   \n",
    "        try:            \n",
    "            print('=== '+str(s)+' ===')\n",
    "\n",
    "            song = genius.search_song(artist=artist, title=songs.split(' - ')[0])\n",
    "            lyric = song.lyrics.split(songs.split(' - ')[0] + ' Lyrics')[1].replace('\\n',' ').split('Embed')[0].rstrip('0123456789').strip()\n",
    "\n",
    "            lyrics_list.append(lyric)\n",
    "\n",
    "            s+=1\n",
    "        except:\n",
    "            pass\n",
    "\n",
    "        if (s > 5):\n",
    "            break\n",
    "\n",
    "    return lyrics_list\n",
    "    "
   ]
  },
  {
   "cell_type": "code",
   "execution_count": 14,
   "id": "338156fe",
   "metadata": {},
   "outputs": [],
   "source": [
    "''''\n",
    "FUNCTION TO GET THE LANGUAGE(S) OF THE LYRICS    \n",
    "'''\n",
    "\n",
    "def fasttext_detect_language(text):\n",
    "    \n",
    "    # Load the pretrained model\n",
    "\n",
    "    model = ft.load_model(\"data/fasttext_pretrained_model/lid.176.bin\")\n",
    "\n",
    "    text = text.replace('\\n', \" \")\n",
    "    prediction = model.predict([text])\n",
    "\n",
    "    return prediction[0][0][0][-2:]"
   ]
  },
  {
   "cell_type": "code",
   "execution_count": 15,
   "id": "bcb15135",
   "metadata": {},
   "outputs": [],
   "source": [
    "'''\n",
    "FUNCTION TO TRANSLATE LYRICS OF ANY LANGUAGE TO ENGLISH\n",
    "'''\n",
    "\n",
    "def translate_lyrics(lyric):\n",
    "    \n",
    "    ts.translators_pool\n",
    "\n",
    "    lyrics_en = ''\n",
    "    \n",
    "    from_language = fasttext_detect_language(lyric)\n",
    "        \n",
    "    if (from_language == 'en'):\n",
    "        lyrics_en = lyric\n",
    "    else:   \n",
    "        if (len(lyric)>2000):\n",
    "            lyric_splited_en = []\n",
    "            lyric_splited = textwrap.wrap(lyric, 2000, break_long_words=False)\n",
    "            for line in lyric_splited:\n",
    "                lyric_splited_en.append(tss.google(line, from_language, 'en'))\n",
    "            lyrics_en = ' '.join(lyric_splited_en)\n",
    "        else:\n",
    "            try:\n",
    "                lyrics_en = tss.google(lyric, from_language, 'en')\n",
    "            except:\n",
    "                try:\n",
    "                    lyrics_en = ts.translate_text(lyric, from_language, 'en')\n",
    "                except:\n",
    "                    lyrics_en = lyric\n",
    "    return lyrics_en"
   ]
  },
  {
   "cell_type": "code",
   "execution_count": 16,
   "id": "35b70b4d",
   "metadata": {},
   "outputs": [],
   "source": [
    "'''\n",
    "FUNCTION TO CALCULATE THE SENTIMENT OF ONE TEXT\n",
    "'''\n",
    "\n",
    "def calculate_sentiment(text):\n",
    "    classifier = TextClassifier.load('en-sentiment')\n",
    "\n",
    "    sentence = Sentence(text)\n",
    "    \n",
    "    classifier.predict(sentence)\n",
    "\n",
    "    if (sentence.labels[0].value=='NEGATIVE'):\n",
    "        sentiment = -sentence.labels[0].score\n",
    "    else:\n",
    "        sentiment = sentence.labels[0].score\n",
    "    \n",
    "    return sentiment"
   ]
  },
  {
   "cell_type": "code",
   "execution_count": 17,
   "id": "60c3dba3",
   "metadata": {},
   "outputs": [],
   "source": [
    "'''\n",
    "FUNCTION TO CALCULATE THE MOST COMMON WORDS IN ONE TEXT\n",
    "'''\n",
    "\n",
    "def get_top_words(text):\n",
    "    nltk.download('punkt')\n",
    "    nltk.download('wordnet')\n",
    "    nltk.download('omw-1.4')\n",
    "\n",
    "    lyrics_clean = []\n",
    "        \n",
    "    wordnet_lemmatizer = WordNetLemmatizer()\n",
    "\n",
    "    stop_words = list(set(stopwords.words('english')))\n",
    "    stop_words.extend(['yeah','uh','myyyyyyyet','oh','ooh', 'im', 'dont', 'na', 'one', 'wan', 'cant', 'cause', 'youre', 'aint', 'gon', 'might', 'wont', 'ah', 'still', 'ive', 'em', 'hey', '’', 'without', 'thats', 'also', 'every', 'eh', 'nothing', 'ayy', 'id', 'another', 'ever', 'okay', 'til', 'oohooh', 'pa', 'u', 'everybody', 'ima', 'someone', 'around', 'ey', 'woah', 'maybe', 'two', 'already', 'ohoh', 'everything', 'nobody', 'really', 'bum', 'woo', 'ya', 'eheh', 'much', 'alright', 'somebody', 'huh', 'something', 'seem', 'as', 'didnt', 'there', 'tryna', 'else', 'mmm', '21', 'la', 'shes', 'ho', 'youve', 'ohohoh', 'youll', 'oohoohooh', 'nothin', 'buh', 'somethin', 'sometimes', 'ere', 'many', 'para', 'anyone', 'whats', 'rather', 'everyone', 'hahahahaha', 'whatever', 'since', 'whole', 'ahah', 'lil', 'yakayaka', 'wow', 'though', 'three', 'anything', 'yeahyeah', 'twenty', 'next', 'le', 'prr', 'hi', 'control', 'probably', 'sugar', 'bottle', 'straight', 'kun', 'pas', 'c', 'couldnt', 'yo', 'haha', 'apart', 'he', '40', 'tra', 'ahahah', 'tomorrow', 'doesnt', 'juda', 'ddu', 'along', 'hundred', 'yall', 'youd', 'tá', 'eighteen', 'yet', 'vamo', 'outta', 'wasnt', 'ready', 'yah', 'isnt',  'gaga', 'brr', 'uah', 'mon', 'nah', 'million', 'may', 'de', 'ohohohoh', 'weve', 'pon', 'although', 'anymore', 'finally', 'yeh', 'uhhuh', 'hoo', 'someday', 'pal', 'um', 'ba', 'double', 'kinda', 'ago', 'somewhere', 'somo', 'wantin', 'teri', 'ten', 'hmm', 'five', 'vo—', 'behind', 'wuh', 'more—', 'wohoh', 'shouldnt', 'your—', 'thousand', 'hai', 'middle', 'theyre', 'ohohohohoh', 'ahahahah', '‘', 'ti', 'lala', 'pie', 'wouldnt', 'whenever', 'wave',  'everybodys', 'forty', 'guayar', 'tera', 'uhuh', 'brrt', 'g5', 'judaahah', 'h', 'doodoodoodoo', 'da', 'nanananananana', 'aw', 'twice', 'fifty', 'tu', 'dadadada', 'dundada', 'dadundada', 'lalalala', 'lalala', 'iii', 'suppose', 'shouldve', 'dada', 'ha', 'whered', 'opps', 'dynnanana', 'rarauw', 'hop', 'ki', 'rot', 'yuh', 'nine', 'thick', 'dumb', 'rudeboyz', 'tití', 'my—', 'mm',  'que', 'apa', 'vemo', 'whoa', 'tha', 'ak', 'dadada', 'thirtyfive', 'nono',   'kesariya', 'ishq', 'piya', 'jo', 'khuda', 'ohooh', 'oooh', 'theyll', 'everywhere', 'hah', 'woh', 'actin', 'lalalalalalala', 'byza', 'whoawhoawhoawhoawhoa', 'boo', '4', 'vroom', 'thatthatthat', 'instead', '\\u200bnobody', 'tarawill', 'downdown', 'somehow', 'half', 'alight', 'hahahaha', 'whyd', 'heh', 'baow', 'yandel', 'patrá', 'solo', 'here', 'doodoodoo', 'mi', 'ee', 'tata', 'xanny', 'chee', 'x2', 'grrt', 'arent', 'woulda', '내', 'danananananana', 'upon', 'youim', 'cel', 'vece', 'rabta', 'como', 'who', 'acura', 'hunnid', 'khudgarzi', 'wohi', 'quiero', 'una', 'en', 'eee', 'ohwoahwoah', 'engine', 'vemor', 'humacao', 'ferragamo', '네', 'brratatata', 'trratatata', 'ddudduddu',  '”', 'wetto', 'grey59', 'billion', 'hawaiiii', 'ratata', 'nahi', 'wahi', 'dumdumdum', 'dadadumdumdum', 'dadadumdum', 'onenight', 'toa', 'couldve', 'woahohoh', 'nanana', 'havent', 'quite', 'eheheh', 'plo', 'ohwoah', 'mix', 'jaun', 'hath', 'se', 'kuch', 'w', 'maybach',  'aaja', 'mwhen', 'yeaheh',  'ajá', 'chica', 'latinas', 'you—', 'usual', 'ahooh', 'simple', 'amall', 'ehoh', 'luis', 'r', '“', 'wohohohoh', 'iti', '100', 'í', 'hahaha', 'grr',  'whoo', 'itll', 'yaah', 'je', '6ix', 'nanananana', 'woohoo', '날아가', '나', '너를', '너는', '이',  'ohh', 'noti', 'ii', 'aaa', '6', 'eight', 'herehow', 'tre', 'bumbum', 'blamblam', 'manaun', 'ke', 'toh', 'tujh', 'ohohohohohoh', 'sususummertime',  'gwagen', 'kabira', 'jaa', 'faqeera', 'ja', 'kaisa', 'dekhe', 'goodbyeif', 'nio', 'test—', 'natti', 'oye', 'así', 'f', 'mustve', 'taba', 'dadida', 'hmmmm', 'rvssian', 'diddy', 'blp', 'pumpumpum', 'gaby',  'fifth', 'stepfifth', 'mе', 'mía', 'ultra', '간판', '내리고', '문', '잠가', 'dududun', 'dulululun', 'bada', 'denynynyny', 'sisiside', 'anytime', 'ol', 'down\\u200b', 'agua', 'twelve', 'wohohoh', 'youi', 'tere', 'khaali', 'samaaya', 'x5', 'dadadum', 'ow', 'shoodoodoodoodoo', '\\u200blrig', 'uoy', 'chimba', 'maluma', 'tt', 'mhm', 'lo', 'uhyeahyeahyeah', 'chingo', '1950s', 'chamaquita', 'thisll', 'a—', 'yeahyeahyeahyeah', 'ayo', 'pimp', 'inner', 'wherever',  'herei', 'bhi', 'jaisi', 'mujhko', 'youif'])\n",
    "    stop_words.extend(['mmmm', 'from…', 'dadadadadadada', 'lou', 'cubano', 'solitai', 'ugh', 'm', 'mainly', '505', 'sevenhour', 'fortyfiveminute', 'andar', 'v8', 'j', 'youtell', 'youhe', 'zúmbale', 'lalalatinas', 'estoy', 'buscando', 'muévelo', 'shoulda', 'woowoowoo', 'mai', 'punto', 'andyou', 'pr', 'marimba', 'elsei', 'seventeen', 'void', 'anywhere', 'mil', 'uy', 'bellaco', 'pupupupum', 'gotti', 'aheh', 'mala', 'ía', 'rosa', 'andvemo', 'thathe', 'youthat', '자', 'thatll', '날', 'doodoo', 'thy', 'pro', 'maam', 'pic', 'thirty', 'wholl', 'happenedwohohoh', 'meand', 'riide', 'hulahula', 'hula', 'jewelerjeweler', 'skyyy', 'stopop', 'duko', 'lao', 'coroná', 'uhoh', 'able', 'mmmjum', 'cap', 'ra', 'bodyody', 'r'])\n",
    "        \n",
    "    new_text = text.translate(str.maketrans('', '', string.punctuation)).lower()\n",
    "        \n",
    "    word_tokens = nltk.tokenize.word_tokenize(new_text) \n",
    "\n",
    "    for word in word_tokens: \n",
    "        if word not in stop_words: \n",
    "            lyrics_clean.append(word) \n",
    "\n",
    "    lemma_words = []\n",
    "\n",
    "    for word in lyrics_clean:\n",
    "        word1 = wordnet_lemmatizer.lemmatize(word, pos = \"n\") #nouns\n",
    "        word2 = wordnet_lemmatizer.lemmatize(word1, pos = \"v\") #verbs\n",
    "        word3 = wordnet_lemmatizer.lemmatize(word2, pos = (\"a\")) #adjectives\n",
    "        lemma_words.append(word3)\n",
    "\n",
    "    #find the frequency of words\n",
    "    fdist = FreqDist(lemma_words)\n",
    "\n",
    "    return fdist.most_common(50)"
   ]
  },
  {
   "cell_type": "code",
   "execution_count": 18,
   "id": "c2d38d66",
   "metadata": {},
   "outputs": [],
   "source": [
    "'''\n",
    "FUNCTION TO GENERATE A WORD CLOUD WITH A TEXT\n",
    "\n",
    "'''\n",
    "\n",
    "def get_word_cloud(text_list):\n",
    "    #Convert word list to a single string\n",
    "    clean_words_string = \" \".join([tup[0] for tup in text_list])\n",
    "\n",
    "    #generating the wordcloud with a shape\n",
    "\n",
    "    shape_list=os.listdir(Path('data/shapes/'))\n",
    "                \n",
    "    image_route=f\"data/shapes/{shape_list[randint(0,len(shape_list))-1]}\"              \n",
    "    mask = np.array(Image.open(Path(image_route)))\n",
    "\n",
    "    wordcloud = WordCloud(max_font_size=50, max_words=50, background_color=\"white\", mask=mask, contour_color='#023075',contour_width=3).generate(clean_words_string)\n",
    "\n",
    "    #plot the wordcloud\n",
    "    plt.figure(figsize = (6, 6))\n",
    "    plt.imshow(wordcloud)\n",
    "\n",
    "    #to remove the axis value\n",
    "    plt.axis(\"off\")\n",
    "    plt.show()"
   ]
  },
  {
   "cell_type": "code",
   "execution_count": 19,
   "id": "48fca64d",
   "metadata": {},
   "outputs": [],
   "source": [
    "#Process"
   ]
  },
  {
   "cell_type": "code",
   "execution_count": 21,
   "id": "1f5098a0",
   "metadata": {},
   "outputs": [
    {
     "name": "stdout",
     "output_type": "stream",
     "text": [
      "=== 1 ===\n",
      "Searching for \"Anti-Hero\" by Taylor Swift...\n",
      "Done.\n",
      "=== 2 ===\n",
      "Searching for \"Lavender Haze\" by Taylor Swift...\n",
      "Done.\n",
      "=== 3 ===\n",
      "Searching for \"Midnight Rain\" by Taylor Swift...\n",
      "Done.\n",
      "=== 4 ===\n",
      "Searching for \"Snow On The Beach (feat. Lana Del Rey)\" by Taylor Swift...\n",
      "Done.\n",
      "=== 4 ===\n",
      "Searching for \"Maroon\" by Taylor Swift...\n",
      "Done.\n",
      "=== 5 ===\n",
      "Searching for \"You're On Your Own, Kid\" by Taylor Swift...\n",
      "Done.\n",
      "=== 5 ===\n",
      "Searching for \"Bejeweled\" by Taylor Swift...\n",
      "Done.\n",
      "=== 1 ===\n",
      "Searching for \"Me Porto Bonito\" by Bad Bunny...\n",
      "Done.\n",
      "=== 2 ===\n",
      "Searching for \"Tití Me Preguntó\" by Bad Bunny...\n",
      "Done.\n",
      "=== 3 ===\n",
      "Searching for \"Efecto\" by Bad Bunny...\n",
      "Done.\n",
      "=== 4 ===\n",
      "Searching for \"Ojitos Lindos\" by Bad Bunny...\n",
      "Done.\n",
      "=== 5 ===\n",
      "Searching for \"Neverita\" by Bad Bunny...\n",
      "Done.\n",
      "=== 1 ===\n",
      "Searching for \"Rich Flex\" by Drake...\n",
      "Done.\n",
      "=== 2 ===\n",
      "Searching for \"Jimmy Cooks (feat. 21 Savage)\" by Drake...\n",
      "Done.\n",
      "=== 2 ===\n",
      "Searching for \"Pussy & Millions (feat. Travis Scott)\" by Drake...\n",
      "Done.\n",
      "=== 2 ===\n",
      "Searching for \"Major Distribution\" by Drake...\n",
      "Done.\n",
      "=== 3 ===\n",
      "Searching for \"WAIT FOR U (feat. Drake & Tems)\" by Drake...\n",
      "Done.\n",
      "=== 3 ===\n",
      "Searching for \"On BS\" by Drake...\n",
      "Done.\n",
      "=== 4 ===\n",
      "Searching for \"Circo Loco\" by Drake...\n",
      "Done.\n",
      "=== 5 ===\n",
      "Searching for \"Spin Bout U\" by Drake...\n",
      "Done.\n",
      "=== 1 ===\n",
      "Searching for \"Blinding Lights\" by The Weeknd...\n",
      "=== 1 ===\n",
      "Searching for \"Starboy\" by The Weeknd...\n",
      "=== 1 ===\n",
      "Searching for \"I Was Never There\" by The Weeknd...\n",
      "Done.\n",
      "=== 2 ===\n",
      "Searching for \"Call Out My Name\" by The Weeknd...\n",
      "=== 2 ===\n",
      "Searching for \"Save Your Tears\" by The Weeknd...\n",
      "=== 2 ===\n",
      "Searching for \"Creepin' (with The Weeknd & 21 Savage)\" by The Weeknd...\n",
      "Done.\n",
      "=== 2 ===\n",
      "Searching for \"Die For You\" by The Weeknd...\n",
      "Done.\n",
      "=== 2 ===\n",
      "Searching for \"The Hills\" by The Weeknd...\n",
      "=== 2 ===\n",
      "Searching for \"After Hours\" by The Weeknd...\n",
      "Done.\n",
      "=== 3 ===\n",
      "Searching for \"Lost in the Fire (feat. The Weeknd)\" by The Weeknd...\n",
      "Done.\n",
      "=== 1 ===\n",
      "Searching for \"Dreamers [Music from the FIFA World Cup Qatar 2022 Official Soundtrack]\" by BTS...\n",
      "Done.\n",
      "=== 1 ===\n",
      "Searching for \"Left and Right (Feat. Jung Kook of BTS)\" by BTS...\n",
      "Done.\n",
      "=== 1 ===\n",
      "Searching for \"Run BTS\" by BTS...\n",
      "Done.\n",
      "=== 1 ===\n",
      "Searching for \"Yet To Come\" by BTS...\n",
      "Done.\n",
      "=== 2 ===\n",
      "Searching for \"Dynamite\" by BTS...\n",
      "=== 2 ===\n",
      "Searching for \"Bad Decisions (with BTS & Snoop Dogg)\" by BTS...\n",
      "Done.\n",
      "=== 2 ===\n",
      "Searching for \"My Universe\" by BTS...\n",
      "=== 2 ===\n",
      "Searching for \"Butter\" by BTS...\n",
      "Done.\n",
      "=== 3 ===\n",
      "Searching for \"Boy With Luv (feat. Halsey)\" by BTS...\n",
      "Done.\n",
      "=== 3 ===\n",
      "Searching for \"Permission to Dance\" by BTS...\n",
      "Done.\n",
      "=== 1 ===\n",
      "Searching for \"Rich Flex\" by 21 Savage...\n",
      "Done.\n",
      "=== 2 ===\n",
      "Searching for \"Jimmy Cooks (feat. 21 Savage)\" by 21 Savage...\n",
      "Done.\n",
      "=== 2 ===\n",
      "Searching for \"Creepin' (with The Weeknd & 21 Savage)\" by 21 Savage...\n",
      "Done.\n",
      "=== 2 ===\n",
      "Searching for \"Pussy & Millions (feat. Travis Scott)\" by 21 Savage...\n",
      "Done.\n",
      "=== 2 ===\n",
      "Searching for \"Major Distribution\" by 21 Savage...\n",
      "Done.\n",
      "=== 3 ===\n",
      "Searching for \"On BS\" by 21 Savage...\n",
      "Done.\n",
      "=== 4 ===\n",
      "Searching for \"Circo Loco\" by 21 Savage...\n",
      "Done.\n",
      "=== 5 ===\n",
      "Searching for \"Spin Bout U\" by 21 Savage...\n",
      "Done.\n",
      "=== 1 ===\n",
      "Searching for \"Mockingbird\" by Eminem...\n",
      "=== 1 ===\n",
      "Searching for \"Without Me\" by Eminem...\n",
      "Done.\n",
      "=== 2 ===\n",
      "Searching for \"The Real Slim Shady\" by Eminem...\n",
      "Done.\n",
      "=== 3 ===\n",
      "Searching for \"Superman\" by Eminem...\n",
      "Done.\n",
      "=== 4 ===\n",
      "Searching for \"Till I Collapse\" by Eminem...\n",
      "Done.\n",
      "=== 5 ===\n",
      "Searching for \"Stan\" by Eminem...\n",
      "=== 5 ===\n",
      "Searching for \"Godzilla (feat. Juice WRLD)\" by Eminem...\n",
      "Done.\n",
      "=== 5 ===\n",
      "Searching for \"Love The Way You Lie\" by Eminem...\n",
      "Done.\n",
      "=== 5 ===\n",
      "Searching for \"Not Afraid\" by Eminem...\n",
      "Done.\n",
      "=== 1 ===\n",
      "Searching for \"Santa Tell Me\" by Ariana Grande...\n",
      "Done.\n",
      "=== 2 ===\n",
      "Searching for \"7 rings\" by Ariana Grande...\n",
      "=== 2 ===\n",
      "Searching for \"positions\" by Ariana Grande...\n",
      "Done.\n",
      "=== 3 ===\n",
      "Searching for \"One Last Time\" by Ariana Grande...\n",
      "=== 3 ===\n",
      "Searching for \"Save Your Tears (Remix) (with Ariana Grande)\" by Ariana Grande...\n",
      "Done.\n",
      "=== 3 ===\n",
      "Searching for \"Stuck with U (with Justin Bieber)\" by Ariana Grande...\n",
      "Done.\n",
      "=== 3 ===\n",
      "Searching for \"thank u, next\" by Ariana Grande...\n",
      "=== 3 ===\n",
      "Searching for \"34+35\" by Ariana Grande...\n",
      "Done.\n",
      "=== 4 ===\n",
      "Searching for \"boyfriend (with Social House)\" by Ariana Grande...\n",
      "Done.\n",
      "=== 4 ===\n",
      "Searching for \"Santa, Can’t You Hear Me\" by Ariana Grande...\n",
      "Done.\n",
      "=== 1 ===\n",
      "Searching for \"Perfect\" by Ed Sheeran...\n",
      "Done.\n",
      "=== 2 ===\n",
      "Searching for \"Bad Habits\" by Ed Sheeran...\n",
      "Done.\n",
      "=== 3 ===\n",
      "Searching for \"Shivers\" by Ed Sheeran...\n",
      "Done.\n",
      "=== 4 ===\n",
      "Searching for \"Shape of You\" by Ed Sheeran...\n",
      "Done.\n",
      "=== 5 ===\n",
      "Searching for \"Photograph\" by Ed Sheeran...\n",
      "Done.\n",
      "=== 1 ===\n",
      "Searching for \"As It Was\" by Harry Styles...\n",
      "=== 1 ===\n",
      "Searching for \"Late Night Talking\" by Harry Styles...\n",
      "Done.\n",
      "=== 2 ===\n",
      "Searching for \"Watermelon Sugar\" by Harry Styles...\n",
      "Done.\n",
      "=== 3 ===\n",
      "Searching for \"Adore You\" by Harry Styles...\n",
      "Done.\n",
      "=== 4 ===\n",
      "Searching for \"Matilda\" by Harry Styles...\n",
      "Done.\n",
      "=== 5 ===\n",
      "Searching for \"Falling\" by Harry Styles...\n",
      "Done.\n",
      "=== 1 ===\n",
      "Searching for \"Te Felicito\" by Rauw Alejandro...\n",
      "Done.\n",
      "=== 2 ===\n",
      "Searching for \"Party\" by Rauw Alejandro...\n",
      "Done.\n",
      "=== 3 ===\n",
      "Searching for \"PUNTO 40\" by Rauw Alejandro...\n",
      "Done.\n",
      "=== 4 ===\n",
      "Searching for \"LOKERA\" by Rauw Alejandro...\n",
      "Done.\n",
      "=== 5 ===\n",
      "Searching for \"Desesperados\" by Rauw Alejandro...\n",
      "Done.\n",
      "=== 1 ===\n",
      "Searching for \"Mistletoe\" by Justin Bieber...\n",
      "Done.\n",
      "=== 2 ===\n",
      "Searching for \"STAY (with Justin Bieber)\" by Justin Bieber...\n",
      "Done.\n",
      "=== 2 ===\n",
      "Searching for \"Ghost\" by Justin Bieber...\n",
      "Done.\n",
      "=== 3 ===\n",
      "Searching for \"Peaches (feat. Daniel Caesar & Giveon)\" by Justin Bieber...\n",
      "Done.\n",
      "=== 3 ===\n",
      "Searching for \"Love Yourself\" by Justin Bieber...\n",
      "Done.\n",
      "=== 4 ===\n",
      "Searching for \"Stuck with U (with Justin Bieber)\" by Justin Bieber...\n",
      "Done.\n",
      "=== 4 ===\n",
      "Searching for \"Sorry\" by Justin Bieber...\n",
      "Done.\n",
      "=== 5 ===\n",
      "Searching for \"Baby\" by Justin Bieber...\n",
      "=== 5 ===\n",
      "Searching for \"What Do You Mean?\" by Justin Bieber...\n",
      "Done.\n",
      "=== 1 ===\n",
      "Searching for \"Bound 2\" by Kanye West...\n",
      "Done.\n",
      "=== 2 ===\n",
      "Searching for \"Heartless\" by Kanye West...\n",
      "Done.\n",
      "=== 3 ===\n",
      "Searching for \"Flashing Lights\" by Kanye West...\n",
      "=== 3 ===\n",
      "Searching for \"Ni**as In Paris\" by Kanye West...\n",
      "Done.\n",
      "=== 3 ===\n",
      "Searching for \"Father Stretch My Hands Pt. 1\" by Kanye West...\n",
      "=== 3 ===\n",
      "Searching for \"Stronger\" by Kanye West...\n",
      "Done.\n",
      "=== 4 ===\n",
      "Searching for \"I Wonder\" by Kanye West...\n",
      "Done.\n",
      "=== 5 ===\n",
      "Searching for \"Violent Crimes\" by Kanye West...\n",
      "Done.\n",
      "=== 1 ===\n",
      "Searching for \"Lift Me Up\" by Rihanna...\n",
      "Done.\n",
      "=== 2 ===\n",
      "Searching for \"Love On The Brain\" by Rihanna...\n",
      "Done.\n",
      "=== 2 ===\n",
      "Searching for \"Umbrella\" by Rihanna...\n",
      "Done.\n",
      "=== 3 ===\n",
      "Searching for \"Needed Me\" by Rihanna...\n",
      "Done.\n",
      "=== 4 ===\n",
      "Searching for \"This Is What You Came For\" by Rihanna...\n",
      "Done.\n",
      "=== 5 ===\n",
      "Searching for \"Don't Stop The Music\" by Rihanna...\n",
      "Done.\n",
      "=== 5 ===\n",
      "Searching for \"Pon de Replay\" by Rihanna...\n",
      "Done.\n",
      "=== 1 ===\n",
      "Searching for \"LA INOCENTE\" by Feid...\n",
      "Done.\n",
      "=== 2 ===\n",
      "Searching for \"Feliz Cumpleaños Ferxxo\" by Feid...\n",
      "Done.\n",
      "=== 3 ===\n",
      "Searching for \"Hey Mor\" by Feid...\n",
      "Done.\n",
      "=== 4 ===\n",
      "Searching for \"En La De Ella\" by Feid...\n",
      "Done.\n",
      "=== 5 ===\n",
      "Searching for \"Prohibidox\" by Feid...\n",
      "Done.\n",
      "=== 1 ===\n",
      "Searching for \"Kesariya\" by Arijit Singh...\n",
      "Done.\n",
      "=== 2 ===\n",
      "Searching for \"Apna Bana Le (From \"Bhediya\")\" by Arijit Singh...\n",
      "No results found for: 'Apna Bana Le (From \"Bhediya\") Arijit Singh'\n",
      "=== 2 ===\n",
      "Searching for \"Deva Deva\" by Arijit Singh...\n",
      "Done.\n",
      "=== 2 ===\n",
      "Searching for \"Shayad\" by Arijit Singh...\n",
      "Done.\n",
      "=== 3 ===\n",
      "Searching for \"Khairiyat\" by Arijit Singh...\n",
      "Done.\n",
      "=== 3 ===\n",
      "Searching for \"Raabta\" by Arijit Singh...\n",
      "Done.\n",
      "=== 4 ===\n",
      "Searching for \"Agar Tum Saath Ho (From \"Tamasha\")\" by Arijit Singh...\n",
      "No results found for: 'Agar Tum Saath Ho (From \"Tamasha\") Arijit Singh'\n",
      "=== 4 ===\n",
      "Searching for \"Atak Gaya\" by Arijit Singh...\n",
      "No results found for: 'Atak Gaya Arijit Singh'\n",
      "=== 4 ===\n",
      "Searching for \"Kalank (Title Track)\" by Arijit Singh...\n",
      "Done.\n",
      "=== 4 ===\n",
      "Searching for \"Pal\" by Arijit Singh...\n",
      "Done.\n",
      "=== 1 ===\n",
      "Searching for \"lovely (with Khalid)\" by Billie Eilish...\n",
      "Done.\n",
      "=== 1 ===\n",
      "Searching for \"Happier Than Ever\" by Billie Eilish...\n",
      "Done.\n",
      "=== 2 ===\n",
      "Searching for \"TV\" by Billie Eilish...\n",
      "Done.\n",
      "=== 3 ===\n",
      "Searching for \"everything i wanted\" by Billie Eilish...\n"
     ]
    },
    {
     "name": "stdout",
     "output_type": "stream",
     "text": [
      "Done.\n",
      "=== 4 ===\n",
      "Searching for \"Bored\" by Billie Eilish...\n",
      "Done.\n",
      "=== 5 ===\n",
      "Searching for \"when the party's over\" by Billie Eilish...\n",
      "=== 5 ===\n",
      "Searching for \"bad guy\" by Billie Eilish...\n",
      "Done.\n",
      "=== 1 ===\n",
      "Searching for \"I'm Good (Blue)\" by David Guetta...\n",
      "Done.\n",
      "=== 1 ===\n",
      "Searching for \"Crazy What Love Can Do\" by David Guetta...\n",
      "Done.\n",
      "=== 2 ===\n",
      "Searching for \"DON'T YOU WORRY\" by David Guetta...\n",
      "Done.\n",
      "=== 2 ===\n",
      "Searching for \"Love Tonight\" by David Guetta...\n",
      "Done.\n",
      "=== 2 ===\n",
      "Searching for \"Titanium (feat. Sia)\" by David Guetta...\n",
      "Done.\n",
      "=== 2 ===\n",
      "Searching for \"Remember (and David Guetta)\" by David Guetta...\n",
      "Done.\n",
      "=== 2 ===\n",
      "Searching for \"Heartbreak Anthem (with David Guetta & Little Mix)\" by David Guetta...\n",
      "Done.\n",
      "=== 2 ===\n",
      "Searching for \"Memories (feat. Kid Cudi)\" by David Guetta...\n",
      "Done.\n",
      "=== 2 ===\n",
      "Searching for \"Sexy Bitch (feat. Akon)\" by David Guetta...\n",
      "Done.\n",
      "=== 2 ===\n",
      "Searching for \"BED\" by David Guetta...\n",
      "Done.\n",
      "=== 1 ===\n",
      "Searching for \"Yellow\" by Coldplay...\n",
      "=== 1 ===\n",
      "Searching for \"Sparks\" by Coldplay...\n",
      "Done.\n",
      "=== 2 ===\n",
      "Searching for \"Viva La Vida\" by Coldplay...\n",
      "Done.\n",
      "=== 2 ===\n",
      "Searching for \"The Scientist\" by Coldplay...\n",
      "=== 2 ===\n",
      "Searching for \"Something Just Like This\" by Coldplay...\n",
      "=== 2 ===\n",
      "Searching for \"Hymn for the Weekend\" by Coldplay...\n",
      "Done.\n",
      "=== 3 ===\n",
      "Searching for \"Paradise\" by Coldplay...\n",
      "Done.\n",
      "=== 4 ===\n",
      "Searching for \"A Sky Full of Stars\" by Coldplay...\n",
      "Done.\n",
      "=== 5 ===\n",
      "Searching for \"My Universe\" by Coldplay...\n",
      "Done.\n",
      "=== 1 ===\n",
      "Searching for \"Lucid Dreams\" by Juice WRLD...\n",
      "=== 1 ===\n",
      "Searching for \"All Girls Are The Same\" by Juice WRLD...\n",
      "Done.\n",
      "=== 1 ===\n",
      "Searching for \"In My Head\" by Juice WRLD...\n",
      "Done.\n",
      "=== 2 ===\n",
      "Searching for \"Robbery\" by Juice WRLD...\n",
      "Done.\n",
      "=== 3 ===\n",
      "Searching for \"Bye Bye\" by Juice WRLD...\n",
      "Done.\n",
      "=== 4 ===\n",
      "Searching for \"Wishing Well\" by Juice WRLD...\n",
      "Done.\n",
      "=== 5 ===\n",
      "Searching for \"Lean Wit Me\" by Juice WRLD...\n",
      "Done.\n",
      "=== 5 ===\n",
      "Searching for \"Come & Go (with Marshmello)\" by Juice WRLD...\n",
      "Done.\n",
      "=== 5 ===\n",
      "Searching for \"Let Me Know (I Wonder Why Freestyle)\" by Juice WRLD...\n",
      "Done.\n",
      "=== 1 ===\n",
      "Searching for \"Bones\" by Imagine Dragons...\n",
      "Done.\n",
      "=== 2 ===\n",
      "Searching for \"Believer\" by Imagine Dragons...\n",
      "=== 2 ===\n",
      "Searching for \"Enemy (with JID)\" by Imagine Dragons...\n",
      "Done.\n",
      "=== 2 ===\n",
      "Searching for \"Thunder\" by Imagine Dragons...\n",
      "Done.\n",
      "=== 3 ===\n",
      "Searching for \"Demons\" by Imagine Dragons...\n",
      "=== 3 ===\n",
      "Searching for \"Natural\" by Imagine Dragons...\n",
      "=== 3 ===\n",
      "Searching for \"Whatever It Takes\" by Imagine Dragons...\n",
      "Done.\n",
      "=== 4 ===\n",
      "Searching for \"Bad Liar\" by Imagine Dragons...\n",
      "Done.\n",
      "=== 5 ===\n",
      "Searching for \"Sharks\" by Imagine Dragons...\n",
      "Done.\n",
      "=== 1 ===\n",
      "Searching for \"Unholy (feat. Kim Petras)\" by Sam Smith...\n",
      "Done.\n",
      "=== 1 ===\n",
      "Searching for \"I'm Not The Only One\" by Sam Smith...\n",
      "Done.\n",
      "=== 1 ===\n",
      "Searching for \"Stay With Me\" by Sam Smith...\n",
      "=== 1 ===\n",
      "Searching for \"Have Yourself A Merry Little Christmas\" by Sam Smith...\n",
      "Done.\n",
      "=== 1 ===\n",
      "Searching for \"Too Good At Goodbyes\" by Sam Smith...\n",
      "=== 1 ===\n",
      "Searching for \"Like I Can\" by Sam Smith...\n",
      "Done.\n",
      "=== 2 ===\n",
      "Searching for \"Fire On Fire\" by Sam Smith...\n",
      "Done.\n",
      "=== 2 ===\n",
      "Searching for \"Promises (with Sam Smith)\" by Sam Smith...\n",
      "Done.\n",
      "=== 2 ===\n",
      "Searching for \"Love Me More\" by Sam Smith...\n",
      "Done.\n",
      "=== 3 ===\n",
      "Searching for \"Dancing With A Stranger (with Normani)\" by Sam Smith...\n",
      "Done.\n",
      "=== 1 ===\n",
      "Searching for \"Snow On The Beach (feat. Lana Del Rey)\" by Lana Del Rey...\n",
      "Done.\n",
      "=== 1 ===\n",
      "Searching for \"Summertime Sadness\" by Lana Del Rey...\n",
      "Done.\n",
      "=== 2 ===\n",
      "Searching for \"Young And Beautiful\" by Lana Del Rey...\n",
      "Done.\n",
      "=== 2 ===\n",
      "Searching for \"Doin' Time\" by Lana Del Rey...\n",
      "Done.\n",
      "=== 2 ===\n",
      "Searching for \"Brooklyn Baby\" by Lana Del Rey...\n",
      "Done.\n",
      "=== 3 ===\n",
      "Searching for \"West Coast\" by Lana Del Rey...\n",
      "Done.\n",
      "=== 4 ===\n",
      "Searching for \"Did you know that there's a tunnel under Ocean Blvd\" by Lana Del Rey...\n",
      "Done.\n",
      "=== 4 ===\n",
      "Searching for \"Happiness is a butterfly\" by Lana Del Rey...\n",
      "Done.\n",
      "=== 5 ===\n",
      "Searching for \"Cinnamon Girl\" by Lana Del Rey...\n",
      "Done.\n",
      "=== 1 ===\n",
      "Searching for \"Monotonía\" by Ozuna...\n",
      "Done.\n",
      "=== 2 ===\n",
      "Searching for \"Hey Mor\" by Ozuna...\n",
      "Done.\n",
      "=== 3 ===\n",
      "Searching for \"Diles\" by Ozuna...\n",
      "Done.\n",
      "=== 3 ===\n",
      "Searching for \"Nos Comemos (feat. Ozuna)\" by Ozuna...\n",
      "Done.\n",
      "=== 3 ===\n",
      "Searching for \"Solita\" by Ozuna...\n",
      "Done.\n",
      "=== 4 ===\n",
      "Searching for \"Adicto (with Anuel AA & Ozuna)\" by Ozuna...\n",
      "Done.\n",
      "=== 4 ===\n",
      "Searching for \"Se Preparó\" by Ozuna...\n",
      "Done.\n",
      "=== 5 ===\n",
      "Searching for \"Una Locura\" by Ozuna...\n",
      "Done.\n",
      "=== 1 ===\n",
      "Searching for \"All The Stars (with SZA)\" by Kendrick Lamar...\n",
      "Done.\n",
      "=== 1 ===\n",
      "Searching for \"HUMBLE.\" by Kendrick Lamar...\n",
      "Done.\n",
      "=== 2 ===\n",
      "Searching for \"LOVE. FEAT. ZACARI.\" by Kendrick Lamar...\n",
      "Done.\n",
      "=== 2 ===\n",
      "Searching for \"N95\" by Kendrick Lamar...\n",
      "Done.\n",
      "=== 3 ===\n",
      "Searching for \"PRIDE.\" by Kendrick Lamar...\n",
      "Done.\n",
      "=== 4 ===\n",
      "Searching for \"Die Hard\" by Kendrick Lamar...\n",
      "Done.\n",
      "=== 5 ===\n",
      "Searching for \"family ties (with Kendrick Lamar)\" by Kendrick Lamar...\n",
      "Done.\n",
      "=== 5 ===\n",
      "Searching for \"Money Trees\" by Kendrick Lamar...\n",
      "Done.\n",
      "=== 1 ===\n",
      "Searching for \"Drip Too Hard (Lil Baby & Gunna)\" by Lil Baby...\n",
      "Done.\n",
      "=== 1 ===\n",
      "Searching for \"Freestyle\" by Lil Baby...\n",
      "Done.\n",
      "=== 2 ===\n",
      "Searching for \"Wants and Needs (feat. Lil Baby)\" by Lil Baby...\n",
      "Done.\n",
      "=== 2 ===\n",
      "Searching for \"Yes Indeed\" by Lil Baby...\n",
      "Done.\n",
      "=== 3 ===\n",
      "Searching for \"Pure Cocaine\" by Lil Baby...\n",
      "Done.\n",
      "=== 4 ===\n",
      "Searching for \"California Breeze\" by Lil Baby...\n",
      "Done.\n",
      "=== 5 ===\n",
      "Searching for \"Girls Want Girls (with Lil Baby)\" by Lil Baby...\n",
      "Done.\n",
      "=== 5 ===\n",
      "Searching for \"Not Finished\" by Lil Baby...\n",
      "Done.\n",
      "=== 1 ===\n",
      "Searching for \"I Wanna Be Yours\" by Arctic Monkeys...\n",
      "Done.\n",
      "=== 2 ===\n",
      "Searching for \"Do I Wanna Know?\" by Arctic Monkeys...\n",
      "Done.\n",
      "=== 3 ===\n",
      "Searching for \"Why'd You Only Call Me When You're High?\" by Arctic Monkeys...\n",
      "Done.\n",
      "=== 3 ===\n",
      "Searching for \"505\" by Arctic Monkeys...\n",
      "Done.\n",
      "=== 4 ===\n",
      "Searching for \"R U Mine?\" by Arctic Monkeys...\n",
      "Done.\n",
      "=== 5 ===\n",
      "Searching for \"Snap Out Of It\" by Arctic Monkeys...\n",
      "Done.\n",
      "=== 5 ===\n",
      "Searching for \"Fluorescent Adolescent\" by Arctic Monkeys...\n",
      "Done.\n",
      "=== 1 ===\n",
      "Searching for \"I Like You (A Happier Song) (with Doja Cat)\" by Post Malone...\n",
      "Done.\n",
      "=== 2 ===\n",
      "Searching for \"Circles\" by Post Malone...\n",
      "=== 2 ===\n",
      "Searching for \"rockstar (feat. 21 Savage)\" by Post Malone...\n",
      "Done.\n",
      "=== 2 ===\n",
      "Searching for \"Sunflower\" by Post Malone...\n",
      "=== 2 ===\n",
      "Searching for \"Congratulations\" by Post Malone...\n",
      "=== 2 ===\n",
      "Searching for \"Wow.\" by Post Malone...\n",
      "Done.\n",
      "=== 3 ===\n",
      "Searching for \"Better Now\" by Post Malone...\n",
      "=== 3 ===\n",
      "Searching for \"One Right Now (with The Weeknd)\" by Post Malone...\n",
      "Done.\n",
      "=== 3 ===\n",
      "Searching for \"Goodbyes (feat. Young Thug)\" by Post Malone...\n",
      "Done.\n",
      "=== 3 ===\n",
      "Searching for \"I Fall Apart\" by Post Malone...\n",
      "Done.\n",
      "=== 1 ===\n",
      "Searching for \"One Kiss (with Dua Lipa)\" by Dua Lipa...\n",
      "Done.\n",
      "=== 1 ===\n",
      "Searching for \"Cold Heart\" by Dua Lipa...\n",
      "Done.\n",
      "=== 1 ===\n",
      "Searching for \"Levitating (feat. DaBaby)\" by Dua Lipa...\n",
      "Done.\n",
      "=== 1 ===\n",
      "Searching for \"Levitating\" by Dua Lipa...\n",
      "Done.\n",
      "=== 2 ===\n",
      "Searching for \"Don't Start Now\" by Dua Lipa...\n",
      "=== 2 ===\n",
      "Searching for \"New Rules\" by Dua Lipa...\n",
      "=== 2 ===\n",
      "Searching for \"IDGAF\" by Dua Lipa...\n",
      "Done.\n",
      "=== 3 ===\n",
      "Searching for \"Prisoner (feat. Dua Lipa)\" by Dua Lipa...\n",
      "Done.\n",
      "=== 3 ===\n",
      "Searching for \"Scared to Be Lonely\" by Dua Lipa...\n",
      "Done.\n",
      "=== 4 ===\n",
      "Searching for \"Sweetest Pie\" by Dua Lipa...\n",
      "Done.\n",
      "=== 1 ===\n",
      "Searching for \"Revenge\" by XXXTENTACION...\n",
      "Done.\n",
      "=== 2 ===\n",
      "Searching for \"Hope\" by XXXTENTACION...\n",
      "Done.\n",
      "=== 3 ===\n",
      "Searching for \"Everybody Dies In Their Nightmares\" by XXXTENTACION...\n",
      "Done.\n",
      "=== 3 ===\n",
      "Searching for \"Jocelyn Flores\" by XXXTENTACION...\n",
      "Done.\n",
      "=== 4 ===\n",
      "Searching for \"SAD!\" by XXXTENTACION...\n",
      "Done.\n",
      "=== 5 ===\n",
      "Searching for \"Fuck Love (feat. Trippie Redd)\" by XXXTENTACION...\n",
      "Done.\n",
      "=== 5 ===\n",
      "Searching for \"Moonlight\" by XXXTENTACION...\n",
      "=== 5 ===\n",
      "Searching for \"Look At Me!\" by XXXTENTACION...\n",
      "=== 5 ===\n",
      "Searching for \"Falling Down\" by XXXTENTACION...\n",
      "Done.\n",
      "=== 1 ===\n",
      "Searching for \"Kesariya\" by Pritam...\n",
      "Done.\n",
      "=== 1 ===\n",
      "Searching for \"Deva Deva\" by Pritam...\n",
      "Done.\n",
      "=== 1 ===\n",
      "Searching for \"Kabira\" by Pritam...\n",
      "Done.\n",
      "=== 2 ===\n",
      "Searching for \"Tum Se Hi\" by Pritam...\n",
      "Done.\n",
      "=== 2 ===\n",
      "Searching for \"Shayad\" by Pritam...\n",
      "Done.\n",
      "=== 3 ===\n",
      "Searching for \"Khairiyat\" by Pritam...\n",
      "No results found for: 'Khairiyat Pritam'\n",
      "=== 3 ===\n",
      "Searching for \"Raabta\" by Pritam...\n"
     ]
    },
    {
     "name": "stdout",
     "output_type": "stream",
     "text": [
      "Done.\n",
      "=== 4 ===\n",
      "Searching for \"Tera Hone Laga Hoon\" by Pritam...\n",
      "No results found for: 'Tera Hone Laga Hoon Pritam'\n",
      "=== 4 ===\n",
      "Searching for \"Kalank (Title Track)\" by Pritam...\n",
      "No results found for: 'Kalank (Title Track) Pritam'\n",
      "=== 4 ===\n",
      "Searching for \"Rasiya\" by Pritam...\n",
      "Done.\n",
      "=== 1 ===\n",
      "Searching for \"LA CANCIÓN\" by J Balvin...\n",
      "Done.\n",
      "=== 2 ===\n",
      "Searching for \"UN PESO\" by J Balvin...\n",
      "Done.\n",
      "=== 3 ===\n",
      "Searching for \"No Me Conoce\" by J Balvin...\n",
      "Done.\n",
      "=== 3 ===\n",
      "Searching for \"QUE PRETENDES\" by J Balvin...\n",
      "Done.\n",
      "=== 3 ===\n",
      "Searching for \"I Like It\" by J Balvin...\n",
      "Done.\n",
      "=== 4 ===\n",
      "Searching for \"AM Remix\" by J Balvin...\n",
      "Done.\n",
      "=== 5 ===\n",
      "Searching for \"Una Locura\" by J Balvin...\n",
      "Done.\n",
      "=== 1 ===\n",
      "Searching for \"La Santa\" by Daddy Yankee...\n",
      "Done.\n",
      "=== 2 ===\n",
      "Searching for \"X ÚLTIMA VEZ\" by Daddy Yankee...\n",
      "Done.\n",
      "=== 3 ===\n",
      "Searching for \"Gasolina\" by Daddy Yankee...\n",
      "Done.\n",
      "=== 4 ===\n",
      "Searching for \"Lo Que Pasó, Pasó\" by Daddy Yankee...\n",
      "Done.\n",
      "=== 5 ===\n",
      "Searching for \"Despacito\" by Daddy Yankee...\n",
      "=== 5 ===\n",
      "Searching for \"Mayor Que Usted\" by Daddy Yankee...\n",
      "Done.\n",
      "=== 1 ===\n",
      "Searching for \"Monotonía\" by Shakira...\n",
      "Done.\n",
      "=== 2 ===\n",
      "Searching for \"Te Felicito\" by Shakira...\n",
      "Done.\n",
      "=== 3 ===\n",
      "Searching for \"Hips Don't Lie (feat. Wyclef Jean)\" by Shakira...\n",
      "=== 3 ===\n",
      "Searching for \"Waka Waka (This Time for Africa) [The Official 2010 FIFA World Cup (TM) Song] (feat. Freshlyground)\" by Shakira...\n",
      "No results found for: 'Waka Waka (This Time for Africa) [The Official 2010 FIFA World Cup (TM) Song] (feat. Freshlyground) Shakira'\n",
      "=== 3 ===\n",
      "Searching for \"DON'T YOU WORRY\" by Shakira...\n",
      "Done.\n",
      "=== 3 ===\n",
      "Searching for \"Chantaje (feat. Maluma)\" by Shakira...\n",
      "Done.\n",
      "=== 3 ===\n",
      "Searching for \"Dia de Enero\" by Shakira...\n",
      "Done.\n",
      "=== 3 ===\n",
      "Searching for \"Antologia\" by Shakira...\n",
      "Done.\n",
      "=== 3 ===\n",
      "Searching for \"Inevitable\" by Shakira...\n",
      "Done.\n",
      "=== 4 ===\n",
      "Searching for \"GIRL LIKE ME\" by Shakira...\n",
      "Done.\n",
      "=== 1 ===\n",
      "Searching for \"Pussy & Millions (feat. Travis Scott)\" by Travis Scott...\n",
      "Done.\n",
      "=== 1 ===\n",
      "Searching for \"goosebumps\" by Travis Scott...\n",
      "Done.\n",
      "=== 2 ===\n",
      "Searching for \"Down In Atlanta\" by Travis Scott...\n",
      "Done.\n",
      "=== 3 ===\n",
      "Searching for \"Niagara Falls (Foot or 2) [with Travis Scott & 21 Savage]\" by Travis Scott...\n",
      "Done.\n",
      "=== 3 ===\n",
      "Searching for \"Fair Trade (with Travis Scott)\" by Travis Scott...\n",
      "Done.\n",
      "=== 3 ===\n",
      "Searching for \"HIGHEST IN THE ROOM\" by Travis Scott...\n",
      "=== 3 ===\n",
      "Searching for \"SICKO MODE\" by Travis Scott...\n",
      "Done.\n",
      "=== 4 ===\n",
      "Searching for \"Raindrops (Insane) [with Travis Scott]\" by Travis Scott...\n",
      "No results found for: 'Raindrops (Insane) [with Travis Scott] Travis Scott'\n",
      "=== 4 ===\n",
      "Searching for \"Open Arms (feat. Travis Scott)\" by Travis Scott...\n",
      "Done.\n",
      "=== 4 ===\n",
      "Searching for \"Goosebumps\" by Travis Scott...\n",
      "Done.\n",
      "=== 1 ===\n",
      "Searching for \"I Like You (A Happier Song) (with Doja Cat)\" by Doja Cat...\n",
      "Done.\n",
      "=== 2 ===\n",
      "Searching for \"Woman\" by Doja Cat...\n",
      "Done.\n",
      "=== 3 ===\n",
      "Searching for \"Vegas (From the Original Motion Picture Soundtrack ELVIS)\" by Doja Cat...\n",
      "No results found for: 'Vegas (From the Original Motion Picture Soundtrack ELVIS) Doja Cat'\n",
      "=== 3 ===\n",
      "Searching for \"Need to Know\" by Doja Cat...\n",
      "Done.\n",
      "=== 4 ===\n",
      "Searching for \"You Right\" by Doja Cat...\n",
      "Done.\n",
      "=== 5 ===\n",
      "Searching for \"Streets\" by Doja Cat...\n",
      "Done.\n",
      "=== 1 ===\n",
      "Searching for \"When I Was Your Man\" by Bruno Mars...\n",
      "Done.\n",
      "=== 2 ===\n",
      "Searching for \"Locked out of Heaven\" by Bruno Mars...\n",
      "Done.\n",
      "=== 2 ===\n",
      "Searching for \"That's What I Like\" by Bruno Mars...\n",
      "Done.\n",
      "=== 2 ===\n",
      "Searching for \"Leave The Door Open\" by Bruno Mars...\n",
      "Done.\n",
      "=== 3 ===\n",
      "Searching for \"Just the Way You Are\" by Bruno Mars...\n",
      "=== 3 ===\n",
      "Searching for \"Talking to the Moon\" by Bruno Mars...\n",
      "Done.\n",
      "=== 4 ===\n",
      "Searching for \"Treasure\" by Bruno Mars...\n",
      "Done.\n",
      "=== 5 ===\n",
      "Searching for \"24K Magic\" by Bruno Mars...\n",
      "Done.\n",
      "=== 1 ===\n",
      "Searching for \"Quevedo: Bzrp Music Sessions, Vol. 52\" by Quevedo...\n",
      "Done.\n",
      "=== 2 ===\n",
      "Searching for \"Vista Al Mar\" by Quevedo...\n",
      "Done.\n",
      "=== 3 ===\n",
      "Searching for \"Punto G\" by Quevedo...\n",
      "Done.\n",
      "=== 4 ===\n",
      "Searching for \"Sin Señal\" by Quevedo...\n",
      "Done.\n",
      "=== 5 ===\n",
      "Searching for \"APA\" by Quevedo...\n",
      "Done.\n",
      "=== 1 ===\n",
      "Searching for \"It's Beginning to Look a Lot like Christmas\" by Michael Bublé...\n",
      "Done.\n",
      "=== 1 ===\n",
      "Searching for \"Holly Jolly Christmas\" by Michael Bublé...\n",
      "Done.\n",
      "=== 2 ===\n",
      "Searching for \"Santa Claus Is Coming to Town\" by Michael Bublé...\n",
      "Done.\n",
      "=== 3 ===\n",
      "Searching for \"Jingle Bells (feat. The Puppini Sisters)\" by Michael Bublé...\n",
      "Done.\n",
      "=== 3 ===\n",
      "Searching for \"I'll Be Home for Christmas\" by Michael Bublé...\n",
      "Done.\n",
      "=== 3 ===\n",
      "Searching for \"Sway\" by Michael Bublé...\n",
      "Done.\n",
      "=== 4 ===\n",
      "Searching for \"Let It Snow!\" by Michael Bublé...\n",
      "Done.\n",
      "=== 5 ===\n",
      "Searching for \"Feeling Good\" by Michael Bublé...\n",
      "Done.\n",
      "=== 1 ===\n",
      "Searching for \"PROVENZA\" by KAROL G...\n",
      "Done.\n",
      "=== 2 ===\n",
      "Searching for \"GATÚBELA\" by KAROL G...\n",
      "Done.\n",
      "=== 3 ===\n",
      "Searching for \"CAIRO\" by KAROL G...\n",
      "Done.\n",
      "=== 4 ===\n",
      "Searching for \"Don't Be Shy\" by KAROL G...\n",
      "Done.\n",
      "=== 4 ===\n",
      "Searching for \"MAMIII\" by KAROL G...\n",
      "Done.\n",
      "=== 5 ===\n",
      "Searching for \"EL MAKINON\" by KAROL G...\n",
      "Done.\n",
      "=== 1 ===\n",
      "Searching for \"Glimpse of Us\" by Joji...\n",
      "Done.\n",
      "=== 2 ===\n",
      "Searching for \"Die For You\" by Joji...\n",
      "Done.\n",
      "=== 3 ===\n",
      "Searching for \"SLOW DANCING IN THE DARK\" by Joji...\n",
      "Done.\n",
      "=== 4 ===\n",
      "Searching for \"YEAH RIGHT\" by Joji...\n",
      "Done.\n",
      "=== 5 ===\n",
      "Searching for \"Feeling Like The End\" by Joji...\n",
      "Done.\n",
      "=== 1 ===\n",
      "Searching for \"Bloody Mary\" by Lady Gaga...\n",
      "Done.\n",
      "=== 2 ===\n",
      "Searching for \"Shallow\" by Lady Gaga...\n",
      "=== 2 ===\n",
      "Searching for \"Bad Romance\" by Lady Gaga...\n",
      "Done.\n",
      "=== 3 ===\n",
      "Searching for \"Always Remember Us This Way\" by Lady Gaga...\n",
      "Done.\n",
      "=== 4 ===\n",
      "Searching for \"Just Dance\" by Lady Gaga...\n",
      "Done.\n",
      "=== 5 ===\n",
      "Searching for \"Poker Face\" by Lady Gaga...\n",
      "Done.\n",
      "=== 1 ===\n",
      "Searching for \"CUFF IT\" by Beyoncé...\n",
      "Done.\n",
      "=== 2 ===\n",
      "Searching for \"ALIEN SUPERSTAR\" by Beyoncé...\n",
      "Done.\n",
      "=== 3 ===\n",
      "Searching for \"BREAK MY SOUL\" by Beyoncé...\n",
      "Done.\n",
      "=== 4 ===\n",
      "Searching for \"Crazy In Love (feat. Jay-Z)\" by Beyoncé...\n",
      "Done.\n",
      "=== 4 ===\n",
      "Searching for \"ENERGY (feat. Beam)\" by Beyoncé...\n",
      "Done.\n",
      "=== 4 ===\n",
      "Searching for \"Halo\" by Beyoncé...\n",
      "Done.\n",
      "=== 5 ===\n",
      "Searching for \"Love On Top\" by Beyoncé...\n",
      "Done.\n",
      "=== 5 ===\n",
      "Searching for \"I'M THAT GIRL\" by Beyoncé...\n",
      "Done.\n",
      "=== 5 ===\n",
      "Searching for \"SUMMER RENAISSANCE\" by Beyoncé...\n",
      "Done.\n",
      "=== 1 ===\n",
      "Searching for \"Under The Influence\" by Chris Brown...\n",
      "Done.\n",
      "=== 1 ===\n",
      "Searching for \"Superhero (Heroes & Villains) [with Future & Chris Brown]\" by Chris Brown...\n",
      "Done.\n",
      "=== 1 ===\n",
      "Searching for \"No Guidance (feat. Drake)\" by Chris Brown...\n",
      "Done.\n",
      "=== 1 ===\n",
      "Searching for \"Nostálgico\" by Chris Brown...\n",
      "Done.\n",
      "=== 2 ===\n",
      "Searching for \"Go Crazy\" by Chris Brown...\n",
      "Done.\n",
      "=== 3 ===\n",
      "Searching for \"Under The Influence (Body Language)\" by Chris Brown...\n",
      "Done.\n",
      "=== 3 ===\n",
      "Searching for \"Forever\" by Chris Brown...\n",
      "Done.\n",
      "=== 4 ===\n",
      "Searching for \"Monalisa\" by Chris Brown...\n",
      "Done.\n",
      "=== 4 ===\n",
      "Searching for \"With You\" by Chris Brown...\n",
      "Done.\n",
      "=== 5 ===\n",
      "Searching for \"Loyal (feat. Lil Wayne & Tyga)\" by Chris Brown...\n",
      "Done.\n",
      "=== 1 ===\n",
      "Searching for \"WAIT FOR U (feat. Drake & Tems)\" by Future...\n",
      "Done.\n",
      "=== 1 ===\n",
      "Searching for \"Superhero (Heroes & Villains) [with Future & Chris Brown]\" by Future...\n",
      "Done.\n",
      "=== 1 ===\n",
      "Searching for \"Mask Off\" by Future...\n",
      "=== 1 ===\n",
      "Searching for \"Too Many Nights (feat. Don Toliver & with Future)\" by Future...\n",
      "Done.\n",
      "=== 1 ===\n",
      "Searching for \"Solo\" by Future...\n",
      "Done.\n",
      "=== 2 ===\n",
      "Searching for \"PUFFIN ON ZOOTIEZ\" by Future...\n",
      "Done.\n",
      "=== 3 ===\n",
      "Searching for \"Way 2 Sexy (with Future & Young Thug)\" by Future...\n",
      "Done.\n",
      "=== 3 ===\n",
      "Searching for \"pushin P (feat. Young Thug)\" by Future...\n",
      "Done.\n",
      "=== 3 ===\n",
      "Searching for \"I Can't Save You (Interlude) [with Future & feat. Don Toliver]\" by Future...\n",
      "Done.\n",
      "=== 3 ===\n",
      "Searching for \"Life Is Good (feat. Drake)\" by Future...\n",
      "Done.\n",
      "=== 1 ===\n",
      "Searching for \"La Llevo Al Cielo (Ft. Ñengo Flow)\" by Anuel AA...\n",
      "Done.\n",
      "=== 1 ===\n",
      "Searching for \"Sola (Remix)\" by Anuel AA...\n",
      "Done.\n",
      "=== 2 ===\n",
      "Searching for \"EL NENE\" by Anuel AA...\n",
      "Done.\n",
      "=== 3 ===\n",
      "Searching for \"Delincuente\" by Anuel AA...\n",
      "Done.\n",
      "=== 4 ===\n",
      "Searching for \"Adicto (with Anuel AA & Ozuna)\" by Anuel AA...\n",
      "Done.\n",
      "=== 4 ===\n",
      "Searching for \"Amanece\" by Anuel AA...\n",
      "Done.\n",
      "=== 5 ===\n",
      "Searching for \"Ella Quiere Beber\" by Anuel AA...\n",
      "Done.\n",
      "=== 5 ===\n",
      "Searching for \"Ley Seca\" by Anuel AA...\n"
     ]
    },
    {
     "name": "stdout",
     "output_type": "stream",
     "text": [
      "Done.\n",
      "=== 1 ===\n",
      "Searching for \"Quevedo: Bzrp Music Sessions, Vol. 52\" by Bizarrap...\n",
      "Done.\n",
      "=== 2 ===\n",
      "Searching for \"Duki: Bzrp Music Sessions, Vol. 50\" by Bizarrap...\n",
      "Done.\n",
      "=== 3 ===\n",
      "Searching for \"Tiago PZK: Bzrp Music Sessions, Vol. 48\" by Bizarrap...\n",
      "Done.\n",
      "=== 4 ===\n",
      "Searching for \"Villano Antillano: Bzrp Music Sessions, Vol. 51\" by Bizarrap...\n",
      "Done.\n",
      "=== 5 ===\n",
      "Searching for \"Eladio Carrion: Bzrp Music Sessions, Vol. 40\" by Bizarrap...\n",
      "Done.\n",
      "=== 5 ===\n",
      "Searching for \"Sin Frenos\" by Bizarrap...\n",
      "Done.\n",
      "=== 1 ===\n",
      "Searching for \"LA INOCENTE\" by Mora...\n",
      "Done.\n",
      "=== 2 ===\n",
      "Searching for \"MEMORIAS\" by Mora...\n",
      "Done.\n",
      "=== 3 ===\n",
      "Searching for \"APA\" by Mora...\n",
      "Done.\n",
      "=== 4 ===\n",
      "Searching for \"Volando\" by Mora...\n",
      "Done.\n",
      "=== 5 ===\n",
      "Searching for \"Una Vez\" by Mora...\n",
      "Done.\n",
      "=== 5 ===\n",
      "Searching for \"COMO HAS ESTAU?\" by Mora...\n",
      "Done.\n",
      "=== 5 ===\n",
      "Searching for \"LACONE\" by Mora...\n",
      "Done.\n",
      "=== 1 ===\n",
      "Searching for \"Shut Down\" by BLACK PINK...\n",
      "Done.\n",
      "=== 2 ===\n",
      "Searching for \"Pink Venom\" by BLACK PINK...\n",
      "Done.\n",
      "=== 3 ===\n",
      "Searching for \"Typa Girl\" by BLACK PINK...\n",
      "Done.\n",
      "=== 4 ===\n",
      "Searching for \"How You Like That\" by BLACK PINK...\n",
      "Done.\n",
      "=== 5 ===\n",
      "Searching for \"As If It's Your Last\" by BLACK PINK...\n",
      "Done.\n",
      "=== 5 ===\n",
      "Searching for \"BOOMBAYAH\" by BLACK PINK...\n",
      "Done.\n",
      "=== 5 ===\n",
      "Searching for \"Hard to Love\" by BLACK PINK...\n",
      "Done.\n",
      "=== 1 ===\n",
      "Searching for \"Memories\" by Maroon5...\n",
      "Done.\n",
      "=== 2 ===\n",
      "Searching for \"Payphone\" by Maroon5...\n",
      "=== 2 ===\n",
      "Searching for \"Maps\" by Maroon5...\n",
      "Done.\n",
      "=== 3 ===\n",
      "Searching for \"Beautiful Mistakes (feat. Megan Thee Stallion)\" by Maroon5...\n",
      "Done.\n",
      "=== 3 ===\n",
      "Searching for \"Sugar\" by Maroon5...\n",
      "=== 3 ===\n",
      "Searching for \"Animals\" by Maroon5...\n",
      "Done.\n",
      "=== 4 ===\n",
      "Searching for \"This Love\" by Maroon5...\n",
      "Done.\n",
      "=== 5 ===\n",
      "Searching for \"Moves Like Jagger\" by Maroon5...\n",
      "Done.\n",
      "=== 1 ===\n",
      "Searching for \"Easy On Me\" by Adele...\n",
      "Done.\n",
      "=== 2 ===\n",
      "Searching for \"Oh My God\" by Adele...\n",
      "Done.\n",
      "=== 3 ===\n",
      "Searching for \"Someone Like You\" by Adele...\n",
      "Done.\n",
      "=== 4 ===\n",
      "Searching for \"Rolling in the Deep\" by Adele...\n",
      "Done.\n",
      "=== 5 ===\n",
      "Searching for \"Set Fire to the Rain\" by Adele...\n",
      "Done.\n",
      "=== 1 ===\n",
      "Searching for \"El Rescate\" by Junior H...\n",
      "Done.\n",
      "=== 2 ===\n",
      "Searching for \"Los Botones Azules\" by Junior H...\n",
      "Done.\n",
      "=== 3 ===\n",
      "Searching for \"El Hijo Mayor\" by Junior H...\n",
      "Done.\n",
      "=== 3 ===\n",
      "Searching for \"Vamos Para Arriba\" by Junior H...\n",
      "Done.\n",
      "=== 3 ===\n",
      "Searching for \"COLOGNE\" by Junior H...\n",
      "Done.\n",
      "=== 3 ===\n",
      "Searching for \"Ella\" by Junior H...\n",
      "Done.\n",
      "=== 4 ===\n",
      "Searching for \"Como Jordan\" by Junior H...\n",
      "Done.\n",
      "=== 5 ===\n",
      "Searching for \"Se Amerita\" by Junior H...\n",
      "Done.\n",
      "=== 1 ===\n",
      "Searching for \"Don't Stop Me Now\" by Queen...\n",
      "=== 1 ===\n",
      "Searching for \"Another One Bites The Dust\" by Queen...\n",
      "=== 1 ===\n",
      "Searching for \"Bohemian Rhapsody\" by Queen...\n",
      "=== 1 ===\n",
      "Searching for \"Under Pressure\" by Queen...\n",
      "Done.\n",
      "=== 2 ===\n",
      "Searching for \"We Will Rock You\" by Queen...\n",
      "=== 2 ===\n",
      "Searching for \"Crazy Little Thing Called Love\" by Queen...\n",
      "Done.\n",
      "=== 3 ===\n",
      "Searching for \"Thank God It's Christmas\" by Queen...\n",
      "Done.\n",
      "=== 3 ===\n",
      "Searching for \"Killer Queen\" by Queen...\n",
      "=== 3 ===\n",
      "Searching for \"We Are The Champions\" by Queen...\n",
      "=== 3 ===\n",
      "Searching for \"I Want To Break Free\" by Queen...\n",
      "=== 1 ===\n",
      "Searching for \"All I Want for Christmas Is You\" by Mariah Carey...\n",
      "=== 1 ===\n",
      "Searching for \"Christmas (Baby Please Come Home)\" by Mariah Carey...\n",
      "Done.\n",
      "=== 2 ===\n",
      "Searching for \"O Holy Night\" by Mariah Carey...\n",
      "Done.\n",
      "=== 3 ===\n",
      "Searching for \"Oh Santa!\" by Mariah Carey...\n",
      "Done.\n",
      "=== 4 ===\n",
      "Searching for \"Fantasy\" by Mariah Carey...\n",
      "Done.\n",
      "=== 5 ===\n",
      "Searching for \"Silent Night\" by Mariah Carey...\n",
      "Done.\n",
      "=== 1 ===\n",
      "Searching for \"No Role Modelz\" by J. Cole...\n",
      "Done.\n",
      "=== 2 ===\n",
      "Searching for \"Wet Dreamz\" by J. Cole...\n",
      "Done.\n",
      "=== 3 ===\n",
      "Searching for \"She Knows (feat. Amber Coffman & Cults)\" by J. Cole...\n",
      "Done.\n",
      "=== 3 ===\n",
      "Searching for \"MIDDLE CHILD\" by J. Cole...\n",
      "Done.\n",
      "=== 4 ===\n",
      "Searching for \"Work Out\" by J. Cole...\n",
      "Done.\n",
      "=== 5 ===\n",
      "Searching for \"m y . l i f e (with 21 Savage & Morray)\" by J. Cole...\n",
      "Done.\n",
      "=== 5 ===\n",
      "Searching for \"p r i d e . i s . t h e . d e v i l (with Lil Baby)\" by J. Cole...\n",
      "Done.\n",
      "=== 5 ===\n",
      "Searching for \"Power Trip (feat. Miguel)\" by J. Cole...\n",
      "Done.\n",
      "=== 5 ===\n",
      "Searching for \"Love Yourz\" by J. Cole...\n",
      "Done.\n",
      "=== 1 ===\n",
      "Searching for \"Cold Heart\" by Elton John...\n",
      "Done.\n",
      "=== 1 ===\n",
      "Searching for \"Hold Me Closer\" by Elton John...\n",
      "Done.\n",
      "=== 2 ===\n",
      "Searching for \"I'm Still Standing\" by Elton John...\n",
      "=== 2 ===\n",
      "Searching for \"Step Into Christmas\" by Elton John...\n",
      "Done.\n",
      "=== 3 ===\n",
      "Searching for \"Merry Christmas\" by Elton John...\n",
      "Done.\n",
      "=== 4 ===\n",
      "Searching for \"Rocket Man (I Think It's Going To Be A Long, Long Time)\" by Elton John...\n",
      "Done.\n",
      "=== 4 ===\n",
      "Searching for \"Your Song\" by Elton John...\n",
      "=== 4 ===\n",
      "Searching for \"Don't Go Breaking My Heart\" by Elton John...\n",
      "Done.\n",
      "=== 4 ===\n",
      "Searching for \"Tiny Dancer\" by Elton John...\n",
      "=== 4 ===\n",
      "Searching for \"Goodbye Yellow Brick Road\" by Elton John...\n",
      "Done.\n",
      "=== 1 ===\n",
      "Searching for \"...And to Those I Love, Thanks for Sticking Around\" by $uicideboy$...\n",
      "Done.\n",
      "=== 2 ===\n",
      "Searching for \"Antarctica\" by $uicideboy$...\n",
      "Done.\n",
      "=== 3 ===\n",
      "Searching for \"Kill Yourself (Part III)\" by $uicideboy$...\n",
      "Done.\n",
      "=== 4 ===\n",
      "Searching for \"Paris\" by $uicideboy$...\n",
      "Done.\n",
      "=== 5 ===\n",
      "Searching for \"Matte Black\" by $uicideboy$...\n",
      "Done.\n",
      "=== 1 ===\n",
      "Searching for \"Sweater Weather\" by The Neighbourhood...\n",
      "Done.\n",
      "=== 2 ===\n",
      "Searching for \"Daddy Issues\" by The Neighbourhood...\n",
      "Done.\n",
      "=== 3 ===\n",
      "Searching for \"Softcore\" by The Neighbourhood...\n",
      "Done.\n",
      "=== 4 ===\n",
      "Searching for \"You Get Me So High\" by The Neighbourhood...\n",
      "Done.\n",
      "=== 5 ===\n",
      "Searching for \"Reflections\" by The Neighbourhood...\n",
      "Done.\n",
      "=== 1 ===\n",
      "Searching for \"Night Changes\" by One Direction...\n",
      "Done.\n",
      "=== 2 ===\n",
      "Searching for \"What Makes You Beautiful\" by One Direction...\n",
      "Done.\n",
      "=== 3 ===\n",
      "Searching for \"Story of My Life\" by One Direction...\n",
      "=== 3 ===\n",
      "Searching for \"Right Now\" by One Direction...\n",
      "Done.\n",
      "=== 4 ===\n",
      "Searching for \"Steal My Girl\" by One Direction...\n",
      "Done.\n",
      "=== 5 ===\n",
      "Searching for \"Drag Me Down\" by One Direction...\n",
      "Done.\n",
      "=== 1 ===\n",
      "Searching for \"Snowman\" by Sia...\n",
      "Done.\n",
      "=== 2 ===\n",
      "Searching for \"Unstoppable\" by Sia...\n",
      "Done.\n",
      "=== 3 ===\n",
      "Searching for \"Santa's Coming for Us\" by Sia...\n",
      "Done.\n",
      "=== 3 ===\n",
      "Searching for \"Chandelier\" by Sia...\n",
      "=== 3 ===\n",
      "Searching for \"Cheap Thrills\" by Sia...\n",
      "Done.\n",
      "=== 4 ===\n",
      "Searching for \"Genius (feat. Sia, Diplo, and Labrinth)\" by Sia...\n",
      "Done.\n",
      "=== 4 ===\n",
      "Searching for \"Unstoppable\" by Sia...\n",
      "Done.\n",
      "=== 5 ===\n",
      "Searching for \"Elastic Heart\" by Sia...\n",
      "Done.\n",
      "=== 1 ===\n",
      "Searching for \"No Se Va\" by Morat...\n",
      "Done.\n",
      "=== 2 ===\n",
      "Searching for \"Cuando Nadie Ve\" by Morat...\n",
      "Done.\n",
      "=== 3 ===\n",
      "Searching for \"Debí Suponerlo\" by Morat...\n",
      "Done.\n",
      "=== 4 ===\n",
      "Searching for \"Salir Con Vida\" by Morat...\n",
      "Done.\n",
      "=== 5 ===\n",
      "Searching for \"Besos En Guerra\" by Morat...\n",
      "Done.\n",
      "=== 1 ===\n",
      "Searching for \"Dark Horse\" by Katy Perry...\n",
      "=== 1 ===\n",
      "Searching for \"Cozy Little Christmas\" by Katy Perry...\n",
      "Done.\n",
      "=== 2 ===\n",
      "Searching for \"Unconditionally\" by Katy Perry...\n",
      "Done.\n",
      "=== 3 ===\n",
      "Searching for \"When I’m Gone (with Katy Perry)\" by Katy Perry...\n",
      "Done.\n",
      "=== 3 ===\n",
      "Searching for \"Roar\" by Katy Perry...\n",
      "Done.\n",
      "=== 4 ===\n",
      "Searching for \"Harleys In Hawaii\" by Katy Perry...\n",
      "Done.\n",
      "=== 5 ===\n",
      "Searching for \"Feels (feat. Pharrell Williams, Katy Perry & Big Sean)\" by Katy Perry...\n",
      "Done.\n",
      "=== 5 ===\n",
      "Searching for \"The One That Got Away\" by Katy Perry...\n",
      "Done.\n",
      "=== 1 ===\n",
      "Searching for \"Duki: Bzrp Music Sessions, Vol. 50\" by Duki...\n",
      "Done.\n",
      "=== 2 ===\n",
      "Searching for \"She Don't Give a Fo\" by Duki...\n",
      "Done.\n",
      "=== 2 ===\n",
      "Searching for \"GIVENCHY\" by Duki...\n",
      "Done.\n",
      "=== 3 ===\n",
      "Searching for \"Una Vaina Loca\" by Duki...\n",
      "Done.\n",
      "=== 4 ===\n",
      "Searching for \"Sin Frenos\" by Duki...\n",
      "Done.\n",
      "=== 5 ===\n",
      "Searching for \"Party en el Barrio (feat. Duki)\" by Duki...\n",
      "Done.\n",
      "=== 5 ===\n",
      "Searching for \"París\" by Duki...\n",
      "Done.\n",
      "=== 1 ===\n",
      "Searching for \"DESPECHÁ\" by ROSALÍA...\n",
      "Done.\n",
      "=== 2 ===\n",
      "Searching for \"Besos Moja2\" by ROSALÍA...\n",
      "Done.\n",
      "=== 3 ===\n",
      "Searching for \"LA NOCHE DE ANOCHE\" by ROSALÍA...\n",
      "Done.\n",
      "=== 4 ===\n",
      "Searching for \"LA FAMA\" by ROSALÍA...\n",
      "Done.\n",
      "=== 5 ===\n",
      "Searching for \"BIZCOCHITO\" by ROSALÍA...\n",
      "Done.\n",
      "=== 1 ===\n",
      "Searching for \"lovely (with Khalid)\" by Khalid...\n",
      "Done.\n",
      "=== 1 ===\n",
      "Searching for \"Numb\" by Khalid...\n",
      "Done.\n",
      "=== 2 ===\n",
      "Searching for \"Silence\" by Khalid...\n",
      "Done.\n",
      "=== 3 ===\n",
      "Searching for \"Young Dumb & Broke\" by Khalid...\n"
     ]
    },
    {
     "name": "stdout",
     "output_type": "stream",
     "text": [
      "=== 3 ===\n",
      "Searching for \"Eastside (with Halsey & Khalid)\" by Khalid...\n",
      "Done.\n",
      "=== 3 ===\n",
      "Searching for \"Better\" by Khalid...\n",
      "Done.\n",
      "=== 4 ===\n",
      "Searching for \"Location\" by Khalid...\n",
      "Done.\n",
      "=== 5 ===\n",
      "Searching for \"8TEEN\" by Khalid...\n",
      "Done.\n",
      "=== 1 ===\n",
      "Searching for \"La Bachata\" by Manuel Turizo...\n",
      "Done.\n",
      "=== 2 ===\n",
      "Searching for \"Los Cachos\" by Manuel Turizo...\n",
      "Done.\n",
      "=== 3 ===\n",
      "Searching for \"Éxtasis\" by Manuel Turizo...\n",
      "Done.\n",
      "=== 4 ===\n",
      "Searching for \"Una Vaina Loca\" by Manuel Turizo...\n",
      "Done.\n",
      "=== 5 ===\n",
      "Searching for \"Desconocidos\" by Manuel Turizo...\n",
      "Done.\n",
      "=== 1 ===\n",
      "Searching for \"Just Wanna Rock\" by Lil Uzi Vert...\n",
      "Done.\n",
      "=== 2 ===\n",
      "Searching for \"20 Min\" by Lil Uzi Vert...\n",
      "Done.\n",
      "=== 3 ===\n",
      "Searching for \"XO Tour Llif3\" by Lil Uzi Vert...\n",
      "=== 3 ===\n",
      "Searching for \"The Way Life Goes (feat. Oh Wonder)\" by Lil Uzi Vert...\n",
      "Done.\n",
      "=== 3 ===\n",
      "Searching for \"Money Longer\" by Lil Uzi Vert...\n",
      "Done.\n",
      "=== 4 ===\n",
      "Searching for \"Erase Your Social\" by Lil Uzi Vert...\n",
      "Done.\n",
      "=== 5 ===\n",
      "Searching for \"Neon Guts (feat. Pharrell Williams)\" by Lil Uzi Vert...\n",
      "Done.\n",
      "=== 5 ===\n",
      "Searching for \"Drankin N Smokin\" by Lil Uzi Vert...\n",
      "Done.\n",
      "=== 1 ===\n",
      "Searching for \"Mallipoo\" by A. R. Rahman...\n",
      "No results found for: 'Mallipoo A. R. Rahman'\n",
      "=== 1 ===\n",
      "Searching for \"Ponni Nadhi (From \"Ponniyin Selvan Part -1\")\" by A. R. Rahman...\n",
      "No results found for: 'Ponni Nadhi (From \"Ponniyin Selvan Part -1\") A. R. Rahman'\n",
      "=== 1 ===\n",
      "Searching for \"Enna Sona\" by A. R. Rahman...\n",
      "No results found for: 'Enna Sona A. R. Rahman'\n",
      "=== 1 ===\n",
      "Searching for \"Param Sundari\" by A. R. Rahman...\n",
      "No results found for: 'Param Sundari A. R. Rahman'\n",
      "=== 1 ===\n",
      "Searching for \"Rait Zara Si\" by A. R. Rahman...\n",
      "No results found for: 'Rait Zara Si A. R. Rahman'\n",
      "=== 1 ===\n",
      "Searching for \"Jashn-E-Bahaaraa\" by A. R. Rahman...\n",
      "No results found for: 'Jashn-E-Bahaaraa A. R. Rahman'\n",
      "=== 1 ===\n",
      "Searching for \"Raanjhanaa\" by A. R. Rahman...\n",
      "No results found for: 'Raanjhanaa A. R. Rahman'\n",
      "=== 1 ===\n",
      "Searching for \"Ennodu Nee Irundhaal\" by A. R. Rahman...\n",
      "No results found for: 'Ennodu Nee Irundhaal A. R. Rahman'\n",
      "=== 1 ===\n",
      "Searching for \"Kun Faya Kun\" by A. R. Rahman...\n",
      "Done.\n",
      "=== 2 ===\n",
      "Searching for \"Adheeraa (From \"Cobra\")\" by A. R. Rahman...\n",
      "No results found for: 'Adheeraa (From \"Cobra\") A. R. Rahman'\n",
      "=== 1 ===\n",
      "Searching for \"Calm Down (with Selena Gomez)\" by Selena Gomez...\n",
      "Done.\n",
      "=== 1 ===\n",
      "Searching for \"My Mind & Me\" by Selena Gomez...\n",
      "Done.\n",
      "=== 2 ===\n",
      "Searching for \"Lose You To Love Me\" by Selena Gomez...\n",
      "Done.\n",
      "=== 3 ===\n",
      "Searching for \"People You Know\" by Selena Gomez...\n",
      "Done.\n",
      "=== 4 ===\n",
      "Searching for \"Wolves\" by Selena Gomez...\n",
      "Done.\n",
      "=== 5 ===\n",
      "Searching for \"Let Somebody Go\" by Selena Gomez...\n",
      "Done.\n",
      "=== 1 ===\n",
      "Searching for \"There's Nothing Holdin' Me Back\" by Shawn Mendes...\n",
      "=== 1 ===\n",
      "Searching for \"Treat You Better\" by Shawn Mendes...\n",
      "Done.\n",
      "=== 2 ===\n",
      "Searching for \"Mercy\" by Shawn Mendes...\n",
      "Done.\n",
      "=== 3 ===\n",
      "Searching for \"Señorita\" by Shawn Mendes...\n",
      "Done.\n",
      "=== 4 ===\n",
      "Searching for \"When You're Gone\" by Shawn Mendes...\n",
      "Done.\n",
      "=== 4 ===\n",
      "Searching for \"Stitches\" by Shawn Mendes...\n",
      "=== 4 ===\n",
      "Searching for \"Summer of Love (Shawn Mendes & Tainy)\" by Shawn Mendes...\n",
      "Done.\n",
      "=== 4 ===\n",
      "Searching for \"It'll Be Okay\" by Shawn Mendes...\n",
      "Done.\n",
      "=== 4 ===\n",
      "Searching for \"In My Blood\" by Shawn Mendes...\n",
      "Done.\n",
      "=== 5 ===\n",
      "Searching for \"KESI\" by Shawn Mendes...\n",
      "Done.\n",
      "=== 1 ===\n",
      "Searching for \"Made You Look\" by Meghan Trainor...\n",
      "Done.\n",
      "=== 2 ===\n",
      "Searching for \"NO\" by Meghan Trainor...\n",
      "Done.\n",
      "=== 2 ===\n",
      "Searching for \"Like I'm Gonna Lose You (feat. John Legend)\" by Meghan Trainor...\n",
      "Done.\n",
      "=== 2 ===\n",
      "Searching for \"Dear Future Husband\" by Meghan Trainor...\n",
      "Done.\n",
      "=== 3 ===\n",
      "Searching for \"Better When I'm Dancin'\" by Meghan Trainor...\n",
      "Done.\n",
      "=== 3 ===\n",
      "Searching for \"Kid On Christmas (feat. Meghan Trainor)\" by Meghan Trainor...\n",
      "Done.\n",
      "=== 3 ===\n",
      "Searching for \"All About That Bass\" by Meghan Trainor...\n",
      "Done.\n",
      "=== 4 ===\n",
      "Searching for \"My Kind Of Present\" by Meghan Trainor...\n",
      "Done.\n",
      "=== 4 ===\n",
      "Searching for \"I'll Be Home\" by Meghan Trainor...\n",
      "Done.\n",
      "=== 4 ===\n",
      "Searching for \"Me Too\" by Meghan Trainor...\n",
      "Done.\n",
      "=== 1 ===\n",
      "Searching for \"Mbappe\" by Eladio Carrion...\n",
      "Done.\n",
      "=== 1 ===\n",
      "Searching for \"3 Am\" by Eladio Carrion...\n",
      "Done.\n",
      "=== 1 ===\n",
      "Searching for \"Eladio Carrion: Bzrp Music Sessions, Vol. 40\" by Eladio Carrion...\n",
      "Done.\n",
      "=== 1 ===\n",
      "Searching for \"Me Gustas Natural\" by Eladio Carrion...\n",
      "Done.\n",
      "=== 2 ===\n",
      "Searching for \"Hola Como Vas\" by Eladio Carrion...\n",
      "Done.\n",
      "=== 3 ===\n",
      "Searching for \"Hugo\" by Eladio Carrion...\n",
      "Done.\n",
      "=== 4 ===\n",
      "Searching for \"Sin Frenos\" by Eladio Carrion...\n",
      "Done.\n",
      "=== 5 ===\n",
      "Searching for \"Kemba Walker\" by Eladio Carrion...\n",
      "Done.\n",
      "=== 1 ===\n",
      "Searching for \"traitor\" by Olivia Rodrigo...\n",
      "Done.\n",
      "=== 2 ===\n",
      "Searching for \"good 4 u\" by Olivia Rodrigo...\n",
      "Done.\n",
      "=== 3 ===\n",
      "Searching for \"drivers license\" by Olivia Rodrigo...\n",
      "=== 3 ===\n",
      "Searching for \"deja vu\" by Olivia Rodrigo...\n",
      "Done.\n",
      "=== 4 ===\n",
      "Searching for \"favorite crime\" by Olivia Rodrigo...\n",
      "Done.\n",
      "=== 5 ===\n",
      "Searching for \"happier\" by Olivia Rodrigo...\n",
      "Done.\n",
      "=== 1 ===\n",
      "Searching for \"I Ain't Worried\" by One Republic...\n",
      "Done.\n",
      "=== 1 ===\n",
      "Searching for \"Counting Stars\" by One Republic...\n",
      "Done.\n",
      "=== 2 ===\n",
      "Searching for \"Sunshine\" by One Republic...\n",
      "Done.\n",
      "=== 3 ===\n",
      "Searching for \"Secrets\" by One Republic...\n",
      "Done.\n",
      "=== 4 ===\n",
      "Searching for \"Someday\" by One Republic...\n",
      "Done.\n",
      "=== 5 ===\n",
      "Searching for \"Run\" by One Republic...\n",
      "Done.\n",
      "=== 1 ===\n",
      "Searching for \"La Curiosidad\" by Myke Towers...\n",
      "Done.\n",
      "=== 2 ===\n",
      "Searching for \"Luces De Neón\" by Myke Towers...\n",
      "Done.\n",
      "=== 3 ===\n",
      "Searching for \"ULALA (OOH LA LA)\" by Myke Towers...\n",
      "No results found for: 'ULALA (OOH LA LA) Myke Towers'\n",
      "=== 3 ===\n",
      "Searching for \"Piensan\" by Myke Towers...\n",
      "Done.\n",
      "=== 4 ===\n",
      "Searching for \"Traductor\" by Myke Towers...\n",
      "Done.\n",
      "=== 5 ===\n",
      "Searching for \"Si Se Da\" by Myke Towers...\n",
      "Done.\n",
      "=== 1 ===\n",
      "Searching for \"Bad Habit\" by Steve Lacy...\n",
      "Done.\n",
      "=== 2 ===\n",
      "Searching for \"Dark Red\" by Steve Lacy...\n",
      "Done.\n",
      "=== 3 ===\n",
      "Searching for \"Static\" by Steve Lacy...\n",
      "Done.\n",
      "=== 4 ===\n",
      "Searching for \"C U Girl\" by Steve Lacy...\n",
      "Done.\n",
      "=== 5 ===\n",
      "Searching for \"Some\" by Steve Lacy...\n",
      "Done.\n",
      "=== 1 ===\n",
      "Searching for \"You Proof\" by Morgan Wallen...\n",
      "Done.\n",
      "=== 2 ===\n",
      "Searching for \"Wasted On You\" by Morgan Wallen...\n",
      "Done.\n",
      "=== 2 ===\n",
      "Searching for \"Whiskey Glasses\" by Morgan Wallen...\n",
      "Done.\n",
      "=== 3 ===\n",
      "Searching for \"Chasin' You\" by Morgan Wallen...\n",
      "Done.\n",
      "=== 3 ===\n",
      "Searching for \"Thought You Should Know\" by Morgan Wallen...\n",
      "Done.\n",
      "=== 4 ===\n",
      "Searching for \"One Thing At A Time\" by Morgan Wallen...\n",
      "Done.\n",
      "=== 5 ===\n",
      "Searching for \"More Than My Hometown\" by Morgan Wallen...\n",
      "Done.\n",
      "=== 1 ===\n",
      "Searching for \"Junio\" by Maluma...\n",
      "Done.\n",
      "=== 2 ===\n",
      "Searching for \"Sobrio\" by Maluma...\n",
      "Done.\n",
      "=== 3 ===\n",
      "Searching for \"Tukoh Taka\" by Maluma...\n",
      "Done.\n",
      "=== 3 ===\n",
      "Searching for \"Hawái\" by Maluma...\n",
      "Done.\n",
      "=== 4 ===\n",
      "Searching for \"Ojalá\" by Maluma...\n",
      "Done.\n",
      "=== 5 ===\n",
      "Searching for \"Mojando Asientos (feat. Feid)\" by Maluma...\n",
      "Done.\n",
      "=== 5 ===\n",
      "Searching for \"Borro Cassette\" by Maluma...\n",
      "Done.\n",
      "=== 5 ===\n",
      "Searching for \"Nos Comemos Vivos\" by Maluma...\n",
      "Done.\n",
      "=== 1 ===\n",
      "Searching for \"To The Bone (feat. YoungBoy Never Broke Again)\" by YoungBoy Never Broke Again...\n",
      "Done.\n",
      "=== 1 ===\n",
      "Searching for \"WUSYANAME (feat. Youngboy Never Broke Again & Ty Dolla $ign)\" by YoungBoy Never Broke Again...\n",
      "Done.\n",
      "=== 1 ===\n",
      "Searching for \"Put It On Me\" by YoungBoy Never Broke Again...\n",
      "Done.\n",
      "=== 2 ===\n",
      "Searching for \"Bandit (with YoungBoy Never Broke Again)\" by YoungBoy Never Broke Again...\n",
      "Done.\n",
      "=== 2 ===\n",
      "Searching for \"Make No Sense\" by YoungBoy Never Broke Again...\n",
      "Done.\n",
      "=== 3 ===\n",
      "Searching for \"Nevada\" by YoungBoy Never Broke Again...\n",
      "Done.\n",
      "=== 4 ===\n",
      "Searching for \"Bestie\" by YoungBoy Never Broke Again...\n",
      "Done.\n",
      "=== 5 ===\n",
      "Searching for \"Vette Motors\" by YoungBoy Never Broke Again...\n",
      "Done.\n",
      "=== 1 ===\n",
      "Searching for \"Shirt\" by SZA...\n",
      "Done.\n",
      "=== 2 ===\n",
      "Searching for \"Kill Bill\" by SZA...\n",
      "Done.\n",
      "=== 3 ===\n",
      "Searching for \"Nobody Gets Me\" by SZA...\n",
      "Done.\n",
      "=== 4 ===\n",
      "Searching for \"All The Stars (with SZA)\" by SZA...\n",
      "Done.\n",
      "=== 4 ===\n",
      "Searching for \"Blind\" by SZA...\n",
      "Done.\n",
      "=== 5 ===\n",
      "Searching for \"Low\" by SZA...\n",
      "Done.\n",
      "=== 1 ===\n",
      "Searching for \"Super Freaky Girl\" by Nicki Minaj...\n",
      "Done.\n",
      "=== 2 ===\n",
      "Searching for \"Tukoh Taka\" by Nicki Minaj...\n",
      "Done.\n",
      "=== 2 ===\n",
      "Searching for \"Bang Bang\" by Nicki Minaj...\n"
     ]
    },
    {
     "name": "stdout",
     "output_type": "stream",
     "text": [
      "Done.\n",
      "=== 3 ===\n",
      "Searching for \"Super Bass\" by Nicki Minaj...\n",
      "Done.\n",
      "=== 4 ===\n",
      "Searching for \"Tusa\" by Nicki Minaj...\n",
      "Done.\n",
      "=== 5 ===\n",
      "Searching for \"Starships\" by Nicki Minaj...\n",
      "Done.\n",
      "=== 1 ===\n",
      "Searching for \"Siempre Pendientes\" by Luis R Conriquez...\n",
      "Done.\n",
      "=== 2 ===\n",
      "Searching for \"JGL\" by Luis R Conriquez...\n",
      "Done.\n",
      "=== 2 ===\n",
      "Searching for \"Los Botones Azules\" by Luis R Conriquez...\n",
      "Done.\n",
      "=== 3 ===\n",
      "Searching for \"El Gavilán\" by Luis R Conriquez...\n",
      "No results found for: 'El Gavilán Luis R Conriquez'\n",
      "=== 3 ===\n",
      "Searching for \"Puro Campeón\" by Luis R Conriquez...\n",
      "Done.\n",
      "=== 4 ===\n",
      "Searching for \"Solita (En Vivo)\" by Luis R Conriquez...\n",
      "Done.\n",
      "=== 4 ===\n",
      "Searching for \"Me Metí En El Ruedo\" by Luis R Conriquez...\n",
      "Done.\n",
      "=== 4 ===\n",
      "Searching for \"El Buho\" by Luis R Conriquez...\n",
      "Done.\n",
      "=== 5 ===\n",
      "Searching for \"Los Mire Con Talento\" by Luis R Conriquez...\n",
      "Done.\n",
      "=== 5 ===\n",
      "Searching for \"Y Si Me Miran\" by Luis R Conriquez...\n",
      "Done.\n",
      "=== 1 ===\n",
      "Searching for \"One Kiss (with Dua Lipa)\" by Calvin Harris...\n",
      "Done.\n",
      "=== 1 ===\n",
      "Searching for \"This Is What You Came For\" by Calvin Harris...\n",
      "Done.\n",
      "=== 2 ===\n",
      "Searching for \"Summer\" by Calvin Harris...\n",
      "Done.\n",
      "=== 3 ===\n",
      "Searching for \"Feel So Close\" by Calvin Harris...\n",
      "=== 3 ===\n",
      "Searching for \"Outside (feat. Ellie Goulding)\" by Calvin Harris...\n",
      "Done.\n",
      "=== 3 ===\n",
      "Searching for \"We Found Love\" by Calvin Harris...\n",
      "Done.\n",
      "=== 4 ===\n",
      "Searching for \"Feels (feat. Pharrell Williams, Katy Perry & Big Sean)\" by Calvin Harris...\n",
      "Done.\n",
      "=== 4 ===\n",
      "Searching for \"My Way\" by Calvin Harris...\n",
      "Done.\n",
      "=== 5 ===\n",
      "Searching for \"Potion (with Dua Lipa & Young Thug)\" by Calvin Harris...\n",
      "Done.\n",
      "=== 5 ===\n",
      "Searching for \"Promises (with Sam Smith)\" by Calvin Harris...\n",
      "Done.\n",
      "=== 1 ===\n",
      "Searching for \"See You Again (feat. Kali Uchis)\" by Tyler, The Creator...\n",
      "Done.\n",
      "=== 1 ===\n",
      "Searching for \"NEW MAGIC WAND\" by Tyler, The Creator...\n",
      "Done.\n",
      "=== 2 ===\n",
      "Searching for \"EARFQUAKE\" by Tyler, The Creator...\n",
      "Done.\n",
      "=== 3 ===\n",
      "Searching for \"ARE WE STILL FRIENDS?\" by Tyler, The Creator...\n",
      "Done.\n",
      "=== 4 ===\n",
      "Searching for \"BEST INTEREST\" by Tyler, The Creator...\n",
      "Done.\n",
      "=== 5 ===\n",
      "Searching for \"GONE, GONE / THANK YOU\" by Tyler, The Creator...\n",
      "Done.\n",
      "=== 1 ===\n",
      "Searching for \"Thenmozhi (From \"Thiruchitrambalam\")\" by Anirudh Ravichander...\n",
      "No results found for: 'Thenmozhi (From \"Thiruchitrambalam\") Anirudh Ravichander'\n",
      "=== 1 ===\n",
      "Searching for \"Megham Karukatha\" by Anirudh Ravichander...\n",
      "Done.\n",
      "=== 1 ===\n",
      "Searching for \"Mayakkama Kalakkama (From \"Thiruchitrambalam\")\" by Anirudh Ravichander...\n",
      "Done.\n",
      "=== 1 ===\n",
      "Searching for \"Arabic Kuthu\" by Anirudh Ravichander...\n",
      "Done.\n",
      "=== 2 ===\n",
      "Searching for \"Gundellonaa (From \"Ori Devuda\")\" by Anirudh Ravichander...\n",
      "No results found for: 'Gundellonaa (From \"Ori Devuda\") Anirudh Ravichander'\n",
      "=== 2 ===\n",
      "Searching for \"Dippam Dappam (From \"Kaathuvaakula Rendu Kaadhal\")\" by Anirudh Ravichander...\n",
      "Done.\n",
      "=== 2 ===\n",
      "Searching for \"Thaai Kelavi (From \"Thiruchitrambalam\")\" by Anirudh Ravichander...\n",
      "No results found for: 'Thaai Kelavi (From \"Thiruchitrambalam\") Anirudh Ravichander'\n",
      "=== 2 ===\n",
      "Searching for \"Vikram\" by Anirudh Ravichander...\n",
      "Done.\n",
      "=== 2 ===\n",
      "Searching for \"Bimbilikki Pilapi\" by Anirudh Ravichander...\n",
      "No results found for: 'Bimbilikki Pilapi Anirudh Ravichander'\n",
      "=== 2 ===\n",
      "Searching for \"Pathala Pathala (From \"Vikram\")\" by Anirudh Ravichander...\n",
      "No results found for: 'Pathala Pathala (From \"Vikram\") Anirudh Ravichander'\n",
      "=== 1 ===\n",
      "Searching for \"Left and Right (Feat. Jung Kook of BTS)\" by Charlie Puth...\n",
      "No results found for: 'Left and Right (Feat. Jung Kook of BTS) Charlie Puth'\n",
      "=== 1 ===\n",
      "Searching for \"Attention\" by Charlie Puth...\n",
      "Done.\n",
      "=== 2 ===\n",
      "Searching for \"Light Switch\" by Charlie Puth...\n",
      "Done.\n",
      "=== 3 ===\n",
      "Searching for \"See You Again (feat. Charlie Puth)\" by Charlie Puth...\n",
      "Done.\n",
      "=== 3 ===\n",
      "Searching for \"We Don't Talk Anymore (feat. Selena Gomez)\" by Charlie Puth...\n",
      "Done.\n",
      "=== 3 ===\n",
      "Searching for \"That's Hilarious\" by Charlie Puth...\n",
      "Done.\n",
      "=== 3 ===\n",
      "Searching for \"Cheating on You\" by Charlie Puth...\n",
      "Done.\n",
      "=== 4 ===\n",
      "Searching for \"Loser\" by Charlie Puth...\n",
      "Done.\n",
      "=== 5 ===\n",
      "Searching for \"How Long\" by Charlie Puth...\n",
      "Done.\n",
      "=== 1 ===\n",
      "Searching for \"The Spins\" by Mac Miller...\n",
      "Done.\n",
      "=== 2 ===\n",
      "Searching for \"Love Lost\" by Mac Miller...\n",
      "Done.\n",
      "=== 3 ===\n",
      "Searching for \"Self Care\" by Mac Miller...\n",
      "Done.\n",
      "=== 4 ===\n",
      "Searching for \"Small Worlds\" by Mac Miller...\n",
      "Done.\n",
      "=== 5 ===\n",
      "Searching for \"Weekend (feat. Miguel)\" by Mac Miller...\n",
      "Done.\n",
      "=== 5 ===\n",
      "Searching for \"Congratulations (feat. Bilal)\" by Mac Miller...\n",
      "Done.\n",
      "=== 5 ===\n",
      "Searching for \"Blue World\" by Mac Miller...\n",
      "Done.\n",
      "=== 1 ===\n",
      "Searching for \"In the End\" by Linkin Park...\n",
      "Done.\n",
      "=== 2 ===\n",
      "Searching for \"Numb\" by Linkin Park...\n",
      "Done.\n",
      "=== 3 ===\n",
      "Searching for \"What I've Done\" by Linkin Park...\n",
      "Done.\n",
      "=== 3 ===\n",
      "Searching for \"Numb / Encore\" by Linkin Park...\n",
      "Done.\n",
      "=== 4 ===\n",
      "Searching for \"One Step Closer\" by Linkin Park...\n",
      "Done.\n",
      "=== 5 ===\n",
      "Searching for \"Faint\" by Linkin Park...\n",
      "Done.\n",
      "=== 1 ===\n",
      "Searching for \"Let It Snow! Let It Snow! Let It Snow! (with The B. Swanson Quartet)\" by Frank Sinatra...\n",
      "Done.\n",
      "=== 1 ===\n",
      "Searching for \"Have Yourself A Merry Little Christmas\" by Frank Sinatra...\n",
      "Done.\n",
      "=== 1 ===\n",
      "Searching for \"Jingle Bells\" by Frank Sinatra...\n",
      "Done.\n",
      "=== 2 ===\n",
      "Searching for \"Silent Night\" by Frank Sinatra...\n",
      "Done.\n",
      "=== 3 ===\n",
      "Searching for \"Santa Claus Is Comin' to Town\" by Frank Sinatra...\n",
      "Done.\n",
      "=== 3 ===\n",
      "Searching for \"Mistletoe And Holly\" by Frank Sinatra...\n",
      "Done.\n",
      "=== 3 ===\n",
      "Searching for \"My Way\" by Frank Sinatra...\n",
      "Done.\n",
      "=== 4 ===\n",
      "Searching for \"The Christmas Waltz\" by Frank Sinatra...\n",
      "Done.\n",
      "=== 5 ===\n",
      "Searching for \"Somethin' Stupid\" by Frank Sinatra...\n",
      "Done.\n",
      "=== 5 ===\n",
      "Searching for \"Fly Me To The Moon (In Other Words)\" by Frank Sinatra...\n",
      "Done.\n",
      "=== 1 ===\n",
      "Searching for \"I'm Good (Blue)\" by Bebe Rexha...\n",
      "Done.\n",
      "=== 1 ===\n",
      "Searching for \"In the Name of Love\" by Bebe Rexha...\n",
      "Done.\n",
      "=== 2 ===\n",
      "Searching for \"Me, Myself & I\" by Bebe Rexha...\n",
      "=== 2 ===\n",
      "Searching for \"Meant to Be (feat. Florida Georgia Line)\" by Bebe Rexha...\n",
      "Done.\n",
      "=== 2 ===\n",
      "Searching for \"Call You Mine\" by Bebe Rexha...\n",
      "Done.\n",
      "=== 3 ===\n",
      "Searching for \"I'm a Mess\" by Bebe Rexha...\n",
      "Done.\n",
      "=== 3 ===\n",
      "Searching for \"Home (with Machine Gun Kelly, X Ambassadors & Bebe Rexha)\" by Bebe Rexha...\n",
      "Done.\n",
      "=== 3 ===\n",
      "Searching for \"Say My Name\" by Bebe Rexha...\n",
      "Done.\n",
      "=== 4 ===\n",
      "Searching for \"Chain My Heart\" by Bebe Rexha...\n",
      "Done.\n",
      "=== 5 ===\n",
      "Searching for \"Break My Heart Myself (feat. YEJI & RYUJIN of ITZY)\" by Bebe Rexha...\n",
      "No results found for: 'Break My Heart Myself (feat. YEJI & RYUJIN of ITZY) Bebe Rexha'\n",
      "=== 1 ===\n",
      "Searching for \"Here Comes The Sun\" by The Beatles...\n",
      "=== 1 ===\n",
      "Searching for \"Let It Be\" by The Beatles...\n",
      "=== 1 ===\n",
      "Searching for \"Come Together\" by The Beatles...\n",
      "Done.\n",
      "=== 2 ===\n",
      "Searching for \"Yesterday\" by The Beatles...\n",
      "=== 2 ===\n",
      "Searching for \"Twist And Shout\" by The Beatles...\n",
      "Done.\n",
      "=== 2 ===\n",
      "Searching for \"Blackbird\" by The Beatles...\n",
      "Done.\n",
      "=== 3 ===\n",
      "Searching for \"In My Life\" by The Beatles...\n",
      "=== 3 ===\n",
      "Searching for \"Hey Jude\" by The Beatles...\n",
      "=== 3 ===\n",
      "Searching for \"I Want To Hold Your Hand\" by The Beatles...\n",
      "=== 3 ===\n",
      "Searching for \"Something\" by The Beatles...\n",
      "Done.\n",
      "=== 1 ===\n",
      "Searching for \"Unholy (feat. Kim Petras)\" by Kim Petras...\n",
      "Done.\n",
      "=== 1 ===\n",
      "Searching for \"Unholy (feat. Kim Petras)\" by Kim Petras...\n",
      "Done.\n",
      "=== 1 ===\n",
      "Searching for \"Unholy (feat. Kim Petras)\" by Kim Petras...\n",
      "Done.\n",
      "=== 1 ===\n",
      "Searching for \"Can't Do Better\" by Kim Petras...\n",
      "Done.\n",
      "=== 1 ===\n",
      "Searching for \"If Jesus Was A Rockstar\" by Kim Petras...\n",
      "Done.\n",
      "=== 1 ===\n",
      "Searching for \"Treat Me Like A Slut\" by Kim Petras...\n",
      "Done.\n",
      "=== 2 ===\n",
      "Searching for \"Unholy (feat. Kim Petras)\" by Kim Petras...\n",
      "Done.\n",
      "=== 2 ===\n",
      "Searching for \"Unlock it (Lock It)\" by Kim Petras...\n",
      "Done.\n",
      "=== 2 ===\n",
      "Searching for \"Unholy (feat. Kim Petras)\" by Kim Petras...\n",
      "Done.\n",
      "=== 2 ===\n",
      "Searching for \"Coconuts\" by Kim Petras...\n",
      "Done.\n",
      "=== 1 ===\n",
      "Searching for \"Enter Sandman (Remastered)\" by Metallica...\n",
      "Done.\n",
      "=== 1 ===\n",
      "Searching for \"Nothing Else Matters (Remastered)\" by Metallica...\n",
      "Done.\n",
      "=== 1 ===\n",
      "Searching for \"Master of Puppets (Remastered)\" by Metallica...\n",
      "Done.\n",
      "=== 1 ===\n",
      "Searching for \"Lux Æterna\" by Metallica...\n",
      "Done.\n",
      "=== 2 ===\n",
      "Searching for \"Whiskey In The Jar\" by Metallica...\n",
      "Done.\n",
      "=== 2 ===\n",
      "Searching for \"The Unforgiven (Remastered)\" by Metallica...\n"
     ]
    },
    {
     "name": "stdout",
     "output_type": "stream",
     "text": [
      "Done.\n",
      "=== 2 ===\n",
      "Searching for \"For Whom The Bell Tolls (Remastered)\" by Metallica...\n",
      "Done.\n",
      "=== 2 ===\n",
      "Searching for \"One (Remastered)\" by Metallica...\n",
      "Done.\n",
      "=== 2 ===\n",
      "Searching for \"Sad But True (Remastered)\" by Metallica...\n",
      "Done.\n",
      "=== 2 ===\n",
      "Searching for \"Fuel\" by Metallica...\n",
      "Done.\n",
      "=== 1 ===\n",
      "Searching for \"Me Porto Bonito\" by Chencho Corleone...\n",
      "Done.\n",
      "=== 2 ===\n",
      "Searching for \"La Llevo Al Cielo (Ft. Ñengo Flow)\" by Chencho Corleone...\n",
      "Done.\n",
      "=== 2 ===\n",
      "Searching for \"Desesperados\" by Chencho Corleone...\n",
      "Done.\n",
      "=== 3 ===\n",
      "Searching for \"El Efecto\" by Chencho Corleone...\n",
      "Done.\n",
      "=== 4 ===\n",
      "Searching for \"Una Locura\" by Chencho Corleone...\n",
      "Done.\n",
      "=== 5 ===\n",
      "Searching for \"Nos Comemos Vivos\" by Chencho Corleone...\n",
      "Done.\n",
      "=== 1 ===\n",
      "Searching for \"Closer\" by Halsey...\n",
      "=== 1 ===\n",
      "Searching for \"Without Me\" by Halsey...\n",
      "=== 1 ===\n",
      "Searching for \"Boy With Luv (feat. Halsey)\" by Halsey...\n",
      "Done.\n",
      "=== 1 ===\n",
      "Searching for \"Eastside (with Halsey & Khalid)\" by Halsey...\n",
      "Done.\n",
      "=== 1 ===\n",
      "Searching for \"Him & I (with Halsey)\" by Halsey...\n",
      "Done.\n",
      "=== 1 ===\n",
      "Searching for \"Walls Could Talk\" by Halsey...\n",
      "Done.\n",
      "=== 2 ===\n",
      "Searching for \"Be Kind (with Halsey)\" by Halsey...\n",
      "Done.\n",
      "=== 2 ===\n",
      "Searching for \"So Good\" by Halsey...\n",
      "Done.\n",
      "=== 3 ===\n",
      "Searching for \"Stay With Me (with Justin Timberlake, Halsey & Pharrell)\" by Halsey...\n",
      "Done.\n",
      "=== 3 ===\n",
      "Searching for \"Bad At Love\" by Halsey...\n",
      "=== 1 ===\n",
      "Searching for \"Miss You\" by Oliver Tree...\n",
      "Done.\n",
      "=== 2 ===\n",
      "Searching for \"WORTH NOTHING\" by Oliver Tree...\n",
      "Done.\n",
      "=== 3 ===\n",
      "Searching for \"Miss You\" by Oliver Tree...\n",
      "Done.\n",
      "=== 4 ===\n",
      "Searching for \"Life Goes On\" by Oliver Tree...\n",
      "Done.\n",
      "=== 5 ===\n",
      "Searching for \"Sick of U (with Oliver Tree)\" by Oliver Tree...\n",
      "Done.\n",
      "=== 5 ===\n",
      "Searching for \"Jerk\" by Oliver Tree...\n",
      "Done.\n",
      "=== 1 ===\n",
      "Searching for \"Martin & Gina\" by Polo G...\n",
      "Done.\n",
      "=== 2 ===\n",
      "Searching for \"RAPSTAR\" by Polo G...\n",
      "=== 2 ===\n",
      "Searching for \"Better Days (NEIKED x Mae Muller x Polo G)\" by Polo G...\n",
      "Done.\n",
      "=== 2 ===\n",
      "Searching for \"Pop Out (feat. Lil Tjay)\" by Polo G...\n",
      "Done.\n",
      "=== 2 ===\n",
      "Searching for \"21\" by Polo G...\n",
      "Done.\n",
      "=== 3 ===\n",
      "Searching for \"Chosen 1\" by Polo G...\n",
      "Done.\n",
      "=== 4 ===\n",
      "Searching for \"Hate The Other Side (with Marshmello & The Kid Laroi)\" by Polo G...\n",
      "Done.\n",
      "=== 4 ===\n",
      "Searching for \"Through Da Storm\" by Polo G...\n",
      "Done.\n",
      "=== 4 ===\n",
      "Searching for \"Headshot (feat. Polo G & Fivio Foreign)\" by Polo G...\n",
      "Done.\n",
      "=== 4 ===\n",
      "Searching for \"Neva Cared\" by Polo G...\n",
      "Done.\n",
      "=== 1 ===\n",
      "Searching for \"Something in the Orange\" by Zach Bryan...\n",
      "Done.\n",
      "=== 2 ===\n",
      "Searching for \"Heading South\" by Zach Bryan...\n",
      "Done.\n",
      "=== 3 ===\n",
      "Searching for \"Burn, Burn, Burn\" by Zach Bryan...\n",
      "Done.\n",
      "=== 4 ===\n",
      "Searching for \"Sun to Me\" by Zach Bryan...\n",
      "Done.\n",
      "=== 5 ===\n",
      "Searching for \"Oklahoma Smokeshow\" by Zach Bryan...\n",
      "Done.\n",
      "=== 5 ===\n",
      "Searching for \"The Good I'll Do\" by Zach Bryan...\n",
      "Done.\n",
      "=== 5 ===\n",
      "Searching for \"Condemned\" by Zach Bryan...\n",
      "Done.\n",
      "=== 5 ===\n",
      "Searching for \"Heavy Eyes\" by Zach Bryan...\n",
      "Done.\n",
      "=== 1 ===\n",
      "Searching for \"Tarot\" by Jhayco...\n",
      "Done.\n",
      "=== 1 ===\n",
      "Searching for \"En La De Ella\" by Jhayco...\n",
      "Done.\n",
      "=== 2 ===\n",
      "Searching for \"MEMORIAS\" by Jhayco...\n",
      "Done.\n",
      "=== 2 ===\n",
      "Searching for \"DÁKITI\" by Jhayco...\n",
      "Done.\n",
      "=== 2 ===\n",
      "Searching for \"CÓMO SE SIENTE\" by Jhayco...\n",
      "Done.\n",
      "=== 2 ===\n",
      "Searching for \"No Me Conoce\" by Jhayco...\n",
      "Done.\n",
      "=== 3 ===\n",
      "Searching for \"512\" by Jhayco...\n",
      "Done.\n",
      "=== 3 ===\n",
      "Searching for \"Ley Seca\" by Jhayco...\n",
      "Done.\n",
      "=== 4 ===\n",
      "Searching for \"Fiel\" by Jhayco...\n",
      "Done.\n",
      "=== 4 ===\n",
      "Searching for \"911 (Remix)\" by Jhayco...\n",
      "Done.\n",
      "=== 1 ===\n",
      "Searching for \"Dior\" by Pop Smoke...\n",
      "Done.\n",
      "=== 2 ===\n",
      "Searching for \"What You Know Bout Love\" by Pop Smoke...\n",
      "Done.\n",
      "=== 3 ===\n",
      "Searching for \"For The Night (feat. Lil Baby & DaBaby)\" by Pop Smoke...\n",
      "Done.\n",
      "=== 3 ===\n",
      "Searching for \"Element\" by Pop Smoke...\n",
      "Done.\n",
      "=== 4 ===\n",
      "Searching for \"Invincible\" by Pop Smoke...\n",
      "Done.\n",
      "=== 5 ===\n",
      "Searching for \"Mood Swings (feat. Lil Tjay)\" by Pop Smoke...\n",
      "Done.\n",
      "=== 5 ===\n",
      "Searching for \"Hello (feat. A Boogie Wit da Hoodie)\" by Pop Smoke...\n",
      "Done.\n",
      "=== 5 ===\n",
      "Searching for \"Got It On Me\" by Pop Smoke...\n",
      "Done.\n",
      "=== 5 ===\n",
      "Searching for \"GATTI\" by Pop Smoke...\n",
      "Done.\n"
     ]
    }
   ],
   "source": [
    "'''\n",
    "Try to find the lyrics of every artist\n",
    "'''\n",
    "\n",
    "lyrics_dict = dict()   \n",
    "    \n",
    "for art in dataset['Artist']:\n",
    "    lyrics_dict[art] = []\n",
    "    lyrics_dict[art].append(get_lyrics_from_genius(art))"
   ]
  },
  {
   "cell_type": "code",
   "execution_count": 22,
   "id": "19f2e734",
   "metadata": {},
   "outputs": [
    {
     "name": "stdout",
     "output_type": "stream",
     "text": [
      "Taylor Swift\n",
      "Taylor Swift\n",
      "Taylor Swift\n"
     ]
    },
    {
     "name": "stderr",
     "output_type": "stream",
     "text": [
      "Warning : `load_model` does not return WordVectorModel or SupervisedModel any more, but a `FastText` object which is very similar.\n",
      "Warning : `load_model` does not return WordVectorModel or SupervisedModel any more, but a `FastText` object which is very similar.\n",
      "Warning : `load_model` does not return WordVectorModel or SupervisedModel any more, but a `FastText` object which is very similar.\n",
      "Warning : `load_model` does not return WordVectorModel or SupervisedModel any more, but a `FastText` object which is very similar.\n",
      "Warning : `load_model` does not return WordVectorModel or SupervisedModel any more, but a `FastText` object which is very similar.\n",
      "Warning : `load_model` does not return WordVectorModel or SupervisedModel any more, but a `FastText` object which is very similar.\n",
      "Warning : `load_model` does not return WordVectorModel or SupervisedModel any more, but a `FastText` object which is very similar.\n",
      "Warning : `load_model` does not return WordVectorModel or SupervisedModel any more, but a `FastText` object which is very similar.\n",
      "Warning : `load_model` does not return WordVectorModel or SupervisedModel any more, but a `FastText` object which is very similar.\n"
     ]
    },
    {
     "name": "stdout",
     "output_type": "stream",
     "text": [
      "Taylor Swift\n",
      "Taylor Swift\n"
     ]
    },
    {
     "name": "stderr",
     "output_type": "stream",
     "text": [
      "Warning : `load_model` does not return WordVectorModel or SupervisedModel any more, but a `FastText` object which is very similar.\n",
      "Warning : `load_model` does not return WordVectorModel or SupervisedModel any more, but a `FastText` object which is very similar.\n",
      "Warning : `load_model` does not return WordVectorModel or SupervisedModel any more, but a `FastText` object which is very similar.\n"
     ]
    },
    {
     "name": "stdout",
     "output_type": "stream",
     "text": [
      "Bad Bunny\n",
      "Bad Bunny\n"
     ]
    },
    {
     "name": "stderr",
     "output_type": "stream",
     "text": [
      "Warning : `load_model` does not return WordVectorModel or SupervisedModel any more, but a `FastText` object which is very similar.\n",
      "Warning : `load_model` does not return WordVectorModel or SupervisedModel any more, but a `FastText` object which is very similar.\n"
     ]
    },
    {
     "name": "stdout",
     "output_type": "stream",
     "text": [
      "Bad Bunny\n"
     ]
    },
    {
     "name": "stderr",
     "output_type": "stream",
     "text": [
      "Warning : `load_model` does not return WordVectorModel or SupervisedModel any more, but a `FastText` object which is very similar.\n",
      "Warning : `load_model` does not return WordVectorModel or SupervisedModel any more, but a `FastText` object which is very similar.\n"
     ]
    },
    {
     "name": "stdout",
     "output_type": "stream",
     "text": [
      "Bad Bunny\n"
     ]
    },
    {
     "name": "stderr",
     "output_type": "stream",
     "text": [
      "Warning : `load_model` does not return WordVectorModel or SupervisedModel any more, but a `FastText` object which is very similar.\n",
      "Warning : `load_model` does not return WordVectorModel or SupervisedModel any more, but a `FastText` object which is very similar.\n"
     ]
    },
    {
     "name": "stdout",
     "output_type": "stream",
     "text": [
      "Bad Bunny\n"
     ]
    },
    {
     "name": "stderr",
     "output_type": "stream",
     "text": [
      "Warning : `load_model` does not return WordVectorModel or SupervisedModel any more, but a `FastText` object which is very similar.\n",
      "Warning : `load_model` does not return WordVectorModel or SupervisedModel any more, but a `FastText` object which is very similar.\n"
     ]
    },
    {
     "name": "stdout",
     "output_type": "stream",
     "text": [
      "Drake\n",
      "Drake\n"
     ]
    },
    {
     "name": "stderr",
     "output_type": "stream",
     "text": [
      "Warning : `load_model` does not return WordVectorModel or SupervisedModel any more, but a `FastText` object which is very similar.\n",
      "Warning : `load_model` does not return WordVectorModel or SupervisedModel any more, but a `FastText` object which is very similar.\n",
      "Warning : `load_model` does not return WordVectorModel or SupervisedModel any more, but a `FastText` object which is very similar.\n",
      "Warning : `load_model` does not return WordVectorModel or SupervisedModel any more, but a `FastText` object which is very similar.\n",
      "Warning : `load_model` does not return WordVectorModel or SupervisedModel any more, but a `FastText` object which is very similar.\n",
      "Warning : `load_model` does not return WordVectorModel or SupervisedModel any more, but a `FastText` object which is very similar.\n"
     ]
    },
    {
     "name": "stdout",
     "output_type": "stream",
     "text": [
      "Drake\n",
      "Drake\n",
      "Drake\n"
     ]
    },
    {
     "name": "stderr",
     "output_type": "stream",
     "text": [
      "Warning : `load_model` does not return WordVectorModel or SupervisedModel any more, but a `FastText` object which is very similar.\n",
      "Warning : `load_model` does not return WordVectorModel or SupervisedModel any more, but a `FastText` object which is very similar.\n",
      "Warning : `load_model` does not return WordVectorModel or SupervisedModel any more, but a `FastText` object which is very similar.\n",
      "Warning : `load_model` does not return WordVectorModel or SupervisedModel any more, but a `FastText` object which is very similar.\n"
     ]
    },
    {
     "name": "stdout",
     "output_type": "stream",
     "text": [
      "The Weeknd\n"
     ]
    },
    {
     "name": "stderr",
     "output_type": "stream",
     "text": [
      "Warning : `load_model` does not return WordVectorModel or SupervisedModel any more, but a `FastText` object which is very similar.\n",
      "Warning : `load_model` does not return WordVectorModel or SupervisedModel any more, but a `FastText` object which is very similar.\n",
      "Warning : `load_model` does not return WordVectorModel or SupervisedModel any more, but a `FastText` object which is very similar.\n"
     ]
    },
    {
     "name": "stdout",
     "output_type": "stream",
     "text": [
      "The Weeknd\n"
     ]
    },
    {
     "name": "stderr",
     "output_type": "stream",
     "text": [
      "Warning : `load_model` does not return WordVectorModel or SupervisedModel any more, but a `FastText` object which is very similar.\n",
      "Warning : `load_model` does not return WordVectorModel or SupervisedModel any more, but a `FastText` object which is very similar.\n"
     ]
    },
    {
     "name": "stdout",
     "output_type": "stream",
     "text": [
      "BTS\n"
     ]
    },
    {
     "name": "stderr",
     "output_type": "stream",
     "text": [
      "Warning : `load_model` does not return WordVectorModel or SupervisedModel any more, but a `FastText` object which is very similar.\n"
     ]
    },
    {
     "name": "stdout",
     "output_type": "stream",
     "text": [
      "BTS\n",
      "BTS\n"
     ]
    },
    {
     "name": "stderr",
     "output_type": "stream",
     "text": [
      "Warning : `load_model` does not return WordVectorModel or SupervisedModel any more, but a `FastText` object which is very similar.\n",
      "Warning : `load_model` does not return WordVectorModel or SupervisedModel any more, but a `FastText` object which is very similar.\n",
      "Warning : `load_model` does not return WordVectorModel or SupervisedModel any more, but a `FastText` object which is very similar.\n",
      "Warning : `load_model` does not return WordVectorModel or SupervisedModel any more, but a `FastText` object which is very similar.\n",
      "Warning : `load_model` does not return WordVectorModel or SupervisedModel any more, but a `FastText` object which is very similar.\n",
      "Warning : `load_model` does not return WordVectorModel or SupervisedModel any more, but a `FastText` object which is very similar.\n"
     ]
    },
    {
     "name": "stdout",
     "output_type": "stream",
     "text": [
      "21 Savage\n",
      "21 Savage\n",
      "21 Savage\n",
      "21 Savage\n"
     ]
    },
    {
     "name": "stderr",
     "output_type": "stream",
     "text": [
      "Warning : `load_model` does not return WordVectorModel or SupervisedModel any more, but a `FastText` object which is very similar.\n",
      "Warning : `load_model` does not return WordVectorModel or SupervisedModel any more, but a `FastText` object which is very similar.\n",
      "Warning : `load_model` does not return WordVectorModel or SupervisedModel any more, but a `FastText` object which is very similar.\n",
      "Warning : `load_model` does not return WordVectorModel or SupervisedModel any more, but a `FastText` object which is very similar.\n",
      "Warning : `load_model` does not return WordVectorModel or SupervisedModel any more, but a `FastText` object which is very similar.\n",
      "Warning : `load_model` does not return WordVectorModel or SupervisedModel any more, but a `FastText` object which is very similar.\n",
      "Warning : `load_model` does not return WordVectorModel or SupervisedModel any more, but a `FastText` object which is very similar.\n",
      "Warning : `load_model` does not return WordVectorModel or SupervisedModel any more, but a `FastText` object which is very similar.\n"
     ]
    },
    {
     "name": "stdout",
     "output_type": "stream",
     "text": [
      "21 Savage\n",
      "Eminem\n",
      "Eminem\n"
     ]
    },
    {
     "name": "stderr",
     "output_type": "stream",
     "text": [
      "Warning : `load_model` does not return WordVectorModel or SupervisedModel any more, but a `FastText` object which is very similar.\n",
      "Warning : `load_model` does not return WordVectorModel or SupervisedModel any more, but a `FastText` object which is very similar.\n",
      "Warning : `load_model` does not return WordVectorModel or SupervisedModel any more, but a `FastText` object which is very similar.\n",
      "Warning : `load_model` does not return WordVectorModel or SupervisedModel any more, but a `FastText` object which is very similar.\n",
      "Warning : `load_model` does not return WordVectorModel or SupervisedModel any more, but a `FastText` object which is very similar.\n",
      "Warning : `load_model` does not return WordVectorModel or SupervisedModel any more, but a `FastText` object which is very similar.\n"
     ]
    },
    {
     "name": "stdout",
     "output_type": "stream",
     "text": [
      "Eminem\n",
      "Eminem\n"
     ]
    },
    {
     "name": "stderr",
     "output_type": "stream",
     "text": [
      "Warning : `load_model` does not return WordVectorModel or SupervisedModel any more, but a `FastText` object which is very similar.\n",
      "Warning : `load_model` does not return WordVectorModel or SupervisedModel any more, but a `FastText` object which is very similar.\n",
      "Warning : `load_model` does not return WordVectorModel or SupervisedModel any more, but a `FastText` object which is very similar.\n",
      "Warning : `load_model` does not return WordVectorModel or SupervisedModel any more, but a `FastText` object which is very similar.\n"
     ]
    },
    {
     "name": "stdout",
     "output_type": "stream",
     "text": [
      "Eminem\n",
      "Ariana Grande\n",
      "Ariana Grande\n"
     ]
    },
    {
     "name": "stderr",
     "output_type": "stream",
     "text": [
      "Warning : `load_model` does not return WordVectorModel or SupervisedModel any more, but a `FastText` object which is very similar.\n",
      "Warning : `load_model` does not return WordVectorModel or SupervisedModel any more, but a `FastText` object which is very similar.\n",
      "Warning : `load_model` does not return WordVectorModel or SupervisedModel any more, but a `FastText` object which is very similar.\n",
      "Warning : `load_model` does not return WordVectorModel or SupervisedModel any more, but a `FastText` object which is very similar.\n",
      "Warning : `load_model` does not return WordVectorModel or SupervisedModel any more, but a `FastText` object which is very similar.\n",
      "Warning : `load_model` does not return WordVectorModel or SupervisedModel any more, but a `FastText` object which is very similar.\n"
     ]
    },
    {
     "name": "stdout",
     "output_type": "stream",
     "text": [
      "Ariana Grande\n",
      "Ariana Grande\n"
     ]
    },
    {
     "name": "stderr",
     "output_type": "stream",
     "text": [
      "Warning : `load_model` does not return WordVectorModel or SupervisedModel any more, but a `FastText` object which is very similar.\n",
      "Warning : `load_model` does not return WordVectorModel or SupervisedModel any more, but a `FastText` object which is very similar.\n",
      "Warning : `load_model` does not return WordVectorModel or SupervisedModel any more, but a `FastText` object which is very similar.\n",
      "Warning : `load_model` does not return WordVectorModel or SupervisedModel any more, but a `FastText` object which is very similar.\n"
     ]
    },
    {
     "name": "stdout",
     "output_type": "stream",
     "text": [
      "Ed Sheeran\n",
      "Ed Sheeran\n"
     ]
    },
    {
     "name": "stderr",
     "output_type": "stream",
     "text": [
      "Warning : `load_model` does not return WordVectorModel or SupervisedModel any more, but a `FastText` object which is very similar.\n",
      "Warning : `load_model` does not return WordVectorModel or SupervisedModel any more, but a `FastText` object which is very similar.\n",
      "Warning : `load_model` does not return WordVectorModel or SupervisedModel any more, but a `FastText` object which is very similar.\n"
     ]
    },
    {
     "name": "stdout",
     "output_type": "stream",
     "text": [
      "Ed Sheeran\n",
      "Ed Sheeran\n"
     ]
    },
    {
     "name": "stderr",
     "output_type": "stream",
     "text": [
      "Warning : `load_model` does not return WordVectorModel or SupervisedModel any more, but a `FastText` object which is very similar.\n",
      "Warning : `load_model` does not return WordVectorModel or SupervisedModel any more, but a `FastText` object which is very similar.\n",
      "Warning : `load_model` does not return WordVectorModel or SupervisedModel any more, but a `FastText` object which is very similar.\n",
      "Warning : `load_model` does not return WordVectorModel or SupervisedModel any more, but a `FastText` object which is very similar.\n"
     ]
    },
    {
     "name": "stdout",
     "output_type": "stream",
     "text": [
      "Ed Sheeran\n",
      "Harry Styles\n"
     ]
    },
    {
     "name": "stderr",
     "output_type": "stream",
     "text": [
      "Warning : `load_model` does not return WordVectorModel or SupervisedModel any more, but a `FastText` object which is very similar.\n",
      "Warning : `load_model` does not return WordVectorModel or SupervisedModel any more, but a `FastText` object which is very similar.\n",
      "Warning : `load_model` does not return WordVectorModel or SupervisedModel any more, but a `FastText` object which is very similar.\n",
      "Warning : `load_model` does not return WordVectorModel or SupervisedModel any more, but a `FastText` object which is very similar.\n",
      "Warning : `load_model` does not return WordVectorModel or SupervisedModel any more, but a `FastText` object which is very similar.\n",
      "Warning : `load_model` does not return WordVectorModel or SupervisedModel any more, but a `FastText` object which is very similar.\n"
     ]
    },
    {
     "name": "stdout",
     "output_type": "stream",
     "text": [
      "Harry Styles\n",
      "Harry Styles\n",
      "Harry Styles\n"
     ]
    },
    {
     "name": "stderr",
     "output_type": "stream",
     "text": [
      "Warning : `load_model` does not return WordVectorModel or SupervisedModel any more, but a `FastText` object which is very similar.\n",
      "Warning : `load_model` does not return WordVectorModel or SupervisedModel any more, but a `FastText` object which is very similar.\n",
      "Warning : `load_model` does not return WordVectorModel or SupervisedModel any more, but a `FastText` object which is very similar.\n",
      "Warning : `load_model` does not return WordVectorModel or SupervisedModel any more, but a `FastText` object which is very similar.\n"
     ]
    },
    {
     "name": "stdout",
     "output_type": "stream",
     "text": [
      "Harry Styles\n",
      "Rauw Alejandro\n"
     ]
    },
    {
     "name": "stderr",
     "output_type": "stream",
     "text": [
      "Warning : `load_model` does not return WordVectorModel or SupervisedModel any more, but a `FastText` object which is very similar.\n",
      "Warning : `load_model` does not return WordVectorModel or SupervisedModel any more, but a `FastText` object which is very similar.\n",
      "Warning : `load_model` does not return WordVectorModel or SupervisedModel any more, but a `FastText` object which is very similar.\n"
     ]
    },
    {
     "name": "stdout",
     "output_type": "stream",
     "text": [
      "Rauw Alejandro\n"
     ]
    },
    {
     "name": "stderr",
     "output_type": "stream",
     "text": [
      "Warning : `load_model` does not return WordVectorModel or SupervisedModel any more, but a `FastText` object which is very similar.\n",
      "Warning : `load_model` does not return WordVectorModel or SupervisedModel any more, but a `FastText` object which is very similar.\n"
     ]
    },
    {
     "name": "stdout",
     "output_type": "stream",
     "text": [
      "Rauw Alejandro\n"
     ]
    },
    {
     "name": "stderr",
     "output_type": "stream",
     "text": [
      "Warning : `load_model` does not return WordVectorModel or SupervisedModel any more, but a `FastText` object which is very similar.\n",
      "Warning : `load_model` does not return WordVectorModel or SupervisedModel any more, but a `FastText` object which is very similar.\n"
     ]
    },
    {
     "name": "stdout",
     "output_type": "stream",
     "text": [
      "Rauw Alejandro\n"
     ]
    },
    {
     "name": "stderr",
     "output_type": "stream",
     "text": [
      "Warning : `load_model` does not return WordVectorModel or SupervisedModel any more, but a `FastText` object which is very similar.\n",
      "Warning : `load_model` does not return WordVectorModel or SupervisedModel any more, but a `FastText` object which is very similar.\n"
     ]
    },
    {
     "name": "stdout",
     "output_type": "stream",
     "text": [
      "Rauw Alejandro\n"
     ]
    },
    {
     "name": "stderr",
     "output_type": "stream",
     "text": [
      "Warning : `load_model` does not return WordVectorModel or SupervisedModel any more, but a `FastText` object which is very similar.\n",
      "Warning : `load_model` does not return WordVectorModel or SupervisedModel any more, but a `FastText` object which is very similar.\n"
     ]
    },
    {
     "name": "stdout",
     "output_type": "stream",
     "text": [
      "Justin Bieber\n",
      "Justin Bieber\n"
     ]
    },
    {
     "name": "stderr",
     "output_type": "stream",
     "text": [
      "Warning : `load_model` does not return WordVectorModel or SupervisedModel any more, but a `FastText` object which is very similar.\n",
      "Warning : `load_model` does not return WordVectorModel or SupervisedModel any more, but a `FastText` object which is very similar.\n",
      "Warning : `load_model` does not return WordVectorModel or SupervisedModel any more, but a `FastText` object which is very similar.\n",
      "Warning : `load_model` does not return WordVectorModel or SupervisedModel any more, but a `FastText` object which is very similar.\n",
      "Warning : `load_model` does not return WordVectorModel or SupervisedModel any more, but a `FastText` object which is very similar.\n",
      "Warning : `load_model` does not return WordVectorModel or SupervisedModel any more, but a `FastText` object which is very similar.\n",
      "Warning : `load_model` does not return WordVectorModel or SupervisedModel any more, but a `FastText` object which is very similar.\n",
      "Warning : `load_model` does not return WordVectorModel or SupervisedModel any more, but a `FastText` object which is very similar.\n",
      "Warning : `load_model` does not return WordVectorModel or SupervisedModel any more, but a `FastText` object which is very similar.\n"
     ]
    },
    {
     "name": "stdout",
     "output_type": "stream",
     "text": [
      "Justin Bieber\n",
      "Justin Bieber\n",
      "Justin Bieber\n"
     ]
    },
    {
     "name": "stderr",
     "output_type": "stream",
     "text": [
      "Warning : `load_model` does not return WordVectorModel or SupervisedModel any more, but a `FastText` object which is very similar.\n",
      "Warning : `load_model` does not return WordVectorModel or SupervisedModel any more, but a `FastText` object which is very similar.\n",
      "Warning : `load_model` does not return WordVectorModel or SupervisedModel any more, but a `FastText` object which is very similar.\n"
     ]
    },
    {
     "name": "stdout",
     "output_type": "stream",
     "text": [
      "Kanye West\n",
      "Kanye West\n"
     ]
    },
    {
     "name": "stderr",
     "output_type": "stream",
     "text": [
      "Warning : `load_model` does not return WordVectorModel or SupervisedModel any more, but a `FastText` object which is very similar.\n",
      "Warning : `load_model` does not return WordVectorModel or SupervisedModel any more, but a `FastText` object which is very similar.\n",
      "Warning : `load_model` does not return WordVectorModel or SupervisedModel any more, but a `FastText` object which is very similar.\n"
     ]
    },
    {
     "name": "stdout",
     "output_type": "stream",
     "text": [
      "Kanye West\n",
      "Kanye West\n"
     ]
    },
    {
     "name": "stderr",
     "output_type": "stream",
     "text": [
      "Warning : `load_model` does not return WordVectorModel or SupervisedModel any more, but a `FastText` object which is very similar.\n",
      "Warning : `load_model` does not return WordVectorModel or SupervisedModel any more, but a `FastText` object which is very similar.\n",
      "Warning : `load_model` does not return WordVectorModel or SupervisedModel any more, but a `FastText` object which is very similar.\n",
      "Warning : `load_model` does not return WordVectorModel or SupervisedModel any more, but a `FastText` object which is very similar.\n",
      "Warning : `load_model` does not return WordVectorModel or SupervisedModel any more, but a `FastText` object which is very similar.\n"
     ]
    },
    {
     "name": "stdout",
     "output_type": "stream",
     "text": [
      "Kanye West\n",
      "Rihanna\n"
     ]
    },
    {
     "name": "stderr",
     "output_type": "stream",
     "text": [
      "Warning : `load_model` does not return WordVectorModel or SupervisedModel any more, but a `FastText` object which is very similar.\n",
      "Warning : `load_model` does not return WordVectorModel or SupervisedModel any more, but a `FastText` object which is very similar.\n",
      "Warning : `load_model` does not return WordVectorModel or SupervisedModel any more, but a `FastText` object which is very similar.\n"
     ]
    },
    {
     "name": "stdout",
     "output_type": "stream",
     "text": [
      "Rihanna\n",
      "Rihanna\n"
     ]
    },
    {
     "name": "stderr",
     "output_type": "stream",
     "text": [
      "Warning : `load_model` does not return WordVectorModel or SupervisedModel any more, but a `FastText` object which is very similar.\n",
      "Warning : `load_model` does not return WordVectorModel or SupervisedModel any more, but a `FastText` object which is very similar.\n",
      "Warning : `load_model` does not return WordVectorModel or SupervisedModel any more, but a `FastText` object which is very similar.\n"
     ]
    },
    {
     "name": "stdout",
     "output_type": "stream",
     "text": [
      "Rihanna\n",
      "Rihanna\n"
     ]
    },
    {
     "name": "stderr",
     "output_type": "stream",
     "text": [
      "Warning : `load_model` does not return WordVectorModel or SupervisedModel any more, but a `FastText` object which is very similar.\n",
      "Warning : `load_model` does not return WordVectorModel or SupervisedModel any more, but a `FastText` object which is very similar.\n",
      "Warning : `load_model` does not return WordVectorModel or SupervisedModel any more, but a `FastText` object which is very similar.\n",
      "Warning : `load_model` does not return WordVectorModel or SupervisedModel any more, but a `FastText` object which is very similar.\n",
      "Warning : `load_model` does not return WordVectorModel or SupervisedModel any more, but a `FastText` object which is very similar.\n",
      "Warning : `load_model` does not return WordVectorModel or SupervisedModel any more, but a `FastText` object which is very similar.\n"
     ]
    },
    {
     "name": "stdout",
     "output_type": "stream",
     "text": [
      "Feid\n",
      "Feid\n"
     ]
    },
    {
     "name": "stderr",
     "output_type": "stream",
     "text": [
      "Warning : `load_model` does not return WordVectorModel or SupervisedModel any more, but a `FastText` object which is very similar.\n",
      "Warning : `load_model` does not return WordVectorModel or SupervisedModel any more, but a `FastText` object which is very similar.\n"
     ]
    },
    {
     "name": "stdout",
     "output_type": "stream",
     "text": [
      "Feid\n"
     ]
    },
    {
     "name": "stderr",
     "output_type": "stream",
     "text": [
      "Warning : `load_model` does not return WordVectorModel or SupervisedModel any more, but a `FastText` object which is very similar.\n",
      "Warning : `load_model` does not return WordVectorModel or SupervisedModel any more, but a `FastText` object which is very similar.\n"
     ]
    },
    {
     "name": "stdout",
     "output_type": "stream",
     "text": [
      "Feid\n"
     ]
    },
    {
     "name": "stderr",
     "output_type": "stream",
     "text": [
      "Warning : `load_model` does not return WordVectorModel or SupervisedModel any more, but a `FastText` object which is very similar.\n",
      "Warning : `load_model` does not return WordVectorModel or SupervisedModel any more, but a `FastText` object which is very similar.\n"
     ]
    },
    {
     "name": "stdout",
     "output_type": "stream",
     "text": [
      "Feid\n"
     ]
    },
    {
     "name": "stderr",
     "output_type": "stream",
     "text": [
      "Warning : `load_model` does not return WordVectorModel or SupervisedModel any more, but a `FastText` object which is very similar.\n",
      "Warning : `load_model` does not return WordVectorModel or SupervisedModel any more, but a `FastText` object which is very similar.\n"
     ]
    },
    {
     "name": "stdout",
     "output_type": "stream",
     "text": [
      "Arijit Singh\n",
      "Arijit Singh\n"
     ]
    },
    {
     "name": "stderr",
     "output_type": "stream",
     "text": [
      "Warning : `load_model` does not return WordVectorModel or SupervisedModel any more, but a `FastText` object which is very similar.\n",
      "Warning : `load_model` does not return WordVectorModel or SupervisedModel any more, but a `FastText` object which is very similar.\n",
      "Warning : `load_model` does not return WordVectorModel or SupervisedModel any more, but a `FastText` object which is very similar.\n",
      "Warning : `load_model` does not return WordVectorModel or SupervisedModel any more, but a `FastText` object which is very similar.\n"
     ]
    },
    {
     "name": "stdout",
     "output_type": "stream",
     "text": [
      "Arijit Singh\n"
     ]
    },
    {
     "name": "stderr",
     "output_type": "stream",
     "text": [
      "Warning : `load_model` does not return WordVectorModel or SupervisedModel any more, but a `FastText` object which is very similar.\n",
      "Warning : `load_model` does not return WordVectorModel or SupervisedModel any more, but a `FastText` object which is very similar.\n"
     ]
    },
    {
     "name": "stdout",
     "output_type": "stream",
     "text": [
      "Arijit Singh\n"
     ]
    },
    {
     "name": "stderr",
     "output_type": "stream",
     "text": [
      "Warning : `load_model` does not return WordVectorModel or SupervisedModel any more, but a `FastText` object which is very similar.\n",
      "Warning : `load_model` does not return WordVectorModel or SupervisedModel any more, but a `FastText` object which is very similar.\n"
     ]
    },
    {
     "name": "stdout",
     "output_type": "stream",
     "text": [
      "Billie Eilish\n"
     ]
    },
    {
     "name": "stderr",
     "output_type": "stream",
     "text": [
      "Warning : `load_model` does not return WordVectorModel or SupervisedModel any more, but a `FastText` object which is very similar.\n",
      "Warning : `load_model` does not return WordVectorModel or SupervisedModel any more, but a `FastText` object which is very similar.\n"
     ]
    },
    {
     "name": "stdout",
     "output_type": "stream",
     "text": [
      "Billie Eilish\n"
     ]
    },
    {
     "name": "stderr",
     "output_type": "stream",
     "text": [
      "Warning : `load_model` does not return WordVectorModel or SupervisedModel any more, but a `FastText` object which is very similar.\n",
      "Warning : `load_model` does not return WordVectorModel or SupervisedModel any more, but a `FastText` object which is very similar.\n"
     ]
    },
    {
     "name": "stdout",
     "output_type": "stream",
     "text": [
      "Billie Eilish\n",
      "Billie Eilish\n",
      "Billie Eilish\n"
     ]
    },
    {
     "name": "stderr",
     "output_type": "stream",
     "text": [
      "Warning : `load_model` does not return WordVectorModel or SupervisedModel any more, but a `FastText` object which is very similar.\n",
      "Warning : `load_model` does not return WordVectorModel or SupervisedModel any more, but a `FastText` object which is very similar.\n",
      "Warning : `load_model` does not return WordVectorModel or SupervisedModel any more, but a `FastText` object which is very similar.\n",
      "Warning : `load_model` does not return WordVectorModel or SupervisedModel any more, but a `FastText` object which is very similar.\n",
      "Warning : `load_model` does not return WordVectorModel or SupervisedModel any more, but a `FastText` object which is very similar.\n",
      "Warning : `load_model` does not return WordVectorModel or SupervisedModel any more, but a `FastText` object which is very similar.\n",
      "Warning : `load_model` does not return WordVectorModel or SupervisedModel any more, but a `FastText` object which is very similar.\n",
      "Warning : `load_model` does not return WordVectorModel or SupervisedModel any more, but a `FastText` object which is very similar.\n"
     ]
    },
    {
     "name": "stdout",
     "output_type": "stream",
     "text": [
      "David Guetta\n",
      "David Guetta\n"
     ]
    },
    {
     "name": "stderr",
     "output_type": "stream",
     "text": [
      "Warning : `load_model` does not return WordVectorModel or SupervisedModel any more, but a `FastText` object which is very similar.\n",
      "Warning : `load_model` does not return WordVectorModel or SupervisedModel any more, but a `FastText` object which is very similar.\n",
      "Warning : `load_model` does not return WordVectorModel or SupervisedModel any more, but a `FastText` object which is very similar.\n",
      "Warning : `load_model` does not return WordVectorModel or SupervisedModel any more, but a `FastText` object which is very similar.\n"
     ]
    },
    {
     "name": "stdout",
     "output_type": "stream",
     "text": [
      "Coldplay\n",
      "Coldplay\n"
     ]
    },
    {
     "name": "stderr",
     "output_type": "stream",
     "text": [
      "Warning : `load_model` does not return WordVectorModel or SupervisedModel any more, but a `FastText` object which is very similar.\n",
      "Warning : `load_model` does not return WordVectorModel or SupervisedModel any more, but a `FastText` object which is very similar.\n"
     ]
    },
    {
     "name": "stdout",
     "output_type": "stream",
     "text": [
      "Coldplay\n",
      "Coldplay\n"
     ]
    },
    {
     "name": "stderr",
     "output_type": "stream",
     "text": [
      "Warning : `load_model` does not return WordVectorModel or SupervisedModel any more, but a `FastText` object which is very similar.\n",
      "Warning : `load_model` does not return WordVectorModel or SupervisedModel any more, but a `FastText` object which is very similar.\n",
      "Warning : `load_model` does not return WordVectorModel or SupervisedModel any more, but a `FastText` object which is very similar.\n",
      "Warning : `load_model` does not return WordVectorModel or SupervisedModel any more, but a `FastText` object which is very similar.\n",
      "Warning : `load_model` does not return WordVectorModel or SupervisedModel any more, but a `FastText` object which is very similar.\n",
      "Warning : `load_model` does not return WordVectorModel or SupervisedModel any more, but a `FastText` object which is very similar.\n",
      "Warning : `load_model` does not return WordVectorModel or SupervisedModel any more, but a `FastText` object which is very similar.\n",
      "Warning : `load_model` does not return WordVectorModel or SupervisedModel any more, but a `FastText` object which is very similar.\n"
     ]
    },
    {
     "name": "stdout",
     "output_type": "stream",
     "text": [
      "Coldplay\n",
      "Juice WRLD\n",
      "Juice WRLD\n",
      "Juice WRLD\n"
     ]
    },
    {
     "name": "stderr",
     "output_type": "stream",
     "text": [
      "Warning : `load_model` does not return WordVectorModel or SupervisedModel any more, but a `FastText` object which is very similar.\n",
      "Warning : `load_model` does not return WordVectorModel or SupervisedModel any more, but a `FastText` object which is very similar.\n",
      "Warning : `load_model` does not return WordVectorModel or SupervisedModel any more, but a `FastText` object which is very similar.\n",
      "Warning : `load_model` does not return WordVectorModel or SupervisedModel any more, but a `FastText` object which is very similar.\n"
     ]
    },
    {
     "name": "stdout",
     "output_type": "stream",
     "text": [
      "Juice WRLD\n",
      "Juice WRLD\n"
     ]
    },
    {
     "name": "stderr",
     "output_type": "stream",
     "text": [
      "Warning : `load_model` does not return WordVectorModel or SupervisedModel any more, but a `FastText` object which is very similar.\n",
      "Warning : `load_model` does not return WordVectorModel or SupervisedModel any more, but a `FastText` object which is very similar.\n",
      "Warning : `load_model` does not return WordVectorModel or SupervisedModel any more, but a `FastText` object which is very similar.\n",
      "Warning : `load_model` does not return WordVectorModel or SupervisedModel any more, but a `FastText` object which is very similar.\n"
     ]
    },
    {
     "name": "stdout",
     "output_type": "stream",
     "text": [
      "Imagine Dragons\n",
      "Imagine Dragons\n"
     ]
    },
    {
     "name": "stderr",
     "output_type": "stream",
     "text": [
      "Warning : `load_model` does not return WordVectorModel or SupervisedModel any more, but a `FastText` object which is very similar.\n",
      "Warning : `load_model` does not return WordVectorModel or SupervisedModel any more, but a `FastText` object which is very similar.\n",
      "Warning : `load_model` does not return WordVectorModel or SupervisedModel any more, but a `FastText` object which is very similar.\n",
      "Warning : `load_model` does not return WordVectorModel or SupervisedModel any more, but a `FastText` object which is very similar.\n"
     ]
    },
    {
     "name": "stdout",
     "output_type": "stream",
     "text": [
      "Imagine Dragons\n",
      "Imagine Dragons\n",
      "Imagine Dragons\n"
     ]
    },
    {
     "name": "stderr",
     "output_type": "stream",
     "text": [
      "Warning : `load_model` does not return WordVectorModel or SupervisedModel any more, but a `FastText` object which is very similar.\n",
      "Warning : `load_model` does not return WordVectorModel or SupervisedModel any more, but a `FastText` object which is very similar.\n",
      "Warning : `load_model` does not return WordVectorModel or SupervisedModel any more, but a `FastText` object which is very similar.\n",
      "Warning : `load_model` does not return WordVectorModel or SupervisedModel any more, but a `FastText` object which is very similar.\n",
      "Warning : `load_model` does not return WordVectorModel or SupervisedModel any more, but a `FastText` object which is very similar.\n",
      "Warning : `load_model` does not return WordVectorModel or SupervisedModel any more, but a `FastText` object which is very similar.\n"
     ]
    },
    {
     "name": "stdout",
     "output_type": "stream",
     "text": [
      "Sam Smith\n",
      "Sam Smith\n",
      "Lana Del Rey\n"
     ]
    },
    {
     "name": "stderr",
     "output_type": "stream",
     "text": [
      "Warning : `load_model` does not return WordVectorModel or SupervisedModel any more, but a `FastText` object which is very similar.\n",
      "Warning : `load_model` does not return WordVectorModel or SupervisedModel any more, but a `FastText` object which is very similar.\n",
      "Warning : `load_model` does not return WordVectorModel or SupervisedModel any more, but a `FastText` object which is very similar.\n",
      "Warning : `load_model` does not return WordVectorModel or SupervisedModel any more, but a `FastText` object which is very similar.\n",
      "Warning : `load_model` does not return WordVectorModel or SupervisedModel any more, but a `FastText` object which is very similar.\n",
      "Warning : `load_model` does not return WordVectorModel or SupervisedModel any more, but a `FastText` object which is very similar.\n",
      "Warning : `load_model` does not return WordVectorModel or SupervisedModel any more, but a `FastText` object which is very similar.\n"
     ]
    },
    {
     "name": "stdout",
     "output_type": "stream",
     "text": [
      "Lana Del Rey\n",
      "Lana Del Rey\n"
     ]
    },
    {
     "name": "stderr",
     "output_type": "stream",
     "text": [
      "Warning : `load_model` does not return WordVectorModel or SupervisedModel any more, but a `FastText` object which is very similar.\n",
      "Warning : `load_model` does not return WordVectorModel or SupervisedModel any more, but a `FastText` object which is very similar.\n",
      "Warning : `load_model` does not return WordVectorModel or SupervisedModel any more, but a `FastText` object which is very similar.\n",
      "Warning : `load_model` does not return WordVectorModel or SupervisedModel any more, but a `FastText` object which is very similar.\n"
     ]
    },
    {
     "name": "stdout",
     "output_type": "stream",
     "text": [
      "Lana Del Rey\n",
      "Lana Del Rey\n"
     ]
    },
    {
     "name": "stderr",
     "output_type": "stream",
     "text": [
      "Warning : `load_model` does not return WordVectorModel or SupervisedModel any more, but a `FastText` object which is very similar.\n",
      "Warning : `load_model` does not return WordVectorModel or SupervisedModel any more, but a `FastText` object which is very similar.\n",
      "Warning : `load_model` does not return WordVectorModel or SupervisedModel any more, but a `FastText` object which is very similar.\n",
      "Warning : `load_model` does not return WordVectorModel or SupervisedModel any more, but a `FastText` object which is very similar.\n"
     ]
    },
    {
     "name": "stdout",
     "output_type": "stream",
     "text": [
      "Ozuna\n"
     ]
    },
    {
     "name": "stderr",
     "output_type": "stream",
     "text": [
      "Warning : `load_model` does not return WordVectorModel or SupervisedModel any more, but a `FastText` object which is very similar.\n"
     ]
    },
    {
     "name": "stdout",
     "output_type": "stream",
     "text": [
      "Ozuna\n"
     ]
    },
    {
     "name": "stderr",
     "output_type": "stream",
     "text": [
      "Warning : `load_model` does not return WordVectorModel or SupervisedModel any more, but a `FastText` object which is very similar.\n",
      "Warning : `load_model` does not return WordVectorModel or SupervisedModel any more, but a `FastText` object which is very similar.\n"
     ]
    },
    {
     "name": "stdout",
     "output_type": "stream",
     "text": [
      "Ozuna\n"
     ]
    },
    {
     "name": "stderr",
     "output_type": "stream",
     "text": [
      "Warning : `load_model` does not return WordVectorModel or SupervisedModel any more, but a `FastText` object which is very similar.\n",
      "Warning : `load_model` does not return WordVectorModel or SupervisedModel any more, but a `FastText` object which is very similar.\n"
     ]
    },
    {
     "name": "stdout",
     "output_type": "stream",
     "text": [
      "Ozuna\n"
     ]
    },
    {
     "name": "stderr",
     "output_type": "stream",
     "text": [
      "Warning : `load_model` does not return WordVectorModel or SupervisedModel any more, but a `FastText` object which is very similar.\n",
      "Warning : `load_model` does not return WordVectorModel or SupervisedModel any more, but a `FastText` object which is very similar.\n"
     ]
    },
    {
     "name": "stdout",
     "output_type": "stream",
     "text": [
      "Ozuna\n"
     ]
    },
    {
     "name": "stderr",
     "output_type": "stream",
     "text": [
      "Warning : `load_model` does not return WordVectorModel or SupervisedModel any more, but a `FastText` object which is very similar.\n",
      "Warning : `load_model` does not return WordVectorModel or SupervisedModel any more, but a `FastText` object which is very similar.\n"
     ]
    },
    {
     "name": "stdout",
     "output_type": "stream",
     "text": [
      "Kendrick Lamar\n",
      "Kendrick Lamar\n"
     ]
    },
    {
     "name": "stderr",
     "output_type": "stream",
     "text": [
      "Warning : `load_model` does not return WordVectorModel or SupervisedModel any more, but a `FastText` object which is very similar.\n",
      "Warning : `load_model` does not return WordVectorModel or SupervisedModel any more, but a `FastText` object which is very similar.\n",
      "Warning : `load_model` does not return WordVectorModel or SupervisedModel any more, but a `FastText` object which is very similar.\n",
      "Warning : `load_model` does not return WordVectorModel or SupervisedModel any more, but a `FastText` object which is very similar.\n",
      "Warning : `load_model` does not return WordVectorModel or SupervisedModel any more, but a `FastText` object which is very similar.\n",
      "Warning : `load_model` does not return WordVectorModel or SupervisedModel any more, but a `FastText` object which is very similar.\n",
      "Warning : `load_model` does not return WordVectorModel or SupervisedModel any more, but a `FastText` object which is very similar.\n",
      "Warning : `load_model` does not return WordVectorModel or SupervisedModel any more, but a `FastText` object which is very similar.\n"
     ]
    },
    {
     "name": "stdout",
     "output_type": "stream",
     "text": [
      "Kendrick Lamar\n",
      "Kendrick Lamar\n",
      "Kendrick Lamar\n",
      "Lil Baby\n"
     ]
    },
    {
     "name": "stderr",
     "output_type": "stream",
     "text": [
      "Warning : `load_model` does not return WordVectorModel or SupervisedModel any more, but a `FastText` object which is very similar.\n",
      "Warning : `load_model` does not return WordVectorModel or SupervisedModel any more, but a `FastText` object which is very similar.\n",
      "Warning : `load_model` does not return WordVectorModel or SupervisedModel any more, but a `FastText` object which is very similar.\n",
      "Warning : `load_model` does not return WordVectorModel or SupervisedModel any more, but a `FastText` object which is very similar.\n"
     ]
    },
    {
     "name": "stdout",
     "output_type": "stream",
     "text": [
      "Lil Baby\n",
      "Lil Baby\n"
     ]
    },
    {
     "name": "stderr",
     "output_type": "stream",
     "text": [
      "Warning : `load_model` does not return WordVectorModel or SupervisedModel any more, but a `FastText` object which is very similar.\n",
      "Warning : `load_model` does not return WordVectorModel or SupervisedModel any more, but a `FastText` object which is very similar.\n",
      "Warning : `load_model` does not return WordVectorModel or SupervisedModel any more, but a `FastText` object which is very similar.\n",
      "Warning : `load_model` does not return WordVectorModel or SupervisedModel any more, but a `FastText` object which is very similar.\n",
      "Warning : `load_model` does not return WordVectorModel or SupervisedModel any more, but a `FastText` object which is very similar.\n",
      "Warning : `load_model` does not return WordVectorModel or SupervisedModel any more, but a `FastText` object which is very similar.\n"
     ]
    },
    {
     "name": "stdout",
     "output_type": "stream",
     "text": [
      "Lil Baby\n",
      "Lil Baby\n"
     ]
    },
    {
     "name": "stderr",
     "output_type": "stream",
     "text": [
      "Warning : `load_model` does not return WordVectorModel or SupervisedModel any more, but a `FastText` object which is very similar.\n",
      "Warning : `load_model` does not return WordVectorModel or SupervisedModel any more, but a `FastText` object which is very similar.\n",
      "Warning : `load_model` does not return WordVectorModel or SupervisedModel any more, but a `FastText` object which is very similar.\n"
     ]
    },
    {
     "name": "stdout",
     "output_type": "stream",
     "text": [
      "Arctic Monkeys\n",
      "Arctic Monkeys\n"
     ]
    },
    {
     "name": "stderr",
     "output_type": "stream",
     "text": [
      "Warning : `load_model` does not return WordVectorModel or SupervisedModel any more, but a `FastText` object which is very similar.\n",
      "Warning : `load_model` does not return WordVectorModel or SupervisedModel any more, but a `FastText` object which is very similar.\n",
      "Warning : `load_model` does not return WordVectorModel or SupervisedModel any more, but a `FastText` object which is very similar.\n"
     ]
    },
    {
     "name": "stdout",
     "output_type": "stream",
     "text": [
      "Arctic Monkeys\n",
      "Arctic Monkeys\n"
     ]
    },
    {
     "name": "stderr",
     "output_type": "stream",
     "text": [
      "Warning : `load_model` does not return WordVectorModel or SupervisedModel any more, but a `FastText` object which is very similar.\n",
      "Warning : `load_model` does not return WordVectorModel or SupervisedModel any more, but a `FastText` object which is very similar.\n",
      "Warning : `load_model` does not return WordVectorModel or SupervisedModel any more, but a `FastText` object which is very similar.\n",
      "Warning : `load_model` does not return WordVectorModel or SupervisedModel any more, but a `FastText` object which is very similar.\n"
     ]
    },
    {
     "name": "stdout",
     "output_type": "stream",
     "text": [
      "Arctic Monkeys\n",
      "Post Malone\n",
      "Post Malone\n"
     ]
    },
    {
     "name": "stderr",
     "output_type": "stream",
     "text": [
      "Warning : `load_model` does not return WordVectorModel or SupervisedModel any more, but a `FastText` object which is very similar.\n",
      "Warning : `load_model` does not return WordVectorModel or SupervisedModel any more, but a `FastText` object which is very similar.\n",
      "Warning : `load_model` does not return WordVectorModel or SupervisedModel any more, but a `FastText` object which is very similar.\n",
      "Warning : `load_model` does not return WordVectorModel or SupervisedModel any more, but a `FastText` object which is very similar.\n",
      "Warning : `load_model` does not return WordVectorModel or SupervisedModel any more, but a `FastText` object which is very similar.\n",
      "Warning : `load_model` does not return WordVectorModel or SupervisedModel any more, but a `FastText` object which is very similar.\n"
     ]
    },
    {
     "name": "stdout",
     "output_type": "stream",
     "text": [
      "Post Malone\n",
      "Dua Lipa\n"
     ]
    },
    {
     "name": "stderr",
     "output_type": "stream",
     "text": [
      "Warning : `load_model` does not return WordVectorModel or SupervisedModel any more, but a `FastText` object which is very similar.\n",
      "Warning : `load_model` does not return WordVectorModel or SupervisedModel any more, but a `FastText` object which is very similar.\n",
      "Warning : `load_model` does not return WordVectorModel or SupervisedModel any more, but a `FastText` object which is very similar.\n",
      "Warning : `load_model` does not return WordVectorModel or SupervisedModel any more, but a `FastText` object which is very similar.\n"
     ]
    },
    {
     "name": "stdout",
     "output_type": "stream",
     "text": [
      "Dua Lipa\n",
      "Dua Lipa\n"
     ]
    },
    {
     "name": "stderr",
     "output_type": "stream",
     "text": [
      "Warning : `load_model` does not return WordVectorModel or SupervisedModel any more, but a `FastText` object which is very similar.\n",
      "Warning : `load_model` does not return WordVectorModel or SupervisedModel any more, but a `FastText` object which is very similar.\n",
      "Warning : `load_model` does not return WordVectorModel or SupervisedModel any more, but a `FastText` object which is very similar.\n",
      "Warning : `load_model` does not return WordVectorModel or SupervisedModel any more, but a `FastText` object which is very similar.\n",
      "Warning : `load_model` does not return WordVectorModel or SupervisedModel any more, but a `FastText` object which is very similar.\n",
      "Warning : `load_model` does not return WordVectorModel or SupervisedModel any more, but a `FastText` object which is very similar.\n"
     ]
    },
    {
     "name": "stdout",
     "output_type": "stream",
     "text": [
      "Dua Lipa\n",
      "XXXTENTACION\n"
     ]
    },
    {
     "name": "stderr",
     "output_type": "stream",
     "text": [
      "Warning : `load_model` does not return WordVectorModel or SupervisedModel any more, but a `FastText` object which is very similar.\n",
      "Warning : `load_model` does not return WordVectorModel or SupervisedModel any more, but a `FastText` object which is very similar.\n",
      "Warning : `load_model` does not return WordVectorModel or SupervisedModel any more, but a `FastText` object which is very similar.\n",
      "Warning : `load_model` does not return WordVectorModel or SupervisedModel any more, but a `FastText` object which is very similar.\n"
     ]
    },
    {
     "name": "stdout",
     "output_type": "stream",
     "text": [
      "XXXTENTACION\n",
      "XXXTENTACION\n"
     ]
    },
    {
     "name": "stderr",
     "output_type": "stream",
     "text": [
      "Warning : `load_model` does not return WordVectorModel or SupervisedModel any more, but a `FastText` object which is very similar.\n",
      "Warning : `load_model` does not return WordVectorModel or SupervisedModel any more, but a `FastText` object which is very similar.\n",
      "Warning : `load_model` does not return WordVectorModel or SupervisedModel any more, but a `FastText` object which is very similar.\n"
     ]
    },
    {
     "name": "stdout",
     "output_type": "stream",
     "text": [
      "XXXTENTACION\n",
      "XXXTENTACION\n"
     ]
    },
    {
     "name": "stderr",
     "output_type": "stream",
     "text": [
      "Warning : `load_model` does not return WordVectorModel or SupervisedModel any more, but a `FastText` object which is very similar.\n",
      "Warning : `load_model` does not return WordVectorModel or SupervisedModel any more, but a `FastText` object which is very similar.\n",
      "Warning : `load_model` does not return WordVectorModel or SupervisedModel any more, but a `FastText` object which is very similar.\n",
      "Warning : `load_model` does not return WordVectorModel or SupervisedModel any more, but a `FastText` object which is very similar.\n"
     ]
    },
    {
     "name": "stdout",
     "output_type": "stream",
     "text": [
      "Pritam\n",
      "Pritam\n"
     ]
    },
    {
     "name": "stderr",
     "output_type": "stream",
     "text": [
      "Warning : `load_model` does not return WordVectorModel or SupervisedModel any more, but a `FastText` object which is very similar.\n",
      "Warning : `load_model` does not return WordVectorModel or SupervisedModel any more, but a `FastText` object which is very similar.\n",
      "Warning : `load_model` does not return WordVectorModel or SupervisedModel any more, but a `FastText` object which is very similar.\n"
     ]
    },
    {
     "name": "stdout",
     "output_type": "stream",
     "text": [
      "Pritam\n"
     ]
    },
    {
     "name": "stderr",
     "output_type": "stream",
     "text": [
      "Warning : `load_model` does not return WordVectorModel or SupervisedModel any more, but a `FastText` object which is very similar.\n",
      "Warning : `load_model` does not return WordVectorModel or SupervisedModel any more, but a `FastText` object which is very similar.\n"
     ]
    },
    {
     "name": "stdout",
     "output_type": "stream",
     "text": [
      "J Balvin\n"
     ]
    },
    {
     "name": "stderr",
     "output_type": "stream",
     "text": [
      "Warning : `load_model` does not return WordVectorModel or SupervisedModel any more, but a `FastText` object which is very similar.\n",
      "Warning : `load_model` does not return WordVectorModel or SupervisedModel any more, but a `FastText` object which is very similar.\n"
     ]
    },
    {
     "name": "stdout",
     "output_type": "stream",
     "text": [
      "J Balvin\n"
     ]
    },
    {
     "name": "stderr",
     "output_type": "stream",
     "text": [
      "Warning : `load_model` does not return WordVectorModel or SupervisedModel any more, but a `FastText` object which is very similar.\n",
      "Warning : `load_model` does not return WordVectorModel or SupervisedModel any more, but a `FastText` object which is very similar.\n"
     ]
    },
    {
     "name": "stdout",
     "output_type": "stream",
     "text": [
      "J Balvin\n",
      "J Balvin\n"
     ]
    },
    {
     "name": "stderr",
     "output_type": "stream",
     "text": [
      "Warning : `load_model` does not return WordVectorModel or SupervisedModel any more, but a `FastText` object which is very similar.\n",
      "Warning : `load_model` does not return WordVectorModel or SupervisedModel any more, but a `FastText` object which is very similar.\n",
      "Warning : `load_model` does not return WordVectorModel or SupervisedModel any more, but a `FastText` object which is very similar.\n",
      "Warning : `load_model` does not return WordVectorModel or SupervisedModel any more, but a `FastText` object which is very similar.\n"
     ]
    },
    {
     "name": "stdout",
     "output_type": "stream",
     "text": [
      "J Balvin\n"
     ]
    },
    {
     "name": "stderr",
     "output_type": "stream",
     "text": [
      "Warning : `load_model` does not return WordVectorModel or SupervisedModel any more, but a `FastText` object which is very similar.\n",
      "Warning : `load_model` does not return WordVectorModel or SupervisedModel any more, but a `FastText` object which is very similar.\n"
     ]
    },
    {
     "name": "stdout",
     "output_type": "stream",
     "text": [
      "Daddy Yankee\n"
     ]
    },
    {
     "name": "stderr",
     "output_type": "stream",
     "text": [
      "Warning : `load_model` does not return WordVectorModel or SupervisedModel any more, but a `FastText` object which is very similar.\n",
      "Warning : `load_model` does not return WordVectorModel or SupervisedModel any more, but a `FastText` object which is very similar.\n"
     ]
    },
    {
     "name": "stdout",
     "output_type": "stream",
     "text": [
      "Daddy Yankee\n"
     ]
    },
    {
     "name": "stderr",
     "output_type": "stream",
     "text": [
      "Warning : `load_model` does not return WordVectorModel or SupervisedModel any more, but a `FastText` object which is very similar.\n",
      "Warning : `load_model` does not return WordVectorModel or SupervisedModel any more, but a `FastText` object which is very similar.\n"
     ]
    },
    {
     "name": "stdout",
     "output_type": "stream",
     "text": [
      "Daddy Yankee\n"
     ]
    },
    {
     "name": "stderr",
     "output_type": "stream",
     "text": [
      "Warning : `load_model` does not return WordVectorModel or SupervisedModel any more, but a `FastText` object which is very similar.\n",
      "Warning : `load_model` does not return WordVectorModel or SupervisedModel any more, but a `FastText` object which is very similar.\n"
     ]
    },
    {
     "name": "stdout",
     "output_type": "stream",
     "text": [
      "Daddy Yankee\n"
     ]
    },
    {
     "name": "stderr",
     "output_type": "stream",
     "text": [
      "Warning : `load_model` does not return WordVectorModel or SupervisedModel any more, but a `FastText` object which is very similar.\n",
      "Warning : `load_model` does not return WordVectorModel or SupervisedModel any more, but a `FastText` object which is very similar.\n"
     ]
    },
    {
     "name": "stdout",
     "output_type": "stream",
     "text": [
      "Daddy Yankee\n"
     ]
    },
    {
     "name": "stderr",
     "output_type": "stream",
     "text": [
      "Warning : `load_model` does not return WordVectorModel or SupervisedModel any more, but a `FastText` object which is very similar.\n",
      "Warning : `load_model` does not return WordVectorModel or SupervisedModel any more, but a `FastText` object which is very similar.\n"
     ]
    },
    {
     "name": "stdout",
     "output_type": "stream",
     "text": [
      "Shakira\n"
     ]
    },
    {
     "name": "stderr",
     "output_type": "stream",
     "text": [
      "Warning : `load_model` does not return WordVectorModel or SupervisedModel any more, but a `FastText` object which is very similar.\n",
      "Warning : `load_model` does not return WordVectorModel or SupervisedModel any more, but a `FastText` object which is very similar.\n"
     ]
    },
    {
     "name": "stdout",
     "output_type": "stream",
     "text": [
      "Shakira\n"
     ]
    },
    {
     "name": "stderr",
     "output_type": "stream",
     "text": [
      "Warning : `load_model` does not return WordVectorModel or SupervisedModel any more, but a `FastText` object which is very similar.\n",
      "Warning : `load_model` does not return WordVectorModel or SupervisedModel any more, but a `FastText` object which is very similar.\n"
     ]
    },
    {
     "name": "stdout",
     "output_type": "stream",
     "text": [
      "Shakira\n"
     ]
    },
    {
     "name": "stderr",
     "output_type": "stream",
     "text": [
      "Warning : `load_model` does not return WordVectorModel or SupervisedModel any more, but a `FastText` object which is very similar.\n",
      "Warning : `load_model` does not return WordVectorModel or SupervisedModel any more, but a `FastText` object which is very similar.\n"
     ]
    },
    {
     "name": "stdout",
     "output_type": "stream",
     "text": [
      "Shakira\n",
      "Travis Scott\n"
     ]
    },
    {
     "name": "stderr",
     "output_type": "stream",
     "text": [
      "Warning : `load_model` does not return WordVectorModel or SupervisedModel any more, but a `FastText` object which is very similar.\n",
      "Warning : `load_model` does not return WordVectorModel or SupervisedModel any more, but a `FastText` object which is very similar.\n",
      "Warning : `load_model` does not return WordVectorModel or SupervisedModel any more, but a `FastText` object which is very similar.\n",
      "Warning : `load_model` does not return WordVectorModel or SupervisedModel any more, but a `FastText` object which is very similar.\n",
      "Warning : `load_model` does not return WordVectorModel or SupervisedModel any more, but a `FastText` object which is very similar.\n",
      "Warning : `load_model` does not return WordVectorModel or SupervisedModel any more, but a `FastText` object which is very similar.\n",
      "Warning : `load_model` does not return WordVectorModel or SupervisedModel any more, but a `FastText` object which is very similar.\n",
      "Warning : `load_model` does not return WordVectorModel or SupervisedModel any more, but a `FastText` object which is very similar.\n",
      "Warning : `load_model` does not return WordVectorModel or SupervisedModel any more, but a `FastText` object which is very similar.\n",
      "Warning : `load_model` does not return WordVectorModel or SupervisedModel any more, but a `FastText` object which is very similar.\n"
     ]
    },
    {
     "name": "stdout",
     "output_type": "stream",
     "text": [
      "Travis Scott\n",
      "Travis Scott\n",
      "Doja Cat\n",
      "Doja Cat\n",
      "Doja Cat\n"
     ]
    },
    {
     "name": "stderr",
     "output_type": "stream",
     "text": [
      "Warning : `load_model` does not return WordVectorModel or SupervisedModel any more, but a `FastText` object which is very similar.\n",
      "Warning : `load_model` does not return WordVectorModel or SupervisedModel any more, but a `FastText` object which is very similar.\n",
      "Warning : `load_model` does not return WordVectorModel or SupervisedModel any more, but a `FastText` object which is very similar.\n",
      "Warning : `load_model` does not return WordVectorModel or SupervisedModel any more, but a `FastText` object which is very similar.\n",
      "Warning : `load_model` does not return WordVectorModel or SupervisedModel any more, but a `FastText` object which is very similar.\n",
      "Warning : `load_model` does not return WordVectorModel or SupervisedModel any more, but a `FastText` object which is very similar.\n"
     ]
    },
    {
     "name": "stdout",
     "output_type": "stream",
     "text": [
      "Doja Cat\n",
      "Doja Cat\n",
      "Bruno Mars\n",
      "Bruno Mars\n",
      "Bruno Mars\n"
     ]
    },
    {
     "name": "stderr",
     "output_type": "stream",
     "text": [
      "Warning : `load_model` does not return WordVectorModel or SupervisedModel any more, but a `FastText` object which is very similar.\n",
      "Warning : `load_model` does not return WordVectorModel or SupervisedModel any more, but a `FastText` object which is very similar.\n",
      "Warning : `load_model` does not return WordVectorModel or SupervisedModel any more, but a `FastText` object which is very similar.\n",
      "Warning : `load_model` does not return WordVectorModel or SupervisedModel any more, but a `FastText` object which is very similar.\n",
      "Warning : `load_model` does not return WordVectorModel or SupervisedModel any more, but a `FastText` object which is very similar.\n",
      "Warning : `load_model` does not return WordVectorModel or SupervisedModel any more, but a `FastText` object which is very similar.\n",
      "Warning : `load_model` does not return WordVectorModel or SupervisedModel any more, but a `FastText` object which is very similar.\n",
      "Warning : `load_model` does not return WordVectorModel or SupervisedModel any more, but a `FastText` object which is very similar.\n",
      "Warning : `load_model` does not return WordVectorModel or SupervisedModel any more, but a `FastText` object which is very similar.\n",
      "Warning : `load_model` does not return WordVectorModel or SupervisedModel any more, but a `FastText` object which is very similar.\n",
      "Warning : `load_model` does not return WordVectorModel or SupervisedModel any more, but a `FastText` object which is very similar.\n",
      "Warning : `load_model` does not return WordVectorModel or SupervisedModel any more, but a `FastText` object which is very similar.\n"
     ]
    },
    {
     "name": "stdout",
     "output_type": "stream",
     "text": [
      "Bruno Mars\n",
      "Bruno Mars\n",
      "Quevedo\n"
     ]
    },
    {
     "name": "stderr",
     "output_type": "stream",
     "text": [
      "Warning : `load_model` does not return WordVectorModel or SupervisedModel any more, but a `FastText` object which is very similar.\n",
      "Warning : `load_model` does not return WordVectorModel or SupervisedModel any more, but a `FastText` object which is very similar.\n"
     ]
    },
    {
     "name": "stdout",
     "output_type": "stream",
     "text": [
      "Quevedo\n"
     ]
    },
    {
     "name": "stderr",
     "output_type": "stream",
     "text": [
      "Warning : `load_model` does not return WordVectorModel or SupervisedModel any more, but a `FastText` object which is very similar.\n",
      "Warning : `load_model` does not return WordVectorModel or SupervisedModel any more, but a `FastText` object which is very similar.\n"
     ]
    },
    {
     "name": "stdout",
     "output_type": "stream",
     "text": [
      "Quevedo\n"
     ]
    },
    {
     "name": "stderr",
     "output_type": "stream",
     "text": [
      "Warning : `load_model` does not return WordVectorModel or SupervisedModel any more, but a `FastText` object which is very similar.\n",
      "Warning : `load_model` does not return WordVectorModel or SupervisedModel any more, but a `FastText` object which is very similar.\n"
     ]
    },
    {
     "name": "stdout",
     "output_type": "stream",
     "text": [
      "Quevedo\n"
     ]
    },
    {
     "name": "stderr",
     "output_type": "stream",
     "text": [
      "Warning : `load_model` does not return WordVectorModel or SupervisedModel any more, but a `FastText` object which is very similar.\n",
      "Warning : `load_model` does not return WordVectorModel or SupervisedModel any more, but a `FastText` object which is very similar.\n"
     ]
    },
    {
     "name": "stdout",
     "output_type": "stream",
     "text": [
      "Quevedo\n"
     ]
    },
    {
     "name": "stderr",
     "output_type": "stream",
     "text": [
      "Warning : `load_model` does not return WordVectorModel or SupervisedModel any more, but a `FastText` object which is very similar.\n",
      "Warning : `load_model` does not return WordVectorModel or SupervisedModel any more, but a `FastText` object which is very similar.\n"
     ]
    },
    {
     "name": "stdout",
     "output_type": "stream",
     "text": [
      "Michael Bublé\n",
      "Michael Bublé\n"
     ]
    },
    {
     "name": "stderr",
     "output_type": "stream",
     "text": [
      "Warning : `load_model` does not return WordVectorModel or SupervisedModel any more, but a `FastText` object which is very similar.\n",
      "Warning : `load_model` does not return WordVectorModel or SupervisedModel any more, but a `FastText` object which is very similar.\n",
      "Warning : `load_model` does not return WordVectorModel or SupervisedModel any more, but a `FastText` object which is very similar.\n",
      "Warning : `load_model` does not return WordVectorModel or SupervisedModel any more, but a `FastText` object which is very similar.\n",
      "Warning : `load_model` does not return WordVectorModel or SupervisedModel any more, but a `FastText` object which is very similar.\n",
      "Warning : `load_model` does not return WordVectorModel or SupervisedModel any more, but a `FastText` object which is very similar.\n",
      "Warning : `load_model` does not return WordVectorModel or SupervisedModel any more, but a `FastText` object which is very similar.\n"
     ]
    },
    {
     "name": "stdout",
     "output_type": "stream",
     "text": [
      "Michael Bublé\n",
      "Michael Bublé\n"
     ]
    },
    {
     "name": "stderr",
     "output_type": "stream",
     "text": [
      "Warning : `load_model` does not return WordVectorModel or SupervisedModel any more, but a `FastText` object which is very similar.\n",
      "Warning : `load_model` does not return WordVectorModel or SupervisedModel any more, but a `FastText` object which is very similar.\n",
      "Warning : `load_model` does not return WordVectorModel or SupervisedModel any more, but a `FastText` object which is very similar.\n"
     ]
    },
    {
     "name": "stdout",
     "output_type": "stream",
     "text": [
      "Michael Bublé\n",
      "KAROL G\n"
     ]
    },
    {
     "name": "stderr",
     "output_type": "stream",
     "text": [
      "Warning : `load_model` does not return WordVectorModel or SupervisedModel any more, but a `FastText` object which is very similar.\n",
      "Warning : `load_model` does not return WordVectorModel or SupervisedModel any more, but a `FastText` object which is very similar.\n"
     ]
    },
    {
     "name": "stdout",
     "output_type": "stream",
     "text": [
      "KAROL G\n"
     ]
    },
    {
     "name": "stderr",
     "output_type": "stream",
     "text": [
      "Warning : `load_model` does not return WordVectorModel or SupervisedModel any more, but a `FastText` object which is very similar.\n",
      "Warning : `load_model` does not return WordVectorModel or SupervisedModel any more, but a `FastText` object which is very similar.\n"
     ]
    },
    {
     "name": "stdout",
     "output_type": "stream",
     "text": [
      "KAROL G\n"
     ]
    },
    {
     "name": "stderr",
     "output_type": "stream",
     "text": [
      "Warning : `load_model` does not return WordVectorModel or SupervisedModel any more, but a `FastText` object which is very similar.\n",
      "Warning : `load_model` does not return WordVectorModel or SupervisedModel any more, but a `FastText` object which is very similar.\n"
     ]
    },
    {
     "name": "stdout",
     "output_type": "stream",
     "text": [
      "KAROL G\n"
     ]
    },
    {
     "name": "stderr",
     "output_type": "stream",
     "text": [
      "Warning : `load_model` does not return WordVectorModel or SupervisedModel any more, but a `FastText` object which is very similar.\n",
      "Warning : `load_model` does not return WordVectorModel or SupervisedModel any more, but a `FastText` object which is very similar.\n"
     ]
    },
    {
     "name": "stdout",
     "output_type": "stream",
     "text": [
      "KAROL G\n"
     ]
    },
    {
     "name": "stderr",
     "output_type": "stream",
     "text": [
      "Warning : `load_model` does not return WordVectorModel or SupervisedModel any more, but a `FastText` object which is very similar.\n",
      "Warning : `load_model` does not return WordVectorModel or SupervisedModel any more, but a `FastText` object which is very similar.\n"
     ]
    },
    {
     "name": "stdout",
     "output_type": "stream",
     "text": [
      "Joji\n",
      "Joji\n"
     ]
    },
    {
     "name": "stderr",
     "output_type": "stream",
     "text": [
      "Warning : `load_model` does not return WordVectorModel or SupervisedModel any more, but a `FastText` object which is very similar.\n",
      "Warning : `load_model` does not return WordVectorModel or SupervisedModel any more, but a `FastText` object which is very similar.\n",
      "Warning : `load_model` does not return WordVectorModel or SupervisedModel any more, but a `FastText` object which is very similar.\n",
      "Warning : `load_model` does not return WordVectorModel or SupervisedModel any more, but a `FastText` object which is very similar.\n",
      "Warning : `load_model` does not return WordVectorModel or SupervisedModel any more, but a `FastText` object which is very similar.\n"
     ]
    },
    {
     "name": "stdout",
     "output_type": "stream",
     "text": [
      "Joji\n"
     ]
    },
    {
     "name": "stderr",
     "output_type": "stream",
     "text": [
      "Warning : `load_model` does not return WordVectorModel or SupervisedModel any more, but a `FastText` object which is very similar.\n",
      "Warning : `load_model` does not return WordVectorModel or SupervisedModel any more, but a `FastText` object which is very similar.\n",
      "Warning : `load_model` does not return WordVectorModel or SupervisedModel any more, but a `FastText` object which is very similar.\n"
     ]
    },
    {
     "name": "stdout",
     "output_type": "stream",
     "text": [
      "Joji\n",
      "Joji\n"
     ]
    },
    {
     "name": "stderr",
     "output_type": "stream",
     "text": [
      "Warning : `load_model` does not return WordVectorModel or SupervisedModel any more, but a `FastText` object which is very similar.\n",
      "Warning : `load_model` does not return WordVectorModel or SupervisedModel any more, but a `FastText` object which is very similar.\n",
      "Warning : `load_model` does not return WordVectorModel or SupervisedModel any more, but a `FastText` object which is very similar.\n"
     ]
    },
    {
     "name": "stdout",
     "output_type": "stream",
     "text": [
      "Lady Gaga\n",
      "Lady Gaga\n"
     ]
    },
    {
     "name": "stderr",
     "output_type": "stream",
     "text": [
      "Warning : `load_model` does not return WordVectorModel or SupervisedModel any more, but a `FastText` object which is very similar.\n",
      "Warning : `load_model` does not return WordVectorModel or SupervisedModel any more, but a `FastText` object which is very similar.\n",
      "Warning : `load_model` does not return WordVectorModel or SupervisedModel any more, but a `FastText` object which is very similar.\n",
      "Warning : `load_model` does not return WordVectorModel or SupervisedModel any more, but a `FastText` object which is very similar.\n",
      "Warning : `load_model` does not return WordVectorModel or SupervisedModel any more, but a `FastText` object which is very similar.\n"
     ]
    },
    {
     "name": "stdout",
     "output_type": "stream",
     "text": [
      "Lady Gaga\n",
      "Lady Gaga\n",
      "Lady Gaga\n"
     ]
    },
    {
     "name": "stderr",
     "output_type": "stream",
     "text": [
      "Warning : `load_model` does not return WordVectorModel or SupervisedModel any more, but a `FastText` object which is very similar.\n",
      "Warning : `load_model` does not return WordVectorModel or SupervisedModel any more, but a `FastText` object which is very similar.\n",
      "Warning : `load_model` does not return WordVectorModel or SupervisedModel any more, but a `FastText` object which is very similar.\n",
      "Warning : `load_model` does not return WordVectorModel or SupervisedModel any more, but a `FastText` object which is very similar.\n",
      "Warning : `load_model` does not return WordVectorModel or SupervisedModel any more, but a `FastText` object which is very similar.\n",
      "Warning : `load_model` does not return WordVectorModel or SupervisedModel any more, but a `FastText` object which is very similar.\n",
      "Warning : `load_model` does not return WordVectorModel or SupervisedModel any more, but a `FastText` object which is very similar.\n"
     ]
    },
    {
     "name": "stdout",
     "output_type": "stream",
     "text": [
      "Beyoncé\n",
      "Beyoncé\n"
     ]
    },
    {
     "name": "stderr",
     "output_type": "stream",
     "text": [
      "Warning : `load_model` does not return WordVectorModel or SupervisedModel any more, but a `FastText` object which is very similar.\n",
      "Warning : `load_model` does not return WordVectorModel or SupervisedModel any more, but a `FastText` object which is very similar.\n",
      "Warning : `load_model` does not return WordVectorModel or SupervisedModel any more, but a `FastText` object which is very similar.\n",
      "Warning : `load_model` does not return WordVectorModel or SupervisedModel any more, but a `FastText` object which is very similar.\n",
      "Warning : `load_model` does not return WordVectorModel or SupervisedModel any more, but a `FastText` object which is very similar.\n"
     ]
    },
    {
     "name": "stdout",
     "output_type": "stream",
     "text": [
      "Beyoncé\n",
      "Beyoncé\n",
      "Beyoncé\n",
      "Chris Brown\n"
     ]
    },
    {
     "name": "stderr",
     "output_type": "stream",
     "text": [
      "Warning : `load_model` does not return WordVectorModel or SupervisedModel any more, but a `FastText` object which is very similar.\n",
      "Warning : `load_model` does not return WordVectorModel or SupervisedModel any more, but a `FastText` object which is very similar.\n",
      "Warning : `load_model` does not return WordVectorModel or SupervisedModel any more, but a `FastText` object which is very similar.\n",
      "Warning : `load_model` does not return WordVectorModel or SupervisedModel any more, but a `FastText` object which is very similar.\n"
     ]
    },
    {
     "name": "stdout",
     "output_type": "stream",
     "text": [
      "Chris Brown\n",
      "Chris Brown\n"
     ]
    },
    {
     "name": "stderr",
     "output_type": "stream",
     "text": [
      "Warning : `load_model` does not return WordVectorModel or SupervisedModel any more, but a `FastText` object which is very similar.\n",
      "Warning : `load_model` does not return WordVectorModel or SupervisedModel any more, but a `FastText` object which is very similar.\n",
      "Warning : `load_model` does not return WordVectorModel or SupervisedModel any more, but a `FastText` object which is very similar.\n",
      "Warning : `load_model` does not return WordVectorModel or SupervisedModel any more, but a `FastText` object which is very similar.\n",
      "Warning : `load_model` does not return WordVectorModel or SupervisedModel any more, but a `FastText` object which is very similar.\n",
      "Warning : `load_model` does not return WordVectorModel or SupervisedModel any more, but a `FastText` object which is very similar.\n",
      "Warning : `load_model` does not return WordVectorModel or SupervisedModel any more, but a `FastText` object which is very similar.\n"
     ]
    },
    {
     "name": "stdout",
     "output_type": "stream",
     "text": [
      "Chris Brown\n",
      "Future\n"
     ]
    },
    {
     "name": "stderr",
     "output_type": "stream",
     "text": [
      "Warning : `load_model` does not return WordVectorModel or SupervisedModel any more, but a `FastText` object which is very similar.\n",
      "Warning : `load_model` does not return WordVectorModel or SupervisedModel any more, but a `FastText` object which is very similar.\n",
      "Warning : `load_model` does not return WordVectorModel or SupervisedModel any more, but a `FastText` object which is very similar.\n"
     ]
    },
    {
     "name": "stdout",
     "output_type": "stream",
     "text": [
      "Future\n",
      "Anuel AA\n"
     ]
    },
    {
     "name": "stderr",
     "output_type": "stream",
     "text": [
      "Warning : `load_model` does not return WordVectorModel or SupervisedModel any more, but a `FastText` object which is very similar.\n",
      "Warning : `load_model` does not return WordVectorModel or SupervisedModel any more, but a `FastText` object which is very similar.\n"
     ]
    },
    {
     "name": "stdout",
     "output_type": "stream",
     "text": [
      "Anuel AA\n"
     ]
    },
    {
     "name": "stderr",
     "output_type": "stream",
     "text": [
      "Warning : `load_model` does not return WordVectorModel or SupervisedModel any more, but a `FastText` object which is very similar.\n",
      "Warning : `load_model` does not return WordVectorModel or SupervisedModel any more, but a `FastText` object which is very similar.\n"
     ]
    },
    {
     "name": "stdout",
     "output_type": "stream",
     "text": [
      "Anuel AA\n"
     ]
    },
    {
     "name": "stderr",
     "output_type": "stream",
     "text": [
      "Warning : `load_model` does not return WordVectorModel or SupervisedModel any more, but a `FastText` object which is very similar.\n",
      "Warning : `load_model` does not return WordVectorModel or SupervisedModel any more, but a `FastText` object which is very similar.\n"
     ]
    },
    {
     "name": "stdout",
     "output_type": "stream",
     "text": [
      "Anuel AA\n"
     ]
    },
    {
     "name": "stderr",
     "output_type": "stream",
     "text": [
      "Warning : `load_model` does not return WordVectorModel or SupervisedModel any more, but a `FastText` object which is very similar.\n",
      "Warning : `load_model` does not return WordVectorModel or SupervisedModel any more, but a `FastText` object which is very similar.\n"
     ]
    },
    {
     "name": "stdout",
     "output_type": "stream",
     "text": [
      "Anuel AA\n"
     ]
    },
    {
     "name": "stderr",
     "output_type": "stream",
     "text": [
      "Warning : `load_model` does not return WordVectorModel or SupervisedModel any more, but a `FastText` object which is very similar.\n",
      "Warning : `load_model` does not return WordVectorModel or SupervisedModel any more, but a `FastText` object which is very similar.\n"
     ]
    },
    {
     "name": "stdout",
     "output_type": "stream",
     "text": [
      "Bizarrap\n"
     ]
    },
    {
     "name": "stderr",
     "output_type": "stream",
     "text": [
      "Warning : `load_model` does not return WordVectorModel or SupervisedModel any more, but a `FastText` object which is very similar.\n",
      "Warning : `load_model` does not return WordVectorModel or SupervisedModel any more, but a `FastText` object which is very similar.\n"
     ]
    },
    {
     "name": "stdout",
     "output_type": "stream",
     "text": [
      "Bizarrap\n"
     ]
    },
    {
     "name": "stderr",
     "output_type": "stream",
     "text": [
      "Warning : `load_model` does not return WordVectorModel or SupervisedModel any more, but a `FastText` object which is very similar.\n",
      "Warning : `load_model` does not return WordVectorModel or SupervisedModel any more, but a `FastText` object which is very similar.\n"
     ]
    },
    {
     "name": "stdout",
     "output_type": "stream",
     "text": [
      "Bizarrap\n"
     ]
    },
    {
     "name": "stderr",
     "output_type": "stream",
     "text": [
      "Warning : `load_model` does not return WordVectorModel or SupervisedModel any more, but a `FastText` object which is very similar.\n",
      "Warning : `load_model` does not return WordVectorModel or SupervisedModel any more, but a `FastText` object which is very similar.\n"
     ]
    },
    {
     "name": "stdout",
     "output_type": "stream",
     "text": [
      "Bizarrap\n"
     ]
    },
    {
     "name": "stderr",
     "output_type": "stream",
     "text": [
      "Warning : `load_model` does not return WordVectorModel or SupervisedModel any more, but a `FastText` object which is very similar.\n",
      "Warning : `load_model` does not return WordVectorModel or SupervisedModel any more, but a `FastText` object which is very similar.\n"
     ]
    },
    {
     "name": "stdout",
     "output_type": "stream",
     "text": [
      "Bizarrap\n"
     ]
    },
    {
     "name": "stderr",
     "output_type": "stream",
     "text": [
      "Warning : `load_model` does not return WordVectorModel or SupervisedModel any more, but a `FastText` object which is very similar.\n",
      "Warning : `load_model` does not return WordVectorModel or SupervisedModel any more, but a `FastText` object which is very similar.\n"
     ]
    },
    {
     "name": "stdout",
     "output_type": "stream",
     "text": [
      "Mora\n"
     ]
    },
    {
     "name": "stderr",
     "output_type": "stream",
     "text": [
      "Warning : `load_model` does not return WordVectorModel or SupervisedModel any more, but a `FastText` object which is very similar.\n",
      "Warning : `load_model` does not return WordVectorModel or SupervisedModel any more, but a `FastText` object which is very similar.\n"
     ]
    },
    {
     "name": "stdout",
     "output_type": "stream",
     "text": [
      "Mora\n"
     ]
    },
    {
     "name": "stderr",
     "output_type": "stream",
     "text": [
      "Warning : `load_model` does not return WordVectorModel or SupervisedModel any more, but a `FastText` object which is very similar.\n",
      "Warning : `load_model` does not return WordVectorModel or SupervisedModel any more, but a `FastText` object which is very similar.\n"
     ]
    },
    {
     "name": "stdout",
     "output_type": "stream",
     "text": [
      "Mora\n"
     ]
    },
    {
     "name": "stderr",
     "output_type": "stream",
     "text": [
      "Warning : `load_model` does not return WordVectorModel or SupervisedModel any more, but a `FastText` object which is very similar.\n",
      "Warning : `load_model` does not return WordVectorModel or SupervisedModel any more, but a `FastText` object which is very similar.\n"
     ]
    },
    {
     "name": "stdout",
     "output_type": "stream",
     "text": [
      "Mora\n"
     ]
    },
    {
     "name": "stderr",
     "output_type": "stream",
     "text": [
      "Warning : `load_model` does not return WordVectorModel or SupervisedModel any more, but a `FastText` object which is very similar.\n",
      "Warning : `load_model` does not return WordVectorModel or SupervisedModel any more, but a `FastText` object which is very similar.\n"
     ]
    },
    {
     "name": "stdout",
     "output_type": "stream",
     "text": [
      "Mora\n"
     ]
    },
    {
     "name": "stderr",
     "output_type": "stream",
     "text": [
      "Warning : `load_model` does not return WordVectorModel or SupervisedModel any more, but a `FastText` object which is very similar.\n",
      "Warning : `load_model` does not return WordVectorModel or SupervisedModel any more, but a `FastText` object which is very similar.\n"
     ]
    },
    {
     "name": "stdout",
     "output_type": "stream",
     "text": [
      "BLACK PINK\n",
      "BLACK PINK\n"
     ]
    },
    {
     "name": "stderr",
     "output_type": "stream",
     "text": [
      "Warning : `load_model` does not return WordVectorModel or SupervisedModel any more, but a `FastText` object which is very similar.\n",
      "Warning : `load_model` does not return WordVectorModel or SupervisedModel any more, but a `FastText` object which is very similar.\n",
      "Warning : `load_model` does not return WordVectorModel or SupervisedModel any more, but a `FastText` object which is very similar.\n",
      "Warning : `load_model` does not return WordVectorModel or SupervisedModel any more, but a `FastText` object which is very similar.\n",
      "Warning : `load_model` does not return WordVectorModel or SupervisedModel any more, but a `FastText` object which is very similar.\n",
      "Warning : `load_model` does not return WordVectorModel or SupervisedModel any more, but a `FastText` object which is very similar.\n",
      "Warning : `load_model` does not return WordVectorModel or SupervisedModel any more, but a `FastText` object which is very similar.\n",
      "Warning : `load_model` does not return WordVectorModel or SupervisedModel any more, but a `FastText` object which is very similar.\n"
     ]
    },
    {
     "name": "stdout",
     "output_type": "stream",
     "text": [
      "BLACK PINK\n",
      "BLACK PINK\n",
      "BLACK PINK\n"
     ]
    },
    {
     "name": "stderr",
     "output_type": "stream",
     "text": [
      "Warning : `load_model` does not return WordVectorModel or SupervisedModel any more, but a `FastText` object which is very similar.\n",
      "Warning : `load_model` does not return WordVectorModel or SupervisedModel any more, but a `FastText` object which is very similar.\n",
      "Warning : `load_model` does not return WordVectorModel or SupervisedModel any more, but a `FastText` object which is very similar.\n"
     ]
    },
    {
     "name": "stdout",
     "output_type": "stream",
     "text": [
      "Maroon5\n"
     ]
    },
    {
     "name": "stderr",
     "output_type": "stream",
     "text": [
      "Warning : `load_model` does not return WordVectorModel or SupervisedModel any more, but a `FastText` object which is very similar.\n",
      "Warning : `load_model` does not return WordVectorModel or SupervisedModel any more, but a `FastText` object which is very similar.\n",
      "Warning : `load_model` does not return WordVectorModel or SupervisedModel any more, but a `FastText` object which is very similar.\n"
     ]
    },
    {
     "name": "stdout",
     "output_type": "stream",
     "text": [
      "Maroon5\n",
      "Maroon5\n"
     ]
    },
    {
     "name": "stderr",
     "output_type": "stream",
     "text": [
      "Warning : `load_model` does not return WordVectorModel or SupervisedModel any more, but a `FastText` object which is very similar.\n",
      "Warning : `load_model` does not return WordVectorModel or SupervisedModel any more, but a `FastText` object which is very similar.\n",
      "Warning : `load_model` does not return WordVectorModel or SupervisedModel any more, but a `FastText` object which is very similar.\n"
     ]
    },
    {
     "name": "stdout",
     "output_type": "stream",
     "text": [
      "Maroon5\n",
      "Maroon5\n"
     ]
    },
    {
     "name": "stderr",
     "output_type": "stream",
     "text": [
      "Warning : `load_model` does not return WordVectorModel or SupervisedModel any more, but a `FastText` object which is very similar.\n",
      "Warning : `load_model` does not return WordVectorModel or SupervisedModel any more, but a `FastText` object which is very similar.\n",
      "Warning : `load_model` does not return WordVectorModel or SupervisedModel any more, but a `FastText` object which is very similar.\n",
      "Warning : `load_model` does not return WordVectorModel or SupervisedModel any more, but a `FastText` object which is very similar.\n"
     ]
    },
    {
     "name": "stdout",
     "output_type": "stream",
     "text": [
      "Adele\n",
      "Adele\n"
     ]
    },
    {
     "name": "stderr",
     "output_type": "stream",
     "text": [
      "Warning : `load_model` does not return WordVectorModel or SupervisedModel any more, but a `FastText` object which is very similar.\n",
      "Warning : `load_model` does not return WordVectorModel or SupervisedModel any more, but a `FastText` object which is very similar.\n",
      "Warning : `load_model` does not return WordVectorModel or SupervisedModel any more, but a `FastText` object which is very similar.\n"
     ]
    },
    {
     "name": "stdout",
     "output_type": "stream",
     "text": [
      "Adele\n",
      "Adele\n"
     ]
    },
    {
     "name": "stderr",
     "output_type": "stream",
     "text": [
      "Warning : `load_model` does not return WordVectorModel or SupervisedModel any more, but a `FastText` object which is very similar.\n",
      "Warning : `load_model` does not return WordVectorModel or SupervisedModel any more, but a `FastText` object which is very similar.\n",
      "Warning : `load_model` does not return WordVectorModel or SupervisedModel any more, but a `FastText` object which is very similar.\n",
      "Warning : `load_model` does not return WordVectorModel or SupervisedModel any more, but a `FastText` object which is very similar.\n",
      "Warning : `load_model` does not return WordVectorModel or SupervisedModel any more, but a `FastText` object which is very similar.\n",
      "Warning : `load_model` does not return WordVectorModel or SupervisedModel any more, but a `FastText` object which is very similar.\n",
      "Warning : `load_model` does not return WordVectorModel or SupervisedModel any more, but a `FastText` object which is very similar.\n"
     ]
    },
    {
     "name": "stdout",
     "output_type": "stream",
     "text": [
      "Adele\n",
      "Junior H\n"
     ]
    },
    {
     "name": "stderr",
     "output_type": "stream",
     "text": [
      "Warning : `load_model` does not return WordVectorModel or SupervisedModel any more, but a `FastText` object which is very similar.\n"
     ]
    },
    {
     "name": "stdout",
     "output_type": "stream",
     "text": [
      "Junior H\n"
     ]
    },
    {
     "name": "stderr",
     "output_type": "stream",
     "text": [
      "Warning : `load_model` does not return WordVectorModel or SupervisedModel any more, but a `FastText` object which is very similar.\n",
      "Warning : `load_model` does not return WordVectorModel or SupervisedModel any more, but a `FastText` object which is very similar.\n"
     ]
    },
    {
     "name": "stdout",
     "output_type": "stream",
     "text": [
      "Junior H\n"
     ]
    },
    {
     "name": "stderr",
     "output_type": "stream",
     "text": [
      "Warning : `load_model` does not return WordVectorModel or SupervisedModel any more, but a `FastText` object which is very similar.\n",
      "Warning : `load_model` does not return WordVectorModel or SupervisedModel any more, but a `FastText` object which is very similar.\n"
     ]
    },
    {
     "name": "stdout",
     "output_type": "stream",
     "text": [
      "Junior H\n"
     ]
    },
    {
     "name": "stderr",
     "output_type": "stream",
     "text": [
      "Warning : `load_model` does not return WordVectorModel or SupervisedModel any more, but a `FastText` object which is very similar.\n",
      "Warning : `load_model` does not return WordVectorModel or SupervisedModel any more, but a `FastText` object which is very similar.\n"
     ]
    },
    {
     "name": "stdout",
     "output_type": "stream",
     "text": [
      "Junior H\n"
     ]
    },
    {
     "name": "stderr",
     "output_type": "stream",
     "text": [
      "Warning : `load_model` does not return WordVectorModel or SupervisedModel any more, but a `FastText` object which is very similar.\n",
      "Warning : `load_model` does not return WordVectorModel or SupervisedModel any more, but a `FastText` object which is very similar.\n"
     ]
    },
    {
     "name": "stdout",
     "output_type": "stream",
     "text": [
      "Queen\n",
      "Queen\n"
     ]
    },
    {
     "name": "stderr",
     "output_type": "stream",
     "text": [
      "Warning : `load_model` does not return WordVectorModel or SupervisedModel any more, but a `FastText` object which is very similar.\n",
      "Warning : `load_model` does not return WordVectorModel or SupervisedModel any more, but a `FastText` object which is very similar.\n",
      "Warning : `load_model` does not return WordVectorModel or SupervisedModel any more, but a `FastText` object which is very similar.\n",
      "Warning : `load_model` does not return WordVectorModel or SupervisedModel any more, but a `FastText` object which is very similar.\n",
      "Warning : `load_model` does not return WordVectorModel or SupervisedModel any more, but a `FastText` object which is very similar.\n",
      "Warning : `load_model` does not return WordVectorModel or SupervisedModel any more, but a `FastText` object which is very similar.\n"
     ]
    },
    {
     "name": "stdout",
     "output_type": "stream",
     "text": [
      "Mariah Carey\n",
      "Mariah Carey\n"
     ]
    },
    {
     "name": "stderr",
     "output_type": "stream",
     "text": [
      "Warning : `load_model` does not return WordVectorModel or SupervisedModel any more, but a `FastText` object which is very similar.\n",
      "Warning : `load_model` does not return WordVectorModel or SupervisedModel any more, but a `FastText` object which is very similar.\n",
      "Warning : `load_model` does not return WordVectorModel or SupervisedModel any more, but a `FastText` object which is very similar.\n"
     ]
    },
    {
     "name": "stdout",
     "output_type": "stream",
     "text": [
      "Mariah Carey\n",
      "Mariah Carey\n"
     ]
    },
    {
     "name": "stderr",
     "output_type": "stream",
     "text": [
      "Warning : `load_model` does not return WordVectorModel or SupervisedModel any more, but a `FastText` object which is very similar.\n",
      "Warning : `load_model` does not return WordVectorModel or SupervisedModel any more, but a `FastText` object which is very similar.\n",
      "Warning : `load_model` does not return WordVectorModel or SupervisedModel any more, but a `FastText` object which is very similar.\n",
      "Warning : `load_model` does not return WordVectorModel or SupervisedModel any more, but a `FastText` object which is very similar.\n"
     ]
    },
    {
     "name": "stdout",
     "output_type": "stream",
     "text": [
      "Mariah Carey\n",
      "J. Cole\n"
     ]
    },
    {
     "name": "stderr",
     "output_type": "stream",
     "text": [
      "Warning : `load_model` does not return WordVectorModel or SupervisedModel any more, but a `FastText` object which is very similar.\n",
      "Warning : `load_model` does not return WordVectorModel or SupervisedModel any more, but a `FastText` object which is very similar.\n",
      "Warning : `load_model` does not return WordVectorModel or SupervisedModel any more, but a `FastText` object which is very similar.\n",
      "Warning : `load_model` does not return WordVectorModel or SupervisedModel any more, but a `FastText` object which is very similar.\n"
     ]
    },
    {
     "name": "stdout",
     "output_type": "stream",
     "text": [
      "J. Cole\n"
     ]
    },
    {
     "name": "stderr",
     "output_type": "stream",
     "text": [
      "Warning : `load_model` does not return WordVectorModel or SupervisedModel any more, but a `FastText` object which is very similar.\n",
      "Warning : `load_model` does not return WordVectorModel or SupervisedModel any more, but a `FastText` object which is very similar.\n",
      "Warning : `load_model` does not return WordVectorModel or SupervisedModel any more, but a `FastText` object which is very similar.\n"
     ]
    },
    {
     "name": "stdout",
     "output_type": "stream",
     "text": [
      "J. Cole\n",
      "J. Cole\n"
     ]
    },
    {
     "name": "stderr",
     "output_type": "stream",
     "text": [
      "Warning : `load_model` does not return WordVectorModel or SupervisedModel any more, but a `FastText` object which is very similar.\n",
      "Warning : `load_model` does not return WordVectorModel or SupervisedModel any more, but a `FastText` object which is very similar.\n",
      "Warning : `load_model` does not return WordVectorModel or SupervisedModel any more, but a `FastText` object which is very similar.\n",
      "Warning : `load_model` does not return WordVectorModel or SupervisedModel any more, but a `FastText` object which is very similar.\n"
     ]
    },
    {
     "name": "stdout",
     "output_type": "stream",
     "text": [
      "J. Cole\n",
      "Elton John\n",
      "Elton John\n"
     ]
    },
    {
     "name": "stderr",
     "output_type": "stream",
     "text": [
      "Warning : `load_model` does not return WordVectorModel or SupervisedModel any more, but a `FastText` object which is very similar.\n",
      "Warning : `load_model` does not return WordVectorModel or SupervisedModel any more, but a `FastText` object which is very similar.\n",
      "Warning : `load_model` does not return WordVectorModel or SupervisedModel any more, but a `FastText` object which is very similar.\n",
      "Warning : `load_model` does not return WordVectorModel or SupervisedModel any more, but a `FastText` object which is very similar.\n"
     ]
    },
    {
     "name": "stdout",
     "output_type": "stream",
     "text": [
      "Elton John\n"
     ]
    },
    {
     "name": "stderr",
     "output_type": "stream",
     "text": [
      "Warning : `load_model` does not return WordVectorModel or SupervisedModel any more, but a `FastText` object which is very similar.\n",
      "Warning : `load_model` does not return WordVectorModel or SupervisedModel any more, but a `FastText` object which is very similar.\n"
     ]
    },
    {
     "name": "stdout",
     "output_type": "stream",
     "text": [
      "Elton John\n",
      "$uicideboy$\n",
      "$uicideboy$\n"
     ]
    },
    {
     "name": "stderr",
     "output_type": "stream",
     "text": [
      "Warning : `load_model` does not return WordVectorModel or SupervisedModel any more, but a `FastText` object which is very similar.\n",
      "Warning : `load_model` does not return WordVectorModel or SupervisedModel any more, but a `FastText` object which is very similar.\n",
      "Warning : `load_model` does not return WordVectorModel or SupervisedModel any more, but a `FastText` object which is very similar.\n",
      "Warning : `load_model` does not return WordVectorModel or SupervisedModel any more, but a `FastText` object which is very similar.\n",
      "Warning : `load_model` does not return WordVectorModel or SupervisedModel any more, but a `FastText` object which is very similar.\n",
      "Warning : `load_model` does not return WordVectorModel or SupervisedModel any more, but a `FastText` object which is very similar.\n",
      "Warning : `load_model` does not return WordVectorModel or SupervisedModel any more, but a `FastText` object which is very similar.\n",
      "Warning : `load_model` does not return WordVectorModel or SupervisedModel any more, but a `FastText` object which is very similar.\n",
      "Warning : `load_model` does not return WordVectorModel or SupervisedModel any more, but a `FastText` object which is very similar.\n",
      "Warning : `load_model` does not return WordVectorModel or SupervisedModel any more, but a `FastText` object which is very similar.\n"
     ]
    },
    {
     "name": "stdout",
     "output_type": "stream",
     "text": [
      "$uicideboy$\n",
      "$uicideboy$\n",
      "$uicideboy$\n",
      "The Neighbourhood\n"
     ]
    },
    {
     "name": "stderr",
     "output_type": "stream",
     "text": [
      "Warning : `load_model` does not return WordVectorModel or SupervisedModel any more, but a `FastText` object which is very similar.\n",
      "Warning : `load_model` does not return WordVectorModel or SupervisedModel any more, but a `FastText` object which is very similar.\n",
      "Warning : `load_model` does not return WordVectorModel or SupervisedModel any more, but a `FastText` object which is very similar.\n",
      "Warning : `load_model` does not return WordVectorModel or SupervisedModel any more, but a `FastText` object which is very similar.\n"
     ]
    },
    {
     "name": "stdout",
     "output_type": "stream",
     "text": [
      "The Neighbourhood\n",
      "The Neighbourhood\n",
      "The Neighbourhood\n"
     ]
    },
    {
     "name": "stderr",
     "output_type": "stream",
     "text": [
      "Warning : `load_model` does not return WordVectorModel or SupervisedModel any more, but a `FastText` object which is very similar.\n",
      "Warning : `load_model` does not return WordVectorModel or SupervisedModel any more, but a `FastText` object which is very similar.\n",
      "Warning : `load_model` does not return WordVectorModel or SupervisedModel any more, but a `FastText` object which is very similar.\n",
      "Warning : `load_model` does not return WordVectorModel or SupervisedModel any more, but a `FastText` object which is very similar.\n",
      "Warning : `load_model` does not return WordVectorModel or SupervisedModel any more, but a `FastText` object which is very similar.\n",
      "Warning : `load_model` does not return WordVectorModel or SupervisedModel any more, but a `FastText` object which is very similar.\n",
      "Warning : `load_model` does not return WordVectorModel or SupervisedModel any more, but a `FastText` object which is very similar.\n",
      "Warning : `load_model` does not return WordVectorModel or SupervisedModel any more, but a `FastText` object which is very similar.\n",
      "Warning : `load_model` does not return WordVectorModel or SupervisedModel any more, but a `FastText` object which is very similar.\n"
     ]
    },
    {
     "name": "stdout",
     "output_type": "stream",
     "text": [
      "The Neighbourhood\n",
      "One Direction\n"
     ]
    },
    {
     "name": "stderr",
     "output_type": "stream",
     "text": [
      "Warning : `load_model` does not return WordVectorModel or SupervisedModel any more, but a `FastText` object which is very similar.\n",
      "Warning : `load_model` does not return WordVectorModel or SupervisedModel any more, but a `FastText` object which is very similar.\n",
      "Warning : `load_model` does not return WordVectorModel or SupervisedModel any more, but a `FastText` object which is very similar.\n",
      "Warning : `load_model` does not return WordVectorModel or SupervisedModel any more, but a `FastText` object which is very similar.\n",
      "Warning : `load_model` does not return WordVectorModel or SupervisedModel any more, but a `FastText` object which is very similar.\n",
      "Warning : `load_model` does not return WordVectorModel or SupervisedModel any more, but a `FastText` object which is very similar.\n"
     ]
    },
    {
     "name": "stdout",
     "output_type": "stream",
     "text": [
      "One Direction\n",
      "One Direction\n",
      "One Direction\n"
     ]
    },
    {
     "name": "stderr",
     "output_type": "stream",
     "text": [
      "Warning : `load_model` does not return WordVectorModel or SupervisedModel any more, but a `FastText` object which is very similar.\n",
      "Warning : `load_model` does not return WordVectorModel or SupervisedModel any more, but a `FastText` object which is very similar.\n",
      "Warning : `load_model` does not return WordVectorModel or SupervisedModel any more, but a `FastText` object which is very similar.\n",
      "Warning : `load_model` does not return WordVectorModel or SupervisedModel any more, but a `FastText` object which is very similar.\n"
     ]
    },
    {
     "name": "stdout",
     "output_type": "stream",
     "text": [
      "One Direction\n",
      "Sia\n"
     ]
    },
    {
     "name": "stderr",
     "output_type": "stream",
     "text": [
      "Warning : `load_model` does not return WordVectorModel or SupervisedModel any more, but a `FastText` object which is very similar.\n",
      "Warning : `load_model` does not return WordVectorModel or SupervisedModel any more, but a `FastText` object which is very similar.\n",
      "Warning : `load_model` does not return WordVectorModel or SupervisedModel any more, but a `FastText` object which is very similar.\n",
      "Warning : `load_model` does not return WordVectorModel or SupervisedModel any more, but a `FastText` object which is very similar.\n",
      "Warning : `load_model` does not return WordVectorModel or SupervisedModel any more, but a `FastText` object which is very similar.\n"
     ]
    },
    {
     "name": "stdout",
     "output_type": "stream",
     "text": [
      "Sia\n",
      "Sia\n",
      "Sia\n",
      "Sia\n"
     ]
    },
    {
     "name": "stderr",
     "output_type": "stream",
     "text": [
      "Warning : `load_model` does not return WordVectorModel or SupervisedModel any more, but a `FastText` object which is very similar.\n",
      "Warning : `load_model` does not return WordVectorModel or SupervisedModel any more, but a `FastText` object which is very similar.\n",
      "Warning : `load_model` does not return WordVectorModel or SupervisedModel any more, but a `FastText` object which is very similar.\n",
      "Warning : `load_model` does not return WordVectorModel or SupervisedModel any more, but a `FastText` object which is very similar.\n",
      "Warning : `load_model` does not return WordVectorModel or SupervisedModel any more, but a `FastText` object which is very similar.\n",
      "Warning : `load_model` does not return WordVectorModel or SupervisedModel any more, but a `FastText` object which is very similar.\n"
     ]
    },
    {
     "name": "stdout",
     "output_type": "stream",
     "text": [
      "Morat\n",
      "Morat\n"
     ]
    },
    {
     "name": "stderr",
     "output_type": "stream",
     "text": [
      "Warning : `load_model` does not return WordVectorModel or SupervisedModel any more, but a `FastText` object which is very similar.\n",
      "Warning : `load_model` does not return WordVectorModel or SupervisedModel any more, but a `FastText` object which is very similar.\n"
     ]
    },
    {
     "name": "stdout",
     "output_type": "stream",
     "text": [
      "Morat\n"
     ]
    },
    {
     "name": "stderr",
     "output_type": "stream",
     "text": [
      "Warning : `load_model` does not return WordVectorModel or SupervisedModel any more, but a `FastText` object which is very similar.\n",
      "Warning : `load_model` does not return WordVectorModel or SupervisedModel any more, but a `FastText` object which is very similar.\n"
     ]
    },
    {
     "name": "stdout",
     "output_type": "stream",
     "text": [
      "Morat\n"
     ]
    },
    {
     "name": "stderr",
     "output_type": "stream",
     "text": [
      "Warning : `load_model` does not return WordVectorModel or SupervisedModel any more, but a `FastText` object which is very similar.\n",
      "Warning : `load_model` does not return WordVectorModel or SupervisedModel any more, but a `FastText` object which is very similar.\n"
     ]
    },
    {
     "name": "stdout",
     "output_type": "stream",
     "text": [
      "Morat\n"
     ]
    },
    {
     "name": "stderr",
     "output_type": "stream",
     "text": [
      "Warning : `load_model` does not return WordVectorModel or SupervisedModel any more, but a `FastText` object which is very similar.\n",
      "Warning : `load_model` does not return WordVectorModel or SupervisedModel any more, but a `FastText` object which is very similar.\n"
     ]
    },
    {
     "name": "stdout",
     "output_type": "stream",
     "text": [
      "Katy Perry\n",
      "Katy Perry\n"
     ]
    },
    {
     "name": "stderr",
     "output_type": "stream",
     "text": [
      "Warning : `load_model` does not return WordVectorModel or SupervisedModel any more, but a `FastText` object which is very similar.\n",
      "Warning : `load_model` does not return WordVectorModel or SupervisedModel any more, but a `FastText` object which is very similar.\n",
      "Warning : `load_model` does not return WordVectorModel or SupervisedModel any more, but a `FastText` object which is very similar.\n",
      "Warning : `load_model` does not return WordVectorModel or SupervisedModel any more, but a `FastText` object which is very similar.\n",
      "Warning : `load_model` does not return WordVectorModel or SupervisedModel any more, but a `FastText` object which is very similar.\n",
      "Warning : `load_model` does not return WordVectorModel or SupervisedModel any more, but a `FastText` object which is very similar.\n",
      "Warning : `load_model` does not return WordVectorModel or SupervisedModel any more, but a `FastText` object which is very similar.\n"
     ]
    },
    {
     "name": "stdout",
     "output_type": "stream",
     "text": [
      "Katy Perry\n",
      "Katy Perry\n"
     ]
    },
    {
     "name": "stderr",
     "output_type": "stream",
     "text": [
      "Warning : `load_model` does not return WordVectorModel or SupervisedModel any more, but a `FastText` object which is very similar.\n",
      "Warning : `load_model` does not return WordVectorModel or SupervisedModel any more, but a `FastText` object which is very similar.\n",
      "Warning : `load_model` does not return WordVectorModel or SupervisedModel any more, but a `FastText` object which is very similar.\n"
     ]
    },
    {
     "name": "stdout",
     "output_type": "stream",
     "text": [
      "Katy Perry\n",
      "Duki\n"
     ]
    },
    {
     "name": "stderr",
     "output_type": "stream",
     "text": [
      "Warning : `load_model` does not return WordVectorModel or SupervisedModel any more, but a `FastText` object which is very similar.\n",
      "Warning : `load_model` does not return WordVectorModel or SupervisedModel any more, but a `FastText` object which is very similar.\n"
     ]
    },
    {
     "name": "stdout",
     "output_type": "stream",
     "text": [
      "Duki\n"
     ]
    },
    {
     "name": "stderr",
     "output_type": "stream",
     "text": [
      "Warning : `load_model` does not return WordVectorModel or SupervisedModel any more, but a `FastText` object which is very similar.\n",
      "Warning : `load_model` does not return WordVectorModel or SupervisedModel any more, but a `FastText` object which is very similar.\n"
     ]
    },
    {
     "name": "stdout",
     "output_type": "stream",
     "text": [
      "Duki\n"
     ]
    },
    {
     "name": "stderr",
     "output_type": "stream",
     "text": [
      "Warning : `load_model` does not return WordVectorModel or SupervisedModel any more, but a `FastText` object which is very similar.\n",
      "Warning : `load_model` does not return WordVectorModel or SupervisedModel any more, but a `FastText` object which is very similar.\n"
     ]
    },
    {
     "name": "stdout",
     "output_type": "stream",
     "text": [
      "Duki\n"
     ]
    },
    {
     "name": "stderr",
     "output_type": "stream",
     "text": [
      "Warning : `load_model` does not return WordVectorModel or SupervisedModel any more, but a `FastText` object which is very similar.\n",
      "Warning : `load_model` does not return WordVectorModel or SupervisedModel any more, but a `FastText` object which is very similar.\n"
     ]
    },
    {
     "name": "stdout",
     "output_type": "stream",
     "text": [
      "Duki\n"
     ]
    },
    {
     "name": "stderr",
     "output_type": "stream",
     "text": [
      "Warning : `load_model` does not return WordVectorModel or SupervisedModel any more, but a `FastText` object which is very similar.\n",
      "Warning : `load_model` does not return WordVectorModel or SupervisedModel any more, but a `FastText` object which is very similar.\n"
     ]
    },
    {
     "name": "stdout",
     "output_type": "stream",
     "text": [
      "ROSALÍA\n"
     ]
    },
    {
     "name": "stderr",
     "output_type": "stream",
     "text": [
      "Warning : `load_model` does not return WordVectorModel or SupervisedModel any more, but a `FastText` object which is very similar.\n",
      "Warning : `load_model` does not return WordVectorModel or SupervisedModel any more, but a `FastText` object which is very similar.\n"
     ]
    },
    {
     "name": "stdout",
     "output_type": "stream",
     "text": [
      "ROSALÍA\n"
     ]
    },
    {
     "name": "stderr",
     "output_type": "stream",
     "text": [
      "Warning : `load_model` does not return WordVectorModel or SupervisedModel any more, but a `FastText` object which is very similar.\n",
      "Warning : `load_model` does not return WordVectorModel or SupervisedModel any more, but a `FastText` object which is very similar.\n"
     ]
    },
    {
     "name": "stdout",
     "output_type": "stream",
     "text": [
      "ROSALÍA\n"
     ]
    },
    {
     "name": "stderr",
     "output_type": "stream",
     "text": [
      "Warning : `load_model` does not return WordVectorModel or SupervisedModel any more, but a `FastText` object which is very similar.\n",
      "Warning : `load_model` does not return WordVectorModel or SupervisedModel any more, but a `FastText` object which is very similar.\n"
     ]
    },
    {
     "name": "stdout",
     "output_type": "stream",
     "text": [
      "ROSALÍA\n"
     ]
    },
    {
     "name": "stderr",
     "output_type": "stream",
     "text": [
      "Warning : `load_model` does not return WordVectorModel or SupervisedModel any more, but a `FastText` object which is very similar.\n",
      "Warning : `load_model` does not return WordVectorModel or SupervisedModel any more, but a `FastText` object which is very similar.\n"
     ]
    },
    {
     "name": "stdout",
     "output_type": "stream",
     "text": [
      "ROSALÍA\n"
     ]
    },
    {
     "name": "stderr",
     "output_type": "stream",
     "text": [
      "Warning : `load_model` does not return WordVectorModel or SupervisedModel any more, but a `FastText` object which is very similar.\n",
      "Warning : `load_model` does not return WordVectorModel or SupervisedModel any more, but a `FastText` object which is very similar.\n"
     ]
    },
    {
     "name": "stdout",
     "output_type": "stream",
     "text": [
      "Khalid\n"
     ]
    },
    {
     "name": "stderr",
     "output_type": "stream",
     "text": [
      "Warning : `load_model` does not return WordVectorModel or SupervisedModel any more, but a `FastText` object which is very similar.\n",
      "Warning : `load_model` does not return WordVectorModel or SupervisedModel any more, but a `FastText` object which is very similar.\n"
     ]
    },
    {
     "name": "stdout",
     "output_type": "stream",
     "text": [
      "Khalid\n",
      "Khalid\n",
      "Khalid\n"
     ]
    },
    {
     "name": "stderr",
     "output_type": "stream",
     "text": [
      "Warning : `load_model` does not return WordVectorModel or SupervisedModel any more, but a `FastText` object which is very similar.\n",
      "Warning : `load_model` does not return WordVectorModel or SupervisedModel any more, but a `FastText` object which is very similar.\n",
      "Warning : `load_model` does not return WordVectorModel or SupervisedModel any more, but a `FastText` object which is very similar.\n",
      "Warning : `load_model` does not return WordVectorModel or SupervisedModel any more, but a `FastText` object which is very similar.\n",
      "Warning : `load_model` does not return WordVectorModel or SupervisedModel any more, but a `FastText` object which is very similar.\n",
      "Warning : `load_model` does not return WordVectorModel or SupervisedModel any more, but a `FastText` object which is very similar.\n",
      "Warning : `load_model` does not return WordVectorModel or SupervisedModel any more, but a `FastText` object which is very similar.\n",
      "Warning : `load_model` does not return WordVectorModel or SupervisedModel any more, but a `FastText` object which is very similar.\n"
     ]
    },
    {
     "name": "stdout",
     "output_type": "stream",
     "text": [
      "Khalid\n",
      "Manuel Turizo\n"
     ]
    },
    {
     "name": "stderr",
     "output_type": "stream",
     "text": [
      "Warning : `load_model` does not return WordVectorModel or SupervisedModel any more, but a `FastText` object which is very similar.\n",
      "Warning : `load_model` does not return WordVectorModel or SupervisedModel any more, but a `FastText` object which is very similar.\n"
     ]
    },
    {
     "name": "stdout",
     "output_type": "stream",
     "text": [
      "Manuel Turizo\n"
     ]
    },
    {
     "name": "stderr",
     "output_type": "stream",
     "text": [
      "Warning : `load_model` does not return WordVectorModel or SupervisedModel any more, but a `FastText` object which is very similar.\n",
      "Warning : `load_model` does not return WordVectorModel or SupervisedModel any more, but a `FastText` object which is very similar.\n"
     ]
    },
    {
     "name": "stdout",
     "output_type": "stream",
     "text": [
      "Manuel Turizo\n"
     ]
    },
    {
     "name": "stderr",
     "output_type": "stream",
     "text": [
      "Warning : `load_model` does not return WordVectorModel or SupervisedModel any more, but a `FastText` object which is very similar.\n",
      "Warning : `load_model` does not return WordVectorModel or SupervisedModel any more, but a `FastText` object which is very similar.\n"
     ]
    },
    {
     "name": "stdout",
     "output_type": "stream",
     "text": [
      "Manuel Turizo\n"
     ]
    },
    {
     "name": "stderr",
     "output_type": "stream",
     "text": [
      "Warning : `load_model` does not return WordVectorModel or SupervisedModel any more, but a `FastText` object which is very similar.\n",
      "Warning : `load_model` does not return WordVectorModel or SupervisedModel any more, but a `FastText` object which is very similar.\n"
     ]
    },
    {
     "name": "stdout",
     "output_type": "stream",
     "text": [
      "Manuel Turizo\n"
     ]
    },
    {
     "name": "stderr",
     "output_type": "stream",
     "text": [
      "Warning : `load_model` does not return WordVectorModel or SupervisedModel any more, but a `FastText` object which is very similar.\n",
      "Warning : `load_model` does not return WordVectorModel or SupervisedModel any more, but a `FastText` object which is very similar.\n"
     ]
    },
    {
     "name": "stdout",
     "output_type": "stream",
     "text": [
      "Lil Uzi Vert\n",
      "Lil Uzi Vert\n"
     ]
    },
    {
     "name": "stderr",
     "output_type": "stream",
     "text": [
      "Warning : `load_model` does not return WordVectorModel or SupervisedModel any more, but a `FastText` object which is very similar.\n",
      "Warning : `load_model` does not return WordVectorModel or SupervisedModel any more, but a `FastText` object which is very similar.\n",
      "Warning : `load_model` does not return WordVectorModel or SupervisedModel any more, but a `FastText` object which is very similar.\n",
      "Warning : `load_model` does not return WordVectorModel or SupervisedModel any more, but a `FastText` object which is very similar.\n",
      "Warning : `load_model` does not return WordVectorModel or SupervisedModel any more, but a `FastText` object which is very similar.\n"
     ]
    },
    {
     "name": "stdout",
     "output_type": "stream",
     "text": [
      "Lil Uzi Vert\n"
     ]
    },
    {
     "name": "stderr",
     "output_type": "stream",
     "text": [
      "Warning : `load_model` does not return WordVectorModel or SupervisedModel any more, but a `FastText` object which is very similar.\n",
      "Warning : `load_model` does not return WordVectorModel or SupervisedModel any more, but a `FastText` object which is very similar.\n",
      "Warning : `load_model` does not return WordVectorModel or SupervisedModel any more, but a `FastText` object which is very similar.\n"
     ]
    },
    {
     "name": "stdout",
     "output_type": "stream",
     "text": [
      "Lil Uzi Vert\n",
      "Lil Uzi Vert\n"
     ]
    },
    {
     "name": "stderr",
     "output_type": "stream",
     "text": [
      "Warning : `load_model` does not return WordVectorModel or SupervisedModel any more, but a `FastText` object which is very similar.\n",
      "Warning : `load_model` does not return WordVectorModel or SupervisedModel any more, but a `FastText` object which is very similar.\n"
     ]
    },
    {
     "name": "stdout",
     "output_type": "stream",
     "text": [
      "A. R. Rahman\n"
     ]
    },
    {
     "name": "stderr",
     "output_type": "stream",
     "text": [
      "Warning : `load_model` does not return WordVectorModel or SupervisedModel any more, but a `FastText` object which is very similar.\n",
      "Warning : `load_model` does not return WordVectorModel or SupervisedModel any more, but a `FastText` object which is very similar.\n",
      "Warning : `load_model` does not return WordVectorModel or SupervisedModel any more, but a `FastText` object which is very similar.\n"
     ]
    },
    {
     "name": "stdout",
     "output_type": "stream",
     "text": [
      "Selena Gomez\n",
      "Selena Gomez\n"
     ]
    },
    {
     "name": "stderr",
     "output_type": "stream",
     "text": [
      "Warning : `load_model` does not return WordVectorModel or SupervisedModel any more, but a `FastText` object which is very similar.\n",
      "Warning : `load_model` does not return WordVectorModel or SupervisedModel any more, but a `FastText` object which is very similar.\n",
      "Warning : `load_model` does not return WordVectorModel or SupervisedModel any more, but a `FastText` object which is very similar.\n"
     ]
    },
    {
     "name": "stdout",
     "output_type": "stream",
     "text": [
      "Selena Gomez\n",
      "Selena Gomez\n"
     ]
    },
    {
     "name": "stderr",
     "output_type": "stream",
     "text": [
      "Warning : `load_model` does not return WordVectorModel or SupervisedModel any more, but a `FastText` object which is very similar.\n",
      "Warning : `load_model` does not return WordVectorModel or SupervisedModel any more, but a `FastText` object which is very similar.\n",
      "Warning : `load_model` does not return WordVectorModel or SupervisedModel any more, but a `FastText` object which is very similar.\n",
      "Warning : `load_model` does not return WordVectorModel or SupervisedModel any more, but a `FastText` object which is very similar.\n",
      "Warning : `load_model` does not return WordVectorModel or SupervisedModel any more, but a `FastText` object which is very similar.\n",
      "Warning : `load_model` does not return WordVectorModel or SupervisedModel any more, but a `FastText` object which is very similar.\n",
      "Warning : `load_model` does not return WordVectorModel or SupervisedModel any more, but a `FastText` object which is very similar.\n",
      "Warning : `load_model` does not return WordVectorModel or SupervisedModel any more, but a `FastText` object which is very similar.\n",
      "Warning : `load_model` does not return WordVectorModel or SupervisedModel any more, but a `FastText` object which is very similar.\n"
     ]
    },
    {
     "name": "stdout",
     "output_type": "stream",
     "text": [
      "Selena Gomez\n",
      "Shawn Mendes\n",
      "Shawn Mendes\n"
     ]
    },
    {
     "name": "stderr",
     "output_type": "stream",
     "text": [
      "Warning : `load_model` does not return WordVectorModel or SupervisedModel any more, but a `FastText` object which is very similar.\n",
      "Warning : `load_model` does not return WordVectorModel or SupervisedModel any more, but a `FastText` object which is very similar.\n",
      "Warning : `load_model` does not return WordVectorModel or SupervisedModel any more, but a `FastText` object which is very similar.\n",
      "Warning : `load_model` does not return WordVectorModel or SupervisedModel any more, but a `FastText` object which is very similar.\n",
      "Warning : `load_model` does not return WordVectorModel or SupervisedModel any more, but a `FastText` object which is very similar.\n"
     ]
    },
    {
     "name": "stdout",
     "output_type": "stream",
     "text": [
      "Shawn Mendes\n",
      "Shawn Mendes\n",
      "Meghan Trainor\n",
      "Meghan Trainor\n"
     ]
    },
    {
     "name": "stderr",
     "output_type": "stream",
     "text": [
      "Warning : `load_model` does not return WordVectorModel or SupervisedModel any more, but a `FastText` object which is very similar.\n",
      "Warning : `load_model` does not return WordVectorModel or SupervisedModel any more, but a `FastText` object which is very similar.\n",
      "Warning : `load_model` does not return WordVectorModel or SupervisedModel any more, but a `FastText` object which is very similar.\n",
      "Warning : `load_model` does not return WordVectorModel or SupervisedModel any more, but a `FastText` object which is very similar.\n"
     ]
    },
    {
     "name": "stdout",
     "output_type": "stream",
     "text": [
      "Meghan Trainor\n",
      "Meghan Trainor\n"
     ]
    },
    {
     "name": "stderr",
     "output_type": "stream",
     "text": [
      "Warning : `load_model` does not return WordVectorModel or SupervisedModel any more, but a `FastText` object which is very similar.\n",
      "Warning : `load_model` does not return WordVectorModel or SupervisedModel any more, but a `FastText` object which is very similar.\n",
      "Warning : `load_model` does not return WordVectorModel or SupervisedModel any more, but a `FastText` object which is very similar.\n",
      "Warning : `load_model` does not return WordVectorModel or SupervisedModel any more, but a `FastText` object which is very similar.\n"
     ]
    },
    {
     "name": "stdout",
     "output_type": "stream",
     "text": [
      "Eladio Carrion\n"
     ]
    },
    {
     "name": "stderr",
     "output_type": "stream",
     "text": [
      "Warning : `load_model` does not return WordVectorModel or SupervisedModel any more, but a `FastText` object which is very similar.\n",
      "Warning : `load_model` does not return WordVectorModel or SupervisedModel any more, but a `FastText` object which is very similar.\n"
     ]
    },
    {
     "name": "stdout",
     "output_type": "stream",
     "text": [
      "Eladio Carrion\n"
     ]
    },
    {
     "name": "stderr",
     "output_type": "stream",
     "text": [
      "Warning : `load_model` does not return WordVectorModel or SupervisedModel any more, but a `FastText` object which is very similar.\n",
      "Warning : `load_model` does not return WordVectorModel or SupervisedModel any more, but a `FastText` object which is very similar.\n"
     ]
    },
    {
     "name": "stdout",
     "output_type": "stream",
     "text": [
      "Eladio Carrion\n"
     ]
    },
    {
     "name": "stderr",
     "output_type": "stream",
     "text": [
      "Warning : `load_model` does not return WordVectorModel or SupervisedModel any more, but a `FastText` object which is very similar.\n",
      "Warning : `load_model` does not return WordVectorModel or SupervisedModel any more, but a `FastText` object which is very similar.\n"
     ]
    },
    {
     "name": "stdout",
     "output_type": "stream",
     "text": [
      "Eladio Carrion\n"
     ]
    },
    {
     "name": "stderr",
     "output_type": "stream",
     "text": [
      "Warning : `load_model` does not return WordVectorModel or SupervisedModel any more, but a `FastText` object which is very similar.\n",
      "Warning : `load_model` does not return WordVectorModel or SupervisedModel any more, but a `FastText` object which is very similar.\n"
     ]
    },
    {
     "name": "stdout",
     "output_type": "stream",
     "text": [
      "Eladio Carrion\n"
     ]
    },
    {
     "name": "stderr",
     "output_type": "stream",
     "text": [
      "Warning : `load_model` does not return WordVectorModel or SupervisedModel any more, but a `FastText` object which is very similar.\n",
      "Warning : `load_model` does not return WordVectorModel or SupervisedModel any more, but a `FastText` object which is very similar.\n"
     ]
    },
    {
     "name": "stdout",
     "output_type": "stream",
     "text": [
      "Olivia Rodrigo\n",
      "Olivia Rodrigo\n"
     ]
    },
    {
     "name": "stderr",
     "output_type": "stream",
     "text": [
      "Warning : `load_model` does not return WordVectorModel or SupervisedModel any more, but a `FastText` object which is very similar.\n",
      "Warning : `load_model` does not return WordVectorModel or SupervisedModel any more, but a `FastText` object which is very similar.\n",
      "Warning : `load_model` does not return WordVectorModel or SupervisedModel any more, but a `FastText` object which is very similar.\n",
      "Warning : `load_model` does not return WordVectorModel or SupervisedModel any more, but a `FastText` object which is very similar.\n",
      "Warning : `load_model` does not return WordVectorModel or SupervisedModel any more, but a `FastText` object which is very similar.\n",
      "Warning : `load_model` does not return WordVectorModel or SupervisedModel any more, but a `FastText` object which is very similar.\n",
      "Warning : `load_model` does not return WordVectorModel or SupervisedModel any more, but a `FastText` object which is very similar.\n",
      "Warning : `load_model` does not return WordVectorModel or SupervisedModel any more, but a `FastText` object which is very similar.\n",
      "Warning : `load_model` does not return WordVectorModel or SupervisedModel any more, but a `FastText` object which is very similar.\n"
     ]
    },
    {
     "name": "stdout",
     "output_type": "stream",
     "text": [
      "Olivia Rodrigo\n",
      "Olivia Rodrigo\n",
      "Olivia Rodrigo\n"
     ]
    },
    {
     "name": "stderr",
     "output_type": "stream",
     "text": [
      "Warning : `load_model` does not return WordVectorModel or SupervisedModel any more, but a `FastText` object which is very similar.\n",
      "Warning : `load_model` does not return WordVectorModel or SupervisedModel any more, but a `FastText` object which is very similar.\n",
      "Warning : `load_model` does not return WordVectorModel or SupervisedModel any more, but a `FastText` object which is very similar.\n",
      "Warning : `load_model` does not return WordVectorModel or SupervisedModel any more, but a `FastText` object which is very similar.\n"
     ]
    },
    {
     "name": "stdout",
     "output_type": "stream",
     "text": [
      "One Republic\n",
      "One Republic\n"
     ]
    },
    {
     "name": "stderr",
     "output_type": "stream",
     "text": [
      "Warning : `load_model` does not return WordVectorModel or SupervisedModel any more, but a `FastText` object which is very similar.\n",
      "Warning : `load_model` does not return WordVectorModel or SupervisedModel any more, but a `FastText` object which is very similar.\n",
      "Warning : `load_model` does not return WordVectorModel or SupervisedModel any more, but a `FastText` object which is very similar.\n",
      "Warning : `load_model` does not return WordVectorModel or SupervisedModel any more, but a `FastText` object which is very similar.\n"
     ]
    },
    {
     "name": "stdout",
     "output_type": "stream",
     "text": [
      "One Republic\n",
      "One Republic\n"
     ]
    },
    {
     "name": "stderr",
     "output_type": "stream",
     "text": [
      "Warning : `load_model` does not return WordVectorModel or SupervisedModel any more, but a `FastText` object which is very similar.\n",
      "Warning : `load_model` does not return WordVectorModel or SupervisedModel any more, but a `FastText` object which is very similar.\n",
      "Warning : `load_model` does not return WordVectorModel or SupervisedModel any more, but a `FastText` object which is very similar.\n",
      "Warning : `load_model` does not return WordVectorModel or SupervisedModel any more, but a `FastText` object which is very similar.\n"
     ]
    },
    {
     "name": "stdout",
     "output_type": "stream",
     "text": [
      "One Republic\n",
      "Myke Towers\n"
     ]
    },
    {
     "name": "stderr",
     "output_type": "stream",
     "text": [
      "Warning : `load_model` does not return WordVectorModel or SupervisedModel any more, but a `FastText` object which is very similar.\n"
     ]
    },
    {
     "name": "stdout",
     "output_type": "stream",
     "text": [
      "Myke Towers\n"
     ]
    },
    {
     "name": "stderr",
     "output_type": "stream",
     "text": [
      "Warning : `load_model` does not return WordVectorModel or SupervisedModel any more, but a `FastText` object which is very similar.\n",
      "Warning : `load_model` does not return WordVectorModel or SupervisedModel any more, but a `FastText` object which is very similar.\n"
     ]
    },
    {
     "name": "stdout",
     "output_type": "stream",
     "text": [
      "Myke Towers\n"
     ]
    },
    {
     "name": "stderr",
     "output_type": "stream",
     "text": [
      "Warning : `load_model` does not return WordVectorModel or SupervisedModel any more, but a `FastText` object which is very similar.\n",
      "Warning : `load_model` does not return WordVectorModel or SupervisedModel any more, but a `FastText` object which is very similar.\n"
     ]
    },
    {
     "name": "stdout",
     "output_type": "stream",
     "text": [
      "Myke Towers\n"
     ]
    },
    {
     "name": "stderr",
     "output_type": "stream",
     "text": [
      "Warning : `load_model` does not return WordVectorModel or SupervisedModel any more, but a `FastText` object which is very similar.\n",
      "Warning : `load_model` does not return WordVectorModel or SupervisedModel any more, but a `FastText` object which is very similar.\n"
     ]
    },
    {
     "name": "stdout",
     "output_type": "stream",
     "text": [
      "Myke Towers\n"
     ]
    },
    {
     "name": "stderr",
     "output_type": "stream",
     "text": [
      "Warning : `load_model` does not return WordVectorModel or SupervisedModel any more, but a `FastText` object which is very similar.\n",
      "Warning : `load_model` does not return WordVectorModel or SupervisedModel any more, but a `FastText` object which is very similar.\n"
     ]
    },
    {
     "name": "stdout",
     "output_type": "stream",
     "text": [
      "Steve Lacy\n",
      "Steve Lacy\n"
     ]
    },
    {
     "name": "stderr",
     "output_type": "stream",
     "text": [
      "Warning : `load_model` does not return WordVectorModel or SupervisedModel any more, but a `FastText` object which is very similar.\n",
      "Warning : `load_model` does not return WordVectorModel or SupervisedModel any more, but a `FastText` object which is very similar.\n",
      "Warning : `load_model` does not return WordVectorModel or SupervisedModel any more, but a `FastText` object which is very similar.\n",
      "Warning : `load_model` does not return WordVectorModel or SupervisedModel any more, but a `FastText` object which is very similar.\n",
      "Warning : `load_model` does not return WordVectorModel or SupervisedModel any more, but a `FastText` object which is very similar.\n",
      "Warning : `load_model` does not return WordVectorModel or SupervisedModel any more, but a `FastText` object which is very similar.\n"
     ]
    },
    {
     "name": "stdout",
     "output_type": "stream",
     "text": [
      "Steve Lacy\n",
      "Steve Lacy\n",
      "Steve Lacy\n",
      "Morgan Wallen\n"
     ]
    },
    {
     "name": "stderr",
     "output_type": "stream",
     "text": [
      "Warning : `load_model` does not return WordVectorModel or SupervisedModel any more, but a `FastText` object which is very similar.\n",
      "Warning : `load_model` does not return WordVectorModel or SupervisedModel any more, but a `FastText` object which is very similar.\n",
      "Warning : `load_model` does not return WordVectorModel or SupervisedModel any more, but a `FastText` object which is very similar.\n",
      "Warning : `load_model` does not return WordVectorModel or SupervisedModel any more, but a `FastText` object which is very similar.\n",
      "Warning : `load_model` does not return WordVectorModel or SupervisedModel any more, but a `FastText` object which is very similar.\n",
      "Warning : `load_model` does not return WordVectorModel or SupervisedModel any more, but a `FastText` object which is very similar.\n"
     ]
    },
    {
     "name": "stdout",
     "output_type": "stream",
     "text": [
      "Morgan Wallen\n",
      "Morgan Wallen\n",
      "Morgan Wallen\n"
     ]
    },
    {
     "name": "stderr",
     "output_type": "stream",
     "text": [
      "Warning : `load_model` does not return WordVectorModel or SupervisedModel any more, but a `FastText` object which is very similar.\n",
      "Warning : `load_model` does not return WordVectorModel or SupervisedModel any more, but a `FastText` object which is very similar.\n",
      "Warning : `load_model` does not return WordVectorModel or SupervisedModel any more, but a `FastText` object which is very similar.\n",
      "Warning : `load_model` does not return WordVectorModel or SupervisedModel any more, but a `FastText` object which is very similar.\n",
      "Warning : `load_model` does not return WordVectorModel or SupervisedModel any more, but a `FastText` object which is very similar.\n",
      "Warning : `load_model` does not return WordVectorModel or SupervisedModel any more, but a `FastText` object which is very similar.\n",
      "Warning : `load_model` does not return WordVectorModel or SupervisedModel any more, but a `FastText` object which is very similar.\n",
      "Warning : `load_model` does not return WordVectorModel or SupervisedModel any more, but a `FastText` object which is very similar.\n",
      "Warning : `load_model` does not return WordVectorModel or SupervisedModel any more, but a `FastText` object which is very similar.\n"
     ]
    },
    {
     "name": "stdout",
     "output_type": "stream",
     "text": [
      "Morgan Wallen\n",
      "Maluma\n"
     ]
    },
    {
     "name": "stderr",
     "output_type": "stream",
     "text": [
      "Warning : `load_model` does not return WordVectorModel or SupervisedModel any more, but a `FastText` object which is very similar.\n"
     ]
    },
    {
     "name": "stdout",
     "output_type": "stream",
     "text": [
      "Maluma\n"
     ]
    },
    {
     "name": "stderr",
     "output_type": "stream",
     "text": [
      "Warning : `load_model` does not return WordVectorModel or SupervisedModel any more, but a `FastText` object which is very similar.\n",
      "Warning : `load_model` does not return WordVectorModel or SupervisedModel any more, but a `FastText` object which is very similar.\n"
     ]
    },
    {
     "name": "stdout",
     "output_type": "stream",
     "text": [
      "Maluma\n"
     ]
    },
    {
     "name": "stderr",
     "output_type": "stream",
     "text": [
      "Warning : `load_model` does not return WordVectorModel or SupervisedModel any more, but a `FastText` object which is very similar.\n",
      "Warning : `load_model` does not return WordVectorModel or SupervisedModel any more, but a `FastText` object which is very similar.\n"
     ]
    },
    {
     "name": "stdout",
     "output_type": "stream",
     "text": [
      "Maluma\n"
     ]
    },
    {
     "name": "stderr",
     "output_type": "stream",
     "text": [
      "Warning : `load_model` does not return WordVectorModel or SupervisedModel any more, but a `FastText` object which is very similar.\n",
      "Warning : `load_model` does not return WordVectorModel or SupervisedModel any more, but a `FastText` object which is very similar.\n"
     ]
    },
    {
     "name": "stdout",
     "output_type": "stream",
     "text": [
      "Maluma\n"
     ]
    },
    {
     "name": "stderr",
     "output_type": "stream",
     "text": [
      "Warning : `load_model` does not return WordVectorModel or SupervisedModel any more, but a `FastText` object which is very similar.\n",
      "Warning : `load_model` does not return WordVectorModel or SupervisedModel any more, but a `FastText` object which is very similar.\n"
     ]
    },
    {
     "name": "stdout",
     "output_type": "stream",
     "text": [
      "YoungBoy Never Broke Again\n",
      "YoungBoy Never Broke Again\n"
     ]
    },
    {
     "name": "stderr",
     "output_type": "stream",
     "text": [
      "Warning : `load_model` does not return WordVectorModel or SupervisedModel any more, but a `FastText` object which is very similar.\n",
      "Warning : `load_model` does not return WordVectorModel or SupervisedModel any more, but a `FastText` object which is very similar.\n",
      "Warning : `load_model` does not return WordVectorModel or SupervisedModel any more, but a `FastText` object which is very similar.\n",
      "Warning : `load_model` does not return WordVectorModel or SupervisedModel any more, but a `FastText` object which is very similar.\n",
      "Warning : `load_model` does not return WordVectorModel or SupervisedModel any more, but a `FastText` object which is very similar.\n"
     ]
    },
    {
     "name": "stdout",
     "output_type": "stream",
     "text": [
      "YoungBoy Never Broke Again\n"
     ]
    },
    {
     "name": "stderr",
     "output_type": "stream",
     "text": [
      "Warning : `load_model` does not return WordVectorModel or SupervisedModel any more, but a `FastText` object which is very similar.\n",
      "Warning : `load_model` does not return WordVectorModel or SupervisedModel any more, but a `FastText` object which is very similar.\n"
     ]
    },
    {
     "name": "stdout",
     "output_type": "stream",
     "text": [
      "YoungBoy Never Broke Again\n"
     ]
    },
    {
     "name": "stderr",
     "output_type": "stream",
     "text": [
      "Warning : `load_model` does not return WordVectorModel or SupervisedModel any more, but a `FastText` object which is very similar.\n",
      "Warning : `load_model` does not return WordVectorModel or SupervisedModel any more, but a `FastText` object which is very similar.\n",
      "Warning : `load_model` does not return WordVectorModel or SupervisedModel any more, but a `FastText` object which is very similar.\n"
     ]
    },
    {
     "name": "stdout",
     "output_type": "stream",
     "text": [
      "YoungBoy Never Broke Again\n",
      "SZA\n"
     ]
    },
    {
     "name": "stderr",
     "output_type": "stream",
     "text": [
      "Warning : `load_model` does not return WordVectorModel or SupervisedModel any more, but a `FastText` object which is very similar.\n",
      "Warning : `load_model` does not return WordVectorModel or SupervisedModel any more, but a `FastText` object which is very similar.\n",
      "Warning : `load_model` does not return WordVectorModel or SupervisedModel any more, but a `FastText` object which is very similar.\n",
      "Warning : `load_model` does not return WordVectorModel or SupervisedModel any more, but a `FastText` object which is very similar.\n"
     ]
    },
    {
     "name": "stdout",
     "output_type": "stream",
     "text": [
      "SZA\n",
      "SZA\n",
      "SZA\n"
     ]
    },
    {
     "name": "stderr",
     "output_type": "stream",
     "text": [
      "Warning : `load_model` does not return WordVectorModel or SupervisedModel any more, but a `FastText` object which is very similar.\n",
      "Warning : `load_model` does not return WordVectorModel or SupervisedModel any more, but a `FastText` object which is very similar.\n",
      "Warning : `load_model` does not return WordVectorModel or SupervisedModel any more, but a `FastText` object which is very similar.\n",
      "Warning : `load_model` does not return WordVectorModel or SupervisedModel any more, but a `FastText` object which is very similar.\n"
     ]
    },
    {
     "name": "stdout",
     "output_type": "stream",
     "text": [
      "SZA\n"
     ]
    },
    {
     "name": "stderr",
     "output_type": "stream",
     "text": [
      "Warning : `load_model` does not return WordVectorModel or SupervisedModel any more, but a `FastText` object which is very similar.\n",
      "Warning : `load_model` does not return WordVectorModel or SupervisedModel any more, but a `FastText` object which is very similar.\n"
     ]
    },
    {
     "name": "stdout",
     "output_type": "stream",
     "text": [
      "Nicki Minaj\n",
      "Nicki Minaj\n"
     ]
    },
    {
     "name": "stderr",
     "output_type": "stream",
     "text": [
      "Warning : `load_model` does not return WordVectorModel or SupervisedModel any more, but a `FastText` object which is very similar.\n",
      "Warning : `load_model` does not return WordVectorModel or SupervisedModel any more, but a `FastText` object which is very similar.\n",
      "Warning : `load_model` does not return WordVectorModel or SupervisedModel any more, but a `FastText` object which is very similar.\n",
      "Warning : `load_model` does not return WordVectorModel or SupervisedModel any more, but a `FastText` object which is very similar.\n",
      "Warning : `load_model` does not return WordVectorModel or SupervisedModel any more, but a `FastText` object which is very similar.\n",
      "Warning : `load_model` does not return WordVectorModel or SupervisedModel any more, but a `FastText` object which is very similar.\n"
     ]
    },
    {
     "name": "stdout",
     "output_type": "stream",
     "text": [
      "Nicki Minaj\n",
      "Nicki Minaj\n"
     ]
    },
    {
     "name": "stderr",
     "output_type": "stream",
     "text": [
      "Warning : `load_model` does not return WordVectorModel or SupervisedModel any more, but a `FastText` object which is very similar.\n",
      "Warning : `load_model` does not return WordVectorModel or SupervisedModel any more, but a `FastText` object which is very similar.\n"
     ]
    },
    {
     "name": "stdout",
     "output_type": "stream",
     "text": [
      "Nicki Minaj\n",
      "Luis R Conriquez\n"
     ]
    },
    {
     "name": "stderr",
     "output_type": "stream",
     "text": [
      "Warning : `load_model` does not return WordVectorModel or SupervisedModel any more, but a `FastText` object which is very similar.\n",
      "Warning : `load_model` does not return WordVectorModel or SupervisedModel any more, but a `FastText` object which is very similar.\n",
      "Warning : `load_model` does not return WordVectorModel or SupervisedModel any more, but a `FastText` object which is very similar.\n",
      "Warning : `load_model` does not return WordVectorModel or SupervisedModel any more, but a `FastText` object which is very similar.\n"
     ]
    },
    {
     "name": "stdout",
     "output_type": "stream",
     "text": [
      "Luis R Conriquez\n"
     ]
    },
    {
     "name": "stderr",
     "output_type": "stream",
     "text": [
      "Warning : `load_model` does not return WordVectorModel or SupervisedModel any more, but a `FastText` object which is very similar.\n",
      "Warning : `load_model` does not return WordVectorModel or SupervisedModel any more, but a `FastText` object which is very similar.\n"
     ]
    },
    {
     "name": "stdout",
     "output_type": "stream",
     "text": [
      "Luis R Conriquez\n"
     ]
    },
    {
     "name": "stderr",
     "output_type": "stream",
     "text": [
      "Warning : `load_model` does not return WordVectorModel or SupervisedModel any more, but a `FastText` object which is very similar.\n",
      "Warning : `load_model` does not return WordVectorModel or SupervisedModel any more, but a `FastText` object which is very similar.\n"
     ]
    },
    {
     "name": "stdout",
     "output_type": "stream",
     "text": [
      "Luis R Conriquez\n"
     ]
    },
    {
     "name": "stderr",
     "output_type": "stream",
     "text": [
      "Warning : `load_model` does not return WordVectorModel or SupervisedModel any more, but a `FastText` object which is very similar.\n",
      "Warning : `load_model` does not return WordVectorModel or SupervisedModel any more, but a `FastText` object which is very similar.\n"
     ]
    },
    {
     "name": "stdout",
     "output_type": "stream",
     "text": [
      "Luis R Conriquez\n"
     ]
    },
    {
     "name": "stderr",
     "output_type": "stream",
     "text": [
      "Warning : `load_model` does not return WordVectorModel or SupervisedModel any more, but a `FastText` object which is very similar.\n",
      "Warning : `load_model` does not return WordVectorModel or SupervisedModel any more, but a `FastText` object which is very similar.\n"
     ]
    },
    {
     "name": "stdout",
     "output_type": "stream",
     "text": [
      "Calvin Harris\n",
      "Calvin Harris\n"
     ]
    },
    {
     "name": "stderr",
     "output_type": "stream",
     "text": [
      "Warning : `load_model` does not return WordVectorModel or SupervisedModel any more, but a `FastText` object which is very similar.\n",
      "Warning : `load_model` does not return WordVectorModel or SupervisedModel any more, but a `FastText` object which is very similar.\n",
      "Warning : `load_model` does not return WordVectorModel or SupervisedModel any more, but a `FastText` object which is very similar.\n",
      "Warning : `load_model` does not return WordVectorModel or SupervisedModel any more, but a `FastText` object which is very similar.\n",
      "Warning : `load_model` does not return WordVectorModel or SupervisedModel any more, but a `FastText` object which is very similar.\n",
      "Warning : `load_model` does not return WordVectorModel or SupervisedModel any more, but a `FastText` object which is very similar.\n",
      "Warning : `load_model` does not return WordVectorModel or SupervisedModel any more, but a `FastText` object which is very similar.\n"
     ]
    },
    {
     "name": "stdout",
     "output_type": "stream",
     "text": [
      "Calvin Harris\n",
      "Calvin Harris\n"
     ]
    },
    {
     "name": "stderr",
     "output_type": "stream",
     "text": [
      "Warning : `load_model` does not return WordVectorModel or SupervisedModel any more, but a `FastText` object which is very similar.\n",
      "Warning : `load_model` does not return WordVectorModel or SupervisedModel any more, but a `FastText` object which is very similar.\n",
      "Warning : `load_model` does not return WordVectorModel or SupervisedModel any more, but a `FastText` object which is very similar.\n",
      "Warning : `load_model` does not return WordVectorModel or SupervisedModel any more, but a `FastText` object which is very similar.\n"
     ]
    },
    {
     "name": "stdout",
     "output_type": "stream",
     "text": [
      "Tyler, The Creator\n",
      "Tyler, The Creator\n"
     ]
    },
    {
     "name": "stderr",
     "output_type": "stream",
     "text": [
      "Warning : `load_model` does not return WordVectorModel or SupervisedModel any more, but a `FastText` object which is very similar.\n",
      "Warning : `load_model` does not return WordVectorModel or SupervisedModel any more, but a `FastText` object which is very similar.\n"
     ]
    },
    {
     "name": "stdout",
     "output_type": "stream",
     "text": [
      "Tyler, The Creator\n",
      "Tyler, The Creator\n"
     ]
    },
    {
     "name": "stderr",
     "output_type": "stream",
     "text": [
      "Warning : `load_model` does not return WordVectorModel or SupervisedModel any more, but a `FastText` object which is very similar.\n",
      "Warning : `load_model` does not return WordVectorModel or SupervisedModel any more, but a `FastText` object which is very similar.\n",
      "Warning : `load_model` does not return WordVectorModel or SupervisedModel any more, but a `FastText` object which is very similar.\n",
      "Warning : `load_model` does not return WordVectorModel or SupervisedModel any more, but a `FastText` object which is very similar.\n"
     ]
    },
    {
     "name": "stdout",
     "output_type": "stream",
     "text": [
      "Tyler, The Creator\n",
      "Anirudh Ravichander\n"
     ]
    },
    {
     "name": "stderr",
     "output_type": "stream",
     "text": [
      "Warning : `load_model` does not return WordVectorModel or SupervisedModel any more, but a `FastText` object which is very similar.\n",
      "Warning : `load_model` does not return WordVectorModel or SupervisedModel any more, but a `FastText` object which is very similar.\n",
      "Warning : `load_model` does not return WordVectorModel or SupervisedModel any more, but a `FastText` object which is very similar.\n"
     ]
    },
    {
     "name": "stdout",
     "output_type": "stream",
     "text": [
      "Charlie Puth\n"
     ]
    },
    {
     "name": "stderr",
     "output_type": "stream",
     "text": [
      "Warning : `load_model` does not return WordVectorModel or SupervisedModel any more, but a `FastText` object which is very similar.\n",
      "Warning : `load_model` does not return WordVectorModel or SupervisedModel any more, but a `FastText` object which is very similar.\n",
      "Warning : `load_model` does not return WordVectorModel or SupervisedModel any more, but a `FastText` object which is very similar.\n"
     ]
    },
    {
     "name": "stdout",
     "output_type": "stream",
     "text": [
      "Charlie Puth\n",
      "Charlie Puth\n"
     ]
    },
    {
     "name": "stderr",
     "output_type": "stream",
     "text": [
      "Warning : `load_model` does not return WordVectorModel or SupervisedModel any more, but a `FastText` object which is very similar.\n",
      "Warning : `load_model` does not return WordVectorModel or SupervisedModel any more, but a `FastText` object which is very similar.\n",
      "Warning : `load_model` does not return WordVectorModel or SupervisedModel any more, but a `FastText` object which is very similar.\n",
      "Warning : `load_model` does not return WordVectorModel or SupervisedModel any more, but a `FastText` object which is very similar.\n",
      "Warning : `load_model` does not return WordVectorModel or SupervisedModel any more, but a `FastText` object which is very similar.\n",
      "Warning : `load_model` does not return WordVectorModel or SupervisedModel any more, but a `FastText` object which is very similar.\n"
     ]
    },
    {
     "name": "stdout",
     "output_type": "stream",
     "text": [
      "Charlie Puth\n",
      "Charlie Puth\n"
     ]
    },
    {
     "name": "stderr",
     "output_type": "stream",
     "text": [
      "Warning : `load_model` does not return WordVectorModel or SupervisedModel any more, but a `FastText` object which is very similar.\n",
      "Warning : `load_model` does not return WordVectorModel or SupervisedModel any more, but a `FastText` object which is very similar.\n",
      "Warning : `load_model` does not return WordVectorModel or SupervisedModel any more, but a `FastText` object which is very similar.\n",
      "Warning : `load_model` does not return WordVectorModel or SupervisedModel any more, but a `FastText` object which is very similar.\n"
     ]
    },
    {
     "name": "stdout",
     "output_type": "stream",
     "text": [
      "Mac Miller\n",
      "Mac Miller\n"
     ]
    },
    {
     "name": "stderr",
     "output_type": "stream",
     "text": [
      "Warning : `load_model` does not return WordVectorModel or SupervisedModel any more, but a `FastText` object which is very similar.\n",
      "Warning : `load_model` does not return WordVectorModel or SupervisedModel any more, but a `FastText` object which is very similar.\n",
      "Warning : `load_model` does not return WordVectorModel or SupervisedModel any more, but a `FastText` object which is very similar.\n"
     ]
    },
    {
     "name": "stdout",
     "output_type": "stream",
     "text": [
      "Mac Miller\n",
      "Mac Miller\n"
     ]
    },
    {
     "name": "stderr",
     "output_type": "stream",
     "text": [
      "Warning : `load_model` does not return WordVectorModel or SupervisedModel any more, but a `FastText` object which is very similar.\n",
      "Warning : `load_model` does not return WordVectorModel or SupervisedModel any more, but a `FastText` object which is very similar.\n",
      "Warning : `load_model` does not return WordVectorModel or SupervisedModel any more, but a `FastText` object which is very similar.\n",
      "Warning : `load_model` does not return WordVectorModel or SupervisedModel any more, but a `FastText` object which is very similar.\n"
     ]
    },
    {
     "name": "stdout",
     "output_type": "stream",
     "text": [
      "Mac Miller\n",
      "Linkin Park\n"
     ]
    },
    {
     "name": "stderr",
     "output_type": "stream",
     "text": [
      "Warning : `load_model` does not return WordVectorModel or SupervisedModel any more, but a `FastText` object which is very similar.\n",
      "Warning : `load_model` does not return WordVectorModel or SupervisedModel any more, but a `FastText` object which is very similar.\n",
      "Warning : `load_model` does not return WordVectorModel or SupervisedModel any more, but a `FastText` object which is very similar.\n"
     ]
    },
    {
     "name": "stdout",
     "output_type": "stream",
     "text": [
      "Linkin Park\n",
      "Linkin Park\n"
     ]
    },
    {
     "name": "stderr",
     "output_type": "stream",
     "text": [
      "Warning : `load_model` does not return WordVectorModel or SupervisedModel any more, but a `FastText` object which is very similar.\n",
      "Warning : `load_model` does not return WordVectorModel or SupervisedModel any more, but a `FastText` object which is very similar.\n",
      "Warning : `load_model` does not return WordVectorModel or SupervisedModel any more, but a `FastText` object which is very similar.\n",
      "Warning : `load_model` does not return WordVectorModel or SupervisedModel any more, but a `FastText` object which is very similar.\n"
     ]
    },
    {
     "name": "stdout",
     "output_type": "stream",
     "text": [
      "Linkin Park\n",
      "Linkin Park\n"
     ]
    },
    {
     "name": "stderr",
     "output_type": "stream",
     "text": [
      "Warning : `load_model` does not return WordVectorModel or SupervisedModel any more, but a `FastText` object which is very similar.\n",
      "Warning : `load_model` does not return WordVectorModel or SupervisedModel any more, but a `FastText` object which is very similar.\n",
      "Warning : `load_model` does not return WordVectorModel or SupervisedModel any more, but a `FastText` object which is very similar.\n"
     ]
    },
    {
     "name": "stdout",
     "output_type": "stream",
     "text": [
      "Frank Sinatra\n",
      "Frank Sinatra\n",
      "Frank Sinatra\n"
     ]
    },
    {
     "name": "stderr",
     "output_type": "stream",
     "text": [
      "Warning : `load_model` does not return WordVectorModel or SupervisedModel any more, but a `FastText` object which is very similar.\n",
      "Warning : `load_model` does not return WordVectorModel or SupervisedModel any more, but a `FastText` object which is very similar.\n",
      "Warning : `load_model` does not return WordVectorModel or SupervisedModel any more, but a `FastText` object which is very similar.\n",
      "Warning : `load_model` does not return WordVectorModel or SupervisedModel any more, but a `FastText` object which is very similar.\n",
      "Warning : `load_model` does not return WordVectorModel or SupervisedModel any more, but a `FastText` object which is very similar.\n",
      "Warning : `load_model` does not return WordVectorModel or SupervisedModel any more, but a `FastText` object which is very similar.\n",
      "Warning : `load_model` does not return WordVectorModel or SupervisedModel any more, but a `FastText` object which is very similar.\n",
      "Warning : `load_model` does not return WordVectorModel or SupervisedModel any more, but a `FastText` object which is very similar.\n",
      "Warning : `load_model` does not return WordVectorModel or SupervisedModel any more, but a `FastText` object which is very similar.\n",
      "Warning : `load_model` does not return WordVectorModel or SupervisedModel any more, but a `FastText` object which is very similar.\n",
      "Warning : `load_model` does not return WordVectorModel or SupervisedModel any more, but a `FastText` object which is very similar.\n"
     ]
    },
    {
     "name": "stdout",
     "output_type": "stream",
     "text": [
      "Frank Sinatra\n",
      "Bebe Rexha\n",
      "Bebe Rexha\n"
     ]
    },
    {
     "name": "stderr",
     "output_type": "stream",
     "text": [
      "Warning : `load_model` does not return WordVectorModel or SupervisedModel any more, but a `FastText` object which is very similar.\n",
      "Warning : `load_model` does not return WordVectorModel or SupervisedModel any more, but a `FastText` object which is very similar.\n",
      "Warning : `load_model` does not return WordVectorModel or SupervisedModel any more, but a `FastText` object which is very similar.\n",
      "Warning : `load_model` does not return WordVectorModel or SupervisedModel any more, but a `FastText` object which is very similar.\n",
      "Warning : `load_model` does not return WordVectorModel or SupervisedModel any more, but a `FastText` object which is very similar.\n",
      "Warning : `load_model` does not return WordVectorModel or SupervisedModel any more, but a `FastText` object which is very similar.\n",
      "Warning : `load_model` does not return WordVectorModel or SupervisedModel any more, but a `FastText` object which is very similar.\n"
     ]
    },
    {
     "name": "stdout",
     "output_type": "stream",
     "text": [
      "Bebe Rexha\n",
      "Bebe Rexha\n",
      "The Beatles\n",
      "The Beatles\n",
      "The Beatles\n"
     ]
    },
    {
     "name": "stderr",
     "output_type": "stream",
     "text": [
      "Warning : `load_model` does not return WordVectorModel or SupervisedModel any more, but a `FastText` object which is very similar.\n",
      "Warning : `load_model` does not return WordVectorModel or SupervisedModel any more, but a `FastText` object which is very similar.\n",
      "Warning : `load_model` does not return WordVectorModel or SupervisedModel any more, but a `FastText` object which is very similar.\n",
      "Warning : `load_model` does not return WordVectorModel or SupervisedModel any more, but a `FastText` object which is very similar.\n",
      "Warning : `load_model` does not return WordVectorModel or SupervisedModel any more, but a `FastText` object which is very similar.\n",
      "Warning : `load_model` does not return WordVectorModel or SupervisedModel any more, but a `FastText` object which is very similar.\n"
     ]
    },
    {
     "name": "stdout",
     "output_type": "stream",
     "text": [
      "Kim Petras\n",
      "Kim Petras\n"
     ]
    },
    {
     "name": "stderr",
     "output_type": "stream",
     "text": [
      "Warning : `load_model` does not return WordVectorModel or SupervisedModel any more, but a `FastText` object which is very similar.\n",
      "Warning : `load_model` does not return WordVectorModel or SupervisedModel any more, but a `FastText` object which is very similar.\n",
      "Warning : `load_model` does not return WordVectorModel or SupervisedModel any more, but a `FastText` object which is very similar.\n"
     ]
    },
    {
     "name": "stdout",
     "output_type": "stream",
     "text": [
      "Metallica\n",
      "Metallica\n"
     ]
    },
    {
     "name": "stderr",
     "output_type": "stream",
     "text": [
      "Warning : `load_model` does not return WordVectorModel or SupervisedModel any more, but a `FastText` object which is very similar.\n",
      "Warning : `load_model` does not return WordVectorModel or SupervisedModel any more, but a `FastText` object which is very similar.\n",
      "Warning : `load_model` does not return WordVectorModel or SupervisedModel any more, but a `FastText` object which is very similar.\n",
      "Warning : `load_model` does not return WordVectorModel or SupervisedModel any more, but a `FastText` object which is very similar.\n",
      "Warning : `load_model` does not return WordVectorModel or SupervisedModel any more, but a `FastText` object which is very similar.\n"
     ]
    },
    {
     "name": "stdout",
     "output_type": "stream",
     "text": [
      "Chencho Corleone\n",
      "Chencho Corleone\n"
     ]
    },
    {
     "name": "stderr",
     "output_type": "stream",
     "text": [
      "Warning : `load_model` does not return WordVectorModel or SupervisedModel any more, but a `FastText` object which is very similar.\n",
      "Warning : `load_model` does not return WordVectorModel or SupervisedModel any more, but a `FastText` object which is very similar.\n"
     ]
    },
    {
     "name": "stdout",
     "output_type": "stream",
     "text": [
      "Chencho Corleone\n"
     ]
    },
    {
     "name": "stderr",
     "output_type": "stream",
     "text": [
      "Warning : `load_model` does not return WordVectorModel or SupervisedModel any more, but a `FastText` object which is very similar.\n",
      "Warning : `load_model` does not return WordVectorModel or SupervisedModel any more, but a `FastText` object which is very similar.\n"
     ]
    },
    {
     "name": "stdout",
     "output_type": "stream",
     "text": [
      "Chencho Corleone\n"
     ]
    },
    {
     "name": "stderr",
     "output_type": "stream",
     "text": [
      "Warning : `load_model` does not return WordVectorModel or SupervisedModel any more, but a `FastText` object which is very similar.\n",
      "Warning : `load_model` does not return WordVectorModel or SupervisedModel any more, but a `FastText` object which is very similar.\n"
     ]
    },
    {
     "name": "stdout",
     "output_type": "stream",
     "text": [
      "Chencho Corleone\n"
     ]
    },
    {
     "name": "stderr",
     "output_type": "stream",
     "text": [
      "Warning : `load_model` does not return WordVectorModel or SupervisedModel any more, but a `FastText` object which is very similar.\n",
      "Warning : `load_model` does not return WordVectorModel or SupervisedModel any more, but a `FastText` object which is very similar.\n"
     ]
    },
    {
     "name": "stdout",
     "output_type": "stream",
     "text": [
      "Halsey\n",
      "Halsey\n"
     ]
    },
    {
     "name": "stderr",
     "output_type": "stream",
     "text": [
      "Warning : `load_model` does not return WordVectorModel or SupervisedModel any more, but a `FastText` object which is very similar.\n",
      "Warning : `load_model` does not return WordVectorModel or SupervisedModel any more, but a `FastText` object which is very similar.\n",
      "Warning : `load_model` does not return WordVectorModel or SupervisedModel any more, but a `FastText` object which is very similar.\n",
      "Warning : `load_model` does not return WordVectorModel or SupervisedModel any more, but a `FastText` object which is very similar.\n",
      "Warning : `load_model` does not return WordVectorModel or SupervisedModel any more, but a `FastText` object which is very similar.\n",
      "Warning : `load_model` does not return WordVectorModel or SupervisedModel any more, but a `FastText` object which is very similar.\n",
      "Warning : `load_model` does not return WordVectorModel or SupervisedModel any more, but a `FastText` object which is very similar.\n"
     ]
    },
    {
     "name": "stdout",
     "output_type": "stream",
     "text": [
      "Oliver Tree\n",
      "Oliver Tree\n"
     ]
    },
    {
     "name": "stderr",
     "output_type": "stream",
     "text": [
      "Warning : `load_model` does not return WordVectorModel or SupervisedModel any more, but a `FastText` object which is very similar.\n",
      "Warning : `load_model` does not return WordVectorModel or SupervisedModel any more, but a `FastText` object which is very similar.\n",
      "Warning : `load_model` does not return WordVectorModel or SupervisedModel any more, but a `FastText` object which is very similar.\n",
      "Warning : `load_model` does not return WordVectorModel or SupervisedModel any more, but a `FastText` object which is very similar.\n",
      "Warning : `load_model` does not return WordVectorModel or SupervisedModel any more, but a `FastText` object which is very similar.\n"
     ]
    },
    {
     "name": "stdout",
     "output_type": "stream",
     "text": [
      "Oliver Tree\n",
      "Oliver Tree\n",
      "Oliver Tree\n",
      "Polo G\n",
      "Polo G\n",
      "Polo G\n"
     ]
    },
    {
     "name": "stderr",
     "output_type": "stream",
     "text": [
      "Warning : `load_model` does not return WordVectorModel or SupervisedModel any more, but a `FastText` object which is very similar.\n",
      "Warning : `load_model` does not return WordVectorModel or SupervisedModel any more, but a `FastText` object which is very similar.\n",
      "Warning : `load_model` does not return WordVectorModel or SupervisedModel any more, but a `FastText` object which is very similar.\n",
      "Warning : `load_model` does not return WordVectorModel or SupervisedModel any more, but a `FastText` object which is very similar.\n",
      "Warning : `load_model` does not return WordVectorModel or SupervisedModel any more, but a `FastText` object which is very similar.\n",
      "Warning : `load_model` does not return WordVectorModel or SupervisedModel any more, but a `FastText` object which is very similar.\n",
      "Warning : `load_model` does not return WordVectorModel or SupervisedModel any more, but a `FastText` object which is very similar.\n",
      "Warning : `load_model` does not return WordVectorModel or SupervisedModel any more, but a `FastText` object which is very similar.\n",
      "Warning : `load_model` does not return WordVectorModel or SupervisedModel any more, but a `FastText` object which is very similar.\n",
      "Warning : `load_model` does not return WordVectorModel or SupervisedModel any more, but a `FastText` object which is very similar.\n",
      "Warning : `load_model` does not return WordVectorModel or SupervisedModel any more, but a `FastText` object which is very similar.\n"
     ]
    },
    {
     "name": "stdout",
     "output_type": "stream",
     "text": [
      "Zach Bryan\n",
      "Zach Bryan\n"
     ]
    },
    {
     "name": "stderr",
     "output_type": "stream",
     "text": [
      "Warning : `load_model` does not return WordVectorModel or SupervisedModel any more, but a `FastText` object which is very similar.\n",
      "Warning : `load_model` does not return WordVectorModel or SupervisedModel any more, but a `FastText` object which is very similar.\n",
      "Warning : `load_model` does not return WordVectorModel or SupervisedModel any more, but a `FastText` object which is very similar.\n"
     ]
    },
    {
     "name": "stdout",
     "output_type": "stream",
     "text": [
      "Zach Bryan\n",
      "Zach Bryan\n",
      "Zach Bryan\n",
      "Jhayco\n"
     ]
    },
    {
     "name": "stderr",
     "output_type": "stream",
     "text": [
      "Warning : `load_model` does not return WordVectorModel or SupervisedModel any more, but a `FastText` object which is very similar.\n",
      "Warning : `load_model` does not return WordVectorModel or SupervisedModel any more, but a `FastText` object which is very similar.\n",
      "Warning : `load_model` does not return WordVectorModel or SupervisedModel any more, but a `FastText` object which is very similar.\n",
      "Warning : `load_model` does not return WordVectorModel or SupervisedModel any more, but a `FastText` object which is very similar.\n",
      "Warning : `load_model` does not return WordVectorModel or SupervisedModel any more, but a `FastText` object which is very similar.\n",
      "Warning : `load_model` does not return WordVectorModel or SupervisedModel any more, but a `FastText` object which is very similar.\n"
     ]
    },
    {
     "name": "stdout",
     "output_type": "stream",
     "text": [
      "Jhayco\n"
     ]
    },
    {
     "name": "stderr",
     "output_type": "stream",
     "text": [
      "Warning : `load_model` does not return WordVectorModel or SupervisedModel any more, but a `FastText` object which is very similar.\n",
      "Warning : `load_model` does not return WordVectorModel or SupervisedModel any more, but a `FastText` object which is very similar.\n"
     ]
    },
    {
     "name": "stdout",
     "output_type": "stream",
     "text": [
      "Jhayco\n"
     ]
    },
    {
     "name": "stderr",
     "output_type": "stream",
     "text": [
      "Warning : `load_model` does not return WordVectorModel or SupervisedModel any more, but a `FastText` object which is very similar.\n",
      "Warning : `load_model` does not return WordVectorModel or SupervisedModel any more, but a `FastText` object which is very similar.\n"
     ]
    },
    {
     "name": "stdout",
     "output_type": "stream",
     "text": [
      "Jhayco\n"
     ]
    },
    {
     "name": "stderr",
     "output_type": "stream",
     "text": [
      "Warning : `load_model` does not return WordVectorModel or SupervisedModel any more, but a `FastText` object which is very similar.\n",
      "Warning : `load_model` does not return WordVectorModel or SupervisedModel any more, but a `FastText` object which is very similar.\n"
     ]
    },
    {
     "name": "stdout",
     "output_type": "stream",
     "text": [
      "Pop Smoke\n",
      "Pop Smoke\n"
     ]
    },
    {
     "name": "stderr",
     "output_type": "stream",
     "text": [
      "Warning : `load_model` does not return WordVectorModel or SupervisedModel any more, but a `FastText` object which is very similar.\n",
      "Warning : `load_model` does not return WordVectorModel or SupervisedModel any more, but a `FastText` object which is very similar.\n",
      "Warning : `load_model` does not return WordVectorModel or SupervisedModel any more, but a `FastText` object which is very similar.\n",
      "Warning : `load_model` does not return WordVectorModel or SupervisedModel any more, but a `FastText` object which is very similar.\n",
      "Warning : `load_model` does not return WordVectorModel or SupervisedModel any more, but a `FastText` object which is very similar.\n"
     ]
    },
    {
     "name": "stdout",
     "output_type": "stream",
     "text": [
      "Pop Smoke\n",
      "Pop Smoke\n"
     ]
    },
    {
     "name": "stderr",
     "output_type": "stream",
     "text": [
      "Warning : `load_model` does not return WordVectorModel or SupervisedModel any more, but a `FastText` object which is very similar.\n",
      "Warning : `load_model` does not return WordVectorModel or SupervisedModel any more, but a `FastText` object which is very similar.\n",
      "Warning : `load_model` does not return WordVectorModel or SupervisedModel any more, but a `FastText` object which is very similar.\n"
     ]
    },
    {
     "name": "stdout",
     "output_type": "stream",
     "text": [
      "Pop Smoke\n"
     ]
    },
    {
     "name": "stderr",
     "output_type": "stream",
     "text": [
      "Warning : `load_model` does not return WordVectorModel or SupervisedModel any more, but a `FastText` object which is very similar.\n",
      "Warning : `load_model` does not return WordVectorModel or SupervisedModel any more, but a `FastText` object which is very similar.\n"
     ]
    }
   ],
   "source": [
    "'''\n",
    "language and translations\n",
    "'''\n",
    "\n",
    "for artist in dataset['Artist']:\n",
    "    lang_set = set()\n",
    "    lyric_en = []\n",
    "    \n",
    "    if len(lyrics_dict[artist])==1 or artist!='Motat':\n",
    "        for lyric in lyrics_dict[artist][0]:\n",
    "            print(artist)\n",
    "            lang_set.add(fasttext_detect_language(lyric))\n",
    "            lyric_en.append(translate_lyrics(str(lyric)))\n",
    "\n",
    "    lyrics_dict[artist].append(lang_set)\n",
    "    lyrics_dict[artist].append(lyric_en)"
   ]
  },
  {
   "cell_type": "code",
   "execution_count": 23,
   "id": "639346bb",
   "metadata": {},
   "outputs": [
    {
     "name": "stdout",
     "output_type": "stream",
     "text": [
      "2022-12-15 15:05:29,009 loading file /home/roque/.flair/models/sentiment-en-mix-distillbert_4.pt\n",
      "2022-12-15 15:05:33,394 loading file /home/roque/.flair/models/sentiment-en-mix-distillbert_4.pt\n",
      "2022-12-15 15:05:36,852 loading file /home/roque/.flair/models/sentiment-en-mix-distillbert_4.pt\n",
      "2022-12-15 15:05:40,207 loading file /home/roque/.flair/models/sentiment-en-mix-distillbert_4.pt\n",
      "2022-12-15 15:05:43,807 loading file /home/roque/.flair/models/sentiment-en-mix-distillbert_4.pt\n",
      "2022-12-15 15:05:47,513 loading file /home/roque/.flair/models/sentiment-en-mix-distillbert_4.pt\n",
      "2022-12-15 15:05:51,040 loading file /home/roque/.flair/models/sentiment-en-mix-distillbert_4.pt\n",
      "2022-12-15 15:05:54,761 loading file /home/roque/.flair/models/sentiment-en-mix-distillbert_4.pt\n",
      "2022-12-15 15:05:58,306 loading file /home/roque/.flair/models/sentiment-en-mix-distillbert_4.pt\n",
      "2022-12-15 15:06:01,866 loading file /home/roque/.flair/models/sentiment-en-mix-distillbert_4.pt\n",
      "2022-12-15 15:06:05,114 loading file /home/roque/.flair/models/sentiment-en-mix-distillbert_4.pt\n",
      "2022-12-15 15:06:08,653 loading file /home/roque/.flair/models/sentiment-en-mix-distillbert_4.pt\n",
      "2022-12-15 15:06:11,985 loading file /home/roque/.flair/models/sentiment-en-mix-distillbert_4.pt\n",
      "2022-12-15 15:06:15,316 loading file /home/roque/.flair/models/sentiment-en-mix-distillbert_4.pt\n",
      "2022-12-15 15:06:19,270 loading file /home/roque/.flair/models/sentiment-en-mix-distillbert_4.pt\n",
      "2022-12-15 15:06:22,976 loading file /home/roque/.flair/models/sentiment-en-mix-distillbert_4.pt\n",
      "2022-12-15 15:06:26,588 loading file /home/roque/.flair/models/sentiment-en-mix-distillbert_4.pt\n",
      "2022-12-15 15:06:30,187 loading file /home/roque/.flair/models/sentiment-en-mix-distillbert_4.pt\n",
      "2022-12-15 15:06:33,858 loading file /home/roque/.flair/models/sentiment-en-mix-distillbert_4.pt\n",
      "2022-12-15 15:06:37,718 loading file /home/roque/.flair/models/sentiment-en-mix-distillbert_4.pt\n",
      "2022-12-15 15:06:41,534 loading file /home/roque/.flair/models/sentiment-en-mix-distillbert_4.pt\n",
      "2022-12-15 15:06:44,971 loading file /home/roque/.flair/models/sentiment-en-mix-distillbert_4.pt\n",
      "2022-12-15 15:06:48,599 loading file /home/roque/.flair/models/sentiment-en-mix-distillbert_4.pt\n",
      "2022-12-15 15:06:52,067 loading file /home/roque/.flair/models/sentiment-en-mix-distillbert_4.pt\n",
      "2022-12-15 15:06:55,533 loading file /home/roque/.flair/models/sentiment-en-mix-distillbert_4.pt\n",
      "2022-12-15 15:06:59,238 loading file /home/roque/.flair/models/sentiment-en-mix-distillbert_4.pt\n",
      "2022-12-15 15:07:02,891 loading file /home/roque/.flair/models/sentiment-en-mix-distillbert_4.pt\n",
      "2022-12-15 15:07:06,568 loading file /home/roque/.flair/models/sentiment-en-mix-distillbert_4.pt\n",
      "2022-12-15 15:07:10,316 loading file /home/roque/.flair/models/sentiment-en-mix-distillbert_4.pt\n",
      "2022-12-15 15:07:14,036 loading file /home/roque/.flair/models/sentiment-en-mix-distillbert_4.pt\n",
      "2022-12-15 15:07:17,738 loading file /home/roque/.flair/models/sentiment-en-mix-distillbert_4.pt\n",
      "2022-12-15 15:07:21,323 loading file /home/roque/.flair/models/sentiment-en-mix-distillbert_4.pt\n",
      "2022-12-15 15:07:25,263 loading file /home/roque/.flair/models/sentiment-en-mix-distillbert_4.pt\n",
      "2022-12-15 15:07:29,463 loading file /home/roque/.flair/models/sentiment-en-mix-distillbert_4.pt\n",
      "2022-12-15 15:07:34,289 loading file /home/roque/.flair/models/sentiment-en-mix-distillbert_4.pt\n",
      "2022-12-15 15:07:39,067 loading file /home/roque/.flair/models/sentiment-en-mix-distillbert_4.pt\n",
      "2022-12-15 15:07:43,736 loading file /home/roque/.flair/models/sentiment-en-mix-distillbert_4.pt\n",
      "2022-12-15 15:07:48,327 loading file /home/roque/.flair/models/sentiment-en-mix-distillbert_4.pt\n",
      "2022-12-15 15:07:53,532 loading file /home/roque/.flair/models/sentiment-en-mix-distillbert_4.pt\n",
      "2022-12-15 15:07:58,057 loading file /home/roque/.flair/models/sentiment-en-mix-distillbert_4.pt\n",
      "2022-12-15 15:08:02,473 loading file /home/roque/.flair/models/sentiment-en-mix-distillbert_4.pt\n",
      "2022-12-15 15:08:06,674 loading file /home/roque/.flair/models/sentiment-en-mix-distillbert_4.pt\n",
      "2022-12-15 15:08:11,709 loading file /home/roque/.flair/models/sentiment-en-mix-distillbert_4.pt\n",
      "2022-12-15 15:08:16,944 loading file /home/roque/.flair/models/sentiment-en-mix-distillbert_4.pt\n",
      "2022-12-15 15:08:22,733 loading file /home/roque/.flair/models/sentiment-en-mix-distillbert_4.pt\n",
      "2022-12-15 15:08:28,061 loading file /home/roque/.flair/models/sentiment-en-mix-distillbert_4.pt\n",
      "2022-12-15 15:08:33,206 loading file /home/roque/.flair/models/sentiment-en-mix-distillbert_4.pt\n",
      "2022-12-15 15:08:38,481 loading file /home/roque/.flair/models/sentiment-en-mix-distillbert_4.pt\n",
      "2022-12-15 15:08:44,512 loading file /home/roque/.flair/models/sentiment-en-mix-distillbert_4.pt\n",
      "2022-12-15 15:08:49,660 loading file /home/roque/.flair/models/sentiment-en-mix-distillbert_4.pt\n",
      "2022-12-15 15:08:54,717 loading file /home/roque/.flair/models/sentiment-en-mix-distillbert_4.pt\n",
      "2022-12-15 15:08:59,273 loading file /home/roque/.flair/models/sentiment-en-mix-distillbert_4.pt\n",
      "2022-12-15 15:09:04,496 loading file /home/roque/.flair/models/sentiment-en-mix-distillbert_4.pt\n",
      "2022-12-15 15:09:10,746 loading file /home/roque/.flair/models/sentiment-en-mix-distillbert_4.pt\n",
      "2022-12-15 15:09:16,152 loading file /home/roque/.flair/models/sentiment-en-mix-distillbert_4.pt\n",
      "2022-12-15 15:09:21,952 loading file /home/roque/.flair/models/sentiment-en-mix-distillbert_4.pt\n",
      "2022-12-15 15:09:27,414 loading file /home/roque/.flair/models/sentiment-en-mix-distillbert_4.pt\n",
      "2022-12-15 15:09:32,852 loading file /home/roque/.flair/models/sentiment-en-mix-distillbert_4.pt\n",
      "2022-12-15 15:09:38,375 loading file /home/roque/.flair/models/sentiment-en-mix-distillbert_4.pt\n",
      "2022-12-15 15:09:43,664 loading file /home/roque/.flair/models/sentiment-en-mix-distillbert_4.pt\n",
      "2022-12-15 15:09:48,283 loading file /home/roque/.flair/models/sentiment-en-mix-distillbert_4.pt\n",
      "2022-12-15 15:09:53,716 loading file /home/roque/.flair/models/sentiment-en-mix-distillbert_4.pt\n",
      "2022-12-15 15:09:59,496 loading file /home/roque/.flair/models/sentiment-en-mix-distillbert_4.pt\n",
      "2022-12-15 15:10:06,000 loading file /home/roque/.flair/models/sentiment-en-mix-distillbert_4.pt\n",
      "2022-12-15 15:10:12,270 loading file /home/roque/.flair/models/sentiment-en-mix-distillbert_4.pt\n",
      "2022-12-15 15:10:17,520 loading file /home/roque/.flair/models/sentiment-en-mix-distillbert_4.pt\n",
      "2022-12-15 15:10:22,378 loading file /home/roque/.flair/models/sentiment-en-mix-distillbert_4.pt\n",
      "2022-12-15 15:10:27,986 loading file /home/roque/.flair/models/sentiment-en-mix-distillbert_4.pt\n",
      "2022-12-15 15:10:33,587 loading file /home/roque/.flair/models/sentiment-en-mix-distillbert_4.pt\n",
      "2022-12-15 15:10:38,505 loading file /home/roque/.flair/models/sentiment-en-mix-distillbert_4.pt\n",
      "2022-12-15 15:10:43,538 loading file /home/roque/.flair/models/sentiment-en-mix-distillbert_4.pt\n",
      "2022-12-15 15:10:48,638 loading file /home/roque/.flair/models/sentiment-en-mix-distillbert_4.pt\n",
      "2022-12-15 15:10:53,669 loading file /home/roque/.flair/models/sentiment-en-mix-distillbert_4.pt\n",
      "2022-12-15 15:10:58,659 loading file /home/roque/.flair/models/sentiment-en-mix-distillbert_4.pt\n",
      "2022-12-15 15:11:03,317 loading file /home/roque/.flair/models/sentiment-en-mix-distillbert_4.pt\n",
      "2022-12-15 15:11:07,886 loading file /home/roque/.flair/models/sentiment-en-mix-distillbert_4.pt\n",
      "2022-12-15 15:11:12,205 loading file /home/roque/.flair/models/sentiment-en-mix-distillbert_4.pt\n",
      "2022-12-15 15:11:16,209 loading file /home/roque/.flair/models/sentiment-en-mix-distillbert_4.pt\n",
      "2022-12-15 15:11:20,022 loading file /home/roque/.flair/models/sentiment-en-mix-distillbert_4.pt\n",
      "2022-12-15 15:11:24,257 loading file /home/roque/.flair/models/sentiment-en-mix-distillbert_4.pt\n",
      "2022-12-15 15:11:28,697 loading file /home/roque/.flair/models/sentiment-en-mix-distillbert_4.pt\n",
      "2022-12-15 15:11:32,327 loading file /home/roque/.flair/models/sentiment-en-mix-distillbert_4.pt\n",
      "2022-12-15 15:11:36,546 loading file /home/roque/.flair/models/sentiment-en-mix-distillbert_4.pt\n",
      "2022-12-15 15:11:40,930 loading file /home/roque/.flair/models/sentiment-en-mix-distillbert_4.pt\n",
      "2022-12-15 15:11:44,933 loading file /home/roque/.flair/models/sentiment-en-mix-distillbert_4.pt\n"
     ]
    },
    {
     "name": "stdout",
     "output_type": "stream",
     "text": [
      "2022-12-15 15:11:49,296 loading file /home/roque/.flair/models/sentiment-en-mix-distillbert_4.pt\n",
      "2022-12-15 15:11:53,978 loading file /home/roque/.flair/models/sentiment-en-mix-distillbert_4.pt\n",
      "2022-12-15 15:11:58,716 loading file /home/roque/.flair/models/sentiment-en-mix-distillbert_4.pt\n",
      "2022-12-15 15:12:03,015 loading file /home/roque/.flair/models/sentiment-en-mix-distillbert_4.pt\n",
      "2022-12-15 15:12:08,369 loading file /home/roque/.flair/models/sentiment-en-mix-distillbert_4.pt\n",
      "2022-12-15 15:12:14,284 loading file /home/roque/.flair/models/sentiment-en-mix-distillbert_4.pt\n",
      "2022-12-15 15:12:20,342 loading file /home/roque/.flair/models/sentiment-en-mix-distillbert_4.pt\n",
      "2022-12-15 15:12:26,893 loading file /home/roque/.flair/models/sentiment-en-mix-distillbert_4.pt\n",
      "2022-12-15 15:12:34,445 loading file /home/roque/.flair/models/sentiment-en-mix-distillbert_4.pt\n",
      "2022-12-15 15:12:40,973 loading file /home/roque/.flair/models/sentiment-en-mix-distillbert_4.pt\n",
      "2022-12-15 15:12:47,498 loading file /home/roque/.flair/models/sentiment-en-mix-distillbert_4.pt\n",
      "2022-12-15 15:12:52,374 loading file /home/roque/.flair/models/sentiment-en-mix-distillbert_4.pt\n",
      "2022-12-15 15:12:57,882 loading file /home/roque/.flair/models/sentiment-en-mix-distillbert_4.pt\n",
      "2022-12-15 15:13:03,748 loading file /home/roque/.flair/models/sentiment-en-mix-distillbert_4.pt\n",
      "2022-12-15 15:13:09,466 loading file /home/roque/.flair/models/sentiment-en-mix-distillbert_4.pt\n",
      "2022-12-15 15:13:15,150 loading file /home/roque/.flair/models/sentiment-en-mix-distillbert_4.pt\n",
      "2022-12-15 15:13:20,559 loading file /home/roque/.flair/models/sentiment-en-mix-distillbert_4.pt\n",
      "2022-12-15 15:13:26,140 loading file /home/roque/.flair/models/sentiment-en-mix-distillbert_4.pt\n",
      "2022-12-15 15:13:31,061 loading file /home/roque/.flair/models/sentiment-en-mix-distillbert_4.pt\n",
      "2022-12-15 15:13:35,626 loading file /home/roque/.flair/models/sentiment-en-mix-distillbert_4.pt\n",
      "2022-12-15 15:13:39,745 loading file /home/roque/.flair/models/sentiment-en-mix-distillbert_4.pt\n",
      "2022-12-15 15:13:44,196 loading file /home/roque/.flair/models/sentiment-en-mix-distillbert_4.pt\n",
      "2022-12-15 15:13:48,606 loading file /home/roque/.flair/models/sentiment-en-mix-distillbert_4.pt\n",
      "2022-12-15 15:13:53,547 loading file /home/roque/.flair/models/sentiment-en-mix-distillbert_4.pt\n",
      "2022-12-15 15:13:58,277 loading file /home/roque/.flair/models/sentiment-en-mix-distillbert_4.pt\n",
      "2022-12-15 15:14:03,242 loading file /home/roque/.flair/models/sentiment-en-mix-distillbert_4.pt\n",
      "2022-12-15 15:14:07,634 loading file /home/roque/.flair/models/sentiment-en-mix-distillbert_4.pt\n",
      "2022-12-15 15:14:12,490 loading file /home/roque/.flair/models/sentiment-en-mix-distillbert_4.pt\n",
      "2022-12-15 15:14:17,376 loading file /home/roque/.flair/models/sentiment-en-mix-distillbert_4.pt\n",
      "2022-12-15 15:14:22,297 loading file /home/roque/.flair/models/sentiment-en-mix-distillbert_4.pt\n",
      "2022-12-15 15:14:27,160 loading file /home/roque/.flair/models/sentiment-en-mix-distillbert_4.pt\n",
      "2022-12-15 15:14:32,047 loading file /home/roque/.flair/models/sentiment-en-mix-distillbert_4.pt\n",
      "2022-12-15 15:14:37,111 loading file /home/roque/.flair/models/sentiment-en-mix-distillbert_4.pt\n",
      "2022-12-15 15:14:41,215 loading file /home/roque/.flair/models/sentiment-en-mix-distillbert_4.pt\n",
      "2022-12-15 15:14:45,540 loading file /home/roque/.flair/models/sentiment-en-mix-distillbert_4.pt\n",
      "2022-12-15 15:14:49,357 loading file /home/roque/.flair/models/sentiment-en-mix-distillbert_4.pt\n",
      "2022-12-15 15:14:53,876 loading file /home/roque/.flair/models/sentiment-en-mix-distillbert_4.pt\n",
      "2022-12-15 15:14:58,686 loading file /home/roque/.flair/models/sentiment-en-mix-distillbert_4.pt\n",
      "2022-12-15 15:15:02,977 loading file /home/roque/.flair/models/sentiment-en-mix-distillbert_4.pt\n",
      "2022-12-15 15:15:07,626 loading file /home/roque/.flair/models/sentiment-en-mix-distillbert_4.pt\n",
      "2022-12-15 15:15:12,156 loading file /home/roque/.flair/models/sentiment-en-mix-distillbert_4.pt\n",
      "2022-12-15 15:15:17,024 loading file /home/roque/.flair/models/sentiment-en-mix-distillbert_4.pt\n",
      "2022-12-15 15:15:22,277 loading file /home/roque/.flair/models/sentiment-en-mix-distillbert_4.pt\n",
      "2022-12-15 15:15:26,889 loading file /home/roque/.flair/models/sentiment-en-mix-distillbert_4.pt\n",
      "2022-12-15 15:15:31,997 loading file /home/roque/.flair/models/sentiment-en-mix-distillbert_4.pt\n",
      "2022-12-15 15:15:36,914 loading file /home/roque/.flair/models/sentiment-en-mix-distillbert_4.pt\n",
      "2022-12-15 15:15:41,571 loading file /home/roque/.flair/models/sentiment-en-mix-distillbert_4.pt\n",
      "2022-12-15 15:15:46,016 loading file /home/roque/.flair/models/sentiment-en-mix-distillbert_4.pt\n",
      "2022-12-15 15:15:50,895 loading file /home/roque/.flair/models/sentiment-en-mix-distillbert_4.pt\n",
      "2022-12-15 15:15:56,439 loading file /home/roque/.flair/models/sentiment-en-mix-distillbert_4.pt\n",
      "2022-12-15 15:16:01,361 loading file /home/roque/.flair/models/sentiment-en-mix-distillbert_4.pt\n",
      "2022-12-15 15:16:05,611 loading file /home/roque/.flair/models/sentiment-en-mix-distillbert_4.pt\n",
      "2022-12-15 15:16:09,546 loading file /home/roque/.flair/models/sentiment-en-mix-distillbert_4.pt\n",
      "2022-12-15 15:16:14,011 loading file /home/roque/.flair/models/sentiment-en-mix-distillbert_4.pt\n",
      "2022-12-15 15:16:19,333 loading file /home/roque/.flair/models/sentiment-en-mix-distillbert_4.pt\n",
      "2022-12-15 15:16:26,258 loading file /home/roque/.flair/models/sentiment-en-mix-distillbert_4.pt\n",
      "2022-12-15 15:16:32,705 loading file /home/roque/.flair/models/sentiment-en-mix-distillbert_4.pt\n",
      "2022-12-15 15:16:39,378 loading file /home/roque/.flair/models/sentiment-en-mix-distillbert_4.pt\n",
      "2022-12-15 15:16:45,088 loading file /home/roque/.flair/models/sentiment-en-mix-distillbert_4.pt\n",
      "2022-12-15 15:16:50,577 loading file /home/roque/.flair/models/sentiment-en-mix-distillbert_4.pt\n",
      "2022-12-15 15:16:55,560 loading file /home/roque/.flair/models/sentiment-en-mix-distillbert_4.pt\n",
      "2022-12-15 15:17:01,025 loading file /home/roque/.flair/models/sentiment-en-mix-distillbert_4.pt\n",
      "2022-12-15 15:17:06,277 loading file /home/roque/.flair/models/sentiment-en-mix-distillbert_4.pt\n",
      "2022-12-15 15:17:10,685 loading file /home/roque/.flair/models/sentiment-en-mix-distillbert_4.pt\n",
      "2022-12-15 15:17:15,601 loading file /home/roque/.flair/models/sentiment-en-mix-distillbert_4.pt\n",
      "2022-12-15 15:17:19,740 loading file /home/roque/.flair/models/sentiment-en-mix-distillbert_4.pt\n",
      "2022-12-15 15:17:24,391 loading file /home/roque/.flair/models/sentiment-en-mix-distillbert_4.pt\n",
      "2022-12-15 15:17:29,560 loading file /home/roque/.flair/models/sentiment-en-mix-distillbert_4.pt\n",
      "2022-12-15 15:17:34,611 loading file /home/roque/.flair/models/sentiment-en-mix-distillbert_4.pt\n",
      "2022-12-15 15:17:40,265 loading file /home/roque/.flair/models/sentiment-en-mix-distillbert_4.pt\n",
      "2022-12-15 15:17:45,185 loading file /home/roque/.flair/models/sentiment-en-mix-distillbert_4.pt\n",
      "2022-12-15 15:17:50,325 loading file /home/roque/.flair/models/sentiment-en-mix-distillbert_4.pt\n",
      "2022-12-15 15:17:55,900 loading file /home/roque/.flair/models/sentiment-en-mix-distillbert_4.pt\n",
      "2022-12-15 15:18:01,514 loading file /home/roque/.flair/models/sentiment-en-mix-distillbert_4.pt\n",
      "2022-12-15 15:18:06,907 loading file /home/roque/.flair/models/sentiment-en-mix-distillbert_4.pt\n",
      "2022-12-15 15:18:11,549 loading file /home/roque/.flair/models/sentiment-en-mix-distillbert_4.pt\n",
      "2022-12-15 15:18:16,635 loading file /home/roque/.flair/models/sentiment-en-mix-distillbert_4.pt\n",
      "2022-12-15 15:18:21,014 loading file /home/roque/.flair/models/sentiment-en-mix-distillbert_4.pt\n",
      "2022-12-15 15:18:25,993 loading file /home/roque/.flair/models/sentiment-en-mix-distillbert_4.pt\n",
      "2022-12-15 15:18:31,709 loading file /home/roque/.flair/models/sentiment-en-mix-distillbert_4.pt\n",
      "2022-12-15 15:18:37,109 loading file /home/roque/.flair/models/sentiment-en-mix-distillbert_4.pt\n",
      "2022-12-15 15:18:41,770 loading file /home/roque/.flair/models/sentiment-en-mix-distillbert_4.pt\n",
      "2022-12-15 15:18:46,007 loading file /home/roque/.flair/models/sentiment-en-mix-distillbert_4.pt\n",
      "2022-12-15 15:18:50,389 loading file /home/roque/.flair/models/sentiment-en-mix-distillbert_4.pt\n",
      "2022-12-15 15:18:55,109 loading file /home/roque/.flair/models/sentiment-en-mix-distillbert_4.pt\n"
     ]
    },
    {
     "name": "stdout",
     "output_type": "stream",
     "text": [
      "2022-12-15 15:18:59,097 loading file /home/roque/.flair/models/sentiment-en-mix-distillbert_4.pt\n",
      "2022-12-15 15:19:03,124 loading file /home/roque/.flair/models/sentiment-en-mix-distillbert_4.pt\n",
      "2022-12-15 15:19:07,179 loading file /home/roque/.flair/models/sentiment-en-mix-distillbert_4.pt\n",
      "2022-12-15 15:19:10,780 loading file /home/roque/.flair/models/sentiment-en-mix-distillbert_4.pt\n",
      "2022-12-15 15:19:14,459 loading file /home/roque/.flair/models/sentiment-en-mix-distillbert_4.pt\n",
      "2022-12-15 15:19:19,009 loading file /home/roque/.flair/models/sentiment-en-mix-distillbert_4.pt\n",
      "2022-12-15 15:19:23,113 loading file /home/roque/.flair/models/sentiment-en-mix-distillbert_4.pt\n",
      "2022-12-15 15:19:28,331 loading file /home/roque/.flair/models/sentiment-en-mix-distillbert_4.pt\n",
      "2022-12-15 15:19:34,229 loading file /home/roque/.flair/models/sentiment-en-mix-distillbert_4.pt\n",
      "2022-12-15 15:19:39,719 loading file /home/roque/.flair/models/sentiment-en-mix-distillbert_4.pt\n",
      "2022-12-15 15:19:44,016 loading file /home/roque/.flair/models/sentiment-en-mix-distillbert_4.pt\n",
      "2022-12-15 15:19:47,801 loading file /home/roque/.flair/models/sentiment-en-mix-distillbert_4.pt\n",
      "2022-12-15 15:19:51,666 loading file /home/roque/.flair/models/sentiment-en-mix-distillbert_4.pt\n",
      "2022-12-15 15:19:55,540 loading file /home/roque/.flair/models/sentiment-en-mix-distillbert_4.pt\n",
      "2022-12-15 15:19:59,411 loading file /home/roque/.flair/models/sentiment-en-mix-distillbert_4.pt\n",
      "2022-12-15 15:20:04,552 loading file /home/roque/.flair/models/sentiment-en-mix-distillbert_4.pt\n",
      "2022-12-15 15:20:10,840 loading file /home/roque/.flair/models/sentiment-en-mix-distillbert_4.pt\n",
      "2022-12-15 15:20:15,927 loading file /home/roque/.flair/models/sentiment-en-mix-distillbert_4.pt\n",
      "2022-12-15 15:20:21,474 loading file /home/roque/.flair/models/sentiment-en-mix-distillbert_4.pt\n",
      "2022-12-15 15:20:27,318 loading file /home/roque/.flair/models/sentiment-en-mix-distillbert_4.pt\n",
      "2022-12-15 15:20:32,447 loading file /home/roque/.flair/models/sentiment-en-mix-distillbert_4.pt\n",
      "2022-12-15 15:20:37,226 loading file /home/roque/.flair/models/sentiment-en-mix-distillbert_4.pt\n",
      "2022-12-15 15:20:41,855 loading file /home/roque/.flair/models/sentiment-en-mix-distillbert_4.pt\n",
      "2022-12-15 15:20:46,381 loading file /home/roque/.flair/models/sentiment-en-mix-distillbert_4.pt\n",
      "2022-12-15 15:20:51,764 loading file /home/roque/.flair/models/sentiment-en-mix-distillbert_4.pt\n",
      "2022-12-15 15:20:57,195 loading file /home/roque/.flair/models/sentiment-en-mix-distillbert_4.pt\n",
      "2022-12-15 15:21:02,092 loading file /home/roque/.flair/models/sentiment-en-mix-distillbert_4.pt\n",
      "2022-12-15 15:21:06,599 loading file /home/roque/.flair/models/sentiment-en-mix-distillbert_4.pt\n",
      "2022-12-15 15:21:11,582 loading file /home/roque/.flair/models/sentiment-en-mix-distillbert_4.pt\n",
      "2022-12-15 15:21:16,950 loading file /home/roque/.flair/models/sentiment-en-mix-distillbert_4.pt\n",
      "2022-12-15 15:21:22,377 loading file /home/roque/.flair/models/sentiment-en-mix-distillbert_4.pt\n",
      "2022-12-15 15:21:27,731 loading file /home/roque/.flair/models/sentiment-en-mix-distillbert_4.pt\n",
      "2022-12-15 15:21:33,041 loading file /home/roque/.flair/models/sentiment-en-mix-distillbert_4.pt\n",
      "2022-12-15 15:21:37,808 loading file /home/roque/.flair/models/sentiment-en-mix-distillbert_4.pt\n",
      "2022-12-15 15:21:42,537 loading file /home/roque/.flair/models/sentiment-en-mix-distillbert_4.pt\n",
      "2022-12-15 15:21:46,901 loading file /home/roque/.flair/models/sentiment-en-mix-distillbert_4.pt\n",
      "2022-12-15 15:21:51,386 loading file /home/roque/.flair/models/sentiment-en-mix-distillbert_4.pt\n",
      "2022-12-15 15:21:56,113 loading file /home/roque/.flair/models/sentiment-en-mix-distillbert_4.pt\n",
      "2022-12-15 15:22:01,210 loading file /home/roque/.flair/models/sentiment-en-mix-distillbert_4.pt\n",
      "2022-12-15 15:22:05,921 loading file /home/roque/.flair/models/sentiment-en-mix-distillbert_4.pt\n",
      "2022-12-15 15:22:10,166 loading file /home/roque/.flair/models/sentiment-en-mix-distillbert_4.pt\n",
      "2022-12-15 15:22:14,315 loading file /home/roque/.flair/models/sentiment-en-mix-distillbert_4.pt\n",
      "2022-12-15 15:22:18,398 loading file /home/roque/.flair/models/sentiment-en-mix-distillbert_4.pt\n",
      "2022-12-15 15:22:22,043 loading file /home/roque/.flair/models/sentiment-en-mix-distillbert_4.pt\n",
      "2022-12-15 15:22:25,738 loading file /home/roque/.flair/models/sentiment-en-mix-distillbert_4.pt\n",
      "2022-12-15 15:22:30,085 loading file /home/roque/.flair/models/sentiment-en-mix-distillbert_4.pt\n",
      "2022-12-15 15:22:34,626 loading file /home/roque/.flair/models/sentiment-en-mix-distillbert_4.pt\n",
      "2022-12-15 15:22:38,607 loading file /home/roque/.flair/models/sentiment-en-mix-distillbert_4.pt\n",
      "2022-12-15 15:22:43,001 loading file /home/roque/.flair/models/sentiment-en-mix-distillbert_4.pt\n",
      "2022-12-15 15:22:47,898 loading file /home/roque/.flair/models/sentiment-en-mix-distillbert_4.pt\n",
      "2022-12-15 15:22:53,343 loading file /home/roque/.flair/models/sentiment-en-mix-distillbert_4.pt\n",
      "2022-12-15 15:22:58,518 loading file /home/roque/.flair/models/sentiment-en-mix-distillbert_4.pt\n",
      "2022-12-15 15:23:03,053 loading file /home/roque/.flair/models/sentiment-en-mix-distillbert_4.pt\n",
      "2022-12-15 15:23:07,525 loading file /home/roque/.flair/models/sentiment-en-mix-distillbert_4.pt\n",
      "2022-12-15 15:23:12,409 loading file /home/roque/.flair/models/sentiment-en-mix-distillbert_4.pt\n",
      "2022-12-15 15:23:17,649 loading file /home/roque/.flair/models/sentiment-en-mix-distillbert_4.pt\n",
      "2022-12-15 15:23:21,929 loading file /home/roque/.flair/models/sentiment-en-mix-distillbert_4.pt\n",
      "2022-12-15 15:23:26,989 loading file /home/roque/.flair/models/sentiment-en-mix-distillbert_4.pt\n",
      "2022-12-15 15:23:32,014 loading file /home/roque/.flair/models/sentiment-en-mix-distillbert_4.pt\n",
      "2022-12-15 15:23:36,809 loading file /home/roque/.flair/models/sentiment-en-mix-distillbert_4.pt\n",
      "2022-12-15 15:23:41,539 loading file /home/roque/.flair/models/sentiment-en-mix-distillbert_4.pt\n",
      "2022-12-15 15:23:45,665 loading file /home/roque/.flair/models/sentiment-en-mix-distillbert_4.pt\n",
      "2022-12-15 15:23:49,292 loading file /home/roque/.flair/models/sentiment-en-mix-distillbert_4.pt\n",
      "2022-12-15 15:23:53,206 loading file /home/roque/.flair/models/sentiment-en-mix-distillbert_4.pt\n",
      "2022-12-15 15:23:56,846 loading file /home/roque/.flair/models/sentiment-en-mix-distillbert_4.pt\n",
      "2022-12-15 15:24:00,446 loading file /home/roque/.flair/models/sentiment-en-mix-distillbert_4.pt\n",
      "2022-12-15 15:24:04,153 loading file /home/roque/.flair/models/sentiment-en-mix-distillbert_4.pt\n",
      "2022-12-15 15:24:08,070 loading file /home/roque/.flair/models/sentiment-en-mix-distillbert_4.pt\n",
      "2022-12-15 15:24:12,132 loading file /home/roque/.flair/models/sentiment-en-mix-distillbert_4.pt\n",
      "2022-12-15 15:24:15,962 loading file /home/roque/.flair/models/sentiment-en-mix-distillbert_4.pt\n",
      "2022-12-15 15:24:20,667 loading file /home/roque/.flair/models/sentiment-en-mix-distillbert_4.pt\n",
      "2022-12-15 15:24:25,794 loading file /home/roque/.flair/models/sentiment-en-mix-distillbert_4.pt\n",
      "2022-12-15 15:24:30,174 loading file /home/roque/.flair/models/sentiment-en-mix-distillbert_4.pt\n",
      "2022-12-15 15:24:34,888 loading file /home/roque/.flair/models/sentiment-en-mix-distillbert_4.pt\n",
      "2022-12-15 15:24:39,826 loading file /home/roque/.flair/models/sentiment-en-mix-distillbert_4.pt\n",
      "2022-12-15 15:24:44,638 loading file /home/roque/.flair/models/sentiment-en-mix-distillbert_4.pt\n",
      "2022-12-15 15:24:49,497 loading file /home/roque/.flair/models/sentiment-en-mix-distillbert_4.pt\n",
      "2022-12-15 15:24:54,382 loading file /home/roque/.flair/models/sentiment-en-mix-distillbert_4.pt\n",
      "2022-12-15 15:24:58,501 loading file /home/roque/.flair/models/sentiment-en-mix-distillbert_4.pt\n",
      "2022-12-15 15:25:02,366 loading file /home/roque/.flair/models/sentiment-en-mix-distillbert_4.pt\n",
      "2022-12-15 15:25:06,122 loading file /home/roque/.flair/models/sentiment-en-mix-distillbert_4.pt\n",
      "2022-12-15 15:25:09,925 loading file /home/roque/.flair/models/sentiment-en-mix-distillbert_4.pt\n",
      "2022-12-15 15:25:13,811 loading file /home/roque/.flair/models/sentiment-en-mix-distillbert_4.pt\n",
      "2022-12-15 15:25:17,440 loading file /home/roque/.flair/models/sentiment-en-mix-distillbert_4.pt\n",
      "2022-12-15 15:25:21,170 loading file /home/roque/.flair/models/sentiment-en-mix-distillbert_4.pt\n"
     ]
    },
    {
     "name": "stdout",
     "output_type": "stream",
     "text": [
      "2022-12-15 15:25:25,072 loading file /home/roque/.flair/models/sentiment-en-mix-distillbert_4.pt\n",
      "2022-12-15 15:25:29,074 loading file /home/roque/.flair/models/sentiment-en-mix-distillbert_4.pt\n",
      "2022-12-15 15:25:33,132 loading file /home/roque/.flair/models/sentiment-en-mix-distillbert_4.pt\n",
      "2022-12-15 15:25:37,513 loading file /home/roque/.flair/models/sentiment-en-mix-distillbert_4.pt\n",
      "2022-12-15 15:25:41,763 loading file /home/roque/.flair/models/sentiment-en-mix-distillbert_4.pt\n",
      "2022-12-15 15:25:45,767 loading file /home/roque/.flair/models/sentiment-en-mix-distillbert_4.pt\n",
      "2022-12-15 15:25:49,652 loading file /home/roque/.flair/models/sentiment-en-mix-distillbert_4.pt\n",
      "2022-12-15 15:25:53,465 loading file /home/roque/.flair/models/sentiment-en-mix-distillbert_4.pt\n",
      "2022-12-15 15:25:57,974 loading file /home/roque/.flair/models/sentiment-en-mix-distillbert_4.pt\n",
      "2022-12-15 15:26:02,898 loading file /home/roque/.flair/models/sentiment-en-mix-distillbert_4.pt\n",
      "2022-12-15 15:26:08,172 loading file /home/roque/.flair/models/sentiment-en-mix-distillbert_4.pt\n",
      "2022-12-15 15:26:13,062 loading file /home/roque/.flair/models/sentiment-en-mix-distillbert_4.pt\n",
      "2022-12-15 15:26:17,307 loading file /home/roque/.flair/models/sentiment-en-mix-distillbert_4.pt\n",
      "2022-12-15 15:26:22,213 loading file /home/roque/.flair/models/sentiment-en-mix-distillbert_4.pt\n",
      "2022-12-15 15:26:27,178 loading file /home/roque/.flair/models/sentiment-en-mix-distillbert_4.pt\n",
      "2022-12-15 15:26:32,042 loading file /home/roque/.flair/models/sentiment-en-mix-distillbert_4.pt\n",
      "2022-12-15 15:26:36,851 loading file /home/roque/.flair/models/sentiment-en-mix-distillbert_4.pt\n",
      "2022-12-15 15:26:41,359 loading file /home/roque/.flair/models/sentiment-en-mix-distillbert_4.pt\n",
      "2022-12-15 15:26:45,849 loading file /home/roque/.flair/models/sentiment-en-mix-distillbert_4.pt\n",
      "2022-12-15 15:26:50,209 loading file /home/roque/.flair/models/sentiment-en-mix-distillbert_4.pt\n",
      "2022-12-15 15:26:54,613 loading file /home/roque/.flair/models/sentiment-en-mix-distillbert_4.pt\n",
      "2022-12-15 15:26:58,684 loading file /home/roque/.flair/models/sentiment-en-mix-distillbert_4.pt\n",
      "2022-12-15 15:27:02,989 loading file /home/roque/.flair/models/sentiment-en-mix-distillbert_4.pt\n",
      "2022-12-15 15:27:07,387 loading file /home/roque/.flair/models/sentiment-en-mix-distillbert_4.pt\n",
      "2022-12-15 15:27:12,698 loading file /home/roque/.flair/models/sentiment-en-mix-distillbert_4.pt\n",
      "2022-12-15 15:27:18,206 loading file /home/roque/.flair/models/sentiment-en-mix-distillbert_4.pt\n",
      "2022-12-15 15:27:22,902 loading file /home/roque/.flair/models/sentiment-en-mix-distillbert_4.pt\n",
      "2022-12-15 15:27:27,086 loading file /home/roque/.flair/models/sentiment-en-mix-distillbert_4.pt\n",
      "2022-12-15 15:27:31,043 loading file /home/roque/.flair/models/sentiment-en-mix-distillbert_4.pt\n",
      "2022-12-15 15:27:35,267 loading file /home/roque/.flair/models/sentiment-en-mix-distillbert_4.pt\n",
      "2022-12-15 15:27:39,673 loading file /home/roque/.flair/models/sentiment-en-mix-distillbert_4.pt\n",
      "2022-12-15 15:27:44,056 loading file /home/roque/.flair/models/sentiment-en-mix-distillbert_4.pt\n",
      "2022-12-15 15:27:48,027 loading file /home/roque/.flair/models/sentiment-en-mix-distillbert_4.pt\n",
      "2022-12-15 15:27:52,089 loading file /home/roque/.flair/models/sentiment-en-mix-distillbert_4.pt\n",
      "2022-12-15 15:27:56,346 loading file /home/roque/.flair/models/sentiment-en-mix-distillbert_4.pt\n",
      "2022-12-15 15:28:00,341 loading file /home/roque/.flair/models/sentiment-en-mix-distillbert_4.pt\n",
      "2022-12-15 15:28:04,590 loading file /home/roque/.flair/models/sentiment-en-mix-distillbert_4.pt\n",
      "2022-12-15 15:28:08,556 loading file /home/roque/.flair/models/sentiment-en-mix-distillbert_4.pt\n",
      "2022-12-15 15:28:12,372 loading file /home/roque/.flair/models/sentiment-en-mix-distillbert_4.pt\n",
      "2022-12-15 15:28:16,498 loading file /home/roque/.flair/models/sentiment-en-mix-distillbert_4.pt\n",
      "2022-12-15 15:28:21,034 loading file /home/roque/.flair/models/sentiment-en-mix-distillbert_4.pt\n",
      "2022-12-15 15:28:25,477 loading file /home/roque/.flair/models/sentiment-en-mix-distillbert_4.pt\n",
      "2022-12-15 15:28:29,744 loading file /home/roque/.flair/models/sentiment-en-mix-distillbert_4.pt\n",
      "2022-12-15 15:28:33,755 loading file /home/roque/.flair/models/sentiment-en-mix-distillbert_4.pt\n",
      "2022-12-15 15:28:37,786 loading file /home/roque/.flair/models/sentiment-en-mix-distillbert_4.pt\n",
      "2022-12-15 15:28:41,851 loading file /home/roque/.flair/models/sentiment-en-mix-distillbert_4.pt\n",
      "2022-12-15 15:28:45,965 loading file /home/roque/.flair/models/sentiment-en-mix-distillbert_4.pt\n",
      "2022-12-15 15:28:49,947 loading file /home/roque/.flair/models/sentiment-en-mix-distillbert_4.pt\n",
      "2022-12-15 15:28:54,693 loading file /home/roque/.flair/models/sentiment-en-mix-distillbert_4.pt\n",
      "2022-12-15 15:28:59,704 loading file /home/roque/.flair/models/sentiment-en-mix-distillbert_4.pt\n",
      "2022-12-15 15:29:04,416 loading file /home/roque/.flair/models/sentiment-en-mix-distillbert_4.pt\n",
      "2022-12-15 15:29:09,012 loading file /home/roque/.flair/models/sentiment-en-mix-distillbert_4.pt\n",
      "2022-12-15 15:29:14,221 loading file /home/roque/.flair/models/sentiment-en-mix-distillbert_4.pt\n",
      "2022-12-15 15:29:18,944 loading file /home/roque/.flair/models/sentiment-en-mix-distillbert_4.pt\n",
      "2022-12-15 15:29:23,290 loading file /home/roque/.flair/models/sentiment-en-mix-distillbert_4.pt\n",
      "2022-12-15 15:29:27,973 loading file /home/roque/.flair/models/sentiment-en-mix-distillbert_4.pt\n",
      "2022-12-15 15:29:32,885 loading file /home/roque/.flair/models/sentiment-en-mix-distillbert_4.pt\n",
      "2022-12-15 15:29:37,185 loading file /home/roque/.flair/models/sentiment-en-mix-distillbert_4.pt\n",
      "2022-12-15 15:29:41,189 loading file /home/roque/.flair/models/sentiment-en-mix-distillbert_4.pt\n",
      "2022-12-15 15:29:45,417 loading file /home/roque/.flair/models/sentiment-en-mix-distillbert_4.pt\n",
      "2022-12-15 15:29:50,243 loading file /home/roque/.flair/models/sentiment-en-mix-distillbert_4.pt\n",
      "2022-12-15 15:29:54,319 loading file /home/roque/.flair/models/sentiment-en-mix-distillbert_4.pt\n",
      "2022-12-15 15:29:58,358 loading file /home/roque/.flair/models/sentiment-en-mix-distillbert_4.pt\n",
      "2022-12-15 15:30:02,559 loading file /home/roque/.flair/models/sentiment-en-mix-distillbert_4.pt\n",
      "2022-12-15 15:30:07,180 loading file /home/roque/.flair/models/sentiment-en-mix-distillbert_4.pt\n",
      "2022-12-15 15:30:12,690 loading file /home/roque/.flair/models/sentiment-en-mix-distillbert_4.pt\n",
      "2022-12-15 15:30:18,808 loading file /home/roque/.flair/models/sentiment-en-mix-distillbert_4.pt\n",
      "2022-12-15 15:30:24,031 loading file /home/roque/.flair/models/sentiment-en-mix-distillbert_4.pt\n",
      "2022-12-15 15:30:28,996 loading file /home/roque/.flair/models/sentiment-en-mix-distillbert_4.pt\n",
      "2022-12-15 15:30:34,562 loading file /home/roque/.flair/models/sentiment-en-mix-distillbert_4.pt\n",
      "2022-12-15 15:30:40,794 loading file /home/roque/.flair/models/sentiment-en-mix-distillbert_4.pt\n",
      "2022-12-15 15:30:46,239 loading file /home/roque/.flair/models/sentiment-en-mix-distillbert_4.pt\n",
      "2022-12-15 15:30:51,652 loading file /home/roque/.flair/models/sentiment-en-mix-distillbert_4.pt\n",
      "2022-12-15 15:30:56,844 loading file /home/roque/.flair/models/sentiment-en-mix-distillbert_4.pt\n",
      "2022-12-15 15:31:01,270 loading file /home/roque/.flair/models/sentiment-en-mix-distillbert_4.pt\n",
      "2022-12-15 15:31:06,388 loading file /home/roque/.flair/models/sentiment-en-mix-distillbert_4.pt\n",
      "2022-12-15 15:31:11,552 loading file /home/roque/.flair/models/sentiment-en-mix-distillbert_4.pt\n",
      "2022-12-15 15:31:16,798 loading file /home/roque/.flair/models/sentiment-en-mix-distillbert_4.pt\n",
      "2022-12-15 15:31:21,734 loading file /home/roque/.flair/models/sentiment-en-mix-distillbert_4.pt\n",
      "2022-12-15 15:31:26,954 loading file /home/roque/.flair/models/sentiment-en-mix-distillbert_4.pt\n",
      "2022-12-15 15:31:32,785 loading file /home/roque/.flair/models/sentiment-en-mix-distillbert_4.pt\n",
      "2022-12-15 15:31:37,797 loading file /home/roque/.flair/models/sentiment-en-mix-distillbert_4.pt\n",
      "2022-12-15 15:31:43,120 loading file /home/roque/.flair/models/sentiment-en-mix-distillbert_4.pt\n",
      "2022-12-15 15:31:48,151 loading file /home/roque/.flair/models/sentiment-en-mix-distillbert_4.pt\n",
      "2022-12-15 15:31:53,033 loading file /home/roque/.flair/models/sentiment-en-mix-distillbert_4.pt\n"
     ]
    },
    {
     "name": "stdout",
     "output_type": "stream",
     "text": [
      "2022-12-15 15:31:57,738 loading file /home/roque/.flair/models/sentiment-en-mix-distillbert_4.pt\n",
      "2022-12-15 15:32:02,713 loading file /home/roque/.flair/models/sentiment-en-mix-distillbert_4.pt\n",
      "2022-12-15 15:32:07,283 loading file /home/roque/.flair/models/sentiment-en-mix-distillbert_4.pt\n",
      "2022-12-15 15:32:11,316 loading file /home/roque/.flair/models/sentiment-en-mix-distillbert_4.pt\n",
      "2022-12-15 15:32:15,012 loading file /home/roque/.flair/models/sentiment-en-mix-distillbert_4.pt\n",
      "2022-12-15 15:32:19,189 loading file /home/roque/.flair/models/sentiment-en-mix-distillbert_4.pt\n",
      "2022-12-15 15:32:23,367 loading file /home/roque/.flair/models/sentiment-en-mix-distillbert_4.pt\n",
      "2022-12-15 15:32:27,660 loading file /home/roque/.flair/models/sentiment-en-mix-distillbert_4.pt\n",
      "2022-12-15 15:32:32,491 loading file /home/roque/.flair/models/sentiment-en-mix-distillbert_4.pt\n",
      "2022-12-15 15:32:37,146 loading file /home/roque/.flair/models/sentiment-en-mix-distillbert_4.pt\n",
      "2022-12-15 15:32:41,638 loading file /home/roque/.flair/models/sentiment-en-mix-distillbert_4.pt\n",
      "2022-12-15 15:32:46,438 loading file /home/roque/.flair/models/sentiment-en-mix-distillbert_4.pt\n",
      "2022-12-15 15:32:51,208 loading file /home/roque/.flair/models/sentiment-en-mix-distillbert_4.pt\n",
      "2022-12-15 15:32:55,996 loading file /home/roque/.flair/models/sentiment-en-mix-distillbert_4.pt\n",
      "2022-12-15 15:33:01,284 loading file /home/roque/.flair/models/sentiment-en-mix-distillbert_4.pt\n",
      "2022-12-15 15:33:06,434 loading file /home/roque/.flair/models/sentiment-en-mix-distillbert_4.pt\n",
      "2022-12-15 15:33:11,689 loading file /home/roque/.flair/models/sentiment-en-mix-distillbert_4.pt\n",
      "2022-12-15 15:33:16,863 loading file /home/roque/.flair/models/sentiment-en-mix-distillbert_4.pt\n",
      "2022-12-15 15:33:22,888 loading file /home/roque/.flair/models/sentiment-en-mix-distillbert_4.pt\n",
      "2022-12-15 15:33:28,263 loading file /home/roque/.flair/models/sentiment-en-mix-distillbert_4.pt\n",
      "2022-12-15 15:33:33,770 loading file /home/roque/.flair/models/sentiment-en-mix-distillbert_4.pt\n",
      "2022-12-15 15:33:38,864 loading file /home/roque/.flair/models/sentiment-en-mix-distillbert_4.pt\n",
      "2022-12-15 15:33:43,687 loading file /home/roque/.flair/models/sentiment-en-mix-distillbert_4.pt\n",
      "2022-12-15 15:33:48,344 loading file /home/roque/.flair/models/sentiment-en-mix-distillbert_4.pt\n",
      "2022-12-15 15:33:52,892 loading file /home/roque/.flair/models/sentiment-en-mix-distillbert_4.pt\n",
      "2022-12-15 15:33:57,466 loading file /home/roque/.flair/models/sentiment-en-mix-distillbert_4.pt\n",
      "2022-12-15 15:34:02,470 loading file /home/roque/.flair/models/sentiment-en-mix-distillbert_4.pt\n",
      "2022-12-15 15:34:07,241 loading file /home/roque/.flair/models/sentiment-en-mix-distillbert_4.pt\n",
      "2022-12-15 15:34:11,670 loading file /home/roque/.flair/models/sentiment-en-mix-distillbert_4.pt\n",
      "2022-12-15 15:34:16,136 loading file /home/roque/.flair/models/sentiment-en-mix-distillbert_4.pt\n",
      "2022-12-15 15:34:21,150 loading file /home/roque/.flair/models/sentiment-en-mix-distillbert_4.pt\n",
      "2022-12-15 15:34:25,397 loading file /home/roque/.flair/models/sentiment-en-mix-distillbert_4.pt\n",
      "2022-12-15 15:34:29,312 loading file /home/roque/.flair/models/sentiment-en-mix-distillbert_4.pt\n",
      "2022-12-15 15:34:33,391 loading file /home/roque/.flair/models/sentiment-en-mix-distillbert_4.pt\n",
      "2022-12-15 15:34:37,467 loading file /home/roque/.flair/models/sentiment-en-mix-distillbert_4.pt\n",
      "2022-12-15 15:34:41,821 loading file /home/roque/.flair/models/sentiment-en-mix-distillbert_4.pt\n",
      "2022-12-15 15:34:47,273 loading file /home/roque/.flair/models/sentiment-en-mix-distillbert_4.pt\n",
      "2022-12-15 15:34:51,910 loading file /home/roque/.flair/models/sentiment-en-mix-distillbert_4.pt\n",
      "2022-12-15 15:34:56,314 loading file /home/roque/.flair/models/sentiment-en-mix-distillbert_4.pt\n",
      "2022-12-15 15:35:00,933 loading file /home/roque/.flair/models/sentiment-en-mix-distillbert_4.pt\n",
      "2022-12-15 15:35:06,232 loading file /home/roque/.flair/models/sentiment-en-mix-distillbert_4.pt\n",
      "2022-12-15 15:35:11,944 loading file /home/roque/.flair/models/sentiment-en-mix-distillbert_4.pt\n",
      "2022-12-15 15:35:17,343 loading file /home/roque/.flair/models/sentiment-en-mix-distillbert_4.pt\n",
      "2022-12-15 15:35:22,517 loading file /home/roque/.flair/models/sentiment-en-mix-distillbert_4.pt\n",
      "2022-12-15 15:35:27,734 loading file /home/roque/.flair/models/sentiment-en-mix-distillbert_4.pt\n",
      "2022-12-15 15:35:33,085 loading file /home/roque/.flair/models/sentiment-en-mix-distillbert_4.pt\n",
      "2022-12-15 15:35:38,039 loading file /home/roque/.flair/models/sentiment-en-mix-distillbert_4.pt\n",
      "2022-12-15 15:35:43,129 loading file /home/roque/.flair/models/sentiment-en-mix-distillbert_4.pt\n",
      "2022-12-15 15:35:48,359 loading file /home/roque/.flair/models/sentiment-en-mix-distillbert_4.pt\n",
      "2022-12-15 15:35:53,625 loading file /home/roque/.flair/models/sentiment-en-mix-distillbert_4.pt\n",
      "2022-12-15 15:35:58,486 loading file /home/roque/.flair/models/sentiment-en-mix-distillbert_4.pt\n",
      "2022-12-15 15:36:03,521 loading file /home/roque/.flair/models/sentiment-en-mix-distillbert_4.pt\n",
      "2022-12-15 15:36:08,864 loading file /home/roque/.flair/models/sentiment-en-mix-distillbert_4.pt\n",
      "2022-12-15 15:36:14,110 loading file /home/roque/.flair/models/sentiment-en-mix-distillbert_4.pt\n",
      "2022-12-15 15:36:19,395 loading file /home/roque/.flair/models/sentiment-en-mix-distillbert_4.pt\n",
      "2022-12-15 15:36:24,435 loading file /home/roque/.flair/models/sentiment-en-mix-distillbert_4.pt\n",
      "2022-12-15 15:36:29,560 loading file /home/roque/.flair/models/sentiment-en-mix-distillbert_4.pt\n",
      "2022-12-15 15:36:34,483 loading file /home/roque/.flair/models/sentiment-en-mix-distillbert_4.pt\n",
      "2022-12-15 15:36:39,540 loading file /home/roque/.flair/models/sentiment-en-mix-distillbert_4.pt\n",
      "2022-12-15 15:36:44,509 loading file /home/roque/.flair/models/sentiment-en-mix-distillbert_4.pt\n",
      "2022-12-15 15:36:49,648 loading file /home/roque/.flair/models/sentiment-en-mix-distillbert_4.pt\n",
      "2022-12-15 15:36:54,121 loading file /home/roque/.flair/models/sentiment-en-mix-distillbert_4.pt\n",
      "2022-12-15 15:36:57,987 loading file /home/roque/.flair/models/sentiment-en-mix-distillbert_4.pt\n",
      "2022-12-15 15:37:02,043 loading file /home/roque/.flair/models/sentiment-en-mix-distillbert_4.pt\n",
      "2022-12-15 15:37:06,158 loading file /home/roque/.flair/models/sentiment-en-mix-distillbert_4.pt\n",
      "2022-12-15 15:37:11,155 loading file /home/roque/.flair/models/sentiment-en-mix-distillbert_4.pt\n",
      "2022-12-15 15:37:16,153 loading file /home/roque/.flair/models/sentiment-en-mix-distillbert_4.pt\n",
      "2022-12-15 15:37:21,319 loading file /home/roque/.flair/models/sentiment-en-mix-distillbert_4.pt\n",
      "2022-12-15 15:37:26,309 loading file /home/roque/.flair/models/sentiment-en-mix-distillbert_4.pt\n",
      "2022-12-15 15:37:31,199 loading file /home/roque/.flair/models/sentiment-en-mix-distillbert_4.pt\n",
      "2022-12-15 15:37:35,347 loading file /home/roque/.flair/models/sentiment-en-mix-distillbert_4.pt\n",
      "2022-12-15 15:37:39,527 loading file /home/roque/.flair/models/sentiment-en-mix-distillbert_4.pt\n",
      "2022-12-15 15:37:43,969 loading file /home/roque/.flair/models/sentiment-en-mix-distillbert_4.pt\n",
      "2022-12-15 15:37:48,901 loading file /home/roque/.flair/models/sentiment-en-mix-distillbert_4.pt\n",
      "2022-12-15 15:37:52,913 loading file /home/roque/.flair/models/sentiment-en-mix-distillbert_4.pt\n",
      "2022-12-15 15:37:56,961 loading file /home/roque/.flair/models/sentiment-en-mix-distillbert_4.pt\n",
      "2022-12-15 15:38:01,063 loading file /home/roque/.flair/models/sentiment-en-mix-distillbert_4.pt\n",
      "2022-12-15 15:38:05,390 loading file /home/roque/.flair/models/sentiment-en-mix-distillbert_4.pt\n",
      "2022-12-15 15:38:10,196 loading file /home/roque/.flair/models/sentiment-en-mix-distillbert_4.pt\n",
      "2022-12-15 15:38:15,242 loading file /home/roque/.flair/models/sentiment-en-mix-distillbert_4.pt\n",
      "2022-12-15 15:38:20,114 loading file /home/roque/.flair/models/sentiment-en-mix-distillbert_4.pt\n",
      "2022-12-15 15:38:24,524 loading file /home/roque/.flair/models/sentiment-en-mix-distillbert_4.pt\n",
      "2022-12-15 15:38:29,304 loading file /home/roque/.flair/models/sentiment-en-mix-distillbert_4.pt\n",
      "2022-12-15 15:38:33,726 loading file /home/roque/.flair/models/sentiment-en-mix-distillbert_4.pt\n",
      "2022-12-15 15:38:38,172 loading file /home/roque/.flair/models/sentiment-en-mix-distillbert_4.pt\n"
     ]
    },
    {
     "name": "stdout",
     "output_type": "stream",
     "text": [
      "2022-12-15 15:38:42,122 loading file /home/roque/.flair/models/sentiment-en-mix-distillbert_4.pt\n",
      "2022-12-15 15:38:46,559 loading file /home/roque/.flair/models/sentiment-en-mix-distillbert_4.pt\n",
      "2022-12-15 15:38:51,566 loading file /home/roque/.flair/models/sentiment-en-mix-distillbert_4.pt\n",
      "2022-12-15 15:38:57,050 loading file /home/roque/.flair/models/sentiment-en-mix-distillbert_4.pt\n",
      "2022-12-15 15:39:02,171 loading file /home/roque/.flair/models/sentiment-en-mix-distillbert_4.pt\n",
      "2022-12-15 15:39:06,890 loading file /home/roque/.flair/models/sentiment-en-mix-distillbert_4.pt\n",
      "2022-12-15 15:39:11,267 loading file /home/roque/.flair/models/sentiment-en-mix-distillbert_4.pt\n",
      "2022-12-15 15:39:15,391 loading file /home/roque/.flair/models/sentiment-en-mix-distillbert_4.pt\n",
      "2022-12-15 15:39:20,174 loading file /home/roque/.flair/models/sentiment-en-mix-distillbert_4.pt\n",
      "2022-12-15 15:39:25,685 loading file /home/roque/.flair/models/sentiment-en-mix-distillbert_4.pt\n",
      "2022-12-15 15:39:31,190 loading file /home/roque/.flair/models/sentiment-en-mix-distillbert_4.pt\n",
      "2022-12-15 15:39:36,611 loading file /home/roque/.flair/models/sentiment-en-mix-distillbert_4.pt\n",
      "2022-12-15 15:39:42,112 loading file /home/roque/.flair/models/sentiment-en-mix-distillbert_4.pt\n",
      "2022-12-15 15:39:47,520 loading file /home/roque/.flair/models/sentiment-en-mix-distillbert_4.pt\n",
      "2022-12-15 15:39:52,727 loading file /home/roque/.flair/models/sentiment-en-mix-distillbert_4.pt\n",
      "2022-12-15 15:39:58,052 loading file /home/roque/.flair/models/sentiment-en-mix-distillbert_4.pt\n",
      "2022-12-15 15:40:03,165 loading file /home/roque/.flair/models/sentiment-en-mix-distillbert_4.pt\n",
      "2022-12-15 15:40:08,094 loading file /home/roque/.flair/models/sentiment-en-mix-distillbert_4.pt\n",
      "2022-12-15 15:40:12,936 loading file /home/roque/.flair/models/sentiment-en-mix-distillbert_4.pt\n"
     ]
    }
   ],
   "source": [
    "'''\n",
    "Calculate the sentiment of every lyric\n",
    "'''\n",
    "\n",
    "for artist in dataset['Artist']:\n",
    "    sentiment_list = []\n",
    "    \n",
    "    if len(lyrics_dict[artist])>2:\n",
    "        for lyric in lyrics_dict[artist][2]:\n",
    "            sentiment_list.append(calculate_sentiment(str(lyric)))        \n",
    "            \n",
    "    lyrics_dict[artist].append(sentiment_list)"
   ]
  },
  {
   "cell_type": "code",
   "execution_count": 24,
   "id": "a55960f2",
   "metadata": {},
   "outputs": [
    {
     "name": "stderr",
     "output_type": "stream",
     "text": [
      "[nltk_data] Downloading package punkt to /home/roque/nltk_data...\n",
      "[nltk_data]   Package punkt is already up-to-date!\n",
      "[nltk_data] Downloading package wordnet to /home/roque/nltk_data...\n",
      "[nltk_data]   Package wordnet is already up-to-date!\n",
      "[nltk_data] Downloading package omw-1.4 to /home/roque/nltk_data...\n",
      "[nltk_data]   Package omw-1.4 is already up-to-date!\n",
      "[nltk_data] Downloading package punkt to /home/roque/nltk_data...\n",
      "[nltk_data]   Package punkt is already up-to-date!\n",
      "[nltk_data] Downloading package wordnet to /home/roque/nltk_data...\n",
      "[nltk_data]   Package wordnet is already up-to-date!\n",
      "[nltk_data] Downloading package omw-1.4 to /home/roque/nltk_data...\n",
      "[nltk_data]   Package omw-1.4 is already up-to-date!\n",
      "[nltk_data] Downloading package punkt to /home/roque/nltk_data...\n",
      "[nltk_data]   Package punkt is already up-to-date!\n",
      "[nltk_data] Downloading package wordnet to /home/roque/nltk_data...\n",
      "[nltk_data]   Package wordnet is already up-to-date!\n",
      "[nltk_data] Downloading package omw-1.4 to /home/roque/nltk_data...\n",
      "[nltk_data]   Package omw-1.4 is already up-to-date!\n",
      "[nltk_data] Downloading package punkt to /home/roque/nltk_data...\n",
      "[nltk_data]   Package punkt is already up-to-date!\n",
      "[nltk_data] Downloading package wordnet to /home/roque/nltk_data...\n",
      "[nltk_data]   Package wordnet is already up-to-date!\n",
      "[nltk_data] Downloading package omw-1.4 to /home/roque/nltk_data...\n",
      "[nltk_data]   Package omw-1.4 is already up-to-date!\n",
      "[nltk_data] Downloading package punkt to /home/roque/nltk_data...\n",
      "[nltk_data]   Package punkt is already up-to-date!\n",
      "[nltk_data] Downloading package wordnet to /home/roque/nltk_data...\n",
      "[nltk_data]   Package wordnet is already up-to-date!\n",
      "[nltk_data] Downloading package omw-1.4 to /home/roque/nltk_data...\n",
      "[nltk_data]   Package omw-1.4 is already up-to-date!\n",
      "[nltk_data] Downloading package punkt to /home/roque/nltk_data...\n",
      "[nltk_data]   Package punkt is already up-to-date!\n",
      "[nltk_data] Downloading package wordnet to /home/roque/nltk_data...\n",
      "[nltk_data]   Package wordnet is already up-to-date!\n",
      "[nltk_data] Downloading package omw-1.4 to /home/roque/nltk_data...\n",
      "[nltk_data]   Package omw-1.4 is already up-to-date!\n",
      "[nltk_data] Downloading package punkt to /home/roque/nltk_data...\n",
      "[nltk_data]   Package punkt is already up-to-date!\n",
      "[nltk_data] Downloading package wordnet to /home/roque/nltk_data...\n",
      "[nltk_data]   Package wordnet is already up-to-date!\n",
      "[nltk_data] Downloading package omw-1.4 to /home/roque/nltk_data...\n",
      "[nltk_data]   Package omw-1.4 is already up-to-date!\n",
      "[nltk_data] Downloading package punkt to /home/roque/nltk_data...\n",
      "[nltk_data]   Package punkt is already up-to-date!\n",
      "[nltk_data] Downloading package wordnet to /home/roque/nltk_data...\n",
      "[nltk_data]   Package wordnet is already up-to-date!\n",
      "[nltk_data] Downloading package omw-1.4 to /home/roque/nltk_data...\n",
      "[nltk_data]   Package omw-1.4 is already up-to-date!\n",
      "[nltk_data] Downloading package punkt to /home/roque/nltk_data...\n",
      "[nltk_data]   Package punkt is already up-to-date!\n",
      "[nltk_data] Downloading package wordnet to /home/roque/nltk_data...\n",
      "[nltk_data]   Package wordnet is already up-to-date!\n",
      "[nltk_data] Downloading package omw-1.4 to /home/roque/nltk_data...\n",
      "[nltk_data]   Package omw-1.4 is already up-to-date!\n",
      "[nltk_data] Downloading package punkt to /home/roque/nltk_data...\n",
      "[nltk_data]   Package punkt is already up-to-date!\n",
      "[nltk_data] Downloading package wordnet to /home/roque/nltk_data...\n",
      "[nltk_data]   Package wordnet is already up-to-date!\n",
      "[nltk_data] Downloading package omw-1.4 to /home/roque/nltk_data...\n",
      "[nltk_data]   Package omw-1.4 is already up-to-date!\n",
      "[nltk_data] Downloading package punkt to /home/roque/nltk_data...\n",
      "[nltk_data]   Package punkt is already up-to-date!\n",
      "[nltk_data] Downloading package wordnet to /home/roque/nltk_data...\n",
      "[nltk_data]   Package wordnet is already up-to-date!\n",
      "[nltk_data] Downloading package omw-1.4 to /home/roque/nltk_data...\n",
      "[nltk_data]   Package omw-1.4 is already up-to-date!\n",
      "[nltk_data] Downloading package punkt to /home/roque/nltk_data...\n",
      "[nltk_data]   Package punkt is already up-to-date!\n",
      "[nltk_data] Downloading package wordnet to /home/roque/nltk_data...\n",
      "[nltk_data]   Package wordnet is already up-to-date!\n",
      "[nltk_data] Downloading package omw-1.4 to /home/roque/nltk_data...\n",
      "[nltk_data]   Package omw-1.4 is already up-to-date!\n",
      "[nltk_data] Downloading package punkt to /home/roque/nltk_data...\n",
      "[nltk_data]   Package punkt is already up-to-date!\n",
      "[nltk_data] Downloading package wordnet to /home/roque/nltk_data...\n",
      "[nltk_data]   Package wordnet is already up-to-date!\n",
      "[nltk_data] Downloading package omw-1.4 to /home/roque/nltk_data...\n",
      "[nltk_data]   Package omw-1.4 is already up-to-date!\n",
      "[nltk_data] Downloading package punkt to /home/roque/nltk_data...\n",
      "[nltk_data]   Package punkt is already up-to-date!\n",
      "[nltk_data] Downloading package wordnet to /home/roque/nltk_data...\n",
      "[nltk_data]   Package wordnet is already up-to-date!\n",
      "[nltk_data] Downloading package omw-1.4 to /home/roque/nltk_data...\n",
      "[nltk_data]   Package omw-1.4 is already up-to-date!\n",
      "[nltk_data] Downloading package punkt to /home/roque/nltk_data...\n",
      "[nltk_data]   Package punkt is already up-to-date!\n",
      "[nltk_data] Downloading package wordnet to /home/roque/nltk_data...\n",
      "[nltk_data]   Package wordnet is already up-to-date!\n",
      "[nltk_data] Downloading package omw-1.4 to /home/roque/nltk_data...\n",
      "[nltk_data]   Package omw-1.4 is already up-to-date!\n",
      "[nltk_data] Downloading package punkt to /home/roque/nltk_data...\n",
      "[nltk_data]   Package punkt is already up-to-date!\n",
      "[nltk_data] Downloading package wordnet to /home/roque/nltk_data...\n",
      "[nltk_data]   Package wordnet is already up-to-date!\n",
      "[nltk_data] Downloading package omw-1.4 to /home/roque/nltk_data...\n",
      "[nltk_data]   Package omw-1.4 is already up-to-date!\n",
      "[nltk_data] Downloading package punkt to /home/roque/nltk_data...\n",
      "[nltk_data]   Package punkt is already up-to-date!\n",
      "[nltk_data] Downloading package wordnet to /home/roque/nltk_data...\n",
      "[nltk_data]   Package wordnet is already up-to-date!\n",
      "[nltk_data] Downloading package omw-1.4 to /home/roque/nltk_data...\n",
      "[nltk_data]   Package omw-1.4 is already up-to-date!\n",
      "[nltk_data] Downloading package punkt to /home/roque/nltk_data...\n",
      "[nltk_data]   Package punkt is already up-to-date!\n",
      "[nltk_data] Downloading package wordnet to /home/roque/nltk_data...\n",
      "[nltk_data]   Package wordnet is already up-to-date!\n",
      "[nltk_data] Downloading package omw-1.4 to /home/roque/nltk_data...\n",
      "[nltk_data]   Package omw-1.4 is already up-to-date!\n",
      "[nltk_data] Downloading package punkt to /home/roque/nltk_data...\n",
      "[nltk_data]   Package punkt is already up-to-date!\n",
      "[nltk_data] Downloading package wordnet to /home/roque/nltk_data...\n",
      "[nltk_data]   Package wordnet is already up-to-date!\n",
      "[nltk_data] Downloading package omw-1.4 to /home/roque/nltk_data...\n",
      "[nltk_data]   Package omw-1.4 is already up-to-date!\n",
      "[nltk_data] Downloading package punkt to /home/roque/nltk_data...\n",
      "[nltk_data]   Package punkt is already up-to-date!\n",
      "[nltk_data] Downloading package wordnet to /home/roque/nltk_data...\n",
      "[nltk_data]   Package wordnet is already up-to-date!\n",
      "[nltk_data] Downloading package omw-1.4 to /home/roque/nltk_data...\n",
      "[nltk_data]   Package omw-1.4 is already up-to-date!\n",
      "[nltk_data] Downloading package punkt to /home/roque/nltk_data...\n",
      "[nltk_data]   Package punkt is already up-to-date!\n",
      "[nltk_data] Downloading package wordnet to /home/roque/nltk_data...\n",
      "[nltk_data]   Package wordnet is already up-to-date!\n",
      "[nltk_data] Downloading package omw-1.4 to /home/roque/nltk_data...\n",
      "[nltk_data]   Package omw-1.4 is already up-to-date!\n",
      "[nltk_data] Downloading package punkt to /home/roque/nltk_data...\n",
      "[nltk_data]   Package punkt is already up-to-date!\n",
      "[nltk_data] Downloading package wordnet to /home/roque/nltk_data...\n",
      "[nltk_data]   Package wordnet is already up-to-date!\n",
      "[nltk_data] Downloading package omw-1.4 to /home/roque/nltk_data...\n",
      "[nltk_data]   Package omw-1.4 is already up-to-date!\n",
      "[nltk_data] Downloading package punkt to /home/roque/nltk_data...\n",
      "[nltk_data]   Package punkt is already up-to-date!\n",
      "[nltk_data] Downloading package wordnet to /home/roque/nltk_data...\n",
      "[nltk_data]   Package wordnet is already up-to-date!\n",
      "[nltk_data] Downloading package omw-1.4 to /home/roque/nltk_data...\n",
      "[nltk_data]   Package omw-1.4 is already up-to-date!\n",
      "[nltk_data] Downloading package punkt to /home/roque/nltk_data...\n",
      "[nltk_data]   Package punkt is already up-to-date!\n",
      "[nltk_data] Downloading package wordnet to /home/roque/nltk_data...\n",
      "[nltk_data]   Package wordnet is already up-to-date!\n",
      "[nltk_data] Downloading package omw-1.4 to /home/roque/nltk_data...\n",
      "[nltk_data]   Package omw-1.4 is already up-to-date!\n",
      "[nltk_data] Downloading package punkt to /home/roque/nltk_data...\n",
      "[nltk_data]   Package punkt is already up-to-date!\n",
      "[nltk_data] Downloading package wordnet to /home/roque/nltk_data...\n",
      "[nltk_data]   Package wordnet is already up-to-date!\n",
      "[nltk_data] Downloading package omw-1.4 to /home/roque/nltk_data...\n",
      "[nltk_data]   Package omw-1.4 is already up-to-date!\n",
      "[nltk_data] Downloading package punkt to /home/roque/nltk_data...\n",
      "[nltk_data]   Package punkt is already up-to-date!\n",
      "[nltk_data] Downloading package wordnet to /home/roque/nltk_data...\n",
      "[nltk_data]   Package wordnet is already up-to-date!\n",
      "[nltk_data] Downloading package omw-1.4 to /home/roque/nltk_data...\n",
      "[nltk_data]   Package omw-1.4 is already up-to-date!\n",
      "[nltk_data] Downloading package punkt to /home/roque/nltk_data...\n",
      "[nltk_data]   Package punkt is already up-to-date!\n",
      "[nltk_data] Downloading package wordnet to /home/roque/nltk_data...\n",
      "[nltk_data]   Package wordnet is already up-to-date!\n",
      "[nltk_data] Downloading package omw-1.4 to /home/roque/nltk_data...\n",
      "[nltk_data]   Package omw-1.4 is already up-to-date!\n",
      "[nltk_data] Downloading package punkt to /home/roque/nltk_data...\n",
      "[nltk_data]   Package punkt is already up-to-date!\n",
      "[nltk_data] Downloading package wordnet to /home/roque/nltk_data...\n",
      "[nltk_data]   Package wordnet is already up-to-date!\n",
      "[nltk_data] Downloading package omw-1.4 to /home/roque/nltk_data...\n",
      "[nltk_data]   Package omw-1.4 is already up-to-date!\n",
      "[nltk_data] Downloading package punkt to /home/roque/nltk_data...\n",
      "[nltk_data]   Package punkt is already up-to-date!\n",
      "[nltk_data] Downloading package wordnet to /home/roque/nltk_data...\n",
      "[nltk_data]   Package wordnet is already up-to-date!\n",
      "[nltk_data] Downloading package omw-1.4 to /home/roque/nltk_data...\n",
      "[nltk_data]   Package omw-1.4 is already up-to-date!\n"
     ]
    },
    {
     "name": "stderr",
     "output_type": "stream",
     "text": [
      "[nltk_data] Downloading package punkt to /home/roque/nltk_data...\n",
      "[nltk_data]   Package punkt is already up-to-date!\n",
      "[nltk_data] Downloading package wordnet to /home/roque/nltk_data...\n",
      "[nltk_data]   Package wordnet is already up-to-date!\n",
      "[nltk_data] Downloading package omw-1.4 to /home/roque/nltk_data...\n",
      "[nltk_data]   Package omw-1.4 is already up-to-date!\n",
      "[nltk_data] Downloading package punkt to /home/roque/nltk_data...\n",
      "[nltk_data]   Package punkt is already up-to-date!\n",
      "[nltk_data] Downloading package wordnet to /home/roque/nltk_data...\n",
      "[nltk_data]   Package wordnet is already up-to-date!\n",
      "[nltk_data] Downloading package omw-1.4 to /home/roque/nltk_data...\n",
      "[nltk_data]   Package omw-1.4 is already up-to-date!\n",
      "[nltk_data] Downloading package punkt to /home/roque/nltk_data...\n",
      "[nltk_data]   Package punkt is already up-to-date!\n",
      "[nltk_data] Downloading package wordnet to /home/roque/nltk_data...\n",
      "[nltk_data]   Package wordnet is already up-to-date!\n",
      "[nltk_data] Downloading package omw-1.4 to /home/roque/nltk_data...\n",
      "[nltk_data]   Package omw-1.4 is already up-to-date!\n",
      "[nltk_data] Downloading package punkt to /home/roque/nltk_data...\n",
      "[nltk_data]   Package punkt is already up-to-date!\n",
      "[nltk_data] Downloading package wordnet to /home/roque/nltk_data...\n",
      "[nltk_data]   Package wordnet is already up-to-date!\n",
      "[nltk_data] Downloading package omw-1.4 to /home/roque/nltk_data...\n",
      "[nltk_data]   Package omw-1.4 is already up-to-date!\n",
      "[nltk_data] Downloading package punkt to /home/roque/nltk_data...\n",
      "[nltk_data]   Package punkt is already up-to-date!\n",
      "[nltk_data] Downloading package wordnet to /home/roque/nltk_data...\n",
      "[nltk_data]   Package wordnet is already up-to-date!\n",
      "[nltk_data] Downloading package omw-1.4 to /home/roque/nltk_data...\n",
      "[nltk_data]   Package omw-1.4 is already up-to-date!\n",
      "[nltk_data] Downloading package punkt to /home/roque/nltk_data...\n",
      "[nltk_data]   Package punkt is already up-to-date!\n",
      "[nltk_data] Downloading package wordnet to /home/roque/nltk_data...\n",
      "[nltk_data]   Package wordnet is already up-to-date!\n",
      "[nltk_data] Downloading package omw-1.4 to /home/roque/nltk_data...\n",
      "[nltk_data]   Package omw-1.4 is already up-to-date!\n",
      "[nltk_data] Downloading package punkt to /home/roque/nltk_data...\n",
      "[nltk_data]   Package punkt is already up-to-date!\n",
      "[nltk_data] Downloading package wordnet to /home/roque/nltk_data...\n",
      "[nltk_data]   Package wordnet is already up-to-date!\n",
      "[nltk_data] Downloading package omw-1.4 to /home/roque/nltk_data...\n",
      "[nltk_data]   Package omw-1.4 is already up-to-date!\n",
      "[nltk_data] Downloading package punkt to /home/roque/nltk_data...\n",
      "[nltk_data]   Package punkt is already up-to-date!\n",
      "[nltk_data] Downloading package wordnet to /home/roque/nltk_data...\n",
      "[nltk_data]   Package wordnet is already up-to-date!\n",
      "[nltk_data] Downloading package omw-1.4 to /home/roque/nltk_data...\n",
      "[nltk_data]   Package omw-1.4 is already up-to-date!\n",
      "[nltk_data] Downloading package punkt to /home/roque/nltk_data...\n",
      "[nltk_data]   Package punkt is already up-to-date!\n",
      "[nltk_data] Downloading package wordnet to /home/roque/nltk_data...\n",
      "[nltk_data]   Package wordnet is already up-to-date!\n",
      "[nltk_data] Downloading package omw-1.4 to /home/roque/nltk_data...\n",
      "[nltk_data]   Package omw-1.4 is already up-to-date!\n",
      "[nltk_data] Downloading package punkt to /home/roque/nltk_data...\n",
      "[nltk_data]   Package punkt is already up-to-date!\n",
      "[nltk_data] Downloading package wordnet to /home/roque/nltk_data...\n",
      "[nltk_data]   Package wordnet is already up-to-date!\n",
      "[nltk_data] Downloading package omw-1.4 to /home/roque/nltk_data...\n",
      "[nltk_data]   Package omw-1.4 is already up-to-date!\n",
      "[nltk_data] Downloading package punkt to /home/roque/nltk_data...\n",
      "[nltk_data]   Package punkt is already up-to-date!\n",
      "[nltk_data] Downloading package wordnet to /home/roque/nltk_data...\n",
      "[nltk_data]   Package wordnet is already up-to-date!\n",
      "[nltk_data] Downloading package omw-1.4 to /home/roque/nltk_data...\n",
      "[nltk_data]   Package omw-1.4 is already up-to-date!\n",
      "[nltk_data] Downloading package punkt to /home/roque/nltk_data...\n",
      "[nltk_data]   Package punkt is already up-to-date!\n",
      "[nltk_data] Downloading package wordnet to /home/roque/nltk_data...\n",
      "[nltk_data]   Package wordnet is already up-to-date!\n",
      "[nltk_data] Downloading package omw-1.4 to /home/roque/nltk_data...\n",
      "[nltk_data]   Package omw-1.4 is already up-to-date!\n",
      "[nltk_data] Downloading package punkt to /home/roque/nltk_data...\n",
      "[nltk_data]   Package punkt is already up-to-date!\n",
      "[nltk_data] Downloading package wordnet to /home/roque/nltk_data...\n",
      "[nltk_data]   Package wordnet is already up-to-date!\n",
      "[nltk_data] Downloading package omw-1.4 to /home/roque/nltk_data...\n",
      "[nltk_data]   Package omw-1.4 is already up-to-date!\n",
      "[nltk_data] Downloading package punkt to /home/roque/nltk_data...\n",
      "[nltk_data]   Package punkt is already up-to-date!\n",
      "[nltk_data] Downloading package wordnet to /home/roque/nltk_data...\n",
      "[nltk_data]   Package wordnet is already up-to-date!\n",
      "[nltk_data] Downloading package omw-1.4 to /home/roque/nltk_data...\n",
      "[nltk_data]   Package omw-1.4 is already up-to-date!\n",
      "[nltk_data] Downloading package punkt to /home/roque/nltk_data...\n",
      "[nltk_data]   Package punkt is already up-to-date!\n",
      "[nltk_data] Downloading package wordnet to /home/roque/nltk_data...\n",
      "[nltk_data]   Package wordnet is already up-to-date!\n",
      "[nltk_data] Downloading package omw-1.4 to /home/roque/nltk_data...\n",
      "[nltk_data]   Package omw-1.4 is already up-to-date!\n",
      "[nltk_data] Downloading package punkt to /home/roque/nltk_data...\n",
      "[nltk_data]   Package punkt is already up-to-date!\n",
      "[nltk_data] Downloading package wordnet to /home/roque/nltk_data...\n",
      "[nltk_data]   Package wordnet is already up-to-date!\n",
      "[nltk_data] Downloading package omw-1.4 to /home/roque/nltk_data...\n",
      "[nltk_data]   Package omw-1.4 is already up-to-date!\n",
      "[nltk_data] Downloading package punkt to /home/roque/nltk_data...\n",
      "[nltk_data]   Package punkt is already up-to-date!\n",
      "[nltk_data] Downloading package wordnet to /home/roque/nltk_data...\n",
      "[nltk_data]   Package wordnet is already up-to-date!\n",
      "[nltk_data] Downloading package omw-1.4 to /home/roque/nltk_data...\n",
      "[nltk_data]   Package omw-1.4 is already up-to-date!\n",
      "[nltk_data] Downloading package punkt to /home/roque/nltk_data...\n",
      "[nltk_data]   Package punkt is already up-to-date!\n",
      "[nltk_data] Downloading package wordnet to /home/roque/nltk_data...\n",
      "[nltk_data]   Package wordnet is already up-to-date!\n",
      "[nltk_data] Downloading package omw-1.4 to /home/roque/nltk_data...\n",
      "[nltk_data]   Package omw-1.4 is already up-to-date!\n",
      "[nltk_data] Downloading package punkt to /home/roque/nltk_data...\n",
      "[nltk_data]   Package punkt is already up-to-date!\n",
      "[nltk_data] Downloading package wordnet to /home/roque/nltk_data...\n",
      "[nltk_data]   Package wordnet is already up-to-date!\n",
      "[nltk_data] Downloading package omw-1.4 to /home/roque/nltk_data...\n",
      "[nltk_data]   Package omw-1.4 is already up-to-date!\n",
      "[nltk_data] Downloading package punkt to /home/roque/nltk_data...\n",
      "[nltk_data]   Package punkt is already up-to-date!\n",
      "[nltk_data] Downloading package wordnet to /home/roque/nltk_data...\n",
      "[nltk_data]   Package wordnet is already up-to-date!\n",
      "[nltk_data] Downloading package omw-1.4 to /home/roque/nltk_data...\n",
      "[nltk_data]   Package omw-1.4 is already up-to-date!\n",
      "[nltk_data] Downloading package punkt to /home/roque/nltk_data...\n",
      "[nltk_data]   Package punkt is already up-to-date!\n",
      "[nltk_data] Downloading package wordnet to /home/roque/nltk_data...\n",
      "[nltk_data]   Package wordnet is already up-to-date!\n",
      "[nltk_data] Downloading package omw-1.4 to /home/roque/nltk_data...\n",
      "[nltk_data]   Package omw-1.4 is already up-to-date!\n",
      "[nltk_data] Downloading package punkt to /home/roque/nltk_data...\n",
      "[nltk_data]   Package punkt is already up-to-date!\n",
      "[nltk_data] Downloading package wordnet to /home/roque/nltk_data...\n",
      "[nltk_data]   Package wordnet is already up-to-date!\n",
      "[nltk_data] Downloading package omw-1.4 to /home/roque/nltk_data...\n",
      "[nltk_data]   Package omw-1.4 is already up-to-date!\n",
      "[nltk_data] Downloading package punkt to /home/roque/nltk_data...\n",
      "[nltk_data]   Package punkt is already up-to-date!\n",
      "[nltk_data] Downloading package wordnet to /home/roque/nltk_data...\n",
      "[nltk_data]   Package wordnet is already up-to-date!\n",
      "[nltk_data] Downloading package omw-1.4 to /home/roque/nltk_data...\n",
      "[nltk_data]   Package omw-1.4 is already up-to-date!\n",
      "[nltk_data] Downloading package punkt to /home/roque/nltk_data...\n",
      "[nltk_data]   Package punkt is already up-to-date!\n",
      "[nltk_data] Downloading package wordnet to /home/roque/nltk_data...\n",
      "[nltk_data]   Package wordnet is already up-to-date!\n",
      "[nltk_data] Downloading package omw-1.4 to /home/roque/nltk_data...\n",
      "[nltk_data]   Package omw-1.4 is already up-to-date!\n",
      "[nltk_data] Downloading package punkt to /home/roque/nltk_data...\n",
      "[nltk_data]   Package punkt is already up-to-date!\n",
      "[nltk_data] Downloading package wordnet to /home/roque/nltk_data...\n",
      "[nltk_data]   Package wordnet is already up-to-date!\n",
      "[nltk_data] Downloading package omw-1.4 to /home/roque/nltk_data...\n",
      "[nltk_data]   Package omw-1.4 is already up-to-date!\n",
      "[nltk_data] Downloading package punkt to /home/roque/nltk_data...\n",
      "[nltk_data]   Package punkt is already up-to-date!\n",
      "[nltk_data] Downloading package wordnet to /home/roque/nltk_data...\n",
      "[nltk_data]   Package wordnet is already up-to-date!\n",
      "[nltk_data] Downloading package omw-1.4 to /home/roque/nltk_data...\n",
      "[nltk_data]   Package omw-1.4 is already up-to-date!\n",
      "[nltk_data] Downloading package punkt to /home/roque/nltk_data...\n",
      "[nltk_data]   Package punkt is already up-to-date!\n",
      "[nltk_data] Downloading package wordnet to /home/roque/nltk_data...\n",
      "[nltk_data]   Package wordnet is already up-to-date!\n",
      "[nltk_data] Downloading package omw-1.4 to /home/roque/nltk_data...\n",
      "[nltk_data]   Package omw-1.4 is already up-to-date!\n",
      "[nltk_data] Downloading package punkt to /home/roque/nltk_data...\n",
      "[nltk_data]   Package punkt is already up-to-date!\n",
      "[nltk_data] Downloading package wordnet to /home/roque/nltk_data...\n",
      "[nltk_data]   Package wordnet is already up-to-date!\n",
      "[nltk_data] Downloading package omw-1.4 to /home/roque/nltk_data...\n",
      "[nltk_data]   Package omw-1.4 is already up-to-date!\n",
      "[nltk_data] Downloading package punkt to /home/roque/nltk_data...\n",
      "[nltk_data]   Package punkt is already up-to-date!\n",
      "[nltk_data] Downloading package wordnet to /home/roque/nltk_data...\n",
      "[nltk_data]   Package wordnet is already up-to-date!\n",
      "[nltk_data] Downloading package omw-1.4 to /home/roque/nltk_data...\n",
      "[nltk_data]   Package omw-1.4 is already up-to-date!\n",
      "[nltk_data] Downloading package punkt to /home/roque/nltk_data...\n",
      "[nltk_data]   Package punkt is already up-to-date!\n",
      "[nltk_data] Downloading package wordnet to /home/roque/nltk_data...\n",
      "[nltk_data]   Package wordnet is already up-to-date!\n",
      "[nltk_data] Downloading package omw-1.4 to /home/roque/nltk_data...\n",
      "[nltk_data]   Package omw-1.4 is already up-to-date!\n",
      "[nltk_data] Downloading package punkt to /home/roque/nltk_data...\n",
      "[nltk_data]   Package punkt is already up-to-date!\n",
      "[nltk_data] Downloading package wordnet to /home/roque/nltk_data...\n",
      "[nltk_data]   Package wordnet is already up-to-date!\n",
      "[nltk_data] Downloading package omw-1.4 to /home/roque/nltk_data...\n",
      "[nltk_data]   Package omw-1.4 is already up-to-date!\n",
      "[nltk_data] Downloading package punkt to /home/roque/nltk_data...\n",
      "[nltk_data]   Package punkt is already up-to-date!\n",
      "[nltk_data] Downloading package wordnet to /home/roque/nltk_data...\n",
      "[nltk_data]   Package wordnet is already up-to-date!\n",
      "[nltk_data] Downloading package omw-1.4 to /home/roque/nltk_data...\n",
      "[nltk_data]   Package omw-1.4 is already up-to-date!\n",
      "[nltk_data] Downloading package punkt to /home/roque/nltk_data...\n",
      "[nltk_data]   Package punkt is already up-to-date!\n",
      "[nltk_data] Downloading package wordnet to /home/roque/nltk_data...\n",
      "[nltk_data]   Package wordnet is already up-to-date!\n",
      "[nltk_data] Downloading package omw-1.4 to /home/roque/nltk_data...\n",
      "[nltk_data]   Package omw-1.4 is already up-to-date!\n",
      "[nltk_data] Downloading package punkt to /home/roque/nltk_data...\n",
      "[nltk_data]   Package punkt is already up-to-date!\n",
      "[nltk_data] Downloading package wordnet to /home/roque/nltk_data...\n",
      "[nltk_data]   Package wordnet is already up-to-date!\n",
      "[nltk_data] Downloading package omw-1.4 to /home/roque/nltk_data...\n",
      "[nltk_data]   Package omw-1.4 is already up-to-date!\n",
      "[nltk_data] Downloading package punkt to /home/roque/nltk_data...\n",
      "[nltk_data]   Package punkt is already up-to-date!\n",
      "[nltk_data] Downloading package wordnet to /home/roque/nltk_data...\n",
      "[nltk_data]   Package wordnet is already up-to-date!\n",
      "[nltk_data] Downloading package omw-1.4 to /home/roque/nltk_data...\n",
      "[nltk_data]   Package omw-1.4 is already up-to-date!\n"
     ]
    },
    {
     "name": "stderr",
     "output_type": "stream",
     "text": [
      "[nltk_data] Downloading package punkt to /home/roque/nltk_data...\n",
      "[nltk_data]   Package punkt is already up-to-date!\n",
      "[nltk_data] Downloading package wordnet to /home/roque/nltk_data...\n",
      "[nltk_data]   Package wordnet is already up-to-date!\n",
      "[nltk_data] Downloading package omw-1.4 to /home/roque/nltk_data...\n",
      "[nltk_data]   Package omw-1.4 is already up-to-date!\n",
      "[nltk_data] Downloading package punkt to /home/roque/nltk_data...\n",
      "[nltk_data]   Package punkt is already up-to-date!\n",
      "[nltk_data] Downloading package wordnet to /home/roque/nltk_data...\n",
      "[nltk_data]   Package wordnet is already up-to-date!\n",
      "[nltk_data] Downloading package omw-1.4 to /home/roque/nltk_data...\n",
      "[nltk_data]   Package omw-1.4 is already up-to-date!\n",
      "[nltk_data] Downloading package punkt to /home/roque/nltk_data...\n",
      "[nltk_data]   Package punkt is already up-to-date!\n",
      "[nltk_data] Downloading package wordnet to /home/roque/nltk_data...\n",
      "[nltk_data]   Package wordnet is already up-to-date!\n",
      "[nltk_data] Downloading package omw-1.4 to /home/roque/nltk_data...\n",
      "[nltk_data]   Package omw-1.4 is already up-to-date!\n",
      "[nltk_data] Downloading package punkt to /home/roque/nltk_data...\n",
      "[nltk_data]   Package punkt is already up-to-date!\n",
      "[nltk_data] Downloading package wordnet to /home/roque/nltk_data...\n",
      "[nltk_data]   Package wordnet is already up-to-date!\n",
      "[nltk_data] Downloading package omw-1.4 to /home/roque/nltk_data...\n",
      "[nltk_data]   Package omw-1.4 is already up-to-date!\n",
      "[nltk_data] Downloading package punkt to /home/roque/nltk_data...\n",
      "[nltk_data]   Package punkt is already up-to-date!\n",
      "[nltk_data] Downloading package wordnet to /home/roque/nltk_data...\n",
      "[nltk_data]   Package wordnet is already up-to-date!\n",
      "[nltk_data] Downloading package omw-1.4 to /home/roque/nltk_data...\n",
      "[nltk_data]   Package omw-1.4 is already up-to-date!\n",
      "[nltk_data] Downloading package punkt to /home/roque/nltk_data...\n",
      "[nltk_data]   Package punkt is already up-to-date!\n",
      "[nltk_data] Downloading package wordnet to /home/roque/nltk_data...\n",
      "[nltk_data]   Package wordnet is already up-to-date!\n",
      "[nltk_data] Downloading package omw-1.4 to /home/roque/nltk_data...\n",
      "[nltk_data]   Package omw-1.4 is already up-to-date!\n",
      "[nltk_data] Downloading package punkt to /home/roque/nltk_data...\n",
      "[nltk_data]   Package punkt is already up-to-date!\n",
      "[nltk_data] Downloading package wordnet to /home/roque/nltk_data...\n",
      "[nltk_data]   Package wordnet is already up-to-date!\n",
      "[nltk_data] Downloading package omw-1.4 to /home/roque/nltk_data...\n",
      "[nltk_data]   Package omw-1.4 is already up-to-date!\n",
      "[nltk_data] Downloading package punkt to /home/roque/nltk_data...\n",
      "[nltk_data]   Package punkt is already up-to-date!\n",
      "[nltk_data] Downloading package wordnet to /home/roque/nltk_data...\n",
      "[nltk_data]   Package wordnet is already up-to-date!\n",
      "[nltk_data] Downloading package omw-1.4 to /home/roque/nltk_data...\n",
      "[nltk_data]   Package omw-1.4 is already up-to-date!\n",
      "[nltk_data] Downloading package punkt to /home/roque/nltk_data...\n",
      "[nltk_data]   Package punkt is already up-to-date!\n",
      "[nltk_data] Downloading package wordnet to /home/roque/nltk_data...\n",
      "[nltk_data]   Package wordnet is already up-to-date!\n",
      "[nltk_data] Downloading package omw-1.4 to /home/roque/nltk_data...\n",
      "[nltk_data]   Package omw-1.4 is already up-to-date!\n",
      "[nltk_data] Downloading package punkt to /home/roque/nltk_data...\n",
      "[nltk_data]   Package punkt is already up-to-date!\n",
      "[nltk_data] Downloading package wordnet to /home/roque/nltk_data...\n",
      "[nltk_data]   Package wordnet is already up-to-date!\n",
      "[nltk_data] Downloading package omw-1.4 to /home/roque/nltk_data...\n",
      "[nltk_data]   Package omw-1.4 is already up-to-date!\n",
      "[nltk_data] Downloading package punkt to /home/roque/nltk_data...\n",
      "[nltk_data]   Package punkt is already up-to-date!\n",
      "[nltk_data] Downloading package wordnet to /home/roque/nltk_data...\n",
      "[nltk_data]   Package wordnet is already up-to-date!\n",
      "[nltk_data] Downloading package omw-1.4 to /home/roque/nltk_data...\n",
      "[nltk_data]   Package omw-1.4 is already up-to-date!\n",
      "[nltk_data] Downloading package punkt to /home/roque/nltk_data...\n",
      "[nltk_data]   Package punkt is already up-to-date!\n",
      "[nltk_data] Downloading package wordnet to /home/roque/nltk_data...\n",
      "[nltk_data]   Package wordnet is already up-to-date!\n",
      "[nltk_data] Downloading package omw-1.4 to /home/roque/nltk_data...\n",
      "[nltk_data]   Package omw-1.4 is already up-to-date!\n",
      "[nltk_data] Downloading package punkt to /home/roque/nltk_data...\n",
      "[nltk_data]   Package punkt is already up-to-date!\n",
      "[nltk_data] Downloading package wordnet to /home/roque/nltk_data...\n",
      "[nltk_data]   Package wordnet is already up-to-date!\n",
      "[nltk_data] Downloading package omw-1.4 to /home/roque/nltk_data...\n",
      "[nltk_data]   Package omw-1.4 is already up-to-date!\n",
      "[nltk_data] Downloading package punkt to /home/roque/nltk_data...\n",
      "[nltk_data]   Package punkt is already up-to-date!\n",
      "[nltk_data] Downloading package wordnet to /home/roque/nltk_data...\n",
      "[nltk_data]   Package wordnet is already up-to-date!\n",
      "[nltk_data] Downloading package omw-1.4 to /home/roque/nltk_data...\n",
      "[nltk_data]   Package omw-1.4 is already up-to-date!\n",
      "[nltk_data] Downloading package punkt to /home/roque/nltk_data...\n",
      "[nltk_data]   Package punkt is already up-to-date!\n",
      "[nltk_data] Downloading package wordnet to /home/roque/nltk_data...\n",
      "[nltk_data]   Package wordnet is already up-to-date!\n",
      "[nltk_data] Downloading package omw-1.4 to /home/roque/nltk_data...\n",
      "[nltk_data]   Package omw-1.4 is already up-to-date!\n",
      "[nltk_data] Downloading package punkt to /home/roque/nltk_data...\n",
      "[nltk_data]   Package punkt is already up-to-date!\n",
      "[nltk_data] Downloading package wordnet to /home/roque/nltk_data...\n",
      "[nltk_data]   Package wordnet is already up-to-date!\n",
      "[nltk_data] Downloading package omw-1.4 to /home/roque/nltk_data...\n",
      "[nltk_data]   Package omw-1.4 is already up-to-date!\n",
      "[nltk_data] Downloading package punkt to /home/roque/nltk_data...\n",
      "[nltk_data]   Package punkt is already up-to-date!\n",
      "[nltk_data] Downloading package wordnet to /home/roque/nltk_data...\n",
      "[nltk_data]   Package wordnet is already up-to-date!\n",
      "[nltk_data] Downloading package omw-1.4 to /home/roque/nltk_data...\n",
      "[nltk_data]   Package omw-1.4 is already up-to-date!\n",
      "[nltk_data] Downloading package punkt to /home/roque/nltk_data...\n",
      "[nltk_data]   Package punkt is already up-to-date!\n",
      "[nltk_data] Downloading package wordnet to /home/roque/nltk_data...\n",
      "[nltk_data]   Package wordnet is already up-to-date!\n",
      "[nltk_data] Downloading package omw-1.4 to /home/roque/nltk_data...\n",
      "[nltk_data]   Package omw-1.4 is already up-to-date!\n",
      "[nltk_data] Downloading package punkt to /home/roque/nltk_data...\n",
      "[nltk_data]   Package punkt is already up-to-date!\n",
      "[nltk_data] Downloading package wordnet to /home/roque/nltk_data...\n",
      "[nltk_data]   Package wordnet is already up-to-date!\n",
      "[nltk_data] Downloading package omw-1.4 to /home/roque/nltk_data...\n",
      "[nltk_data]   Package omw-1.4 is already up-to-date!\n",
      "[nltk_data] Downloading package punkt to /home/roque/nltk_data...\n",
      "[nltk_data]   Package punkt is already up-to-date!\n",
      "[nltk_data] Downloading package wordnet to /home/roque/nltk_data...\n",
      "[nltk_data]   Package wordnet is already up-to-date!\n",
      "[nltk_data] Downloading package omw-1.4 to /home/roque/nltk_data...\n",
      "[nltk_data]   Package omw-1.4 is already up-to-date!\n",
      "[nltk_data] Downloading package punkt to /home/roque/nltk_data...\n",
      "[nltk_data]   Package punkt is already up-to-date!\n",
      "[nltk_data] Downloading package wordnet to /home/roque/nltk_data...\n",
      "[nltk_data]   Package wordnet is already up-to-date!\n",
      "[nltk_data] Downloading package omw-1.4 to /home/roque/nltk_data...\n",
      "[nltk_data]   Package omw-1.4 is already up-to-date!\n",
      "[nltk_data] Downloading package punkt to /home/roque/nltk_data...\n",
      "[nltk_data]   Package punkt is already up-to-date!\n",
      "[nltk_data] Downloading package wordnet to /home/roque/nltk_data...\n",
      "[nltk_data]   Package wordnet is already up-to-date!\n",
      "[nltk_data] Downloading package omw-1.4 to /home/roque/nltk_data...\n",
      "[nltk_data]   Package omw-1.4 is already up-to-date!\n",
      "[nltk_data] Downloading package punkt to /home/roque/nltk_data...\n",
      "[nltk_data]   Package punkt is already up-to-date!\n",
      "[nltk_data] Downloading package wordnet to /home/roque/nltk_data...\n",
      "[nltk_data]   Package wordnet is already up-to-date!\n",
      "[nltk_data] Downloading package omw-1.4 to /home/roque/nltk_data...\n",
      "[nltk_data]   Package omw-1.4 is already up-to-date!\n",
      "[nltk_data] Downloading package punkt to /home/roque/nltk_data...\n",
      "[nltk_data]   Package punkt is already up-to-date!\n",
      "[nltk_data] Downloading package wordnet to /home/roque/nltk_data...\n",
      "[nltk_data]   Package wordnet is already up-to-date!\n",
      "[nltk_data] Downloading package omw-1.4 to /home/roque/nltk_data...\n",
      "[nltk_data]   Package omw-1.4 is already up-to-date!\n",
      "[nltk_data] Downloading package punkt to /home/roque/nltk_data...\n",
      "[nltk_data]   Package punkt is already up-to-date!\n",
      "[nltk_data] Downloading package wordnet to /home/roque/nltk_data...\n",
      "[nltk_data]   Package wordnet is already up-to-date!\n",
      "[nltk_data] Downloading package omw-1.4 to /home/roque/nltk_data...\n",
      "[nltk_data]   Package omw-1.4 is already up-to-date!\n",
      "[nltk_data] Downloading package punkt to /home/roque/nltk_data...\n",
      "[nltk_data]   Package punkt is already up-to-date!\n",
      "[nltk_data] Downloading package wordnet to /home/roque/nltk_data...\n",
      "[nltk_data]   Package wordnet is already up-to-date!\n",
      "[nltk_data] Downloading package omw-1.4 to /home/roque/nltk_data...\n",
      "[nltk_data]   Package omw-1.4 is already up-to-date!\n",
      "[nltk_data] Downloading package punkt to /home/roque/nltk_data...\n",
      "[nltk_data]   Package punkt is already up-to-date!\n",
      "[nltk_data] Downloading package wordnet to /home/roque/nltk_data...\n",
      "[nltk_data]   Package wordnet is already up-to-date!\n",
      "[nltk_data] Downloading package omw-1.4 to /home/roque/nltk_data...\n",
      "[nltk_data]   Package omw-1.4 is already up-to-date!\n",
      "[nltk_data] Downloading package punkt to /home/roque/nltk_data...\n",
      "[nltk_data]   Package punkt is already up-to-date!\n",
      "[nltk_data] Downloading package wordnet to /home/roque/nltk_data...\n",
      "[nltk_data]   Package wordnet is already up-to-date!\n",
      "[nltk_data] Downloading package omw-1.4 to /home/roque/nltk_data...\n",
      "[nltk_data]   Package omw-1.4 is already up-to-date!\n",
      "[nltk_data] Downloading package punkt to /home/roque/nltk_data...\n",
      "[nltk_data]   Package punkt is already up-to-date!\n",
      "[nltk_data] Downloading package wordnet to /home/roque/nltk_data...\n",
      "[nltk_data]   Package wordnet is already up-to-date!\n",
      "[nltk_data] Downloading package omw-1.4 to /home/roque/nltk_data...\n",
      "[nltk_data]   Package omw-1.4 is already up-to-date!\n",
      "[nltk_data] Downloading package punkt to /home/roque/nltk_data...\n",
      "[nltk_data]   Package punkt is already up-to-date!\n",
      "[nltk_data] Downloading package wordnet to /home/roque/nltk_data...\n",
      "[nltk_data]   Package wordnet is already up-to-date!\n",
      "[nltk_data] Downloading package omw-1.4 to /home/roque/nltk_data...\n",
      "[nltk_data]   Package omw-1.4 is already up-to-date!\n",
      "[nltk_data] Downloading package punkt to /home/roque/nltk_data...\n",
      "[nltk_data]   Package punkt is already up-to-date!\n",
      "[nltk_data] Downloading package wordnet to /home/roque/nltk_data...\n",
      "[nltk_data]   Package wordnet is already up-to-date!\n",
      "[nltk_data] Downloading package omw-1.4 to /home/roque/nltk_data...\n",
      "[nltk_data]   Package omw-1.4 is already up-to-date!\n",
      "[nltk_data] Downloading package punkt to /home/roque/nltk_data...\n",
      "[nltk_data]   Package punkt is already up-to-date!\n",
      "[nltk_data] Downloading package wordnet to /home/roque/nltk_data...\n",
      "[nltk_data]   Package wordnet is already up-to-date!\n",
      "[nltk_data] Downloading package omw-1.4 to /home/roque/nltk_data...\n",
      "[nltk_data]   Package omw-1.4 is already up-to-date!\n",
      "[nltk_data] Downloading package punkt to /home/roque/nltk_data...\n",
      "[nltk_data]   Package punkt is already up-to-date!\n",
      "[nltk_data] Downloading package wordnet to /home/roque/nltk_data...\n",
      "[nltk_data]   Package wordnet is already up-to-date!\n",
      "[nltk_data] Downloading package omw-1.4 to /home/roque/nltk_data...\n",
      "[nltk_data]   Package omw-1.4 is already up-to-date!\n",
      "[nltk_data] Downloading package punkt to /home/roque/nltk_data...\n",
      "[nltk_data]   Package punkt is already up-to-date!\n",
      "[nltk_data] Downloading package wordnet to /home/roque/nltk_data...\n",
      "[nltk_data]   Package wordnet is already up-to-date!\n",
      "[nltk_data] Downloading package omw-1.4 to /home/roque/nltk_data...\n",
      "[nltk_data]   Package omw-1.4 is already up-to-date!\n",
      "[nltk_data] Downloading package punkt to /home/roque/nltk_data...\n",
      "[nltk_data]   Package punkt is already up-to-date!\n",
      "[nltk_data] Downloading package wordnet to /home/roque/nltk_data...\n",
      "[nltk_data]   Package wordnet is already up-to-date!\n",
      "[nltk_data] Downloading package omw-1.4 to /home/roque/nltk_data...\n",
      "[nltk_data]   Package omw-1.4 is already up-to-date!\n",
      "[nltk_data] Downloading package punkt to /home/roque/nltk_data...\n",
      "[nltk_data]   Package punkt is already up-to-date!\n",
      "[nltk_data] Downloading package wordnet to /home/roque/nltk_data...\n",
      "[nltk_data]   Package wordnet is already up-to-date!\n",
      "[nltk_data] Downloading package omw-1.4 to /home/roque/nltk_data...\n",
      "[nltk_data]   Package omw-1.4 is already up-to-date!\n",
      "[nltk_data] Downloading package punkt to /home/roque/nltk_data...\n",
      "[nltk_data]   Package punkt is already up-to-date!\n",
      "[nltk_data] Downloading package wordnet to /home/roque/nltk_data...\n",
      "[nltk_data]   Package wordnet is already up-to-date!\n",
      "[nltk_data] Downloading package omw-1.4 to /home/roque/nltk_data...\n",
      "[nltk_data]   Package omw-1.4 is already up-to-date!\n",
      "[nltk_data] Downloading package punkt to /home/roque/nltk_data...\n",
      "[nltk_data]   Package punkt is already up-to-date!\n",
      "[nltk_data] Downloading package wordnet to /home/roque/nltk_data...\n",
      "[nltk_data]   Package wordnet is already up-to-date!\n",
      "[nltk_data] Downloading package omw-1.4 to /home/roque/nltk_data...\n",
      "[nltk_data]   Package omw-1.4 is already up-to-date!\n",
      "[nltk_data] Downloading package punkt to /home/roque/nltk_data...\n",
      "[nltk_data]   Package punkt is already up-to-date!\n",
      "[nltk_data] Downloading package wordnet to /home/roque/nltk_data...\n",
      "[nltk_data]   Package wordnet is already up-to-date!\n",
      "[nltk_data] Downloading package omw-1.4 to /home/roque/nltk_data...\n",
      "[nltk_data]   Package omw-1.4 is already up-to-date!\n",
      "[nltk_data] Downloading package punkt to /home/roque/nltk_data...\n",
      "[nltk_data]   Package punkt is already up-to-date!\n",
      "[nltk_data] Downloading package wordnet to /home/roque/nltk_data...\n",
      "[nltk_data]   Package wordnet is already up-to-date!\n",
      "[nltk_data] Downloading package omw-1.4 to /home/roque/nltk_data...\n",
      "[nltk_data]   Package omw-1.4 is already up-to-date!\n",
      "[nltk_data] Downloading package punkt to /home/roque/nltk_data...\n",
      "[nltk_data]   Package punkt is already up-to-date!\n",
      "[nltk_data] Downloading package wordnet to /home/roque/nltk_data...\n",
      "[nltk_data]   Package wordnet is already up-to-date!\n",
      "[nltk_data] Downloading package omw-1.4 to /home/roque/nltk_data...\n",
      "[nltk_data]   Package omw-1.4 is already up-to-date!\n",
      "[nltk_data] Downloading package punkt to /home/roque/nltk_data...\n",
      "[nltk_data]   Package punkt is already up-to-date!\n",
      "[nltk_data] Downloading package wordnet to /home/roque/nltk_data...\n",
      "[nltk_data]   Package wordnet is already up-to-date!\n",
      "[nltk_data] Downloading package omw-1.4 to /home/roque/nltk_data...\n",
      "[nltk_data]   Package omw-1.4 is already up-to-date!\n"
     ]
    },
    {
     "name": "stderr",
     "output_type": "stream",
     "text": [
      "[nltk_data] Downloading package punkt to /home/roque/nltk_data...\n",
      "[nltk_data]   Package punkt is already up-to-date!\n",
      "[nltk_data] Downloading package wordnet to /home/roque/nltk_data...\n",
      "[nltk_data]   Package wordnet is already up-to-date!\n",
      "[nltk_data] Downloading package omw-1.4 to /home/roque/nltk_data...\n",
      "[nltk_data]   Package omw-1.4 is already up-to-date!\n",
      "[nltk_data] Downloading package punkt to /home/roque/nltk_data...\n",
      "[nltk_data]   Package punkt is already up-to-date!\n",
      "[nltk_data] Downloading package wordnet to /home/roque/nltk_data...\n",
      "[nltk_data]   Package wordnet is already up-to-date!\n",
      "[nltk_data] Downloading package omw-1.4 to /home/roque/nltk_data...\n",
      "[nltk_data]   Package omw-1.4 is already up-to-date!\n",
      "[nltk_data] Downloading package punkt to /home/roque/nltk_data...\n",
      "[nltk_data]   Package punkt is already up-to-date!\n",
      "[nltk_data] Downloading package wordnet to /home/roque/nltk_data...\n",
      "[nltk_data]   Package wordnet is already up-to-date!\n",
      "[nltk_data] Downloading package omw-1.4 to /home/roque/nltk_data...\n",
      "[nltk_data]   Package omw-1.4 is already up-to-date!\n",
      "[nltk_data] Downloading package punkt to /home/roque/nltk_data...\n",
      "[nltk_data]   Package punkt is already up-to-date!\n",
      "[nltk_data] Downloading package wordnet to /home/roque/nltk_data...\n",
      "[nltk_data]   Package wordnet is already up-to-date!\n",
      "[nltk_data] Downloading package omw-1.4 to /home/roque/nltk_data...\n",
      "[nltk_data]   Package omw-1.4 is already up-to-date!\n",
      "[nltk_data] Downloading package punkt to /home/roque/nltk_data...\n",
      "[nltk_data]   Package punkt is already up-to-date!\n",
      "[nltk_data] Downloading package wordnet to /home/roque/nltk_data...\n",
      "[nltk_data]   Package wordnet is already up-to-date!\n",
      "[nltk_data] Downloading package omw-1.4 to /home/roque/nltk_data...\n",
      "[nltk_data]   Package omw-1.4 is already up-to-date!\n",
      "[nltk_data] Downloading package punkt to /home/roque/nltk_data...\n",
      "[nltk_data]   Package punkt is already up-to-date!\n",
      "[nltk_data] Downloading package wordnet to /home/roque/nltk_data...\n",
      "[nltk_data]   Package wordnet is already up-to-date!\n",
      "[nltk_data] Downloading package omw-1.4 to /home/roque/nltk_data...\n",
      "[nltk_data]   Package omw-1.4 is already up-to-date!\n",
      "[nltk_data] Downloading package punkt to /home/roque/nltk_data...\n",
      "[nltk_data]   Package punkt is already up-to-date!\n",
      "[nltk_data] Downloading package wordnet to /home/roque/nltk_data...\n",
      "[nltk_data]   Package wordnet is already up-to-date!\n",
      "[nltk_data] Downloading package omw-1.4 to /home/roque/nltk_data...\n",
      "[nltk_data]   Package omw-1.4 is already up-to-date!\n",
      "[nltk_data] Downloading package punkt to /home/roque/nltk_data...\n",
      "[nltk_data]   Package punkt is already up-to-date!\n",
      "[nltk_data] Downloading package wordnet to /home/roque/nltk_data...\n",
      "[nltk_data]   Package wordnet is already up-to-date!\n",
      "[nltk_data] Downloading package omw-1.4 to /home/roque/nltk_data...\n",
      "[nltk_data]   Package omw-1.4 is already up-to-date!\n",
      "[nltk_data] Downloading package punkt to /home/roque/nltk_data...\n",
      "[nltk_data]   Package punkt is already up-to-date!\n",
      "[nltk_data] Downloading package wordnet to /home/roque/nltk_data...\n",
      "[nltk_data]   Package wordnet is already up-to-date!\n",
      "[nltk_data] Downloading package omw-1.4 to /home/roque/nltk_data...\n",
      "[nltk_data]   Package omw-1.4 is already up-to-date!\n",
      "[nltk_data] Downloading package punkt to /home/roque/nltk_data...\n",
      "[nltk_data]   Package punkt is already up-to-date!\n",
      "[nltk_data] Downloading package wordnet to /home/roque/nltk_data...\n",
      "[nltk_data]   Package wordnet is already up-to-date!\n",
      "[nltk_data] Downloading package omw-1.4 to /home/roque/nltk_data...\n",
      "[nltk_data]   Package omw-1.4 is already up-to-date!\n",
      "[nltk_data] Downloading package punkt to /home/roque/nltk_data...\n",
      "[nltk_data]   Package punkt is already up-to-date!\n",
      "[nltk_data] Downloading package wordnet to /home/roque/nltk_data...\n",
      "[nltk_data]   Package wordnet is already up-to-date!\n",
      "[nltk_data] Downloading package omw-1.4 to /home/roque/nltk_data...\n",
      "[nltk_data]   Package omw-1.4 is already up-to-date!\n",
      "[nltk_data] Downloading package punkt to /home/roque/nltk_data...\n",
      "[nltk_data]   Package punkt is already up-to-date!\n",
      "[nltk_data] Downloading package wordnet to /home/roque/nltk_data...\n",
      "[nltk_data]   Package wordnet is already up-to-date!\n",
      "[nltk_data] Downloading package omw-1.4 to /home/roque/nltk_data...\n",
      "[nltk_data]   Package omw-1.4 is already up-to-date!\n",
      "[nltk_data] Downloading package punkt to /home/roque/nltk_data...\n",
      "[nltk_data]   Package punkt is already up-to-date!\n",
      "[nltk_data] Downloading package wordnet to /home/roque/nltk_data...\n",
      "[nltk_data]   Package wordnet is already up-to-date!\n",
      "[nltk_data] Downloading package omw-1.4 to /home/roque/nltk_data...\n",
      "[nltk_data]   Package omw-1.4 is already up-to-date!\n",
      "[nltk_data] Downloading package punkt to /home/roque/nltk_data...\n",
      "[nltk_data]   Package punkt is already up-to-date!\n",
      "[nltk_data] Downloading package wordnet to /home/roque/nltk_data...\n",
      "[nltk_data]   Package wordnet is already up-to-date!\n",
      "[nltk_data] Downloading package omw-1.4 to /home/roque/nltk_data...\n",
      "[nltk_data]   Package omw-1.4 is already up-to-date!\n",
      "[nltk_data] Downloading package punkt to /home/roque/nltk_data...\n",
      "[nltk_data]   Package punkt is already up-to-date!\n",
      "[nltk_data] Downloading package wordnet to /home/roque/nltk_data...\n",
      "[nltk_data]   Package wordnet is already up-to-date!\n",
      "[nltk_data] Downloading package omw-1.4 to /home/roque/nltk_data...\n",
      "[nltk_data]   Package omw-1.4 is already up-to-date!\n",
      "[nltk_data] Downloading package punkt to /home/roque/nltk_data...\n",
      "[nltk_data]   Package punkt is already up-to-date!\n",
      "[nltk_data] Downloading package wordnet to /home/roque/nltk_data...\n",
      "[nltk_data]   Package wordnet is already up-to-date!\n",
      "[nltk_data] Downloading package omw-1.4 to /home/roque/nltk_data...\n",
      "[nltk_data]   Package omw-1.4 is already up-to-date!\n",
      "[nltk_data] Downloading package punkt to /home/roque/nltk_data...\n",
      "[nltk_data]   Package punkt is already up-to-date!\n",
      "[nltk_data] Downloading package wordnet to /home/roque/nltk_data...\n",
      "[nltk_data]   Package wordnet is already up-to-date!\n",
      "[nltk_data] Downloading package omw-1.4 to /home/roque/nltk_data...\n",
      "[nltk_data]   Package omw-1.4 is already up-to-date!\n",
      "[nltk_data] Downloading package punkt to /home/roque/nltk_data...\n",
      "[nltk_data]   Package punkt is already up-to-date!\n",
      "[nltk_data] Downloading package wordnet to /home/roque/nltk_data...\n",
      "[nltk_data]   Package wordnet is already up-to-date!\n",
      "[nltk_data] Downloading package omw-1.4 to /home/roque/nltk_data...\n",
      "[nltk_data]   Package omw-1.4 is already up-to-date!\n",
      "[nltk_data] Downloading package punkt to /home/roque/nltk_data...\n",
      "[nltk_data]   Package punkt is already up-to-date!\n",
      "[nltk_data] Downloading package wordnet to /home/roque/nltk_data...\n",
      "[nltk_data]   Package wordnet is already up-to-date!\n",
      "[nltk_data] Downloading package omw-1.4 to /home/roque/nltk_data...\n",
      "[nltk_data]   Package omw-1.4 is already up-to-date!\n",
      "[nltk_data] Downloading package punkt to /home/roque/nltk_data...\n",
      "[nltk_data]   Package punkt is already up-to-date!\n",
      "[nltk_data] Downloading package wordnet to /home/roque/nltk_data...\n",
      "[nltk_data]   Package wordnet is already up-to-date!\n",
      "[nltk_data] Downloading package omw-1.4 to /home/roque/nltk_data...\n",
      "[nltk_data]   Package omw-1.4 is already up-to-date!\n",
      "[nltk_data] Downloading package punkt to /home/roque/nltk_data...\n",
      "[nltk_data]   Package punkt is already up-to-date!\n",
      "[nltk_data] Downloading package wordnet to /home/roque/nltk_data...\n",
      "[nltk_data]   Package wordnet is already up-to-date!\n",
      "[nltk_data] Downloading package omw-1.4 to /home/roque/nltk_data...\n",
      "[nltk_data]   Package omw-1.4 is already up-to-date!\n",
      "[nltk_data] Downloading package punkt to /home/roque/nltk_data...\n",
      "[nltk_data]   Package punkt is already up-to-date!\n",
      "[nltk_data] Downloading package wordnet to /home/roque/nltk_data...\n",
      "[nltk_data]   Package wordnet is already up-to-date!\n",
      "[nltk_data] Downloading package omw-1.4 to /home/roque/nltk_data...\n",
      "[nltk_data]   Package omw-1.4 is already up-to-date!\n",
      "[nltk_data] Downloading package punkt to /home/roque/nltk_data...\n",
      "[nltk_data]   Package punkt is already up-to-date!\n",
      "[nltk_data] Downloading package wordnet to /home/roque/nltk_data...\n",
      "[nltk_data]   Package wordnet is already up-to-date!\n",
      "[nltk_data] Downloading package omw-1.4 to /home/roque/nltk_data...\n",
      "[nltk_data]   Package omw-1.4 is already up-to-date!\n",
      "[nltk_data] Downloading package punkt to /home/roque/nltk_data...\n",
      "[nltk_data]   Package punkt is already up-to-date!\n",
      "[nltk_data] Downloading package wordnet to /home/roque/nltk_data...\n",
      "[nltk_data]   Package wordnet is already up-to-date!\n",
      "[nltk_data] Downloading package omw-1.4 to /home/roque/nltk_data...\n",
      "[nltk_data]   Package omw-1.4 is already up-to-date!\n",
      "[nltk_data] Downloading package punkt to /home/roque/nltk_data...\n",
      "[nltk_data]   Package punkt is already up-to-date!\n",
      "[nltk_data] Downloading package wordnet to /home/roque/nltk_data...\n",
      "[nltk_data]   Package wordnet is already up-to-date!\n",
      "[nltk_data] Downloading package omw-1.4 to /home/roque/nltk_data...\n",
      "[nltk_data]   Package omw-1.4 is already up-to-date!\n",
      "[nltk_data] Downloading package punkt to /home/roque/nltk_data...\n",
      "[nltk_data]   Package punkt is already up-to-date!\n",
      "[nltk_data] Downloading package wordnet to /home/roque/nltk_data...\n",
      "[nltk_data]   Package wordnet is already up-to-date!\n",
      "[nltk_data] Downloading package omw-1.4 to /home/roque/nltk_data...\n",
      "[nltk_data]   Package omw-1.4 is already up-to-date!\n",
      "[nltk_data] Downloading package punkt to /home/roque/nltk_data...\n",
      "[nltk_data]   Package punkt is already up-to-date!\n",
      "[nltk_data] Downloading package wordnet to /home/roque/nltk_data...\n",
      "[nltk_data]   Package wordnet is already up-to-date!\n",
      "[nltk_data] Downloading package omw-1.4 to /home/roque/nltk_data...\n",
      "[nltk_data]   Package omw-1.4 is already up-to-date!\n",
      "[nltk_data] Downloading package punkt to /home/roque/nltk_data...\n",
      "[nltk_data]   Package punkt is already up-to-date!\n",
      "[nltk_data] Downloading package wordnet to /home/roque/nltk_data...\n",
      "[nltk_data]   Package wordnet is already up-to-date!\n",
      "[nltk_data] Downloading package omw-1.4 to /home/roque/nltk_data...\n",
      "[nltk_data]   Package omw-1.4 is already up-to-date!\n",
      "[nltk_data] Downloading package punkt to /home/roque/nltk_data...\n",
      "[nltk_data]   Package punkt is already up-to-date!\n",
      "[nltk_data] Downloading package wordnet to /home/roque/nltk_data...\n",
      "[nltk_data]   Package wordnet is already up-to-date!\n",
      "[nltk_data] Downloading package omw-1.4 to /home/roque/nltk_data...\n",
      "[nltk_data]   Package omw-1.4 is already up-to-date!\n",
      "[nltk_data] Downloading package punkt to /home/roque/nltk_data...\n",
      "[nltk_data]   Package punkt is already up-to-date!\n",
      "[nltk_data] Downloading package wordnet to /home/roque/nltk_data...\n",
      "[nltk_data]   Package wordnet is already up-to-date!\n",
      "[nltk_data] Downloading package omw-1.4 to /home/roque/nltk_data...\n",
      "[nltk_data]   Package omw-1.4 is already up-to-date!\n",
      "[nltk_data] Downloading package punkt to /home/roque/nltk_data...\n",
      "[nltk_data]   Package punkt is already up-to-date!\n",
      "[nltk_data] Downloading package wordnet to /home/roque/nltk_data...\n",
      "[nltk_data]   Package wordnet is already up-to-date!\n",
      "[nltk_data] Downloading package omw-1.4 to /home/roque/nltk_data...\n",
      "[nltk_data]   Package omw-1.4 is already up-to-date!\n",
      "[nltk_data] Downloading package punkt to /home/roque/nltk_data...\n",
      "[nltk_data]   Package punkt is already up-to-date!\n",
      "[nltk_data] Downloading package wordnet to /home/roque/nltk_data...\n",
      "[nltk_data]   Package wordnet is already up-to-date!\n",
      "[nltk_data] Downloading package omw-1.4 to /home/roque/nltk_data...\n",
      "[nltk_data]   Package omw-1.4 is already up-to-date!\n",
      "[nltk_data] Downloading package punkt to /home/roque/nltk_data...\n",
      "[nltk_data]   Package punkt is already up-to-date!\n",
      "[nltk_data] Downloading package wordnet to /home/roque/nltk_data...\n",
      "[nltk_data]   Package wordnet is already up-to-date!\n",
      "[nltk_data] Downloading package omw-1.4 to /home/roque/nltk_data...\n",
      "[nltk_data]   Package omw-1.4 is already up-to-date!\n"
     ]
    },
    {
     "name": "stderr",
     "output_type": "stream",
     "text": [
      "[nltk_data] Downloading package punkt to /home/roque/nltk_data...\n",
      "[nltk_data]   Package punkt is already up-to-date!\n",
      "[nltk_data] Downloading package wordnet to /home/roque/nltk_data...\n",
      "[nltk_data]   Package wordnet is already up-to-date!\n",
      "[nltk_data] Downloading package omw-1.4 to /home/roque/nltk_data...\n",
      "[nltk_data]   Package omw-1.4 is already up-to-date!\n",
      "[nltk_data] Downloading package punkt to /home/roque/nltk_data...\n",
      "[nltk_data]   Package punkt is already up-to-date!\n",
      "[nltk_data] Downloading package wordnet to /home/roque/nltk_data...\n",
      "[nltk_data]   Package wordnet is already up-to-date!\n",
      "[nltk_data] Downloading package omw-1.4 to /home/roque/nltk_data...\n",
      "[nltk_data]   Package omw-1.4 is already up-to-date!\n",
      "[nltk_data] Downloading package punkt to /home/roque/nltk_data...\n",
      "[nltk_data]   Package punkt is already up-to-date!\n",
      "[nltk_data] Downloading package wordnet to /home/roque/nltk_data...\n",
      "[nltk_data]   Package wordnet is already up-to-date!\n",
      "[nltk_data] Downloading package omw-1.4 to /home/roque/nltk_data...\n",
      "[nltk_data]   Package omw-1.4 is already up-to-date!\n",
      "[nltk_data] Downloading package punkt to /home/roque/nltk_data...\n",
      "[nltk_data]   Package punkt is already up-to-date!\n",
      "[nltk_data] Downloading package wordnet to /home/roque/nltk_data...\n",
      "[nltk_data]   Package wordnet is already up-to-date!\n",
      "[nltk_data] Downloading package omw-1.4 to /home/roque/nltk_data...\n",
      "[nltk_data]   Package omw-1.4 is already up-to-date!\n",
      "[nltk_data] Downloading package punkt to /home/roque/nltk_data...\n",
      "[nltk_data]   Package punkt is already up-to-date!\n",
      "[nltk_data] Downloading package wordnet to /home/roque/nltk_data...\n",
      "[nltk_data]   Package wordnet is already up-to-date!\n",
      "[nltk_data] Downloading package omw-1.4 to /home/roque/nltk_data...\n",
      "[nltk_data]   Package omw-1.4 is already up-to-date!\n",
      "[nltk_data] Downloading package punkt to /home/roque/nltk_data...\n",
      "[nltk_data]   Package punkt is already up-to-date!\n",
      "[nltk_data] Downloading package wordnet to /home/roque/nltk_data...\n",
      "[nltk_data]   Package wordnet is already up-to-date!\n",
      "[nltk_data] Downloading package omw-1.4 to /home/roque/nltk_data...\n",
      "[nltk_data]   Package omw-1.4 is already up-to-date!\n",
      "[nltk_data] Downloading package punkt to /home/roque/nltk_data...\n",
      "[nltk_data]   Package punkt is already up-to-date!\n",
      "[nltk_data] Downloading package wordnet to /home/roque/nltk_data...\n",
      "[nltk_data]   Package wordnet is already up-to-date!\n",
      "[nltk_data] Downloading package omw-1.4 to /home/roque/nltk_data...\n",
      "[nltk_data]   Package omw-1.4 is already up-to-date!\n",
      "[nltk_data] Downloading package punkt to /home/roque/nltk_data...\n",
      "[nltk_data]   Package punkt is already up-to-date!\n",
      "[nltk_data] Downloading package wordnet to /home/roque/nltk_data...\n",
      "[nltk_data]   Package wordnet is already up-to-date!\n",
      "[nltk_data] Downloading package omw-1.4 to /home/roque/nltk_data...\n",
      "[nltk_data]   Package omw-1.4 is already up-to-date!\n",
      "[nltk_data] Downloading package punkt to /home/roque/nltk_data...\n",
      "[nltk_data]   Package punkt is already up-to-date!\n",
      "[nltk_data] Downloading package wordnet to /home/roque/nltk_data...\n",
      "[nltk_data]   Package wordnet is already up-to-date!\n",
      "[nltk_data] Downloading package omw-1.4 to /home/roque/nltk_data...\n",
      "[nltk_data]   Package omw-1.4 is already up-to-date!\n",
      "[nltk_data] Downloading package punkt to /home/roque/nltk_data...\n",
      "[nltk_data]   Package punkt is already up-to-date!\n",
      "[nltk_data] Downloading package wordnet to /home/roque/nltk_data...\n",
      "[nltk_data]   Package wordnet is already up-to-date!\n",
      "[nltk_data] Downloading package omw-1.4 to /home/roque/nltk_data...\n",
      "[nltk_data]   Package omw-1.4 is already up-to-date!\n",
      "[nltk_data] Downloading package punkt to /home/roque/nltk_data...\n",
      "[nltk_data]   Package punkt is already up-to-date!\n",
      "[nltk_data] Downloading package wordnet to /home/roque/nltk_data...\n",
      "[nltk_data]   Package wordnet is already up-to-date!\n",
      "[nltk_data] Downloading package omw-1.4 to /home/roque/nltk_data...\n",
      "[nltk_data]   Package omw-1.4 is already up-to-date!\n",
      "[nltk_data] Downloading package punkt to /home/roque/nltk_data...\n",
      "[nltk_data]   Package punkt is already up-to-date!\n",
      "[nltk_data] Downloading package wordnet to /home/roque/nltk_data...\n",
      "[nltk_data]   Package wordnet is already up-to-date!\n",
      "[nltk_data] Downloading package omw-1.4 to /home/roque/nltk_data...\n",
      "[nltk_data]   Package omw-1.4 is already up-to-date!\n",
      "[nltk_data] Downloading package punkt to /home/roque/nltk_data...\n",
      "[nltk_data]   Package punkt is already up-to-date!\n",
      "[nltk_data] Downloading package wordnet to /home/roque/nltk_data...\n",
      "[nltk_data]   Package wordnet is already up-to-date!\n",
      "[nltk_data] Downloading package omw-1.4 to /home/roque/nltk_data...\n",
      "[nltk_data]   Package omw-1.4 is already up-to-date!\n",
      "[nltk_data] Downloading package punkt to /home/roque/nltk_data...\n",
      "[nltk_data]   Package punkt is already up-to-date!\n",
      "[nltk_data] Downloading package wordnet to /home/roque/nltk_data...\n",
      "[nltk_data]   Package wordnet is already up-to-date!\n",
      "[nltk_data] Downloading package omw-1.4 to /home/roque/nltk_data...\n",
      "[nltk_data]   Package omw-1.4 is already up-to-date!\n",
      "[nltk_data] Downloading package punkt to /home/roque/nltk_data...\n",
      "[nltk_data]   Package punkt is already up-to-date!\n",
      "[nltk_data] Downloading package wordnet to /home/roque/nltk_data...\n",
      "[nltk_data]   Package wordnet is already up-to-date!\n",
      "[nltk_data] Downloading package omw-1.4 to /home/roque/nltk_data...\n",
      "[nltk_data]   Package omw-1.4 is already up-to-date!\n",
      "[nltk_data] Downloading package punkt to /home/roque/nltk_data...\n",
      "[nltk_data]   Package punkt is already up-to-date!\n",
      "[nltk_data] Downloading package wordnet to /home/roque/nltk_data...\n",
      "[nltk_data]   Package wordnet is already up-to-date!\n",
      "[nltk_data] Downloading package omw-1.4 to /home/roque/nltk_data...\n",
      "[nltk_data]   Package omw-1.4 is already up-to-date!\n",
      "[nltk_data] Downloading package punkt to /home/roque/nltk_data...\n",
      "[nltk_data]   Package punkt is already up-to-date!\n",
      "[nltk_data] Downloading package wordnet to /home/roque/nltk_data...\n",
      "[nltk_data]   Package wordnet is already up-to-date!\n",
      "[nltk_data] Downloading package omw-1.4 to /home/roque/nltk_data...\n",
      "[nltk_data]   Package omw-1.4 is already up-to-date!\n",
      "[nltk_data] Downloading package punkt to /home/roque/nltk_data...\n",
      "[nltk_data]   Package punkt is already up-to-date!\n",
      "[nltk_data] Downloading package wordnet to /home/roque/nltk_data...\n",
      "[nltk_data]   Package wordnet is already up-to-date!\n",
      "[nltk_data] Downloading package omw-1.4 to /home/roque/nltk_data...\n",
      "[nltk_data]   Package omw-1.4 is already up-to-date!\n",
      "[nltk_data] Downloading package punkt to /home/roque/nltk_data...\n",
      "[nltk_data]   Package punkt is already up-to-date!\n",
      "[nltk_data] Downloading package wordnet to /home/roque/nltk_data...\n",
      "[nltk_data]   Package wordnet is already up-to-date!\n",
      "[nltk_data] Downloading package omw-1.4 to /home/roque/nltk_data...\n",
      "[nltk_data]   Package omw-1.4 is already up-to-date!\n",
      "[nltk_data] Downloading package punkt to /home/roque/nltk_data...\n",
      "[nltk_data]   Package punkt is already up-to-date!\n",
      "[nltk_data] Downloading package wordnet to /home/roque/nltk_data...\n",
      "[nltk_data]   Package wordnet is already up-to-date!\n",
      "[nltk_data] Downloading package omw-1.4 to /home/roque/nltk_data...\n",
      "[nltk_data]   Package omw-1.4 is already up-to-date!\n",
      "[nltk_data] Downloading package punkt to /home/roque/nltk_data...\n",
      "[nltk_data]   Package punkt is already up-to-date!\n",
      "[nltk_data] Downloading package wordnet to /home/roque/nltk_data...\n",
      "[nltk_data]   Package wordnet is already up-to-date!\n",
      "[nltk_data] Downloading package omw-1.4 to /home/roque/nltk_data...\n",
      "[nltk_data]   Package omw-1.4 is already up-to-date!\n",
      "[nltk_data] Downloading package punkt to /home/roque/nltk_data...\n",
      "[nltk_data]   Package punkt is already up-to-date!\n",
      "[nltk_data] Downloading package wordnet to /home/roque/nltk_data...\n",
      "[nltk_data]   Package wordnet is already up-to-date!\n",
      "[nltk_data] Downloading package omw-1.4 to /home/roque/nltk_data...\n",
      "[nltk_data]   Package omw-1.4 is already up-to-date!\n",
      "[nltk_data] Downloading package punkt to /home/roque/nltk_data...\n",
      "[nltk_data]   Package punkt is already up-to-date!\n",
      "[nltk_data] Downloading package wordnet to /home/roque/nltk_data...\n",
      "[nltk_data]   Package wordnet is already up-to-date!\n",
      "[nltk_data] Downloading package omw-1.4 to /home/roque/nltk_data...\n",
      "[nltk_data]   Package omw-1.4 is already up-to-date!\n",
      "[nltk_data] Downloading package punkt to /home/roque/nltk_data...\n",
      "[nltk_data]   Package punkt is already up-to-date!\n",
      "[nltk_data] Downloading package wordnet to /home/roque/nltk_data...\n",
      "[nltk_data]   Package wordnet is already up-to-date!\n",
      "[nltk_data] Downloading package omw-1.4 to /home/roque/nltk_data...\n",
      "[nltk_data]   Package omw-1.4 is already up-to-date!\n",
      "[nltk_data] Downloading package punkt to /home/roque/nltk_data...\n",
      "[nltk_data]   Package punkt is already up-to-date!\n",
      "[nltk_data] Downloading package wordnet to /home/roque/nltk_data...\n",
      "[nltk_data]   Package wordnet is already up-to-date!\n",
      "[nltk_data] Downloading package omw-1.4 to /home/roque/nltk_data...\n",
      "[nltk_data]   Package omw-1.4 is already up-to-date!\n",
      "[nltk_data] Downloading package punkt to /home/roque/nltk_data...\n",
      "[nltk_data]   Package punkt is already up-to-date!\n",
      "[nltk_data] Downloading package wordnet to /home/roque/nltk_data...\n",
      "[nltk_data]   Package wordnet is already up-to-date!\n",
      "[nltk_data] Downloading package omw-1.4 to /home/roque/nltk_data...\n",
      "[nltk_data]   Package omw-1.4 is already up-to-date!\n",
      "[nltk_data] Downloading package punkt to /home/roque/nltk_data...\n",
      "[nltk_data]   Package punkt is already up-to-date!\n",
      "[nltk_data] Downloading package wordnet to /home/roque/nltk_data...\n",
      "[nltk_data]   Package wordnet is already up-to-date!\n",
      "[nltk_data] Downloading package omw-1.4 to /home/roque/nltk_data...\n",
      "[nltk_data]   Package omw-1.4 is already up-to-date!\n",
      "[nltk_data] Downloading package punkt to /home/roque/nltk_data...\n",
      "[nltk_data]   Package punkt is already up-to-date!\n",
      "[nltk_data] Downloading package wordnet to /home/roque/nltk_data...\n",
      "[nltk_data]   Package wordnet is already up-to-date!\n",
      "[nltk_data] Downloading package omw-1.4 to /home/roque/nltk_data...\n",
      "[nltk_data]   Package omw-1.4 is already up-to-date!\n",
      "[nltk_data] Downloading package punkt to /home/roque/nltk_data...\n",
      "[nltk_data]   Package punkt is already up-to-date!\n",
      "[nltk_data] Downloading package wordnet to /home/roque/nltk_data...\n",
      "[nltk_data]   Package wordnet is already up-to-date!\n",
      "[nltk_data] Downloading package omw-1.4 to /home/roque/nltk_data...\n",
      "[nltk_data]   Package omw-1.4 is already up-to-date!\n",
      "[nltk_data] Downloading package punkt to /home/roque/nltk_data...\n",
      "[nltk_data]   Package punkt is already up-to-date!\n",
      "[nltk_data] Downloading package wordnet to /home/roque/nltk_data...\n",
      "[nltk_data]   Package wordnet is already up-to-date!\n",
      "[nltk_data] Downloading package omw-1.4 to /home/roque/nltk_data...\n",
      "[nltk_data]   Package omw-1.4 is already up-to-date!\n",
      "[nltk_data] Downloading package punkt to /home/roque/nltk_data...\n",
      "[nltk_data]   Package punkt is already up-to-date!\n",
      "[nltk_data] Downloading package wordnet to /home/roque/nltk_data...\n",
      "[nltk_data]   Package wordnet is already up-to-date!\n",
      "[nltk_data] Downloading package omw-1.4 to /home/roque/nltk_data...\n",
      "[nltk_data]   Package omw-1.4 is already up-to-date!\n",
      "[nltk_data] Downloading package punkt to /home/roque/nltk_data...\n",
      "[nltk_data]   Package punkt is already up-to-date!\n",
      "[nltk_data] Downloading package wordnet to /home/roque/nltk_data...\n",
      "[nltk_data]   Package wordnet is already up-to-date!\n",
      "[nltk_data] Downloading package omw-1.4 to /home/roque/nltk_data...\n",
      "[nltk_data]   Package omw-1.4 is already up-to-date!\n",
      "[nltk_data] Downloading package punkt to /home/roque/nltk_data...\n",
      "[nltk_data]   Package punkt is already up-to-date!\n",
      "[nltk_data] Downloading package wordnet to /home/roque/nltk_data...\n",
      "[nltk_data]   Package wordnet is already up-to-date!\n",
      "[nltk_data] Downloading package omw-1.4 to /home/roque/nltk_data...\n",
      "[nltk_data]   Package omw-1.4 is already up-to-date!\n",
      "[nltk_data] Downloading package punkt to /home/roque/nltk_data...\n",
      "[nltk_data]   Package punkt is already up-to-date!\n",
      "[nltk_data] Downloading package wordnet to /home/roque/nltk_data...\n",
      "[nltk_data]   Package wordnet is already up-to-date!\n",
      "[nltk_data] Downloading package omw-1.4 to /home/roque/nltk_data...\n",
      "[nltk_data]   Package omw-1.4 is already up-to-date!\n",
      "[nltk_data] Downloading package punkt to /home/roque/nltk_data...\n",
      "[nltk_data]   Package punkt is already up-to-date!\n",
      "[nltk_data] Downloading package wordnet to /home/roque/nltk_data...\n",
      "[nltk_data]   Package wordnet is already up-to-date!\n",
      "[nltk_data] Downloading package omw-1.4 to /home/roque/nltk_data...\n",
      "[nltk_data]   Package omw-1.4 is already up-to-date!\n"
     ]
    },
    {
     "name": "stderr",
     "output_type": "stream",
     "text": [
      "[nltk_data] Downloading package punkt to /home/roque/nltk_data...\n",
      "[nltk_data]   Package punkt is already up-to-date!\n",
      "[nltk_data] Downloading package wordnet to /home/roque/nltk_data...\n",
      "[nltk_data]   Package wordnet is already up-to-date!\n",
      "[nltk_data] Downloading package omw-1.4 to /home/roque/nltk_data...\n",
      "[nltk_data]   Package omw-1.4 is already up-to-date!\n",
      "[nltk_data] Downloading package punkt to /home/roque/nltk_data...\n",
      "[nltk_data]   Package punkt is already up-to-date!\n",
      "[nltk_data] Downloading package wordnet to /home/roque/nltk_data...\n",
      "[nltk_data]   Package wordnet is already up-to-date!\n",
      "[nltk_data] Downloading package omw-1.4 to /home/roque/nltk_data...\n",
      "[nltk_data]   Package omw-1.4 is already up-to-date!\n",
      "[nltk_data] Downloading package punkt to /home/roque/nltk_data...\n",
      "[nltk_data]   Package punkt is already up-to-date!\n",
      "[nltk_data] Downloading package wordnet to /home/roque/nltk_data...\n",
      "[nltk_data]   Package wordnet is already up-to-date!\n",
      "[nltk_data] Downloading package omw-1.4 to /home/roque/nltk_data...\n",
      "[nltk_data]   Package omw-1.4 is already up-to-date!\n",
      "[nltk_data] Downloading package punkt to /home/roque/nltk_data...\n",
      "[nltk_data]   Package punkt is already up-to-date!\n",
      "[nltk_data] Downloading package wordnet to /home/roque/nltk_data...\n",
      "[nltk_data]   Package wordnet is already up-to-date!\n",
      "[nltk_data] Downloading package omw-1.4 to /home/roque/nltk_data...\n",
      "[nltk_data]   Package omw-1.4 is already up-to-date!\n",
      "[nltk_data] Downloading package punkt to /home/roque/nltk_data...\n",
      "[nltk_data]   Package punkt is already up-to-date!\n",
      "[nltk_data] Downloading package wordnet to /home/roque/nltk_data...\n",
      "[nltk_data]   Package wordnet is already up-to-date!\n",
      "[nltk_data] Downloading package omw-1.4 to /home/roque/nltk_data...\n",
      "[nltk_data]   Package omw-1.4 is already up-to-date!\n",
      "[nltk_data] Downloading package punkt to /home/roque/nltk_data...\n",
      "[nltk_data]   Package punkt is already up-to-date!\n",
      "[nltk_data] Downloading package wordnet to /home/roque/nltk_data...\n",
      "[nltk_data]   Package wordnet is already up-to-date!\n",
      "[nltk_data] Downloading package omw-1.4 to /home/roque/nltk_data...\n",
      "[nltk_data]   Package omw-1.4 is already up-to-date!\n",
      "[nltk_data] Downloading package punkt to /home/roque/nltk_data...\n",
      "[nltk_data]   Package punkt is already up-to-date!\n",
      "[nltk_data] Downloading package wordnet to /home/roque/nltk_data...\n",
      "[nltk_data]   Package wordnet is already up-to-date!\n",
      "[nltk_data] Downloading package omw-1.4 to /home/roque/nltk_data...\n",
      "[nltk_data]   Package omw-1.4 is already up-to-date!\n",
      "[nltk_data] Downloading package punkt to /home/roque/nltk_data...\n",
      "[nltk_data]   Package punkt is already up-to-date!\n",
      "[nltk_data] Downloading package wordnet to /home/roque/nltk_data...\n",
      "[nltk_data]   Package wordnet is already up-to-date!\n",
      "[nltk_data] Downloading package omw-1.4 to /home/roque/nltk_data...\n",
      "[nltk_data]   Package omw-1.4 is already up-to-date!\n",
      "[nltk_data] Downloading package punkt to /home/roque/nltk_data...\n",
      "[nltk_data]   Package punkt is already up-to-date!\n",
      "[nltk_data] Downloading package wordnet to /home/roque/nltk_data...\n",
      "[nltk_data]   Package wordnet is already up-to-date!\n",
      "[nltk_data] Downloading package omw-1.4 to /home/roque/nltk_data...\n",
      "[nltk_data]   Package omw-1.4 is already up-to-date!\n",
      "[nltk_data] Downloading package punkt to /home/roque/nltk_data...\n",
      "[nltk_data]   Package punkt is already up-to-date!\n",
      "[nltk_data] Downloading package wordnet to /home/roque/nltk_data...\n",
      "[nltk_data]   Package wordnet is already up-to-date!\n",
      "[nltk_data] Downloading package omw-1.4 to /home/roque/nltk_data...\n",
      "[nltk_data]   Package omw-1.4 is already up-to-date!\n",
      "[nltk_data] Downloading package punkt to /home/roque/nltk_data...\n",
      "[nltk_data]   Package punkt is already up-to-date!\n",
      "[nltk_data] Downloading package wordnet to /home/roque/nltk_data...\n",
      "[nltk_data]   Package wordnet is already up-to-date!\n",
      "[nltk_data] Downloading package omw-1.4 to /home/roque/nltk_data...\n",
      "[nltk_data]   Package omw-1.4 is already up-to-date!\n",
      "[nltk_data] Downloading package punkt to /home/roque/nltk_data...\n",
      "[nltk_data]   Package punkt is already up-to-date!\n",
      "[nltk_data] Downloading package wordnet to /home/roque/nltk_data...\n",
      "[nltk_data]   Package wordnet is already up-to-date!\n",
      "[nltk_data] Downloading package omw-1.4 to /home/roque/nltk_data...\n",
      "[nltk_data]   Package omw-1.4 is already up-to-date!\n",
      "[nltk_data] Downloading package punkt to /home/roque/nltk_data...\n",
      "[nltk_data]   Package punkt is already up-to-date!\n",
      "[nltk_data] Downloading package wordnet to /home/roque/nltk_data...\n",
      "[nltk_data]   Package wordnet is already up-to-date!\n",
      "[nltk_data] Downloading package omw-1.4 to /home/roque/nltk_data...\n",
      "[nltk_data]   Package omw-1.4 is already up-to-date!\n",
      "[nltk_data] Downloading package punkt to /home/roque/nltk_data...\n",
      "[nltk_data]   Package punkt is already up-to-date!\n",
      "[nltk_data] Downloading package wordnet to /home/roque/nltk_data...\n",
      "[nltk_data]   Package wordnet is already up-to-date!\n",
      "[nltk_data] Downloading package omw-1.4 to /home/roque/nltk_data...\n",
      "[nltk_data]   Package omw-1.4 is already up-to-date!\n",
      "[nltk_data] Downloading package punkt to /home/roque/nltk_data...\n",
      "[nltk_data]   Package punkt is already up-to-date!\n",
      "[nltk_data] Downloading package wordnet to /home/roque/nltk_data...\n",
      "[nltk_data]   Package wordnet is already up-to-date!\n",
      "[nltk_data] Downloading package omw-1.4 to /home/roque/nltk_data...\n",
      "[nltk_data]   Package omw-1.4 is already up-to-date!\n",
      "[nltk_data] Downloading package punkt to /home/roque/nltk_data...\n",
      "[nltk_data]   Package punkt is already up-to-date!\n",
      "[nltk_data] Downloading package wordnet to /home/roque/nltk_data...\n",
      "[nltk_data]   Package wordnet is already up-to-date!\n",
      "[nltk_data] Downloading package omw-1.4 to /home/roque/nltk_data...\n",
      "[nltk_data]   Package omw-1.4 is already up-to-date!\n",
      "[nltk_data] Downloading package punkt to /home/roque/nltk_data...\n",
      "[nltk_data]   Package punkt is already up-to-date!\n",
      "[nltk_data] Downloading package wordnet to /home/roque/nltk_data...\n",
      "[nltk_data]   Package wordnet is already up-to-date!\n",
      "[nltk_data] Downloading package omw-1.4 to /home/roque/nltk_data...\n",
      "[nltk_data]   Package omw-1.4 is already up-to-date!\n",
      "[nltk_data] Downloading package punkt to /home/roque/nltk_data...\n",
      "[nltk_data]   Package punkt is already up-to-date!\n",
      "[nltk_data] Downloading package wordnet to /home/roque/nltk_data...\n",
      "[nltk_data]   Package wordnet is already up-to-date!\n",
      "[nltk_data] Downloading package omw-1.4 to /home/roque/nltk_data...\n",
      "[nltk_data]   Package omw-1.4 is already up-to-date!\n",
      "[nltk_data] Downloading package punkt to /home/roque/nltk_data...\n",
      "[nltk_data]   Package punkt is already up-to-date!\n",
      "[nltk_data] Downloading package wordnet to /home/roque/nltk_data...\n",
      "[nltk_data]   Package wordnet is already up-to-date!\n",
      "[nltk_data] Downloading package omw-1.4 to /home/roque/nltk_data...\n",
      "[nltk_data]   Package omw-1.4 is already up-to-date!\n",
      "[nltk_data] Downloading package punkt to /home/roque/nltk_data...\n",
      "[nltk_data]   Package punkt is already up-to-date!\n",
      "[nltk_data] Downloading package wordnet to /home/roque/nltk_data...\n",
      "[nltk_data]   Package wordnet is already up-to-date!\n",
      "[nltk_data] Downloading package omw-1.4 to /home/roque/nltk_data...\n",
      "[nltk_data]   Package omw-1.4 is already up-to-date!\n",
      "[nltk_data] Downloading package punkt to /home/roque/nltk_data...\n",
      "[nltk_data]   Package punkt is already up-to-date!\n",
      "[nltk_data] Downloading package wordnet to /home/roque/nltk_data...\n",
      "[nltk_data]   Package wordnet is already up-to-date!\n",
      "[nltk_data] Downloading package omw-1.4 to /home/roque/nltk_data...\n",
      "[nltk_data]   Package omw-1.4 is already up-to-date!\n",
      "[nltk_data] Downloading package punkt to /home/roque/nltk_data...\n",
      "[nltk_data]   Package punkt is already up-to-date!\n",
      "[nltk_data] Downloading package wordnet to /home/roque/nltk_data...\n",
      "[nltk_data]   Package wordnet is already up-to-date!\n",
      "[nltk_data] Downloading package omw-1.4 to /home/roque/nltk_data...\n",
      "[nltk_data]   Package omw-1.4 is already up-to-date!\n",
      "[nltk_data] Downloading package punkt to /home/roque/nltk_data...\n",
      "[nltk_data]   Package punkt is already up-to-date!\n",
      "[nltk_data] Downloading package wordnet to /home/roque/nltk_data...\n",
      "[nltk_data]   Package wordnet is already up-to-date!\n",
      "[nltk_data] Downloading package omw-1.4 to /home/roque/nltk_data...\n",
      "[nltk_data]   Package omw-1.4 is already up-to-date!\n",
      "[nltk_data] Downloading package punkt to /home/roque/nltk_data...\n",
      "[nltk_data]   Package punkt is already up-to-date!\n",
      "[nltk_data] Downloading package wordnet to /home/roque/nltk_data...\n",
      "[nltk_data]   Package wordnet is already up-to-date!\n",
      "[nltk_data] Downloading package omw-1.4 to /home/roque/nltk_data...\n",
      "[nltk_data]   Package omw-1.4 is already up-to-date!\n",
      "[nltk_data] Downloading package punkt to /home/roque/nltk_data...\n",
      "[nltk_data]   Package punkt is already up-to-date!\n",
      "[nltk_data] Downloading package wordnet to /home/roque/nltk_data...\n",
      "[nltk_data]   Package wordnet is already up-to-date!\n",
      "[nltk_data] Downloading package omw-1.4 to /home/roque/nltk_data...\n",
      "[nltk_data]   Package omw-1.4 is already up-to-date!\n",
      "[nltk_data] Downloading package punkt to /home/roque/nltk_data...\n",
      "[nltk_data]   Package punkt is already up-to-date!\n",
      "[nltk_data] Downloading package wordnet to /home/roque/nltk_data...\n",
      "[nltk_data]   Package wordnet is already up-to-date!\n",
      "[nltk_data] Downloading package omw-1.4 to /home/roque/nltk_data...\n",
      "[nltk_data]   Package omw-1.4 is already up-to-date!\n",
      "[nltk_data] Downloading package punkt to /home/roque/nltk_data...\n",
      "[nltk_data]   Package punkt is already up-to-date!\n",
      "[nltk_data] Downloading package wordnet to /home/roque/nltk_data...\n",
      "[nltk_data]   Package wordnet is already up-to-date!\n",
      "[nltk_data] Downloading package omw-1.4 to /home/roque/nltk_data...\n",
      "[nltk_data]   Package omw-1.4 is already up-to-date!\n",
      "[nltk_data] Downloading package punkt to /home/roque/nltk_data...\n",
      "[nltk_data]   Package punkt is already up-to-date!\n",
      "[nltk_data] Downloading package wordnet to /home/roque/nltk_data...\n",
      "[nltk_data]   Package wordnet is already up-to-date!\n",
      "[nltk_data] Downloading package omw-1.4 to /home/roque/nltk_data...\n",
      "[nltk_data]   Package omw-1.4 is already up-to-date!\n",
      "[nltk_data] Downloading package punkt to /home/roque/nltk_data...\n",
      "[nltk_data]   Package punkt is already up-to-date!\n",
      "[nltk_data] Downloading package wordnet to /home/roque/nltk_data...\n",
      "[nltk_data]   Package wordnet is already up-to-date!\n",
      "[nltk_data] Downloading package omw-1.4 to /home/roque/nltk_data...\n",
      "[nltk_data]   Package omw-1.4 is already up-to-date!\n",
      "[nltk_data] Downloading package punkt to /home/roque/nltk_data...\n",
      "[nltk_data]   Package punkt is already up-to-date!\n",
      "[nltk_data] Downloading package wordnet to /home/roque/nltk_data...\n",
      "[nltk_data]   Package wordnet is already up-to-date!\n",
      "[nltk_data] Downloading package omw-1.4 to /home/roque/nltk_data...\n",
      "[nltk_data]   Package omw-1.4 is already up-to-date!\n",
      "[nltk_data] Downloading package punkt to /home/roque/nltk_data...\n",
      "[nltk_data]   Package punkt is already up-to-date!\n",
      "[nltk_data] Downloading package wordnet to /home/roque/nltk_data...\n",
      "[nltk_data]   Package wordnet is already up-to-date!\n",
      "[nltk_data] Downloading package omw-1.4 to /home/roque/nltk_data...\n",
      "[nltk_data]   Package omw-1.4 is already up-to-date!\n",
      "[nltk_data] Downloading package punkt to /home/roque/nltk_data...\n",
      "[nltk_data]   Package punkt is already up-to-date!\n",
      "[nltk_data] Downloading package wordnet to /home/roque/nltk_data...\n",
      "[nltk_data]   Package wordnet is already up-to-date!\n",
      "[nltk_data] Downloading package omw-1.4 to /home/roque/nltk_data...\n",
      "[nltk_data]   Package omw-1.4 is already up-to-date!\n"
     ]
    },
    {
     "name": "stderr",
     "output_type": "stream",
     "text": [
      "[nltk_data] Downloading package punkt to /home/roque/nltk_data...\n",
      "[nltk_data]   Package punkt is already up-to-date!\n",
      "[nltk_data] Downloading package wordnet to /home/roque/nltk_data...\n",
      "[nltk_data]   Package wordnet is already up-to-date!\n",
      "[nltk_data] Downloading package omw-1.4 to /home/roque/nltk_data...\n",
      "[nltk_data]   Package omw-1.4 is already up-to-date!\n",
      "[nltk_data] Downloading package punkt to /home/roque/nltk_data...\n",
      "[nltk_data]   Package punkt is already up-to-date!\n",
      "[nltk_data] Downloading package wordnet to /home/roque/nltk_data...\n",
      "[nltk_data]   Package wordnet is already up-to-date!\n",
      "[nltk_data] Downloading package omw-1.4 to /home/roque/nltk_data...\n",
      "[nltk_data]   Package omw-1.4 is already up-to-date!\n",
      "[nltk_data] Downloading package punkt to /home/roque/nltk_data...\n",
      "[nltk_data]   Package punkt is already up-to-date!\n",
      "[nltk_data] Downloading package wordnet to /home/roque/nltk_data...\n",
      "[nltk_data]   Package wordnet is already up-to-date!\n",
      "[nltk_data] Downloading package omw-1.4 to /home/roque/nltk_data...\n",
      "[nltk_data]   Package omw-1.4 is already up-to-date!\n",
      "[nltk_data] Downloading package punkt to /home/roque/nltk_data...\n",
      "[nltk_data]   Package punkt is already up-to-date!\n",
      "[nltk_data] Downloading package wordnet to /home/roque/nltk_data...\n",
      "[nltk_data]   Package wordnet is already up-to-date!\n",
      "[nltk_data] Downloading package omw-1.4 to /home/roque/nltk_data...\n",
      "[nltk_data]   Package omw-1.4 is already up-to-date!\n",
      "[nltk_data] Downloading package punkt to /home/roque/nltk_data...\n",
      "[nltk_data]   Package punkt is already up-to-date!\n",
      "[nltk_data] Downloading package wordnet to /home/roque/nltk_data...\n",
      "[nltk_data]   Package wordnet is already up-to-date!\n",
      "[nltk_data] Downloading package omw-1.4 to /home/roque/nltk_data...\n",
      "[nltk_data]   Package omw-1.4 is already up-to-date!\n",
      "[nltk_data] Downloading package punkt to /home/roque/nltk_data...\n",
      "[nltk_data]   Package punkt is already up-to-date!\n",
      "[nltk_data] Downloading package wordnet to /home/roque/nltk_data...\n",
      "[nltk_data]   Package wordnet is already up-to-date!\n",
      "[nltk_data] Downloading package omw-1.4 to /home/roque/nltk_data...\n",
      "[nltk_data]   Package omw-1.4 is already up-to-date!\n",
      "[nltk_data] Downloading package punkt to /home/roque/nltk_data...\n",
      "[nltk_data]   Package punkt is already up-to-date!\n",
      "[nltk_data] Downloading package wordnet to /home/roque/nltk_data...\n",
      "[nltk_data]   Package wordnet is already up-to-date!\n",
      "[nltk_data] Downloading package omw-1.4 to /home/roque/nltk_data...\n",
      "[nltk_data]   Package omw-1.4 is already up-to-date!\n",
      "[nltk_data] Downloading package punkt to /home/roque/nltk_data...\n",
      "[nltk_data]   Package punkt is already up-to-date!\n",
      "[nltk_data] Downloading package wordnet to /home/roque/nltk_data...\n",
      "[nltk_data]   Package wordnet is already up-to-date!\n",
      "[nltk_data] Downloading package omw-1.4 to /home/roque/nltk_data...\n",
      "[nltk_data]   Package omw-1.4 is already up-to-date!\n",
      "[nltk_data] Downloading package punkt to /home/roque/nltk_data...\n",
      "[nltk_data]   Package punkt is already up-to-date!\n",
      "[nltk_data] Downloading package wordnet to /home/roque/nltk_data...\n",
      "[nltk_data]   Package wordnet is already up-to-date!\n",
      "[nltk_data] Downloading package omw-1.4 to /home/roque/nltk_data...\n",
      "[nltk_data]   Package omw-1.4 is already up-to-date!\n",
      "[nltk_data] Downloading package punkt to /home/roque/nltk_data...\n",
      "[nltk_data]   Package punkt is already up-to-date!\n",
      "[nltk_data] Downloading package wordnet to /home/roque/nltk_data...\n",
      "[nltk_data]   Package wordnet is already up-to-date!\n",
      "[nltk_data] Downloading package omw-1.4 to /home/roque/nltk_data...\n",
      "[nltk_data]   Package omw-1.4 is already up-to-date!\n",
      "[nltk_data] Downloading package punkt to /home/roque/nltk_data...\n",
      "[nltk_data]   Package punkt is already up-to-date!\n",
      "[nltk_data] Downloading package wordnet to /home/roque/nltk_data...\n",
      "[nltk_data]   Package wordnet is already up-to-date!\n",
      "[nltk_data] Downloading package omw-1.4 to /home/roque/nltk_data...\n",
      "[nltk_data]   Package omw-1.4 is already up-to-date!\n",
      "[nltk_data] Downloading package punkt to /home/roque/nltk_data...\n",
      "[nltk_data]   Package punkt is already up-to-date!\n",
      "[nltk_data] Downloading package wordnet to /home/roque/nltk_data...\n",
      "[nltk_data]   Package wordnet is already up-to-date!\n",
      "[nltk_data] Downloading package omw-1.4 to /home/roque/nltk_data...\n",
      "[nltk_data]   Package omw-1.4 is already up-to-date!\n",
      "[nltk_data] Downloading package punkt to /home/roque/nltk_data...\n",
      "[nltk_data]   Package punkt is already up-to-date!\n",
      "[nltk_data] Downloading package wordnet to /home/roque/nltk_data...\n",
      "[nltk_data]   Package wordnet is already up-to-date!\n",
      "[nltk_data] Downloading package omw-1.4 to /home/roque/nltk_data...\n",
      "[nltk_data]   Package omw-1.4 is already up-to-date!\n",
      "[nltk_data] Downloading package punkt to /home/roque/nltk_data...\n",
      "[nltk_data]   Package punkt is already up-to-date!\n",
      "[nltk_data] Downloading package wordnet to /home/roque/nltk_data...\n",
      "[nltk_data]   Package wordnet is already up-to-date!\n",
      "[nltk_data] Downloading package omw-1.4 to /home/roque/nltk_data...\n",
      "[nltk_data]   Package omw-1.4 is already up-to-date!\n",
      "[nltk_data] Downloading package punkt to /home/roque/nltk_data...\n",
      "[nltk_data]   Package punkt is already up-to-date!\n",
      "[nltk_data] Downloading package wordnet to /home/roque/nltk_data...\n",
      "[nltk_data]   Package wordnet is already up-to-date!\n",
      "[nltk_data] Downloading package omw-1.4 to /home/roque/nltk_data...\n",
      "[nltk_data]   Package omw-1.4 is already up-to-date!\n",
      "[nltk_data] Downloading package punkt to /home/roque/nltk_data...\n",
      "[nltk_data]   Package punkt is already up-to-date!\n",
      "[nltk_data] Downloading package wordnet to /home/roque/nltk_data...\n",
      "[nltk_data]   Package wordnet is already up-to-date!\n",
      "[nltk_data] Downloading package omw-1.4 to /home/roque/nltk_data...\n",
      "[nltk_data]   Package omw-1.4 is already up-to-date!\n",
      "[nltk_data] Downloading package punkt to /home/roque/nltk_data...\n",
      "[nltk_data]   Package punkt is already up-to-date!\n",
      "[nltk_data] Downloading package wordnet to /home/roque/nltk_data...\n",
      "[nltk_data]   Package wordnet is already up-to-date!\n",
      "[nltk_data] Downloading package omw-1.4 to /home/roque/nltk_data...\n",
      "[nltk_data]   Package omw-1.4 is already up-to-date!\n",
      "[nltk_data] Downloading package punkt to /home/roque/nltk_data...\n",
      "[nltk_data]   Package punkt is already up-to-date!\n",
      "[nltk_data] Downloading package wordnet to /home/roque/nltk_data...\n",
      "[nltk_data]   Package wordnet is already up-to-date!\n",
      "[nltk_data] Downloading package omw-1.4 to /home/roque/nltk_data...\n",
      "[nltk_data]   Package omw-1.4 is already up-to-date!\n",
      "[nltk_data] Downloading package punkt to /home/roque/nltk_data...\n",
      "[nltk_data]   Package punkt is already up-to-date!\n",
      "[nltk_data] Downloading package wordnet to /home/roque/nltk_data...\n",
      "[nltk_data]   Package wordnet is already up-to-date!\n",
      "[nltk_data] Downloading package omw-1.4 to /home/roque/nltk_data...\n",
      "[nltk_data]   Package omw-1.4 is already up-to-date!\n",
      "[nltk_data] Downloading package punkt to /home/roque/nltk_data...\n",
      "[nltk_data]   Package punkt is already up-to-date!\n",
      "[nltk_data] Downloading package wordnet to /home/roque/nltk_data...\n",
      "[nltk_data]   Package wordnet is already up-to-date!\n",
      "[nltk_data] Downloading package omw-1.4 to /home/roque/nltk_data...\n",
      "[nltk_data]   Package omw-1.4 is already up-to-date!\n",
      "[nltk_data] Downloading package punkt to /home/roque/nltk_data...\n",
      "[nltk_data]   Package punkt is already up-to-date!\n",
      "[nltk_data] Downloading package wordnet to /home/roque/nltk_data...\n",
      "[nltk_data]   Package wordnet is already up-to-date!\n",
      "[nltk_data] Downloading package omw-1.4 to /home/roque/nltk_data...\n",
      "[nltk_data]   Package omw-1.4 is already up-to-date!\n",
      "[nltk_data] Downloading package punkt to /home/roque/nltk_data...\n",
      "[nltk_data]   Package punkt is already up-to-date!\n",
      "[nltk_data] Downloading package wordnet to /home/roque/nltk_data...\n",
      "[nltk_data]   Package wordnet is already up-to-date!\n",
      "[nltk_data] Downloading package omw-1.4 to /home/roque/nltk_data...\n",
      "[nltk_data]   Package omw-1.4 is already up-to-date!\n",
      "[nltk_data] Downloading package punkt to /home/roque/nltk_data...\n",
      "[nltk_data]   Package punkt is already up-to-date!\n",
      "[nltk_data] Downloading package wordnet to /home/roque/nltk_data...\n",
      "[nltk_data]   Package wordnet is already up-to-date!\n",
      "[nltk_data] Downloading package omw-1.4 to /home/roque/nltk_data...\n",
      "[nltk_data]   Package omw-1.4 is already up-to-date!\n",
      "[nltk_data] Downloading package punkt to /home/roque/nltk_data...\n",
      "[nltk_data]   Package punkt is already up-to-date!\n",
      "[nltk_data] Downloading package wordnet to /home/roque/nltk_data...\n",
      "[nltk_data]   Package wordnet is already up-to-date!\n",
      "[nltk_data] Downloading package omw-1.4 to /home/roque/nltk_data...\n",
      "[nltk_data]   Package omw-1.4 is already up-to-date!\n",
      "[nltk_data] Downloading package punkt to /home/roque/nltk_data...\n",
      "[nltk_data]   Package punkt is already up-to-date!\n",
      "[nltk_data] Downloading package wordnet to /home/roque/nltk_data...\n",
      "[nltk_data]   Package wordnet is already up-to-date!\n",
      "[nltk_data] Downloading package omw-1.4 to /home/roque/nltk_data...\n",
      "[nltk_data]   Package omw-1.4 is already up-to-date!\n",
      "[nltk_data] Downloading package punkt to /home/roque/nltk_data...\n",
      "[nltk_data]   Package punkt is already up-to-date!\n",
      "[nltk_data] Downloading package wordnet to /home/roque/nltk_data...\n",
      "[nltk_data]   Package wordnet is already up-to-date!\n",
      "[nltk_data] Downloading package omw-1.4 to /home/roque/nltk_data...\n",
      "[nltk_data]   Package omw-1.4 is already up-to-date!\n",
      "[nltk_data] Downloading package punkt to /home/roque/nltk_data...\n",
      "[nltk_data]   Package punkt is already up-to-date!\n",
      "[nltk_data] Downloading package wordnet to /home/roque/nltk_data...\n",
      "[nltk_data]   Package wordnet is already up-to-date!\n",
      "[nltk_data] Downloading package omw-1.4 to /home/roque/nltk_data...\n",
      "[nltk_data]   Package omw-1.4 is already up-to-date!\n",
      "[nltk_data] Downloading package punkt to /home/roque/nltk_data...\n",
      "[nltk_data]   Package punkt is already up-to-date!\n",
      "[nltk_data] Downloading package wordnet to /home/roque/nltk_data...\n",
      "[nltk_data]   Package wordnet is already up-to-date!\n",
      "[nltk_data] Downloading package omw-1.4 to /home/roque/nltk_data...\n",
      "[nltk_data]   Package omw-1.4 is already up-to-date!\n",
      "[nltk_data] Downloading package punkt to /home/roque/nltk_data...\n",
      "[nltk_data]   Package punkt is already up-to-date!\n",
      "[nltk_data] Downloading package wordnet to /home/roque/nltk_data...\n",
      "[nltk_data]   Package wordnet is already up-to-date!\n",
      "[nltk_data] Downloading package omw-1.4 to /home/roque/nltk_data...\n",
      "[nltk_data]   Package omw-1.4 is already up-to-date!\n",
      "[nltk_data] Downloading package punkt to /home/roque/nltk_data...\n",
      "[nltk_data]   Package punkt is already up-to-date!\n",
      "[nltk_data] Downloading package wordnet to /home/roque/nltk_data...\n",
      "[nltk_data]   Package wordnet is already up-to-date!\n",
      "[nltk_data] Downloading package omw-1.4 to /home/roque/nltk_data...\n",
      "[nltk_data]   Package omw-1.4 is already up-to-date!\n",
      "[nltk_data] Downloading package punkt to /home/roque/nltk_data...\n",
      "[nltk_data]   Package punkt is already up-to-date!\n",
      "[nltk_data] Downloading package wordnet to /home/roque/nltk_data...\n",
      "[nltk_data]   Package wordnet is already up-to-date!\n",
      "[nltk_data] Downloading package omw-1.4 to /home/roque/nltk_data...\n",
      "[nltk_data]   Package omw-1.4 is already up-to-date!\n",
      "[nltk_data] Downloading package punkt to /home/roque/nltk_data...\n",
      "[nltk_data]   Package punkt is already up-to-date!\n",
      "[nltk_data] Downloading package wordnet to /home/roque/nltk_data...\n",
      "[nltk_data]   Package wordnet is already up-to-date!\n",
      "[nltk_data] Downloading package omw-1.4 to /home/roque/nltk_data...\n",
      "[nltk_data]   Package omw-1.4 is already up-to-date!\n",
      "[nltk_data] Downloading package punkt to /home/roque/nltk_data...\n",
      "[nltk_data]   Package punkt is already up-to-date!\n",
      "[nltk_data] Downloading package wordnet to /home/roque/nltk_data...\n",
      "[nltk_data]   Package wordnet is already up-to-date!\n",
      "[nltk_data] Downloading package omw-1.4 to /home/roque/nltk_data...\n",
      "[nltk_data]   Package omw-1.4 is already up-to-date!\n",
      "[nltk_data] Downloading package punkt to /home/roque/nltk_data...\n",
      "[nltk_data]   Package punkt is already up-to-date!\n",
      "[nltk_data] Downloading package wordnet to /home/roque/nltk_data...\n",
      "[nltk_data]   Package wordnet is already up-to-date!\n",
      "[nltk_data] Downloading package omw-1.4 to /home/roque/nltk_data...\n",
      "[nltk_data]   Package omw-1.4 is already up-to-date!\n",
      "[nltk_data] Downloading package punkt to /home/roque/nltk_data...\n",
      "[nltk_data]   Package punkt is already up-to-date!\n",
      "[nltk_data] Downloading package wordnet to /home/roque/nltk_data...\n",
      "[nltk_data]   Package wordnet is already up-to-date!\n",
      "[nltk_data] Downloading package omw-1.4 to /home/roque/nltk_data...\n",
      "[nltk_data]   Package omw-1.4 is already up-to-date!\n",
      "[nltk_data] Downloading package punkt to /home/roque/nltk_data...\n",
      "[nltk_data]   Package punkt is already up-to-date!\n",
      "[nltk_data] Downloading package wordnet to /home/roque/nltk_data...\n",
      "[nltk_data]   Package wordnet is already up-to-date!\n",
      "[nltk_data] Downloading package omw-1.4 to /home/roque/nltk_data...\n",
      "[nltk_data]   Package omw-1.4 is already up-to-date!\n",
      "[nltk_data] Downloading package punkt to /home/roque/nltk_data...\n",
      "[nltk_data]   Package punkt is already up-to-date!\n",
      "[nltk_data] Downloading package wordnet to /home/roque/nltk_data...\n",
      "[nltk_data]   Package wordnet is already up-to-date!\n",
      "[nltk_data] Downloading package omw-1.4 to /home/roque/nltk_data...\n",
      "[nltk_data]   Package omw-1.4 is already up-to-date!\n",
      "[nltk_data] Downloading package punkt to /home/roque/nltk_data...\n",
      "[nltk_data]   Package punkt is already up-to-date!\n",
      "[nltk_data] Downloading package wordnet to /home/roque/nltk_data...\n",
      "[nltk_data]   Package wordnet is already up-to-date!\n"
     ]
    },
    {
     "name": "stderr",
     "output_type": "stream",
     "text": [
      "[nltk_data] Downloading package omw-1.4 to /home/roque/nltk_data...\n",
      "[nltk_data]   Package omw-1.4 is already up-to-date!\n",
      "[nltk_data] Downloading package punkt to /home/roque/nltk_data...\n",
      "[nltk_data]   Package punkt is already up-to-date!\n",
      "[nltk_data] Downloading package wordnet to /home/roque/nltk_data...\n",
      "[nltk_data]   Package wordnet is already up-to-date!\n",
      "[nltk_data] Downloading package omw-1.4 to /home/roque/nltk_data...\n",
      "[nltk_data]   Package omw-1.4 is already up-to-date!\n",
      "[nltk_data] Downloading package punkt to /home/roque/nltk_data...\n",
      "[nltk_data]   Package punkt is already up-to-date!\n",
      "[nltk_data] Downloading package wordnet to /home/roque/nltk_data...\n",
      "[nltk_data]   Package wordnet is already up-to-date!\n",
      "[nltk_data] Downloading package omw-1.4 to /home/roque/nltk_data...\n",
      "[nltk_data]   Package omw-1.4 is already up-to-date!\n",
      "[nltk_data] Downloading package punkt to /home/roque/nltk_data...\n",
      "[nltk_data]   Package punkt is already up-to-date!\n",
      "[nltk_data] Downloading package wordnet to /home/roque/nltk_data...\n",
      "[nltk_data]   Package wordnet is already up-to-date!\n",
      "[nltk_data] Downloading package omw-1.4 to /home/roque/nltk_data...\n",
      "[nltk_data]   Package omw-1.4 is already up-to-date!\n",
      "[nltk_data] Downloading package punkt to /home/roque/nltk_data...\n",
      "[nltk_data]   Package punkt is already up-to-date!\n",
      "[nltk_data] Downloading package wordnet to /home/roque/nltk_data...\n",
      "[nltk_data]   Package wordnet is already up-to-date!\n",
      "[nltk_data] Downloading package omw-1.4 to /home/roque/nltk_data...\n",
      "[nltk_data]   Package omw-1.4 is already up-to-date!\n",
      "[nltk_data] Downloading package punkt to /home/roque/nltk_data...\n",
      "[nltk_data]   Package punkt is already up-to-date!\n",
      "[nltk_data] Downloading package wordnet to /home/roque/nltk_data...\n",
      "[nltk_data]   Package wordnet is already up-to-date!\n",
      "[nltk_data] Downloading package omw-1.4 to /home/roque/nltk_data...\n",
      "[nltk_data]   Package omw-1.4 is already up-to-date!\n",
      "[nltk_data] Downloading package punkt to /home/roque/nltk_data...\n",
      "[nltk_data]   Package punkt is already up-to-date!\n",
      "[nltk_data] Downloading package wordnet to /home/roque/nltk_data...\n",
      "[nltk_data]   Package wordnet is already up-to-date!\n",
      "[nltk_data] Downloading package omw-1.4 to /home/roque/nltk_data...\n",
      "[nltk_data]   Package omw-1.4 is already up-to-date!\n",
      "[nltk_data] Downloading package punkt to /home/roque/nltk_data...\n",
      "[nltk_data]   Package punkt is already up-to-date!\n",
      "[nltk_data] Downloading package wordnet to /home/roque/nltk_data...\n",
      "[nltk_data]   Package wordnet is already up-to-date!\n",
      "[nltk_data] Downloading package omw-1.4 to /home/roque/nltk_data...\n",
      "[nltk_data]   Package omw-1.4 is already up-to-date!\n",
      "[nltk_data] Downloading package punkt to /home/roque/nltk_data...\n",
      "[nltk_data]   Package punkt is already up-to-date!\n",
      "[nltk_data] Downloading package wordnet to /home/roque/nltk_data...\n",
      "[nltk_data]   Package wordnet is already up-to-date!\n",
      "[nltk_data] Downloading package omw-1.4 to /home/roque/nltk_data...\n",
      "[nltk_data]   Package omw-1.4 is already up-to-date!\n",
      "[nltk_data] Downloading package punkt to /home/roque/nltk_data...\n",
      "[nltk_data]   Package punkt is already up-to-date!\n",
      "[nltk_data] Downloading package wordnet to /home/roque/nltk_data...\n",
      "[nltk_data]   Package wordnet is already up-to-date!\n",
      "[nltk_data] Downloading package omw-1.4 to /home/roque/nltk_data...\n",
      "[nltk_data]   Package omw-1.4 is already up-to-date!\n",
      "[nltk_data] Downloading package punkt to /home/roque/nltk_data...\n",
      "[nltk_data]   Package punkt is already up-to-date!\n",
      "[nltk_data] Downloading package wordnet to /home/roque/nltk_data...\n",
      "[nltk_data]   Package wordnet is already up-to-date!\n",
      "[nltk_data] Downloading package omw-1.4 to /home/roque/nltk_data...\n",
      "[nltk_data]   Package omw-1.4 is already up-to-date!\n",
      "[nltk_data] Downloading package punkt to /home/roque/nltk_data...\n",
      "[nltk_data]   Package punkt is already up-to-date!\n",
      "[nltk_data] Downloading package wordnet to /home/roque/nltk_data...\n",
      "[nltk_data]   Package wordnet is already up-to-date!\n",
      "[nltk_data] Downloading package omw-1.4 to /home/roque/nltk_data...\n",
      "[nltk_data]   Package omw-1.4 is already up-to-date!\n",
      "[nltk_data] Downloading package punkt to /home/roque/nltk_data...\n",
      "[nltk_data]   Package punkt is already up-to-date!\n",
      "[nltk_data] Downloading package wordnet to /home/roque/nltk_data...\n",
      "[nltk_data]   Package wordnet is already up-to-date!\n",
      "[nltk_data] Downloading package omw-1.4 to /home/roque/nltk_data...\n",
      "[nltk_data]   Package omw-1.4 is already up-to-date!\n",
      "[nltk_data] Downloading package punkt to /home/roque/nltk_data...\n",
      "[nltk_data]   Package punkt is already up-to-date!\n",
      "[nltk_data] Downloading package wordnet to /home/roque/nltk_data...\n",
      "[nltk_data]   Package wordnet is already up-to-date!\n",
      "[nltk_data] Downloading package omw-1.4 to /home/roque/nltk_data...\n",
      "[nltk_data]   Package omw-1.4 is already up-to-date!\n",
      "[nltk_data] Downloading package punkt to /home/roque/nltk_data...\n",
      "[nltk_data]   Package punkt is already up-to-date!\n",
      "[nltk_data] Downloading package wordnet to /home/roque/nltk_data...\n",
      "[nltk_data]   Package wordnet is already up-to-date!\n",
      "[nltk_data] Downloading package omw-1.4 to /home/roque/nltk_data...\n",
      "[nltk_data]   Package omw-1.4 is already up-to-date!\n",
      "[nltk_data] Downloading package punkt to /home/roque/nltk_data...\n",
      "[nltk_data]   Package punkt is already up-to-date!\n",
      "[nltk_data] Downloading package wordnet to /home/roque/nltk_data...\n",
      "[nltk_data]   Package wordnet is already up-to-date!\n",
      "[nltk_data] Downloading package omw-1.4 to /home/roque/nltk_data...\n",
      "[nltk_data]   Package omw-1.4 is already up-to-date!\n",
      "[nltk_data] Downloading package punkt to /home/roque/nltk_data...\n",
      "[nltk_data]   Package punkt is already up-to-date!\n",
      "[nltk_data] Downloading package wordnet to /home/roque/nltk_data...\n",
      "[nltk_data]   Package wordnet is already up-to-date!\n",
      "[nltk_data] Downloading package omw-1.4 to /home/roque/nltk_data...\n",
      "[nltk_data]   Package omw-1.4 is already up-to-date!\n",
      "[nltk_data] Downloading package punkt to /home/roque/nltk_data...\n",
      "[nltk_data]   Package punkt is already up-to-date!\n",
      "[nltk_data] Downloading package wordnet to /home/roque/nltk_data...\n",
      "[nltk_data]   Package wordnet is already up-to-date!\n",
      "[nltk_data] Downloading package omw-1.4 to /home/roque/nltk_data...\n",
      "[nltk_data]   Package omw-1.4 is already up-to-date!\n",
      "[nltk_data] Downloading package punkt to /home/roque/nltk_data...\n",
      "[nltk_data]   Package punkt is already up-to-date!\n",
      "[nltk_data] Downloading package wordnet to /home/roque/nltk_data...\n",
      "[nltk_data]   Package wordnet is already up-to-date!\n",
      "[nltk_data] Downloading package omw-1.4 to /home/roque/nltk_data...\n",
      "[nltk_data]   Package omw-1.4 is already up-to-date!\n",
      "[nltk_data] Downloading package punkt to /home/roque/nltk_data...\n",
      "[nltk_data]   Package punkt is already up-to-date!\n",
      "[nltk_data] Downloading package wordnet to /home/roque/nltk_data...\n",
      "[nltk_data]   Package wordnet is already up-to-date!\n",
      "[nltk_data] Downloading package omw-1.4 to /home/roque/nltk_data...\n",
      "[nltk_data]   Package omw-1.4 is already up-to-date!\n",
      "[nltk_data] Downloading package punkt to /home/roque/nltk_data...\n",
      "[nltk_data]   Package punkt is already up-to-date!\n",
      "[nltk_data] Downloading package wordnet to /home/roque/nltk_data...\n",
      "[nltk_data]   Package wordnet is already up-to-date!\n",
      "[nltk_data] Downloading package omw-1.4 to /home/roque/nltk_data...\n",
      "[nltk_data]   Package omw-1.4 is already up-to-date!\n",
      "[nltk_data] Downloading package punkt to /home/roque/nltk_data...\n",
      "[nltk_data]   Package punkt is already up-to-date!\n",
      "[nltk_data] Downloading package wordnet to /home/roque/nltk_data...\n",
      "[nltk_data]   Package wordnet is already up-to-date!\n",
      "[nltk_data] Downloading package omw-1.4 to /home/roque/nltk_data...\n",
      "[nltk_data]   Package omw-1.4 is already up-to-date!\n",
      "[nltk_data] Downloading package punkt to /home/roque/nltk_data...\n",
      "[nltk_data]   Package punkt is already up-to-date!\n",
      "[nltk_data] Downloading package wordnet to /home/roque/nltk_data...\n",
      "[nltk_data]   Package wordnet is already up-to-date!\n",
      "[nltk_data] Downloading package omw-1.4 to /home/roque/nltk_data...\n",
      "[nltk_data]   Package omw-1.4 is already up-to-date!\n",
      "[nltk_data] Downloading package punkt to /home/roque/nltk_data...\n",
      "[nltk_data]   Package punkt is already up-to-date!\n",
      "[nltk_data] Downloading package wordnet to /home/roque/nltk_data...\n",
      "[nltk_data]   Package wordnet is already up-to-date!\n",
      "[nltk_data] Downloading package omw-1.4 to /home/roque/nltk_data...\n",
      "[nltk_data]   Package omw-1.4 is already up-to-date!\n",
      "[nltk_data] Downloading package punkt to /home/roque/nltk_data...\n",
      "[nltk_data]   Package punkt is already up-to-date!\n",
      "[nltk_data] Downloading package wordnet to /home/roque/nltk_data...\n",
      "[nltk_data]   Package wordnet is already up-to-date!\n",
      "[nltk_data] Downloading package omw-1.4 to /home/roque/nltk_data...\n",
      "[nltk_data]   Package omw-1.4 is already up-to-date!\n",
      "[nltk_data] Downloading package punkt to /home/roque/nltk_data...\n",
      "[nltk_data]   Package punkt is already up-to-date!\n",
      "[nltk_data] Downloading package wordnet to /home/roque/nltk_data...\n",
      "[nltk_data]   Package wordnet is already up-to-date!\n",
      "[nltk_data] Downloading package omw-1.4 to /home/roque/nltk_data...\n",
      "[nltk_data]   Package omw-1.4 is already up-to-date!\n",
      "[nltk_data] Downloading package punkt to /home/roque/nltk_data...\n",
      "[nltk_data]   Package punkt is already up-to-date!\n",
      "[nltk_data] Downloading package wordnet to /home/roque/nltk_data...\n",
      "[nltk_data]   Package wordnet is already up-to-date!\n",
      "[nltk_data] Downloading package omw-1.4 to /home/roque/nltk_data...\n",
      "[nltk_data]   Package omw-1.4 is already up-to-date!\n",
      "[nltk_data] Downloading package punkt to /home/roque/nltk_data...\n",
      "[nltk_data]   Package punkt is already up-to-date!\n",
      "[nltk_data] Downloading package wordnet to /home/roque/nltk_data...\n",
      "[nltk_data]   Package wordnet is already up-to-date!\n",
      "[nltk_data] Downloading package omw-1.4 to /home/roque/nltk_data...\n",
      "[nltk_data]   Package omw-1.4 is already up-to-date!\n",
      "[nltk_data] Downloading package punkt to /home/roque/nltk_data...\n",
      "[nltk_data]   Package punkt is already up-to-date!\n",
      "[nltk_data] Downloading package wordnet to /home/roque/nltk_data...\n",
      "[nltk_data]   Package wordnet is already up-to-date!\n",
      "[nltk_data] Downloading package omw-1.4 to /home/roque/nltk_data...\n",
      "[nltk_data]   Package omw-1.4 is already up-to-date!\n",
      "[nltk_data] Downloading package punkt to /home/roque/nltk_data...\n",
      "[nltk_data]   Package punkt is already up-to-date!\n",
      "[nltk_data] Downloading package wordnet to /home/roque/nltk_data...\n",
      "[nltk_data]   Package wordnet is already up-to-date!\n",
      "[nltk_data] Downloading package omw-1.4 to /home/roque/nltk_data...\n",
      "[nltk_data]   Package omw-1.4 is already up-to-date!\n",
      "[nltk_data] Downloading package punkt to /home/roque/nltk_data...\n",
      "[nltk_data]   Package punkt is already up-to-date!\n",
      "[nltk_data] Downloading package wordnet to /home/roque/nltk_data...\n",
      "[nltk_data]   Package wordnet is already up-to-date!\n",
      "[nltk_data] Downloading package omw-1.4 to /home/roque/nltk_data...\n",
      "[nltk_data]   Package omw-1.4 is already up-to-date!\n",
      "[nltk_data] Downloading package punkt to /home/roque/nltk_data...\n",
      "[nltk_data]   Package punkt is already up-to-date!\n",
      "[nltk_data] Downloading package wordnet to /home/roque/nltk_data...\n",
      "[nltk_data]   Package wordnet is already up-to-date!\n",
      "[nltk_data] Downloading package omw-1.4 to /home/roque/nltk_data...\n",
      "[nltk_data]   Package omw-1.4 is already up-to-date!\n",
      "[nltk_data] Downloading package punkt to /home/roque/nltk_data...\n",
      "[nltk_data]   Package punkt is already up-to-date!\n",
      "[nltk_data] Downloading package wordnet to /home/roque/nltk_data...\n",
      "[nltk_data]   Package wordnet is already up-to-date!\n",
      "[nltk_data] Downloading package omw-1.4 to /home/roque/nltk_data...\n",
      "[nltk_data]   Package omw-1.4 is already up-to-date!\n",
      "[nltk_data] Downloading package punkt to /home/roque/nltk_data...\n",
      "[nltk_data]   Package punkt is already up-to-date!\n",
      "[nltk_data] Downloading package wordnet to /home/roque/nltk_data...\n",
      "[nltk_data]   Package wordnet is already up-to-date!\n",
      "[nltk_data] Downloading package omw-1.4 to /home/roque/nltk_data...\n",
      "[nltk_data]   Package omw-1.4 is already up-to-date!\n",
      "[nltk_data] Downloading package punkt to /home/roque/nltk_data...\n",
      "[nltk_data]   Package punkt is already up-to-date!\n",
      "[nltk_data] Downloading package wordnet to /home/roque/nltk_data...\n",
      "[nltk_data]   Package wordnet is already up-to-date!\n",
      "[nltk_data] Downloading package omw-1.4 to /home/roque/nltk_data...\n",
      "[nltk_data]   Package omw-1.4 is already up-to-date!\n",
      "[nltk_data] Downloading package punkt to /home/roque/nltk_data...\n",
      "[nltk_data]   Package punkt is already up-to-date!\n",
      "[nltk_data] Downloading package wordnet to /home/roque/nltk_data...\n",
      "[nltk_data]   Package wordnet is already up-to-date!\n",
      "[nltk_data] Downloading package omw-1.4 to /home/roque/nltk_data...\n",
      "[nltk_data]   Package omw-1.4 is already up-to-date!\n",
      "[nltk_data] Downloading package punkt to /home/roque/nltk_data...\n",
      "[nltk_data]   Package punkt is already up-to-date!\n",
      "[nltk_data] Downloading package wordnet to /home/roque/nltk_data...\n",
      "[nltk_data]   Package wordnet is already up-to-date!\n",
      "[nltk_data] Downloading package omw-1.4 to /home/roque/nltk_data...\n",
      "[nltk_data]   Package omw-1.4 is already up-to-date!\n",
      "[nltk_data] Downloading package punkt to /home/roque/nltk_data...\n",
      "[nltk_data]   Package punkt is already up-to-date!\n",
      "[nltk_data] Downloading package wordnet to /home/roque/nltk_data...\n",
      "[nltk_data]   Package wordnet is already up-to-date!\n",
      "[nltk_data] Downloading package omw-1.4 to /home/roque/nltk_data...\n",
      "[nltk_data]   Package omw-1.4 is already up-to-date!\n",
      "[nltk_data] Downloading package punkt to /home/roque/nltk_data...\n",
      "[nltk_data]   Package punkt is already up-to-date!\n",
      "[nltk_data] Downloading package wordnet to /home/roque/nltk_data...\n",
      "[nltk_data]   Package wordnet is already up-to-date!\n",
      "[nltk_data] Downloading package omw-1.4 to /home/roque/nltk_data...\n"
     ]
    },
    {
     "name": "stderr",
     "output_type": "stream",
     "text": [
      "[nltk_data]   Package omw-1.4 is already up-to-date!\n",
      "[nltk_data] Downloading package punkt to /home/roque/nltk_data...\n",
      "[nltk_data]   Package punkt is already up-to-date!\n",
      "[nltk_data] Downloading package wordnet to /home/roque/nltk_data...\n",
      "[nltk_data]   Package wordnet is already up-to-date!\n",
      "[nltk_data] Downloading package omw-1.4 to /home/roque/nltk_data...\n",
      "[nltk_data]   Package omw-1.4 is already up-to-date!\n",
      "[nltk_data] Downloading package punkt to /home/roque/nltk_data...\n",
      "[nltk_data]   Package punkt is already up-to-date!\n",
      "[nltk_data] Downloading package wordnet to /home/roque/nltk_data...\n",
      "[nltk_data]   Package wordnet is already up-to-date!\n",
      "[nltk_data] Downloading package omw-1.4 to /home/roque/nltk_data...\n",
      "[nltk_data]   Package omw-1.4 is already up-to-date!\n",
      "[nltk_data] Downloading package punkt to /home/roque/nltk_data...\n",
      "[nltk_data]   Package punkt is already up-to-date!\n",
      "[nltk_data] Downloading package wordnet to /home/roque/nltk_data...\n",
      "[nltk_data]   Package wordnet is already up-to-date!\n",
      "[nltk_data] Downloading package omw-1.4 to /home/roque/nltk_data...\n",
      "[nltk_data]   Package omw-1.4 is already up-to-date!\n",
      "[nltk_data] Downloading package punkt to /home/roque/nltk_data...\n",
      "[nltk_data]   Package punkt is already up-to-date!\n",
      "[nltk_data] Downloading package wordnet to /home/roque/nltk_data...\n",
      "[nltk_data]   Package wordnet is already up-to-date!\n",
      "[nltk_data] Downloading package omw-1.4 to /home/roque/nltk_data...\n",
      "[nltk_data]   Package omw-1.4 is already up-to-date!\n",
      "[nltk_data] Downloading package punkt to /home/roque/nltk_data...\n",
      "[nltk_data]   Package punkt is already up-to-date!\n",
      "[nltk_data] Downloading package wordnet to /home/roque/nltk_data...\n",
      "[nltk_data]   Package wordnet is already up-to-date!\n",
      "[nltk_data] Downloading package omw-1.4 to /home/roque/nltk_data...\n",
      "[nltk_data]   Package omw-1.4 is already up-to-date!\n",
      "[nltk_data] Downloading package punkt to /home/roque/nltk_data...\n",
      "[nltk_data]   Package punkt is already up-to-date!\n",
      "[nltk_data] Downloading package wordnet to /home/roque/nltk_data...\n",
      "[nltk_data]   Package wordnet is already up-to-date!\n",
      "[nltk_data] Downloading package omw-1.4 to /home/roque/nltk_data...\n",
      "[nltk_data]   Package omw-1.4 is already up-to-date!\n",
      "[nltk_data] Downloading package punkt to /home/roque/nltk_data...\n",
      "[nltk_data]   Package punkt is already up-to-date!\n",
      "[nltk_data] Downloading package wordnet to /home/roque/nltk_data...\n",
      "[nltk_data]   Package wordnet is already up-to-date!\n",
      "[nltk_data] Downloading package omw-1.4 to /home/roque/nltk_data...\n",
      "[nltk_data]   Package omw-1.4 is already up-to-date!\n",
      "[nltk_data] Downloading package punkt to /home/roque/nltk_data...\n",
      "[nltk_data]   Package punkt is already up-to-date!\n",
      "[nltk_data] Downloading package wordnet to /home/roque/nltk_data...\n",
      "[nltk_data]   Package wordnet is already up-to-date!\n",
      "[nltk_data] Downloading package omw-1.4 to /home/roque/nltk_data...\n",
      "[nltk_data]   Package omw-1.4 is already up-to-date!\n",
      "[nltk_data] Downloading package punkt to /home/roque/nltk_data...\n",
      "[nltk_data]   Package punkt is already up-to-date!\n",
      "[nltk_data] Downloading package wordnet to /home/roque/nltk_data...\n",
      "[nltk_data]   Package wordnet is already up-to-date!\n",
      "[nltk_data] Downloading package omw-1.4 to /home/roque/nltk_data...\n",
      "[nltk_data]   Package omw-1.4 is already up-to-date!\n",
      "[nltk_data] Downloading package punkt to /home/roque/nltk_data...\n",
      "[nltk_data]   Package punkt is already up-to-date!\n",
      "[nltk_data] Downloading package wordnet to /home/roque/nltk_data...\n",
      "[nltk_data]   Package wordnet is already up-to-date!\n",
      "[nltk_data] Downloading package omw-1.4 to /home/roque/nltk_data...\n",
      "[nltk_data]   Package omw-1.4 is already up-to-date!\n",
      "[nltk_data] Downloading package punkt to /home/roque/nltk_data...\n",
      "[nltk_data]   Package punkt is already up-to-date!\n",
      "[nltk_data] Downloading package wordnet to /home/roque/nltk_data...\n",
      "[nltk_data]   Package wordnet is already up-to-date!\n",
      "[nltk_data] Downloading package omw-1.4 to /home/roque/nltk_data...\n",
      "[nltk_data]   Package omw-1.4 is already up-to-date!\n",
      "[nltk_data] Downloading package punkt to /home/roque/nltk_data...\n",
      "[nltk_data]   Package punkt is already up-to-date!\n",
      "[nltk_data] Downloading package wordnet to /home/roque/nltk_data...\n",
      "[nltk_data]   Package wordnet is already up-to-date!\n",
      "[nltk_data] Downloading package omw-1.4 to /home/roque/nltk_data...\n",
      "[nltk_data]   Package omw-1.4 is already up-to-date!\n",
      "[nltk_data] Downloading package punkt to /home/roque/nltk_data...\n",
      "[nltk_data]   Package punkt is already up-to-date!\n",
      "[nltk_data] Downloading package wordnet to /home/roque/nltk_data...\n",
      "[nltk_data]   Package wordnet is already up-to-date!\n",
      "[nltk_data] Downloading package omw-1.4 to /home/roque/nltk_data...\n",
      "[nltk_data]   Package omw-1.4 is already up-to-date!\n",
      "[nltk_data] Downloading package punkt to /home/roque/nltk_data...\n",
      "[nltk_data]   Package punkt is already up-to-date!\n",
      "[nltk_data] Downloading package wordnet to /home/roque/nltk_data...\n",
      "[nltk_data]   Package wordnet is already up-to-date!\n",
      "[nltk_data] Downloading package omw-1.4 to /home/roque/nltk_data...\n",
      "[nltk_data]   Package omw-1.4 is already up-to-date!\n",
      "[nltk_data] Downloading package punkt to /home/roque/nltk_data...\n",
      "[nltk_data]   Package punkt is already up-to-date!\n",
      "[nltk_data] Downloading package wordnet to /home/roque/nltk_data...\n",
      "[nltk_data]   Package wordnet is already up-to-date!\n",
      "[nltk_data] Downloading package omw-1.4 to /home/roque/nltk_data...\n",
      "[nltk_data]   Package omw-1.4 is already up-to-date!\n",
      "[nltk_data] Downloading package punkt to /home/roque/nltk_data...\n",
      "[nltk_data]   Package punkt is already up-to-date!\n",
      "[nltk_data] Downloading package wordnet to /home/roque/nltk_data...\n",
      "[nltk_data]   Package wordnet is already up-to-date!\n",
      "[nltk_data] Downloading package omw-1.4 to /home/roque/nltk_data...\n",
      "[nltk_data]   Package omw-1.4 is already up-to-date!\n",
      "[nltk_data] Downloading package punkt to /home/roque/nltk_data...\n",
      "[nltk_data]   Package punkt is already up-to-date!\n",
      "[nltk_data] Downloading package wordnet to /home/roque/nltk_data...\n",
      "[nltk_data]   Package wordnet is already up-to-date!\n",
      "[nltk_data] Downloading package omw-1.4 to /home/roque/nltk_data...\n",
      "[nltk_data]   Package omw-1.4 is already up-to-date!\n",
      "[nltk_data] Downloading package punkt to /home/roque/nltk_data...\n",
      "[nltk_data]   Package punkt is already up-to-date!\n",
      "[nltk_data] Downloading package wordnet to /home/roque/nltk_data...\n",
      "[nltk_data]   Package wordnet is already up-to-date!\n",
      "[nltk_data] Downloading package omw-1.4 to /home/roque/nltk_data...\n",
      "[nltk_data]   Package omw-1.4 is already up-to-date!\n",
      "[nltk_data] Downloading package punkt to /home/roque/nltk_data...\n",
      "[nltk_data]   Package punkt is already up-to-date!\n",
      "[nltk_data] Downloading package wordnet to /home/roque/nltk_data...\n",
      "[nltk_data]   Package wordnet is already up-to-date!\n",
      "[nltk_data] Downloading package omw-1.4 to /home/roque/nltk_data...\n",
      "[nltk_data]   Package omw-1.4 is already up-to-date!\n",
      "[nltk_data] Downloading package punkt to /home/roque/nltk_data...\n",
      "[nltk_data]   Package punkt is already up-to-date!\n",
      "[nltk_data] Downloading package wordnet to /home/roque/nltk_data...\n",
      "[nltk_data]   Package wordnet is already up-to-date!\n",
      "[nltk_data] Downloading package omw-1.4 to /home/roque/nltk_data...\n",
      "[nltk_data]   Package omw-1.4 is already up-to-date!\n",
      "[nltk_data] Downloading package punkt to /home/roque/nltk_data...\n",
      "[nltk_data]   Package punkt is already up-to-date!\n",
      "[nltk_data] Downloading package wordnet to /home/roque/nltk_data...\n",
      "[nltk_data]   Package wordnet is already up-to-date!\n",
      "[nltk_data] Downloading package omw-1.4 to /home/roque/nltk_data...\n",
      "[nltk_data]   Package omw-1.4 is already up-to-date!\n",
      "[nltk_data] Downloading package punkt to /home/roque/nltk_data...\n",
      "[nltk_data]   Package punkt is already up-to-date!\n",
      "[nltk_data] Downloading package wordnet to /home/roque/nltk_data...\n",
      "[nltk_data]   Package wordnet is already up-to-date!\n",
      "[nltk_data] Downloading package omw-1.4 to /home/roque/nltk_data...\n",
      "[nltk_data]   Package omw-1.4 is already up-to-date!\n",
      "[nltk_data] Downloading package punkt to /home/roque/nltk_data...\n",
      "[nltk_data]   Package punkt is already up-to-date!\n",
      "[nltk_data] Downloading package wordnet to /home/roque/nltk_data...\n",
      "[nltk_data]   Package wordnet is already up-to-date!\n",
      "[nltk_data] Downloading package omw-1.4 to /home/roque/nltk_data...\n",
      "[nltk_data]   Package omw-1.4 is already up-to-date!\n",
      "[nltk_data] Downloading package punkt to /home/roque/nltk_data...\n",
      "[nltk_data]   Package punkt is already up-to-date!\n",
      "[nltk_data] Downloading package wordnet to /home/roque/nltk_data...\n",
      "[nltk_data]   Package wordnet is already up-to-date!\n",
      "[nltk_data] Downloading package omw-1.4 to /home/roque/nltk_data...\n",
      "[nltk_data]   Package omw-1.4 is already up-to-date!\n",
      "[nltk_data] Downloading package punkt to /home/roque/nltk_data...\n",
      "[nltk_data]   Package punkt is already up-to-date!\n",
      "[nltk_data] Downloading package wordnet to /home/roque/nltk_data...\n",
      "[nltk_data]   Package wordnet is already up-to-date!\n",
      "[nltk_data] Downloading package omw-1.4 to /home/roque/nltk_data...\n",
      "[nltk_data]   Package omw-1.4 is already up-to-date!\n",
      "[nltk_data] Downloading package punkt to /home/roque/nltk_data...\n",
      "[nltk_data]   Package punkt is already up-to-date!\n",
      "[nltk_data] Downloading package wordnet to /home/roque/nltk_data...\n",
      "[nltk_data]   Package wordnet is already up-to-date!\n",
      "[nltk_data] Downloading package omw-1.4 to /home/roque/nltk_data...\n",
      "[nltk_data]   Package omw-1.4 is already up-to-date!\n",
      "[nltk_data] Downloading package punkt to /home/roque/nltk_data...\n",
      "[nltk_data]   Package punkt is already up-to-date!\n",
      "[nltk_data] Downloading package wordnet to /home/roque/nltk_data...\n",
      "[nltk_data]   Package wordnet is already up-to-date!\n",
      "[nltk_data] Downloading package omw-1.4 to /home/roque/nltk_data...\n",
      "[nltk_data]   Package omw-1.4 is already up-to-date!\n",
      "[nltk_data] Downloading package punkt to /home/roque/nltk_data...\n",
      "[nltk_data]   Package punkt is already up-to-date!\n",
      "[nltk_data] Downloading package wordnet to /home/roque/nltk_data...\n",
      "[nltk_data]   Package wordnet is already up-to-date!\n",
      "[nltk_data] Downloading package omw-1.4 to /home/roque/nltk_data...\n",
      "[nltk_data]   Package omw-1.4 is already up-to-date!\n",
      "[nltk_data] Downloading package punkt to /home/roque/nltk_data...\n",
      "[nltk_data]   Package punkt is already up-to-date!\n",
      "[nltk_data] Downloading package wordnet to /home/roque/nltk_data...\n",
      "[nltk_data]   Package wordnet is already up-to-date!\n",
      "[nltk_data] Downloading package omw-1.4 to /home/roque/nltk_data...\n",
      "[nltk_data]   Package omw-1.4 is already up-to-date!\n",
      "[nltk_data] Downloading package punkt to /home/roque/nltk_data...\n",
      "[nltk_data]   Package punkt is already up-to-date!\n",
      "[nltk_data] Downloading package wordnet to /home/roque/nltk_data...\n",
      "[nltk_data]   Package wordnet is already up-to-date!\n",
      "[nltk_data] Downloading package omw-1.4 to /home/roque/nltk_data...\n",
      "[nltk_data]   Package omw-1.4 is already up-to-date!\n",
      "[nltk_data] Downloading package punkt to /home/roque/nltk_data...\n",
      "[nltk_data]   Package punkt is already up-to-date!\n",
      "[nltk_data] Downloading package wordnet to /home/roque/nltk_data...\n",
      "[nltk_data]   Package wordnet is already up-to-date!\n",
      "[nltk_data] Downloading package omw-1.4 to /home/roque/nltk_data...\n",
      "[nltk_data]   Package omw-1.4 is already up-to-date!\n",
      "[nltk_data] Downloading package punkt to /home/roque/nltk_data...\n",
      "[nltk_data]   Package punkt is already up-to-date!\n",
      "[nltk_data] Downloading package wordnet to /home/roque/nltk_data...\n",
      "[nltk_data]   Package wordnet is already up-to-date!\n",
      "[nltk_data] Downloading package omw-1.4 to /home/roque/nltk_data...\n",
      "[nltk_data]   Package omw-1.4 is already up-to-date!\n"
     ]
    },
    {
     "name": "stderr",
     "output_type": "stream",
     "text": [
      "[nltk_data] Downloading package punkt to /home/roque/nltk_data...\n",
      "[nltk_data]   Package punkt is already up-to-date!\n",
      "[nltk_data] Downloading package wordnet to /home/roque/nltk_data...\n",
      "[nltk_data]   Package wordnet is already up-to-date!\n",
      "[nltk_data] Downloading package omw-1.4 to /home/roque/nltk_data...\n",
      "[nltk_data]   Package omw-1.4 is already up-to-date!\n",
      "[nltk_data] Downloading package punkt to /home/roque/nltk_data...\n",
      "[nltk_data]   Package punkt is already up-to-date!\n",
      "[nltk_data] Downloading package wordnet to /home/roque/nltk_data...\n",
      "[nltk_data]   Package wordnet is already up-to-date!\n",
      "[nltk_data] Downloading package omw-1.4 to /home/roque/nltk_data...\n",
      "[nltk_data]   Package omw-1.4 is already up-to-date!\n",
      "[nltk_data] Downloading package punkt to /home/roque/nltk_data...\n",
      "[nltk_data]   Package punkt is already up-to-date!\n",
      "[nltk_data] Downloading package wordnet to /home/roque/nltk_data...\n",
      "[nltk_data]   Package wordnet is already up-to-date!\n",
      "[nltk_data] Downloading package omw-1.4 to /home/roque/nltk_data...\n",
      "[nltk_data]   Package omw-1.4 is already up-to-date!\n",
      "[nltk_data] Downloading package punkt to /home/roque/nltk_data...\n",
      "[nltk_data]   Package punkt is already up-to-date!\n",
      "[nltk_data] Downloading package wordnet to /home/roque/nltk_data...\n",
      "[nltk_data]   Package wordnet is already up-to-date!\n",
      "[nltk_data] Downloading package omw-1.4 to /home/roque/nltk_data...\n",
      "[nltk_data]   Package omw-1.4 is already up-to-date!\n",
      "[nltk_data] Downloading package punkt to /home/roque/nltk_data...\n",
      "[nltk_data]   Package punkt is already up-to-date!\n",
      "[nltk_data] Downloading package wordnet to /home/roque/nltk_data...\n",
      "[nltk_data]   Package wordnet is already up-to-date!\n",
      "[nltk_data] Downloading package omw-1.4 to /home/roque/nltk_data...\n",
      "[nltk_data]   Package omw-1.4 is already up-to-date!\n",
      "[nltk_data] Downloading package punkt to /home/roque/nltk_data...\n",
      "[nltk_data]   Package punkt is already up-to-date!\n",
      "[nltk_data] Downloading package wordnet to /home/roque/nltk_data...\n",
      "[nltk_data]   Package wordnet is already up-to-date!\n",
      "[nltk_data] Downloading package omw-1.4 to /home/roque/nltk_data...\n",
      "[nltk_data]   Package omw-1.4 is already up-to-date!\n",
      "[nltk_data] Downloading package punkt to /home/roque/nltk_data...\n",
      "[nltk_data]   Package punkt is already up-to-date!\n",
      "[nltk_data] Downloading package wordnet to /home/roque/nltk_data...\n",
      "[nltk_data]   Package wordnet is already up-to-date!\n",
      "[nltk_data] Downloading package omw-1.4 to /home/roque/nltk_data...\n",
      "[nltk_data]   Package omw-1.4 is already up-to-date!\n",
      "[nltk_data] Downloading package punkt to /home/roque/nltk_data...\n",
      "[nltk_data]   Package punkt is already up-to-date!\n",
      "[nltk_data] Downloading package wordnet to /home/roque/nltk_data...\n",
      "[nltk_data]   Package wordnet is already up-to-date!\n",
      "[nltk_data] Downloading package omw-1.4 to /home/roque/nltk_data...\n",
      "[nltk_data]   Package omw-1.4 is already up-to-date!\n",
      "[nltk_data] Downloading package punkt to /home/roque/nltk_data...\n",
      "[nltk_data]   Package punkt is already up-to-date!\n",
      "[nltk_data] Downloading package wordnet to /home/roque/nltk_data...\n",
      "[nltk_data]   Package wordnet is already up-to-date!\n",
      "[nltk_data] Downloading package omw-1.4 to /home/roque/nltk_data...\n",
      "[nltk_data]   Package omw-1.4 is already up-to-date!\n",
      "[nltk_data] Downloading package punkt to /home/roque/nltk_data...\n",
      "[nltk_data]   Package punkt is already up-to-date!\n",
      "[nltk_data] Downloading package wordnet to /home/roque/nltk_data...\n",
      "[nltk_data]   Package wordnet is already up-to-date!\n",
      "[nltk_data] Downloading package omw-1.4 to /home/roque/nltk_data...\n",
      "[nltk_data]   Package omw-1.4 is already up-to-date!\n",
      "[nltk_data] Downloading package punkt to /home/roque/nltk_data...\n",
      "[nltk_data]   Package punkt is already up-to-date!\n",
      "[nltk_data] Downloading package wordnet to /home/roque/nltk_data...\n",
      "[nltk_data]   Package wordnet is already up-to-date!\n",
      "[nltk_data] Downloading package omw-1.4 to /home/roque/nltk_data...\n",
      "[nltk_data]   Package omw-1.4 is already up-to-date!\n",
      "[nltk_data] Downloading package punkt to /home/roque/nltk_data...\n",
      "[nltk_data]   Package punkt is already up-to-date!\n",
      "[nltk_data] Downloading package wordnet to /home/roque/nltk_data...\n",
      "[nltk_data]   Package wordnet is already up-to-date!\n",
      "[nltk_data] Downloading package omw-1.4 to /home/roque/nltk_data...\n",
      "[nltk_data]   Package omw-1.4 is already up-to-date!\n",
      "[nltk_data] Downloading package punkt to /home/roque/nltk_data...\n",
      "[nltk_data]   Package punkt is already up-to-date!\n",
      "[nltk_data] Downloading package wordnet to /home/roque/nltk_data...\n",
      "[nltk_data]   Package wordnet is already up-to-date!\n",
      "[nltk_data] Downloading package omw-1.4 to /home/roque/nltk_data...\n",
      "[nltk_data]   Package omw-1.4 is already up-to-date!\n",
      "[nltk_data] Downloading package punkt to /home/roque/nltk_data...\n",
      "[nltk_data]   Package punkt is already up-to-date!\n",
      "[nltk_data] Downloading package wordnet to /home/roque/nltk_data...\n",
      "[nltk_data]   Package wordnet is already up-to-date!\n",
      "[nltk_data] Downloading package omw-1.4 to /home/roque/nltk_data...\n",
      "[nltk_data]   Package omw-1.4 is already up-to-date!\n",
      "[nltk_data] Downloading package punkt to /home/roque/nltk_data...\n",
      "[nltk_data]   Package punkt is already up-to-date!\n",
      "[nltk_data] Downloading package wordnet to /home/roque/nltk_data...\n",
      "[nltk_data]   Package wordnet is already up-to-date!\n",
      "[nltk_data] Downloading package omw-1.4 to /home/roque/nltk_data...\n",
      "[nltk_data]   Package omw-1.4 is already up-to-date!\n",
      "[nltk_data] Downloading package punkt to /home/roque/nltk_data...\n",
      "[nltk_data]   Package punkt is already up-to-date!\n",
      "[nltk_data] Downloading package wordnet to /home/roque/nltk_data...\n",
      "[nltk_data]   Package wordnet is already up-to-date!\n",
      "[nltk_data] Downloading package omw-1.4 to /home/roque/nltk_data...\n",
      "[nltk_data]   Package omw-1.4 is already up-to-date!\n",
      "[nltk_data] Downloading package punkt to /home/roque/nltk_data...\n",
      "[nltk_data]   Package punkt is already up-to-date!\n",
      "[nltk_data] Downloading package wordnet to /home/roque/nltk_data...\n",
      "[nltk_data]   Package wordnet is already up-to-date!\n",
      "[nltk_data] Downloading package omw-1.4 to /home/roque/nltk_data...\n",
      "[nltk_data]   Package omw-1.4 is already up-to-date!\n",
      "[nltk_data] Downloading package punkt to /home/roque/nltk_data...\n",
      "[nltk_data]   Package punkt is already up-to-date!\n",
      "[nltk_data] Downloading package wordnet to /home/roque/nltk_data...\n",
      "[nltk_data]   Package wordnet is already up-to-date!\n",
      "[nltk_data] Downloading package omw-1.4 to /home/roque/nltk_data...\n",
      "[nltk_data]   Package omw-1.4 is already up-to-date!\n",
      "[nltk_data] Downloading package punkt to /home/roque/nltk_data...\n",
      "[nltk_data]   Package punkt is already up-to-date!\n",
      "[nltk_data] Downloading package wordnet to /home/roque/nltk_data...\n",
      "[nltk_data]   Package wordnet is already up-to-date!\n",
      "[nltk_data] Downloading package omw-1.4 to /home/roque/nltk_data...\n",
      "[nltk_data]   Package omw-1.4 is already up-to-date!\n",
      "[nltk_data] Downloading package punkt to /home/roque/nltk_data...\n",
      "[nltk_data]   Package punkt is already up-to-date!\n",
      "[nltk_data] Downloading package wordnet to /home/roque/nltk_data...\n",
      "[nltk_data]   Package wordnet is already up-to-date!\n",
      "[nltk_data] Downloading package omw-1.4 to /home/roque/nltk_data...\n",
      "[nltk_data]   Package omw-1.4 is already up-to-date!\n",
      "[nltk_data] Downloading package punkt to /home/roque/nltk_data...\n",
      "[nltk_data]   Package punkt is already up-to-date!\n",
      "[nltk_data] Downloading package wordnet to /home/roque/nltk_data...\n",
      "[nltk_data]   Package wordnet is already up-to-date!\n",
      "[nltk_data] Downloading package omw-1.4 to /home/roque/nltk_data...\n",
      "[nltk_data]   Package omw-1.4 is already up-to-date!\n",
      "[nltk_data] Downloading package punkt to /home/roque/nltk_data...\n",
      "[nltk_data]   Package punkt is already up-to-date!\n",
      "[nltk_data] Downloading package wordnet to /home/roque/nltk_data...\n",
      "[nltk_data]   Package wordnet is already up-to-date!\n",
      "[nltk_data] Downloading package omw-1.4 to /home/roque/nltk_data...\n",
      "[nltk_data]   Package omw-1.4 is already up-to-date!\n",
      "[nltk_data] Downloading package punkt to /home/roque/nltk_data...\n",
      "[nltk_data]   Package punkt is already up-to-date!\n",
      "[nltk_data] Downloading package wordnet to /home/roque/nltk_data...\n",
      "[nltk_data]   Package wordnet is already up-to-date!\n",
      "[nltk_data] Downloading package omw-1.4 to /home/roque/nltk_data...\n",
      "[nltk_data]   Package omw-1.4 is already up-to-date!\n",
      "[nltk_data] Downloading package punkt to /home/roque/nltk_data...\n",
      "[nltk_data]   Package punkt is already up-to-date!\n",
      "[nltk_data] Downloading package wordnet to /home/roque/nltk_data...\n",
      "[nltk_data]   Package wordnet is already up-to-date!\n",
      "[nltk_data] Downloading package omw-1.4 to /home/roque/nltk_data...\n",
      "[nltk_data]   Package omw-1.4 is already up-to-date!\n",
      "[nltk_data] Downloading package punkt to /home/roque/nltk_data...\n",
      "[nltk_data]   Package punkt is already up-to-date!\n",
      "[nltk_data] Downloading package wordnet to /home/roque/nltk_data...\n",
      "[nltk_data]   Package wordnet is already up-to-date!\n",
      "[nltk_data] Downloading package omw-1.4 to /home/roque/nltk_data...\n",
      "[nltk_data]   Package omw-1.4 is already up-to-date!\n",
      "[nltk_data] Downloading package punkt to /home/roque/nltk_data...\n",
      "[nltk_data]   Package punkt is already up-to-date!\n",
      "[nltk_data] Downloading package wordnet to /home/roque/nltk_data...\n",
      "[nltk_data]   Package wordnet is already up-to-date!\n",
      "[nltk_data] Downloading package omw-1.4 to /home/roque/nltk_data...\n",
      "[nltk_data]   Package omw-1.4 is already up-to-date!\n",
      "[nltk_data] Downloading package punkt to /home/roque/nltk_data...\n",
      "[nltk_data]   Package punkt is already up-to-date!\n",
      "[nltk_data] Downloading package wordnet to /home/roque/nltk_data...\n",
      "[nltk_data]   Package wordnet is already up-to-date!\n",
      "[nltk_data] Downloading package omw-1.4 to /home/roque/nltk_data...\n",
      "[nltk_data]   Package omw-1.4 is already up-to-date!\n",
      "[nltk_data] Downloading package punkt to /home/roque/nltk_data...\n",
      "[nltk_data]   Package punkt is already up-to-date!\n",
      "[nltk_data] Downloading package wordnet to /home/roque/nltk_data...\n",
      "[nltk_data]   Package wordnet is already up-to-date!\n",
      "[nltk_data] Downloading package omw-1.4 to /home/roque/nltk_data...\n",
      "[nltk_data]   Package omw-1.4 is already up-to-date!\n",
      "[nltk_data] Downloading package punkt to /home/roque/nltk_data...\n",
      "[nltk_data]   Package punkt is already up-to-date!\n",
      "[nltk_data] Downloading package wordnet to /home/roque/nltk_data...\n",
      "[nltk_data]   Package wordnet is already up-to-date!\n",
      "[nltk_data] Downloading package omw-1.4 to /home/roque/nltk_data...\n",
      "[nltk_data]   Package omw-1.4 is already up-to-date!\n",
      "[nltk_data] Downloading package punkt to /home/roque/nltk_data...\n",
      "[nltk_data]   Package punkt is already up-to-date!\n",
      "[nltk_data] Downloading package wordnet to /home/roque/nltk_data...\n",
      "[nltk_data]   Package wordnet is already up-to-date!\n",
      "[nltk_data] Downloading package omw-1.4 to /home/roque/nltk_data...\n",
      "[nltk_data]   Package omw-1.4 is already up-to-date!\n",
      "[nltk_data] Downloading package punkt to /home/roque/nltk_data...\n",
      "[nltk_data]   Package punkt is already up-to-date!\n",
      "[nltk_data] Downloading package wordnet to /home/roque/nltk_data...\n",
      "[nltk_data]   Package wordnet is already up-to-date!\n",
      "[nltk_data] Downloading package omw-1.4 to /home/roque/nltk_data...\n",
      "[nltk_data]   Package omw-1.4 is already up-to-date!\n",
      "[nltk_data] Downloading package punkt to /home/roque/nltk_data...\n",
      "[nltk_data]   Package punkt is already up-to-date!\n",
      "[nltk_data] Downloading package wordnet to /home/roque/nltk_data...\n",
      "[nltk_data]   Package wordnet is already up-to-date!\n",
      "[nltk_data] Downloading package omw-1.4 to /home/roque/nltk_data...\n",
      "[nltk_data]   Package omw-1.4 is already up-to-date!\n",
      "[nltk_data] Downloading package punkt to /home/roque/nltk_data...\n",
      "[nltk_data]   Package punkt is already up-to-date!\n",
      "[nltk_data] Downloading package wordnet to /home/roque/nltk_data...\n",
      "[nltk_data]   Package wordnet is already up-to-date!\n",
      "[nltk_data] Downloading package omw-1.4 to /home/roque/nltk_data...\n",
      "[nltk_data]   Package omw-1.4 is already up-to-date!\n",
      "[nltk_data] Downloading package punkt to /home/roque/nltk_data...\n",
      "[nltk_data]   Package punkt is already up-to-date!\n",
      "[nltk_data] Downloading package wordnet to /home/roque/nltk_data...\n",
      "[nltk_data]   Package wordnet is already up-to-date!\n",
      "[nltk_data] Downloading package omw-1.4 to /home/roque/nltk_data...\n",
      "[nltk_data]   Package omw-1.4 is already up-to-date!\n",
      "[nltk_data] Downloading package punkt to /home/roque/nltk_data...\n",
      "[nltk_data]   Package punkt is already up-to-date!\n",
      "[nltk_data] Downloading package wordnet to /home/roque/nltk_data...\n",
      "[nltk_data]   Package wordnet is already up-to-date!\n",
      "[nltk_data] Downloading package omw-1.4 to /home/roque/nltk_data...\n",
      "[nltk_data]   Package omw-1.4 is already up-to-date!\n",
      "[nltk_data] Downloading package punkt to /home/roque/nltk_data...\n",
      "[nltk_data]   Package punkt is already up-to-date!\n",
      "[nltk_data] Downloading package wordnet to /home/roque/nltk_data...\n",
      "[nltk_data]   Package wordnet is already up-to-date!\n",
      "[nltk_data] Downloading package omw-1.4 to /home/roque/nltk_data...\n",
      "[nltk_data]   Package omw-1.4 is already up-to-date!\n",
      "[nltk_data] Downloading package punkt to /home/roque/nltk_data...\n",
      "[nltk_data]   Package punkt is already up-to-date!\n",
      "[nltk_data] Downloading package wordnet to /home/roque/nltk_data...\n",
      "[nltk_data]   Package wordnet is already up-to-date!\n",
      "[nltk_data] Downloading package omw-1.4 to /home/roque/nltk_data...\n",
      "[nltk_data]   Package omw-1.4 is already up-to-date!\n",
      "[nltk_data] Downloading package punkt to /home/roque/nltk_data...\n",
      "[nltk_data]   Package punkt is already up-to-date!\n",
      "[nltk_data] Downloading package wordnet to /home/roque/nltk_data...\n",
      "[nltk_data]   Package wordnet is already up-to-date!\n",
      "[nltk_data] Downloading package omw-1.4 to /home/roque/nltk_data...\n",
      "[nltk_data]   Package omw-1.4 is already up-to-date!\n",
      "[nltk_data] Downloading package punkt to /home/roque/nltk_data...\n",
      "[nltk_data]   Package punkt is already up-to-date!\n",
      "[nltk_data] Downloading package wordnet to /home/roque/nltk_data...\n",
      "[nltk_data]   Package wordnet is already up-to-date!\n",
      "[nltk_data] Downloading package omw-1.4 to /home/roque/nltk_data...\n",
      "[nltk_data]   Package omw-1.4 is already up-to-date!\n",
      "[nltk_data] Downloading package punkt to /home/roque/nltk_data...\n",
      "[nltk_data]   Package punkt is already up-to-date!\n",
      "[nltk_data] Downloading package wordnet to /home/roque/nltk_data...\n",
      "[nltk_data]   Package wordnet is already up-to-date!\n",
      "[nltk_data] Downloading package omw-1.4 to /home/roque/nltk_data...\n",
      "[nltk_data]   Package omw-1.4 is already up-to-date!\n",
      "[nltk_data] Downloading package punkt to /home/roque/nltk_data...\n",
      "[nltk_data]   Package punkt is already up-to-date!\n",
      "[nltk_data] Downloading package wordnet to /home/roque/nltk_data...\n",
      "[nltk_data]   Package wordnet is already up-to-date!\n",
      "[nltk_data] Downloading package omw-1.4 to /home/roque/nltk_data...\n",
      "[nltk_data]   Package omw-1.4 is already up-to-date!\n"
     ]
    },
    {
     "name": "stderr",
     "output_type": "stream",
     "text": [
      "[nltk_data] Downloading package punkt to /home/roque/nltk_data...\n",
      "[nltk_data]   Package punkt is already up-to-date!\n",
      "[nltk_data] Downloading package wordnet to /home/roque/nltk_data...\n",
      "[nltk_data]   Package wordnet is already up-to-date!\n",
      "[nltk_data] Downloading package omw-1.4 to /home/roque/nltk_data...\n",
      "[nltk_data]   Package omw-1.4 is already up-to-date!\n",
      "[nltk_data] Downloading package punkt to /home/roque/nltk_data...\n",
      "[nltk_data]   Package punkt is already up-to-date!\n",
      "[nltk_data] Downloading package wordnet to /home/roque/nltk_data...\n",
      "[nltk_data]   Package wordnet is already up-to-date!\n",
      "[nltk_data] Downloading package omw-1.4 to /home/roque/nltk_data...\n",
      "[nltk_data]   Package omw-1.4 is already up-to-date!\n",
      "[nltk_data] Downloading package punkt to /home/roque/nltk_data...\n",
      "[nltk_data]   Package punkt is already up-to-date!\n",
      "[nltk_data] Downloading package wordnet to /home/roque/nltk_data...\n",
      "[nltk_data]   Package wordnet is already up-to-date!\n",
      "[nltk_data] Downloading package omw-1.4 to /home/roque/nltk_data...\n",
      "[nltk_data]   Package omw-1.4 is already up-to-date!\n",
      "[nltk_data] Downloading package punkt to /home/roque/nltk_data...\n",
      "[nltk_data]   Package punkt is already up-to-date!\n",
      "[nltk_data] Downloading package wordnet to /home/roque/nltk_data...\n",
      "[nltk_data]   Package wordnet is already up-to-date!\n",
      "[nltk_data] Downloading package omw-1.4 to /home/roque/nltk_data...\n",
      "[nltk_data]   Package omw-1.4 is already up-to-date!\n",
      "[nltk_data] Downloading package punkt to /home/roque/nltk_data...\n",
      "[nltk_data]   Package punkt is already up-to-date!\n",
      "[nltk_data] Downloading package wordnet to /home/roque/nltk_data...\n",
      "[nltk_data]   Package wordnet is already up-to-date!\n",
      "[nltk_data] Downloading package omw-1.4 to /home/roque/nltk_data...\n",
      "[nltk_data]   Package omw-1.4 is already up-to-date!\n",
      "[nltk_data] Downloading package punkt to /home/roque/nltk_data...\n",
      "[nltk_data]   Package punkt is already up-to-date!\n",
      "[nltk_data] Downloading package wordnet to /home/roque/nltk_data...\n",
      "[nltk_data]   Package wordnet is already up-to-date!\n",
      "[nltk_data] Downloading package omw-1.4 to /home/roque/nltk_data...\n",
      "[nltk_data]   Package omw-1.4 is already up-to-date!\n",
      "[nltk_data] Downloading package punkt to /home/roque/nltk_data...\n",
      "[nltk_data]   Package punkt is already up-to-date!\n",
      "[nltk_data] Downloading package wordnet to /home/roque/nltk_data...\n",
      "[nltk_data]   Package wordnet is already up-to-date!\n",
      "[nltk_data] Downloading package omw-1.4 to /home/roque/nltk_data...\n",
      "[nltk_data]   Package omw-1.4 is already up-to-date!\n",
      "[nltk_data] Downloading package punkt to /home/roque/nltk_data...\n",
      "[nltk_data]   Package punkt is already up-to-date!\n",
      "[nltk_data] Downloading package wordnet to /home/roque/nltk_data...\n",
      "[nltk_data]   Package wordnet is already up-to-date!\n",
      "[nltk_data] Downloading package omw-1.4 to /home/roque/nltk_data...\n",
      "[nltk_data]   Package omw-1.4 is already up-to-date!\n",
      "[nltk_data] Downloading package punkt to /home/roque/nltk_data...\n",
      "[nltk_data]   Package punkt is already up-to-date!\n",
      "[nltk_data] Downloading package wordnet to /home/roque/nltk_data...\n",
      "[nltk_data]   Package wordnet is already up-to-date!\n",
      "[nltk_data] Downloading package omw-1.4 to /home/roque/nltk_data...\n",
      "[nltk_data]   Package omw-1.4 is already up-to-date!\n",
      "[nltk_data] Downloading package punkt to /home/roque/nltk_data...\n",
      "[nltk_data]   Package punkt is already up-to-date!\n",
      "[nltk_data] Downloading package wordnet to /home/roque/nltk_data...\n",
      "[nltk_data]   Package wordnet is already up-to-date!\n",
      "[nltk_data] Downloading package omw-1.4 to /home/roque/nltk_data...\n",
      "[nltk_data]   Package omw-1.4 is already up-to-date!\n",
      "[nltk_data] Downloading package punkt to /home/roque/nltk_data...\n",
      "[nltk_data]   Package punkt is already up-to-date!\n",
      "[nltk_data] Downloading package wordnet to /home/roque/nltk_data...\n",
      "[nltk_data]   Package wordnet is already up-to-date!\n",
      "[nltk_data] Downloading package omw-1.4 to /home/roque/nltk_data...\n",
      "[nltk_data]   Package omw-1.4 is already up-to-date!\n",
      "[nltk_data] Downloading package punkt to /home/roque/nltk_data...\n",
      "[nltk_data]   Package punkt is already up-to-date!\n",
      "[nltk_data] Downloading package wordnet to /home/roque/nltk_data...\n",
      "[nltk_data]   Package wordnet is already up-to-date!\n",
      "[nltk_data] Downloading package omw-1.4 to /home/roque/nltk_data...\n",
      "[nltk_data]   Package omw-1.4 is already up-to-date!\n",
      "[nltk_data] Downloading package punkt to /home/roque/nltk_data...\n",
      "[nltk_data]   Package punkt is already up-to-date!\n",
      "[nltk_data] Downloading package wordnet to /home/roque/nltk_data...\n",
      "[nltk_data]   Package wordnet is already up-to-date!\n",
      "[nltk_data] Downloading package omw-1.4 to /home/roque/nltk_data...\n",
      "[nltk_data]   Package omw-1.4 is already up-to-date!\n",
      "[nltk_data] Downloading package punkt to /home/roque/nltk_data...\n",
      "[nltk_data]   Package punkt is already up-to-date!\n",
      "[nltk_data] Downloading package wordnet to /home/roque/nltk_data...\n",
      "[nltk_data]   Package wordnet is already up-to-date!\n",
      "[nltk_data] Downloading package omw-1.4 to /home/roque/nltk_data...\n",
      "[nltk_data]   Package omw-1.4 is already up-to-date!\n",
      "[nltk_data] Downloading package punkt to /home/roque/nltk_data...\n",
      "[nltk_data]   Package punkt is already up-to-date!\n",
      "[nltk_data] Downloading package wordnet to /home/roque/nltk_data...\n",
      "[nltk_data]   Package wordnet is already up-to-date!\n",
      "[nltk_data] Downloading package omw-1.4 to /home/roque/nltk_data...\n",
      "[nltk_data]   Package omw-1.4 is already up-to-date!\n",
      "[nltk_data] Downloading package punkt to /home/roque/nltk_data...\n",
      "[nltk_data]   Package punkt is already up-to-date!\n",
      "[nltk_data] Downloading package wordnet to /home/roque/nltk_data...\n",
      "[nltk_data]   Package wordnet is already up-to-date!\n",
      "[nltk_data] Downloading package omw-1.4 to /home/roque/nltk_data...\n",
      "[nltk_data]   Package omw-1.4 is already up-to-date!\n",
      "[nltk_data] Downloading package punkt to /home/roque/nltk_data...\n",
      "[nltk_data]   Package punkt is already up-to-date!\n",
      "[nltk_data] Downloading package wordnet to /home/roque/nltk_data...\n",
      "[nltk_data]   Package wordnet is already up-to-date!\n",
      "[nltk_data] Downloading package omw-1.4 to /home/roque/nltk_data...\n",
      "[nltk_data]   Package omw-1.4 is already up-to-date!\n",
      "[nltk_data] Downloading package punkt to /home/roque/nltk_data...\n",
      "[nltk_data]   Package punkt is already up-to-date!\n",
      "[nltk_data] Downloading package wordnet to /home/roque/nltk_data...\n",
      "[nltk_data]   Package wordnet is already up-to-date!\n",
      "[nltk_data] Downloading package omw-1.4 to /home/roque/nltk_data...\n",
      "[nltk_data]   Package omw-1.4 is already up-to-date!\n",
      "[nltk_data] Downloading package punkt to /home/roque/nltk_data...\n",
      "[nltk_data]   Package punkt is already up-to-date!\n",
      "[nltk_data] Downloading package wordnet to /home/roque/nltk_data...\n",
      "[nltk_data]   Package wordnet is already up-to-date!\n",
      "[nltk_data] Downloading package omw-1.4 to /home/roque/nltk_data...\n",
      "[nltk_data]   Package omw-1.4 is already up-to-date!\n",
      "[nltk_data] Downloading package punkt to /home/roque/nltk_data...\n",
      "[nltk_data]   Package punkt is already up-to-date!\n",
      "[nltk_data] Downloading package wordnet to /home/roque/nltk_data...\n",
      "[nltk_data]   Package wordnet is already up-to-date!\n",
      "[nltk_data] Downloading package omw-1.4 to /home/roque/nltk_data...\n",
      "[nltk_data]   Package omw-1.4 is already up-to-date!\n",
      "[nltk_data] Downloading package punkt to /home/roque/nltk_data...\n",
      "[nltk_data]   Package punkt is already up-to-date!\n",
      "[nltk_data] Downloading package wordnet to /home/roque/nltk_data...\n",
      "[nltk_data]   Package wordnet is already up-to-date!\n",
      "[nltk_data] Downloading package omw-1.4 to /home/roque/nltk_data...\n",
      "[nltk_data]   Package omw-1.4 is already up-to-date!\n",
      "[nltk_data] Downloading package punkt to /home/roque/nltk_data...\n",
      "[nltk_data]   Package punkt is already up-to-date!\n",
      "[nltk_data] Downloading package wordnet to /home/roque/nltk_data...\n",
      "[nltk_data]   Package wordnet is already up-to-date!\n",
      "[nltk_data] Downloading package omw-1.4 to /home/roque/nltk_data...\n",
      "[nltk_data]   Package omw-1.4 is already up-to-date!\n",
      "[nltk_data] Downloading package punkt to /home/roque/nltk_data...\n",
      "[nltk_data]   Package punkt is already up-to-date!\n",
      "[nltk_data] Downloading package wordnet to /home/roque/nltk_data...\n",
      "[nltk_data]   Package wordnet is already up-to-date!\n",
      "[nltk_data] Downloading package omw-1.4 to /home/roque/nltk_data...\n",
      "[nltk_data]   Package omw-1.4 is already up-to-date!\n",
      "[nltk_data] Downloading package punkt to /home/roque/nltk_data...\n",
      "[nltk_data]   Package punkt is already up-to-date!\n",
      "[nltk_data] Downloading package wordnet to /home/roque/nltk_data...\n",
      "[nltk_data]   Package wordnet is already up-to-date!\n",
      "[nltk_data] Downloading package omw-1.4 to /home/roque/nltk_data...\n",
      "[nltk_data]   Package omw-1.4 is already up-to-date!\n",
      "[nltk_data] Downloading package punkt to /home/roque/nltk_data...\n",
      "[nltk_data]   Package punkt is already up-to-date!\n",
      "[nltk_data] Downloading package wordnet to /home/roque/nltk_data...\n",
      "[nltk_data]   Package wordnet is already up-to-date!\n",
      "[nltk_data] Downloading package omw-1.4 to /home/roque/nltk_data...\n",
      "[nltk_data]   Package omw-1.4 is already up-to-date!\n",
      "[nltk_data] Downloading package punkt to /home/roque/nltk_data...\n",
      "[nltk_data]   Package punkt is already up-to-date!\n",
      "[nltk_data] Downloading package wordnet to /home/roque/nltk_data...\n",
      "[nltk_data]   Package wordnet is already up-to-date!\n",
      "[nltk_data] Downloading package omw-1.4 to /home/roque/nltk_data...\n",
      "[nltk_data]   Package omw-1.4 is already up-to-date!\n",
      "[nltk_data] Downloading package punkt to /home/roque/nltk_data...\n",
      "[nltk_data]   Package punkt is already up-to-date!\n",
      "[nltk_data] Downloading package wordnet to /home/roque/nltk_data...\n",
      "[nltk_data]   Package wordnet is already up-to-date!\n",
      "[nltk_data] Downloading package omw-1.4 to /home/roque/nltk_data...\n",
      "[nltk_data]   Package omw-1.4 is already up-to-date!\n",
      "[nltk_data] Downloading package punkt to /home/roque/nltk_data...\n",
      "[nltk_data]   Package punkt is already up-to-date!\n",
      "[nltk_data] Downloading package wordnet to /home/roque/nltk_data...\n",
      "[nltk_data]   Package wordnet is already up-to-date!\n",
      "[nltk_data] Downloading package omw-1.4 to /home/roque/nltk_data...\n",
      "[nltk_data]   Package omw-1.4 is already up-to-date!\n",
      "[nltk_data] Downloading package punkt to /home/roque/nltk_data...\n",
      "[nltk_data]   Package punkt is already up-to-date!\n",
      "[nltk_data] Downloading package wordnet to /home/roque/nltk_data...\n",
      "[nltk_data]   Package wordnet is already up-to-date!\n",
      "[nltk_data] Downloading package omw-1.4 to /home/roque/nltk_data...\n",
      "[nltk_data]   Package omw-1.4 is already up-to-date!\n",
      "[nltk_data] Downloading package punkt to /home/roque/nltk_data...\n",
      "[nltk_data]   Package punkt is already up-to-date!\n",
      "[nltk_data] Downloading package wordnet to /home/roque/nltk_data...\n",
      "[nltk_data]   Package wordnet is already up-to-date!\n",
      "[nltk_data] Downloading package omw-1.4 to /home/roque/nltk_data...\n",
      "[nltk_data]   Package omw-1.4 is already up-to-date!\n",
      "[nltk_data] Downloading package punkt to /home/roque/nltk_data...\n",
      "[nltk_data]   Package punkt is already up-to-date!\n",
      "[nltk_data] Downloading package wordnet to /home/roque/nltk_data...\n",
      "[nltk_data]   Package wordnet is already up-to-date!\n",
      "[nltk_data] Downloading package omw-1.4 to /home/roque/nltk_data...\n",
      "[nltk_data]   Package omw-1.4 is already up-to-date!\n",
      "[nltk_data] Downloading package punkt to /home/roque/nltk_data...\n",
      "[nltk_data]   Package punkt is already up-to-date!\n",
      "[nltk_data] Downloading package wordnet to /home/roque/nltk_data...\n",
      "[nltk_data]   Package wordnet is already up-to-date!\n",
      "[nltk_data] Downloading package omw-1.4 to /home/roque/nltk_data...\n",
      "[nltk_data]   Package omw-1.4 is already up-to-date!\n",
      "[nltk_data] Downloading package punkt to /home/roque/nltk_data...\n",
      "[nltk_data]   Package punkt is already up-to-date!\n",
      "[nltk_data] Downloading package wordnet to /home/roque/nltk_data...\n",
      "[nltk_data]   Package wordnet is already up-to-date!\n",
      "[nltk_data] Downloading package omw-1.4 to /home/roque/nltk_data...\n",
      "[nltk_data]   Package omw-1.4 is already up-to-date!\n",
      "[nltk_data] Downloading package punkt to /home/roque/nltk_data...\n",
      "[nltk_data]   Package punkt is already up-to-date!\n",
      "[nltk_data] Downloading package wordnet to /home/roque/nltk_data...\n",
      "[nltk_data]   Package wordnet is already up-to-date!\n",
      "[nltk_data] Downloading package omw-1.4 to /home/roque/nltk_data...\n",
      "[nltk_data]   Package omw-1.4 is already up-to-date!\n",
      "[nltk_data] Downloading package punkt to /home/roque/nltk_data...\n",
      "[nltk_data]   Package punkt is already up-to-date!\n",
      "[nltk_data] Downloading package wordnet to /home/roque/nltk_data...\n",
      "[nltk_data]   Package wordnet is already up-to-date!\n",
      "[nltk_data] Downloading package omw-1.4 to /home/roque/nltk_data...\n",
      "[nltk_data]   Package omw-1.4 is already up-to-date!\n",
      "[nltk_data] Downloading package punkt to /home/roque/nltk_data...\n",
      "[nltk_data]   Package punkt is already up-to-date!\n",
      "[nltk_data] Downloading package wordnet to /home/roque/nltk_data...\n",
      "[nltk_data]   Package wordnet is already up-to-date!\n",
      "[nltk_data] Downloading package omw-1.4 to /home/roque/nltk_data...\n",
      "[nltk_data]   Package omw-1.4 is already up-to-date!\n"
     ]
    },
    {
     "name": "stderr",
     "output_type": "stream",
     "text": [
      "[nltk_data] Downloading package punkt to /home/roque/nltk_data...\n",
      "[nltk_data]   Package punkt is already up-to-date!\n",
      "[nltk_data] Downloading package wordnet to /home/roque/nltk_data...\n",
      "[nltk_data]   Package wordnet is already up-to-date!\n",
      "[nltk_data] Downloading package omw-1.4 to /home/roque/nltk_data...\n",
      "[nltk_data]   Package omw-1.4 is already up-to-date!\n",
      "[nltk_data] Downloading package punkt to /home/roque/nltk_data...\n",
      "[nltk_data]   Package punkt is already up-to-date!\n",
      "[nltk_data] Downloading package wordnet to /home/roque/nltk_data...\n",
      "[nltk_data]   Package wordnet is already up-to-date!\n",
      "[nltk_data] Downloading package omw-1.4 to /home/roque/nltk_data...\n",
      "[nltk_data]   Package omw-1.4 is already up-to-date!\n",
      "[nltk_data] Downloading package punkt to /home/roque/nltk_data...\n",
      "[nltk_data]   Package punkt is already up-to-date!\n",
      "[nltk_data] Downloading package wordnet to /home/roque/nltk_data...\n",
      "[nltk_data]   Package wordnet is already up-to-date!\n",
      "[nltk_data] Downloading package omw-1.4 to /home/roque/nltk_data...\n",
      "[nltk_data]   Package omw-1.4 is already up-to-date!\n",
      "[nltk_data] Downloading package punkt to /home/roque/nltk_data...\n",
      "[nltk_data]   Package punkt is already up-to-date!\n",
      "[nltk_data] Downloading package wordnet to /home/roque/nltk_data...\n",
      "[nltk_data]   Package wordnet is already up-to-date!\n",
      "[nltk_data] Downloading package omw-1.4 to /home/roque/nltk_data...\n",
      "[nltk_data]   Package omw-1.4 is already up-to-date!\n",
      "[nltk_data] Downloading package punkt to /home/roque/nltk_data...\n",
      "[nltk_data]   Package punkt is already up-to-date!\n",
      "[nltk_data] Downloading package wordnet to /home/roque/nltk_data...\n",
      "[nltk_data]   Package wordnet is already up-to-date!\n",
      "[nltk_data] Downloading package omw-1.4 to /home/roque/nltk_data...\n",
      "[nltk_data]   Package omw-1.4 is already up-to-date!\n",
      "[nltk_data] Downloading package punkt to /home/roque/nltk_data...\n",
      "[nltk_data]   Package punkt is already up-to-date!\n",
      "[nltk_data] Downloading package wordnet to /home/roque/nltk_data...\n",
      "[nltk_data]   Package wordnet is already up-to-date!\n",
      "[nltk_data] Downloading package omw-1.4 to /home/roque/nltk_data...\n",
      "[nltk_data]   Package omw-1.4 is already up-to-date!\n",
      "[nltk_data] Downloading package punkt to /home/roque/nltk_data...\n",
      "[nltk_data]   Package punkt is already up-to-date!\n",
      "[nltk_data] Downloading package wordnet to /home/roque/nltk_data...\n",
      "[nltk_data]   Package wordnet is already up-to-date!\n",
      "[nltk_data] Downloading package omw-1.4 to /home/roque/nltk_data...\n",
      "[nltk_data]   Package omw-1.4 is already up-to-date!\n",
      "[nltk_data] Downloading package punkt to /home/roque/nltk_data...\n",
      "[nltk_data]   Package punkt is already up-to-date!\n",
      "[nltk_data] Downloading package wordnet to /home/roque/nltk_data...\n",
      "[nltk_data]   Package wordnet is already up-to-date!\n",
      "[nltk_data] Downloading package omw-1.4 to /home/roque/nltk_data...\n",
      "[nltk_data]   Package omw-1.4 is already up-to-date!\n",
      "[nltk_data] Downloading package punkt to /home/roque/nltk_data...\n",
      "[nltk_data]   Package punkt is already up-to-date!\n",
      "[nltk_data] Downloading package wordnet to /home/roque/nltk_data...\n",
      "[nltk_data]   Package wordnet is already up-to-date!\n",
      "[nltk_data] Downloading package omw-1.4 to /home/roque/nltk_data...\n",
      "[nltk_data]   Package omw-1.4 is already up-to-date!\n",
      "[nltk_data] Downloading package punkt to /home/roque/nltk_data...\n",
      "[nltk_data]   Package punkt is already up-to-date!\n",
      "[nltk_data] Downloading package wordnet to /home/roque/nltk_data...\n",
      "[nltk_data]   Package wordnet is already up-to-date!\n",
      "[nltk_data] Downloading package omw-1.4 to /home/roque/nltk_data...\n",
      "[nltk_data]   Package omw-1.4 is already up-to-date!\n",
      "[nltk_data] Downloading package punkt to /home/roque/nltk_data...\n",
      "[nltk_data]   Package punkt is already up-to-date!\n",
      "[nltk_data] Downloading package wordnet to /home/roque/nltk_data...\n",
      "[nltk_data]   Package wordnet is already up-to-date!\n",
      "[nltk_data] Downloading package omw-1.4 to /home/roque/nltk_data...\n",
      "[nltk_data]   Package omw-1.4 is already up-to-date!\n",
      "[nltk_data] Downloading package punkt to /home/roque/nltk_data...\n",
      "[nltk_data]   Package punkt is already up-to-date!\n",
      "[nltk_data] Downloading package wordnet to /home/roque/nltk_data...\n",
      "[nltk_data]   Package wordnet is already up-to-date!\n",
      "[nltk_data] Downloading package omw-1.4 to /home/roque/nltk_data...\n",
      "[nltk_data]   Package omw-1.4 is already up-to-date!\n",
      "[nltk_data] Downloading package punkt to /home/roque/nltk_data...\n",
      "[nltk_data]   Package punkt is already up-to-date!\n",
      "[nltk_data] Downloading package wordnet to /home/roque/nltk_data...\n",
      "[nltk_data]   Package wordnet is already up-to-date!\n",
      "[nltk_data] Downloading package omw-1.4 to /home/roque/nltk_data...\n",
      "[nltk_data]   Package omw-1.4 is already up-to-date!\n",
      "[nltk_data] Downloading package punkt to /home/roque/nltk_data...\n",
      "[nltk_data]   Package punkt is already up-to-date!\n",
      "[nltk_data] Downloading package wordnet to /home/roque/nltk_data...\n",
      "[nltk_data]   Package wordnet is already up-to-date!\n",
      "[nltk_data] Downloading package omw-1.4 to /home/roque/nltk_data...\n",
      "[nltk_data]   Package omw-1.4 is already up-to-date!\n",
      "[nltk_data] Downloading package punkt to /home/roque/nltk_data...\n",
      "[nltk_data]   Package punkt is already up-to-date!\n",
      "[nltk_data] Downloading package wordnet to /home/roque/nltk_data...\n",
      "[nltk_data]   Package wordnet is already up-to-date!\n",
      "[nltk_data] Downloading package omw-1.4 to /home/roque/nltk_data...\n",
      "[nltk_data]   Package omw-1.4 is already up-to-date!\n",
      "[nltk_data] Downloading package punkt to /home/roque/nltk_data...\n",
      "[nltk_data]   Package punkt is already up-to-date!\n",
      "[nltk_data] Downloading package wordnet to /home/roque/nltk_data...\n",
      "[nltk_data]   Package wordnet is already up-to-date!\n",
      "[nltk_data] Downloading package omw-1.4 to /home/roque/nltk_data...\n",
      "[nltk_data]   Package omw-1.4 is already up-to-date!\n",
      "[nltk_data] Downloading package punkt to /home/roque/nltk_data...\n",
      "[nltk_data]   Package punkt is already up-to-date!\n",
      "[nltk_data] Downloading package wordnet to /home/roque/nltk_data...\n",
      "[nltk_data]   Package wordnet is already up-to-date!\n",
      "[nltk_data] Downloading package omw-1.4 to /home/roque/nltk_data...\n",
      "[nltk_data]   Package omw-1.4 is already up-to-date!\n",
      "[nltk_data] Downloading package punkt to /home/roque/nltk_data...\n",
      "[nltk_data]   Package punkt is already up-to-date!\n",
      "[nltk_data] Downloading package wordnet to /home/roque/nltk_data...\n",
      "[nltk_data]   Package wordnet is already up-to-date!\n",
      "[nltk_data] Downloading package omw-1.4 to /home/roque/nltk_data...\n",
      "[nltk_data]   Package omw-1.4 is already up-to-date!\n",
      "[nltk_data] Downloading package punkt to /home/roque/nltk_data...\n",
      "[nltk_data]   Package punkt is already up-to-date!\n",
      "[nltk_data] Downloading package wordnet to /home/roque/nltk_data...\n",
      "[nltk_data]   Package wordnet is already up-to-date!\n",
      "[nltk_data] Downloading package omw-1.4 to /home/roque/nltk_data...\n",
      "[nltk_data]   Package omw-1.4 is already up-to-date!\n",
      "[nltk_data] Downloading package punkt to /home/roque/nltk_data...\n",
      "[nltk_data]   Package punkt is already up-to-date!\n",
      "[nltk_data] Downloading package wordnet to /home/roque/nltk_data...\n",
      "[nltk_data]   Package wordnet is already up-to-date!\n",
      "[nltk_data] Downloading package omw-1.4 to /home/roque/nltk_data...\n",
      "[nltk_data]   Package omw-1.4 is already up-to-date!\n",
      "[nltk_data] Downloading package punkt to /home/roque/nltk_data...\n",
      "[nltk_data]   Package punkt is already up-to-date!\n",
      "[nltk_data] Downloading package wordnet to /home/roque/nltk_data...\n",
      "[nltk_data]   Package wordnet is already up-to-date!\n",
      "[nltk_data] Downloading package omw-1.4 to /home/roque/nltk_data...\n",
      "[nltk_data]   Package omw-1.4 is already up-to-date!\n",
      "[nltk_data] Downloading package punkt to /home/roque/nltk_data...\n",
      "[nltk_data]   Package punkt is already up-to-date!\n",
      "[nltk_data] Downloading package wordnet to /home/roque/nltk_data...\n",
      "[nltk_data]   Package wordnet is already up-to-date!\n",
      "[nltk_data] Downloading package omw-1.4 to /home/roque/nltk_data...\n",
      "[nltk_data]   Package omw-1.4 is already up-to-date!\n",
      "[nltk_data] Downloading package punkt to /home/roque/nltk_data...\n",
      "[nltk_data]   Package punkt is already up-to-date!\n",
      "[nltk_data] Downloading package wordnet to /home/roque/nltk_data...\n",
      "[nltk_data]   Package wordnet is already up-to-date!\n",
      "[nltk_data] Downloading package omw-1.4 to /home/roque/nltk_data...\n",
      "[nltk_data]   Package omw-1.4 is already up-to-date!\n",
      "[nltk_data] Downloading package punkt to /home/roque/nltk_data...\n",
      "[nltk_data]   Package punkt is already up-to-date!\n",
      "[nltk_data] Downloading package wordnet to /home/roque/nltk_data...\n",
      "[nltk_data]   Package wordnet is already up-to-date!\n",
      "[nltk_data] Downloading package omw-1.4 to /home/roque/nltk_data...\n",
      "[nltk_data]   Package omw-1.4 is already up-to-date!\n",
      "[nltk_data] Downloading package punkt to /home/roque/nltk_data...\n",
      "[nltk_data]   Package punkt is already up-to-date!\n",
      "[nltk_data] Downloading package wordnet to /home/roque/nltk_data...\n",
      "[nltk_data]   Package wordnet is already up-to-date!\n",
      "[nltk_data] Downloading package omw-1.4 to /home/roque/nltk_data...\n",
      "[nltk_data]   Package omw-1.4 is already up-to-date!\n",
      "[nltk_data] Downloading package punkt to /home/roque/nltk_data...\n",
      "[nltk_data]   Package punkt is already up-to-date!\n",
      "[nltk_data] Downloading package wordnet to /home/roque/nltk_data...\n",
      "[nltk_data]   Package wordnet is already up-to-date!\n",
      "[nltk_data] Downloading package omw-1.4 to /home/roque/nltk_data...\n",
      "[nltk_data]   Package omw-1.4 is already up-to-date!\n",
      "[nltk_data] Downloading package punkt to /home/roque/nltk_data...\n",
      "[nltk_data]   Package punkt is already up-to-date!\n",
      "[nltk_data] Downloading package wordnet to /home/roque/nltk_data...\n",
      "[nltk_data]   Package wordnet is already up-to-date!\n",
      "[nltk_data] Downloading package omw-1.4 to /home/roque/nltk_data...\n",
      "[nltk_data]   Package omw-1.4 is already up-to-date!\n",
      "[nltk_data] Downloading package punkt to /home/roque/nltk_data...\n",
      "[nltk_data]   Package punkt is already up-to-date!\n",
      "[nltk_data] Downloading package wordnet to /home/roque/nltk_data...\n",
      "[nltk_data]   Package wordnet is already up-to-date!\n",
      "[nltk_data] Downloading package omw-1.4 to /home/roque/nltk_data...\n",
      "[nltk_data]   Package omw-1.4 is already up-to-date!\n",
      "[nltk_data] Downloading package punkt to /home/roque/nltk_data...\n",
      "[nltk_data]   Package punkt is already up-to-date!\n",
      "[nltk_data] Downloading package wordnet to /home/roque/nltk_data...\n",
      "[nltk_data]   Package wordnet is already up-to-date!\n",
      "[nltk_data] Downloading package omw-1.4 to /home/roque/nltk_data...\n",
      "[nltk_data]   Package omw-1.4 is already up-to-date!\n",
      "[nltk_data] Downloading package punkt to /home/roque/nltk_data...\n",
      "[nltk_data]   Package punkt is already up-to-date!\n",
      "[nltk_data] Downloading package wordnet to /home/roque/nltk_data...\n",
      "[nltk_data]   Package wordnet is already up-to-date!\n",
      "[nltk_data] Downloading package omw-1.4 to /home/roque/nltk_data...\n",
      "[nltk_data]   Package omw-1.4 is already up-to-date!\n",
      "[nltk_data] Downloading package punkt to /home/roque/nltk_data...\n",
      "[nltk_data]   Package punkt is already up-to-date!\n",
      "[nltk_data] Downloading package wordnet to /home/roque/nltk_data...\n",
      "[nltk_data]   Package wordnet is already up-to-date!\n",
      "[nltk_data] Downloading package omw-1.4 to /home/roque/nltk_data...\n",
      "[nltk_data]   Package omw-1.4 is already up-to-date!\n",
      "[nltk_data] Downloading package punkt to /home/roque/nltk_data...\n",
      "[nltk_data]   Package punkt is already up-to-date!\n",
      "[nltk_data] Downloading package wordnet to /home/roque/nltk_data...\n",
      "[nltk_data]   Package wordnet is already up-to-date!\n",
      "[nltk_data] Downloading package omw-1.4 to /home/roque/nltk_data...\n",
      "[nltk_data]   Package omw-1.4 is already up-to-date!\n",
      "[nltk_data] Downloading package punkt to /home/roque/nltk_data...\n",
      "[nltk_data]   Package punkt is already up-to-date!\n",
      "[nltk_data] Downloading package wordnet to /home/roque/nltk_data...\n",
      "[nltk_data]   Package wordnet is already up-to-date!\n",
      "[nltk_data] Downloading package omw-1.4 to /home/roque/nltk_data...\n",
      "[nltk_data]   Package omw-1.4 is already up-to-date!\n",
      "[nltk_data] Downloading package punkt to /home/roque/nltk_data...\n",
      "[nltk_data]   Package punkt is already up-to-date!\n",
      "[nltk_data] Downloading package wordnet to /home/roque/nltk_data...\n",
      "[nltk_data]   Package wordnet is already up-to-date!\n",
      "[nltk_data] Downloading package omw-1.4 to /home/roque/nltk_data...\n",
      "[nltk_data]   Package omw-1.4 is already up-to-date!\n",
      "[nltk_data] Downloading package punkt to /home/roque/nltk_data...\n",
      "[nltk_data]   Package punkt is already up-to-date!\n",
      "[nltk_data] Downloading package wordnet to /home/roque/nltk_data...\n",
      "[nltk_data]   Package wordnet is already up-to-date!\n",
      "[nltk_data] Downloading package omw-1.4 to /home/roque/nltk_data...\n",
      "[nltk_data]   Package omw-1.4 is already up-to-date!\n",
      "[nltk_data] Downloading package punkt to /home/roque/nltk_data...\n",
      "[nltk_data]   Package punkt is already up-to-date!\n",
      "[nltk_data] Downloading package wordnet to /home/roque/nltk_data...\n",
      "[nltk_data]   Package wordnet is already up-to-date!\n",
      "[nltk_data] Downloading package omw-1.4 to /home/roque/nltk_data...\n",
      "[nltk_data]   Package omw-1.4 is already up-to-date!\n",
      "[nltk_data] Downloading package punkt to /home/roque/nltk_data...\n",
      "[nltk_data]   Package punkt is already up-to-date!\n",
      "[nltk_data] Downloading package wordnet to /home/roque/nltk_data...\n",
      "[nltk_data]   Package wordnet is already up-to-date!\n",
      "[nltk_data] Downloading package omw-1.4 to /home/roque/nltk_data...\n",
      "[nltk_data]   Package omw-1.4 is already up-to-date!\n",
      "[nltk_data] Downloading package punkt to /home/roque/nltk_data...\n",
      "[nltk_data]   Package punkt is already up-to-date!\n",
      "[nltk_data] Downloading package wordnet to /home/roque/nltk_data...\n",
      "[nltk_data]   Package wordnet is already up-to-date!\n",
      "[nltk_data] Downloading package omw-1.4 to /home/roque/nltk_data...\n",
      "[nltk_data]   Package omw-1.4 is already up-to-date!\n",
      "[nltk_data] Downloading package punkt to /home/roque/nltk_data...\n",
      "[nltk_data]   Package punkt is already up-to-date!\n",
      "[nltk_data] Downloading package wordnet to /home/roque/nltk_data...\n",
      "[nltk_data]   Package wordnet is already up-to-date!\n",
      "[nltk_data] Downloading package omw-1.4 to /home/roque/nltk_data...\n",
      "[nltk_data]   Package omw-1.4 is already up-to-date!\n",
      "[nltk_data] Downloading package punkt to /home/roque/nltk_data...\n",
      "[nltk_data]   Package punkt is already up-to-date!\n",
      "[nltk_data] Downloading package wordnet to /home/roque/nltk_data...\n",
      "[nltk_data]   Package wordnet is already up-to-date!\n",
      "[nltk_data] Downloading package omw-1.4 to /home/roque/nltk_data...\n",
      "[nltk_data]   Package omw-1.4 is already up-to-date!\n",
      "[nltk_data] Downloading package punkt to /home/roque/nltk_data...\n",
      "[nltk_data]   Package punkt is already up-to-date!\n",
      "[nltk_data] Downloading package wordnet to /home/roque/nltk_data...\n",
      "[nltk_data]   Package wordnet is already up-to-date!\n",
      "[nltk_data] Downloading package omw-1.4 to /home/roque/nltk_data...\n",
      "[nltk_data]   Package omw-1.4 is already up-to-date!\n",
      "[nltk_data] Downloading package punkt to /home/roque/nltk_data...\n",
      "[nltk_data]   Package punkt is already up-to-date!\n",
      "[nltk_data] Downloading package wordnet to /home/roque/nltk_data...\n",
      "[nltk_data]   Package wordnet is already up-to-date!\n",
      "[nltk_data] Downloading package omw-1.4 to /home/roque/nltk_data...\n",
      "[nltk_data]   Package omw-1.4 is already up-to-date!\n",
      "[nltk_data] Downloading package punkt to /home/roque/nltk_data...\n",
      "[nltk_data]   Package punkt is already up-to-date!\n",
      "[nltk_data] Downloading package wordnet to /home/roque/nltk_data...\n",
      "[nltk_data]   Package wordnet is already up-to-date!\n",
      "[nltk_data] Downloading package omw-1.4 to /home/roque/nltk_data...\n",
      "[nltk_data]   Package omw-1.4 is already up-to-date!\n",
      "[nltk_data] Downloading package punkt to /home/roque/nltk_data...\n",
      "[nltk_data]   Package punkt is already up-to-date!\n",
      "[nltk_data] Downloading package wordnet to /home/roque/nltk_data...\n",
      "[nltk_data]   Package wordnet is already up-to-date!\n",
      "[nltk_data] Downloading package omw-1.4 to /home/roque/nltk_data...\n",
      "[nltk_data]   Package omw-1.4 is already up-to-date!\n"
     ]
    },
    {
     "name": "stderr",
     "output_type": "stream",
     "text": [
      "[nltk_data] Downloading package punkt to /home/roque/nltk_data...\n",
      "[nltk_data]   Package punkt is already up-to-date!\n",
      "[nltk_data] Downloading package wordnet to /home/roque/nltk_data...\n",
      "[nltk_data]   Package wordnet is already up-to-date!\n",
      "[nltk_data] Downloading package omw-1.4 to /home/roque/nltk_data...\n",
      "[nltk_data]   Package omw-1.4 is already up-to-date!\n",
      "[nltk_data] Downloading package punkt to /home/roque/nltk_data...\n",
      "[nltk_data]   Package punkt is already up-to-date!\n",
      "[nltk_data] Downloading package wordnet to /home/roque/nltk_data...\n",
      "[nltk_data]   Package wordnet is already up-to-date!\n",
      "[nltk_data] Downloading package omw-1.4 to /home/roque/nltk_data...\n",
      "[nltk_data]   Package omw-1.4 is already up-to-date!\n",
      "[nltk_data] Downloading package punkt to /home/roque/nltk_data...\n",
      "[nltk_data]   Package punkt is already up-to-date!\n",
      "[nltk_data] Downloading package wordnet to /home/roque/nltk_data...\n",
      "[nltk_data]   Package wordnet is already up-to-date!\n",
      "[nltk_data] Downloading package omw-1.4 to /home/roque/nltk_data...\n",
      "[nltk_data]   Package omw-1.4 is already up-to-date!\n",
      "[nltk_data] Downloading package punkt to /home/roque/nltk_data...\n",
      "[nltk_data]   Package punkt is already up-to-date!\n",
      "[nltk_data] Downloading package wordnet to /home/roque/nltk_data...\n",
      "[nltk_data]   Package wordnet is already up-to-date!\n",
      "[nltk_data] Downloading package omw-1.4 to /home/roque/nltk_data...\n",
      "[nltk_data]   Package omw-1.4 is already up-to-date!\n",
      "[nltk_data] Downloading package punkt to /home/roque/nltk_data...\n",
      "[nltk_data]   Package punkt is already up-to-date!\n",
      "[nltk_data] Downloading package wordnet to /home/roque/nltk_data...\n",
      "[nltk_data]   Package wordnet is already up-to-date!\n",
      "[nltk_data] Downloading package omw-1.4 to /home/roque/nltk_data...\n",
      "[nltk_data]   Package omw-1.4 is already up-to-date!\n",
      "[nltk_data] Downloading package punkt to /home/roque/nltk_data...\n",
      "[nltk_data]   Package punkt is already up-to-date!\n",
      "[nltk_data] Downloading package wordnet to /home/roque/nltk_data...\n",
      "[nltk_data]   Package wordnet is already up-to-date!\n",
      "[nltk_data] Downloading package omw-1.4 to /home/roque/nltk_data...\n",
      "[nltk_data]   Package omw-1.4 is already up-to-date!\n",
      "[nltk_data] Downloading package punkt to /home/roque/nltk_data...\n",
      "[nltk_data]   Package punkt is already up-to-date!\n",
      "[nltk_data] Downloading package wordnet to /home/roque/nltk_data...\n",
      "[nltk_data]   Package wordnet is already up-to-date!\n",
      "[nltk_data] Downloading package omw-1.4 to /home/roque/nltk_data...\n",
      "[nltk_data]   Package omw-1.4 is already up-to-date!\n",
      "[nltk_data] Downloading package punkt to /home/roque/nltk_data...\n",
      "[nltk_data]   Package punkt is already up-to-date!\n",
      "[nltk_data] Downloading package wordnet to /home/roque/nltk_data...\n",
      "[nltk_data]   Package wordnet is already up-to-date!\n",
      "[nltk_data] Downloading package omw-1.4 to /home/roque/nltk_data...\n",
      "[nltk_data]   Package omw-1.4 is already up-to-date!\n",
      "[nltk_data] Downloading package punkt to /home/roque/nltk_data...\n",
      "[nltk_data]   Package punkt is already up-to-date!\n",
      "[nltk_data] Downloading package wordnet to /home/roque/nltk_data...\n",
      "[nltk_data]   Package wordnet is already up-to-date!\n",
      "[nltk_data] Downloading package omw-1.4 to /home/roque/nltk_data...\n",
      "[nltk_data]   Package omw-1.4 is already up-to-date!\n"
     ]
    }
   ],
   "source": [
    "'''\n",
    "Calculate the top words of every lyric\n",
    "'''\n",
    "\n",
    "for artist in dataset['Artist']:\n",
    "    all_lyrics = []\n",
    "    \n",
    "    if len(lyrics_dict[artist])>2:\n",
    "        for lyric in lyrics_dict[artist][2]:      \n",
    "            all_lyrics.append(get_top_words(lyric))\n",
    "        \n",
    "    lyrics_dict[artist].append(all_lyrics)"
   ]
  },
  {
   "cell_type": "code",
   "execution_count": 25,
   "id": "34c3859f",
   "metadata": {},
   "outputs": [],
   "source": [
    "'''\n",
    "Export to csv to use during analysis\n",
    "'''\n",
    "\n",
    "def return_lyrics_dictionary(artist):\n",
    "    return lyrics_dict[artist][0]\n",
    "\n",
    "def return_language_dictionary(artist):\n",
    "    return lyrics_dict[artist][1]\n",
    "\n",
    "def return_lyrics_en_dictionary(artist):\n",
    "    return lyrics_dict[artist][2]\n",
    "\n",
    "def return_sentiment_dictionary(artist):\n",
    "    return lyrics_dict[artist][3]\n",
    "\n",
    "def return_top_words_dictionary(artist):\n",
    "    return lyrics_dict[artist][4]\n",
    "\n",
    "dataset_full = dataset\n",
    "dataset_full['Lyrics'] = dataset_full.apply(lambda x: return_lyrics_dictionary(x['Artist']), axis=1)\n",
    "dataset_full['Language'] = dataset_full.apply(lambda x: return_language_dictionary(x['Artist']), axis=1)\n",
    "dataset_full['Lyrics EN'] = dataset_full.apply(lambda x: return_lyrics_en_dictionary(x['Artist']), axis=1)\n",
    "dataset_full['Sentiment'] = dataset_full.apply(lambda x: return_sentiment_dictionary(x['Artist']), axis=1)\n",
    "dataset_full['top words'] = dataset_full.apply(lambda x: return_top_words_dictionary(x['Artist']), axis=1)\n",
    "\n",
    "dataset_full.to_csv(Path('data/dataset_full.csv'))"
   ]
  },
  {
   "cell_type": "code",
   "execution_count": null,
   "id": "eaff327f",
   "metadata": {},
   "outputs": [],
   "source": [
    "get_word_cloud(lyrics_dict['Taylor Swift'][4][0])"
   ]
  },
  {
   "cell_type": "code",
   "execution_count": null,
   "id": "357e15d2",
   "metadata": {},
   "outputs": [],
   "source": []
  },
  {
   "cell_type": "code",
   "execution_count": null,
   "id": "1c3dadb3",
   "metadata": {},
   "outputs": [],
   "source": []
  }
 ],
 "metadata": {
  "kernelspec": {
   "display_name": "env Mid-Bootcamp Project",
   "language": "python",
   "name": "mbp"
  },
  "language_info": {
   "codemirror_mode": {
    "name": "ipython",
    "version": 3
   },
   "file_extension": ".py",
   "mimetype": "text/x-python",
   "name": "python",
   "nbconvert_exporter": "python",
   "pygments_lexer": "ipython3",
   "version": "3.9.12"
  }
 },
 "nbformat": 4,
 "nbformat_minor": 5
}
